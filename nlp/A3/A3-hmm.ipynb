{
 "cells": [
  {
   "cell_type": "code",
   "execution_count": 36,
   "metadata": {},
   "outputs": [],
   "source": [
    "import pandas as pd\n",
    "from collections import Counter\n",
    "import numpy as np\n",
    "import copy\n",
    "from operator import itemgetter\n",
    "%matplotlib inline\n",
    "#from tqdm import tqdm\n",
    "from tqdm import tnrange, tqdm_notebook"
   ]
  },
  {
   "cell_type": "markdown",
   "metadata": {},
   "source": [
    "Student: Gerardo Caracas Uribe\n",
    "A-3"
   ]
  },
  {
   "cell_type": "code",
   "execution_count": 1,
   "metadata": {},
   "outputs": [
    {
     "name": "stdout",
     "output_type": "stream",
     "text": [
      "=====================================================================\n",
      "Assignment: A3 HMM\n",
      "OK, version v1.13.11\n",
      "=====================================================================\n",
      "\n",
      "\n",
      "Open the following URL:\n",
      "\n",
      "https://okpy.org/client/login/\n",
      "\n",
      "After logging in, copy the code from the web page and paste it into the box.\n",
      "Then press the \"Enter\" key on your keyboard.\n",
      "\n",
      "Paste your code here: yaz1G7QkUD8QTMbkaqQrtQC1p07lNk\n",
      "Successfully logged in as gerardocaracasur@u.boisestate.edu\n"
     ]
    }
   ],
   "source": [
    "import client\n",
    "from client.api.notebook import Notebook\n",
    "ok = Notebook('a3.ok')\n",
    "ok.auth(inline=True, force=True)"
   ]
  },
  {
   "cell_type": "code",
   "execution_count": 2,
   "metadata": {},
   "outputs": [
    {
     "data": {
      "application/javascript": [
       "IPython.notebook.save_checkpoint();"
      ],
      "text/plain": [
       "<IPython.core.display.Javascript object>"
      ]
     },
     "metadata": {},
     "output_type": "display_data"
    },
    {
     "data": {
      "application/javascript": [
       "IPython.notebook.save_notebook();"
      ],
      "text/plain": [
       "<IPython.core.display.Javascript object>"
      ]
     },
     "metadata": {},
     "output_type": "display_data"
    },
    {
     "name": "stdout",
     "output_type": "stream",
     "text": [
      "Saving notebook... Saved 'A3-hmm.ipynb'.\n",
      "Submit... 100% complete\n",
      "Submission successful for user: gerardocaracasur@u.boisestate.edu\n",
      "URL: https://okpy.org/boisestate/cs4-533/sp19/a3/submissions/XL648V\n",
      "\n"
     ]
    }
   ],
   "source": [
    "ok.submit()"
   ]
  },
  {
   "cell_type": "markdown",
   "metadata": {},
   "source": [
    "# 1.- Read input data #"
   ]
  },
  {
   "cell_type": "markdown",
   "metadata": {},
   "source": [
    "### 1.1 Read raw data from files ###"
   ]
  },
  {
   "cell_type": "code",
   "execution_count": 2,
   "metadata": {},
   "outputs": [],
   "source": [
    "train_data = pd.read_csv('train.txt', delimiter=' ', names=['word', 'pos', 'other'])\n",
    "test_data = pd.read_csv('test.txt', delimiter=' ', names=['word', 'pos', 'other'])"
   ]
  },
  {
   "cell_type": "markdown",
   "metadata": {},
   "source": [
    "### 1.2 Data cleanup ###"
   ]
  },
  {
   "cell_type": "code",
   "execution_count": 3,
   "metadata": {},
   "outputs": [],
   "source": [
    "train_data['word'] = train_data.word.str.lower()\n",
    "test_data['word'] = test_data.word.str.lower()\n",
    "train_data['ppos'] = train_data.pos.shift(1)\n",
    "train_data['ppos'] = train_data.ppos.fillna('O')\n",
    "train_data = train_data.drop(['other'], axis=1)\n",
    "test_data = test_data.drop(['other'], axis=1)"
   ]
  },
  {
   "cell_type": "markdown",
   "metadata": {},
   "source": [
    "# 2.- Generate list of sentences #\n",
    "We will decode with either Greedy or Viterbi each sentence at a time\n",
    "thus we will generate a list of sentences to be used to decode/evaluate"
   ]
  },
  {
   "cell_type": "markdown",
   "metadata": {},
   "source": [
    "### 2.1 Define function that splits sentences ###"
   ]
  },
  {
   "cell_type": "code",
   "execution_count": 4,
   "metadata": {},
   "outputs": [],
   "source": [
    "sentences=[]\n",
    "finalPos=0\n",
    "initialPos=0\n",
    "# splitSentences will be called via an apply function\n",
    "# that will generate a table of sentences.\n",
    "def splitSentences(x):\n",
    "    global initialPos, finalPos, test_data, sentences\n",
    "    if x.pos == '.':\n",
    "        sentences.append(test_data[initialPos:finalPos])\n",
    "        initialPos=(finalPos+1)\n",
    "    finalPos=finalPos+1"
   ]
  },
  {
   "cell_type": "markdown",
   "metadata": {},
   "source": [
    "### 2.2 Let's execute an apply operation to split sentences ###"
   ]
  },
  {
   "cell_type": "code",
   "execution_count": 5,
   "metadata": {},
   "outputs": [
    {
     "name": "stdout",
     "output_type": "stream",
     "text": [
      "Number of sentences = 1975\n"
     ]
    }
   ],
   "source": [
    "test_data.apply(lambda x: splitSentences(x), axis=1)\n",
    "print(\"Number of sentences = {}\".format(len(sentences)))"
   ]
  },
  {
   "cell_type": "markdown",
   "metadata": {},
   "source": [
    "### 2.3 Generate list of tags ###"
   ]
  },
  {
   "cell_type": "code",
   "execution_count": 6,
   "metadata": {},
   "outputs": [],
   "source": [
    "tagsList = list(set(test_data.pos))"
   ]
  },
  {
   "cell_type": "markdown",
   "metadata": {},
   "source": [
    "# 3.- Probability Functions #"
   ]
  },
  {
   "cell_type": "markdown",
   "metadata": {},
   "source": [
    "### 3.1 .- Train our probability functions ###"
   ]
  },
  {
   "cell_type": "markdown",
   "metadata": {},
   "source": [
    "##### We will train our probability functions by using the train set. These functions will be used latter, but with test data.#####\n",
    "\n",
    "."
   ]
  },
  {
   "cell_type": "code",
   "execution_count": 7,
   "metadata": {},
   "outputs": [],
   "source": [
    "smooth = 0.0000001\n",
    "tags_dict = {}\n",
    "for col_name in list(set(train_data.pos)):\n",
    "    tags = train_data[train_data.pos == col_name]\n",
    "    tags_dict[col_name]=Counter([ row for row in tags.word])"
   ]
  },
  {
   "cell_type": "markdown",
   "metadata": {},
   "source": [
    "##### Emission Probability Function #####"
   ]
  },
  {
   "cell_type": "code",
   "execution_count": 8,
   "metadata": {},
   "outputs": [],
   "source": [
    "def PW_T(W='', T=''):\n",
    "    part = tags_dict[T]\n",
    "    # smoothing\n",
    "    if W not in part: return smooth\n",
    "    return part[W] / sum(part.values())"
   ]
  },
  {
   "cell_type": "markdown",
   "metadata": {},
   "source": [
    "##### Transition Probability Function #####"
   ]
  },
  {
   "cell_type": "code",
   "execution_count": 9,
   "metadata": {},
   "outputs": [],
   "source": [
    "pos_ppos = {}\n",
    "pos_ppos_denom = {}\n",
    "for col_name in set(train_data.ppos):\n",
    "    sub_frame = train_data[train_data.ppos == col_name]\n",
    "    counted = Counter(sub_frame.pos)\n",
    "    pos_ppos[col_name] = counted\n",
    "    pos_ppos_denom[col_name] = len(sub_frame)\n",
    "\n",
    "def Ptt(Ti='',Tprev=''):\n",
    "    if Ti not in pos_ppos[Tprev]: return smooth\n",
    "    return pos_ppos[Tprev][Ti] / pos_ppos_denom[Tprev]"
   ]
  },
  {
   "cell_type": "markdown",
   "metadata": {},
   "source": [
    "# 4.- Training #"
   ]
  },
  {
   "cell_type": "markdown",
   "metadata": {},
   "source": [
    "### 4.1 Train our transitions ###"
   ]
  },
  {
   "cell_type": "code",
   "execution_count": 10,
   "metadata": {},
   "outputs": [],
   "source": [
    "def generateTransitionProbs(dataset):\n",
    "    ### tags=list(set(dataset.pos))\n",
    "    tmp_dict=dict()\n",
    "    # Iterate through Ti tags (44 in total)\n",
    "    for ti in tagsList:\n",
    "        # Now iterate through each one of the \n",
    "        # possible tags that Ti can have as a \n",
    "        # previos tag, wich are the same 44 tags.\n",
    "        temp_dict_probs={}\n",
    "        for tprev in tagsList:\n",
    "            temp_dict_probs[tprev]=Ptt(Ti=ti,Tprev=tprev)\n",
    "        tmp_dict[ti]=temp_dict_probs\n",
    "    # transitionProbs's key is Ti in P(Ti|Ti-1)\n",
    "    return tmp_dict"
   ]
  },
  {
   "cell_type": "markdown",
   "metadata": {},
   "source": [
    "##### Note that we are using train_data here. #####"
   ]
  },
  {
   "cell_type": "code",
   "execution_count": 11,
   "metadata": {},
   "outputs": [],
   "source": [
    "transitionProbs=generateTransitionProbs(train_data)"
   ]
  },
  {
   "cell_type": "markdown",
   "metadata": {},
   "source": [
    "# 5.- Greedy Decoder #"
   ]
  },
  {
   "cell_type": "markdown",
   "metadata": {},
   "source": [
    "### 5.1 ArgMaxList will return the argmax for the probabilities multiplications in a given word-column (observation), which will return the selected hidden state (tag) ###"
   ]
  },
  {
   "cell_type": "markdown",
   "metadata": {},
   "source": [
    "### Note to Dr.K ###\n",
    "In my previous subission in okpy I used a pandas dataframe as a lattice to keep the emission probabilities, however I have come to understand this algorithm better and I calculate all values in a single pass, withouth the need of a lattice and instead I do the calculations on the fly.\n",
    "\n"
   ]
  },
  {
   "cell_type": "markdown",
   "metadata": {},
   "source": [
    "##### We are passing parameters via reference or pointers, that's why we use the var[0], to access the referenced variable #####"
   ]
  },
  {
   "cell_type": "code",
   "execution_count": 12,
   "metadata": {},
   "outputs": [],
   "source": [
    "def argmaxList(data, prevEm, prevTag):\n",
    "    ### tags=list(set(test_data.pos))\n",
    "    index=np.argmax(data)\n",
    "    prevEm[0]=data[index]\n",
    "    resTag=tagsList[index]\n",
    "    prevTag[0]=resTag\n",
    "    return resTag\n",
    "\n"
   ]
  },
  {
   "cell_type": "markdown",
   "metadata": {},
   "source": [
    "### 5.2 Calculate emission with transition probabilitites ###"
   ]
  },
  {
   "cell_type": "code",
   "execution_count": 13,
   "metadata": {},
   "outputs": [],
   "source": [
    "def prb(word,prevTag, prevEm):\n",
    "    ### tags=list(set(test_data.pos))\n",
    "    return argmaxList([prevEm[0]*transitionProbs[tag][prevTag[0]]*PW_T(W=word, T=tag) for tag in tagsList], prevEm, prevTag)"
   ]
  },
  {
   "cell_type": "markdown",
   "metadata": {},
   "source": [
    "### 5.3 Main decodeGreedy function ###"
   ]
  },
  {
   "cell_type": "code",
   "execution_count": 14,
   "metadata": {},
   "outputs": [],
   "source": [
    "def decodeGreedy(sequence):\n",
    "    seq=sequence.word\n",
    "    prevTag=['.']\n",
    "    prevEmissionProb=[1.0]\n",
    "    hyp=[prb(w, prevTag, prevEmissionProb) for w in seq]\n",
    "    return hyp"
   ]
  },
  {
   "cell_type": "markdown",
   "metadata": {},
   "source": [
    "# 6.- Perform Evaluation using Test Set #"
   ]
  },
  {
   "cell_type": "markdown",
   "metadata": {},
   "source": [
    "### 6.1.- Do evaluation and save truth and predictions ###"
   ]
  },
  {
   "cell_type": "code",
   "execution_count": 15,
   "metadata": {},
   "outputs": [],
   "source": [
    "target=[]\n",
    "hyp=[]\n",
    "for s in sentences:\n",
    "    # Save all the targets\n",
    "    target.append(s.pos.tolist())\n",
    "    # Save all predictions\n",
    "    hyp.append(decodeGreedy(s))"
   ]
  },
  {
   "cell_type": "markdown",
   "metadata": {},
   "source": [
    "Via this article\n",
    "https://stackoverflow.com/questions/952914/how-to-make-a-flat-list-out-of-list-of-lists\n",
    "I found this fast way to flat a list of lists"
   ]
  },
  {
   "cell_type": "code",
   "execution_count": 16,
   "metadata": {},
   "outputs": [],
   "source": [
    "import functools\n",
    "import operator\n",
    "def functools_reduce_iconcat(a):\n",
    "    return functools.reduce(operator.iconcat, a, [])"
   ]
  },
  {
   "cell_type": "markdown",
   "metadata": {},
   "source": [
    "### 6.2 Concatenate each setence array into one big array for evaluation ###"
   ]
  },
  {
   "cell_type": "code",
   "execution_count": 17,
   "metadata": {},
   "outputs": [],
   "source": [
    "hyp=functools_reduce_iconcat(hyp)\n",
    "target=functools_reduce_iconcat(target)"
   ]
  },
  {
   "cell_type": "markdown",
   "metadata": {},
   "source": [
    "### 6.3 Calculate Accuracy ###"
   ]
  },
  {
   "cell_type": "code",
   "execution_count": 18,
   "metadata": {},
   "outputs": [
    {
     "name": "stdout",
     "output_type": "stream",
     "text": [
      "Accuracy on test set via greedy decoder = 0.9055327959120744\n"
     ]
    }
   ],
   "source": [
    "from sklearn.metrics import accuracy_score\n",
    "accuracy=accuracy_score(target, hyp)\n",
    "print(\"Accuracy on test set via greedy decoder = {}\".format(accuracy))"
   ]
  },
  {
   "cell_type": "markdown",
   "metadata": {},
   "source": [
    "### 6.4 Calculate confusion matrix ###"
   ]
  },
  {
   "cell_type": "code",
   "execution_count": 19,
   "metadata": {},
   "outputs": [],
   "source": [
    "from sklearn.metrics import confusion_matrix\n",
    "a=(Counter(test_data.pos).keys())\n",
    "labels=[*a]\n",
    "cm=confusion_matrix(target, hyp,labels=labels)"
   ]
  },
  {
   "cell_type": "code",
   "execution_count": 20,
   "metadata": {},
   "outputs": [
    {
     "data": {
      "image/png": "[encoded data removed]",
      "text/plain": [
       "<Figure size 720x720 with 2 Axes>"
      ]
     },
     "metadata": {},
     "output_type": "display_data"
    }
   ],
   "source": [
    "import matplotlib.pyplot as plt\n",
    "import itertools\n",
    "title='Greedy POS HMM'\n",
    "target_names=labels\n",
    "cmap = plt.get_cmap('Blues')\n",
    "plt.figure(figsize=(10, 10))\n",
    "plt.imshow(cm, interpolation='nearest', cmap=cmap)\n",
    "plt.title(title)\n",
    "plt.colorbar()\n",
    "tick_marks = np.arange(len(target_names))\n",
    "plt.xticks(tick_marks, target_names, rotation=45)\n",
    "pass\n",
    "plt.yticks(tick_marks, target_names)\n",
    "pass\n",
    "plt.tight_layout()\n",
    "plt.ylabel('True label')\n",
    "plt.xlabel('Predicted label\\naccuracy={:0.4f}'.format(accuracy))\n",
    "plt.show()"
   ]
  },
  {
   "cell_type": "markdown",
   "metadata": {},
   "source": [
    "### 6.5 Calculate which labels have the most errors percentage wise ###"
   ]
  },
  {
   "cell_type": "code",
   "execution_count": 21,
   "metadata": {},
   "outputs": [],
   "source": [
    "errors=[]\n",
    "for a in range(len(labels)):\n",
    "    # Display errors independently by label, by percentage\n",
    "    #errors.append([labels[a], sum(cm[:,a])-cm[a,a], sum(cm[:,a])])\n",
    "    # by percent\n",
    "    num=(sum(cm[:,a])-cm[a,a])\n",
    "    den=sum(cm[:,a])\n",
    "    if den != 0:\n",
    "        res=float(num)/float(den)    \n",
    "    else:\n",
    "        res=0.0\n",
    "    errors.append([labels[a],res])\n"
   ]
  },
  {
   "cell_type": "markdown",
   "metadata": {},
   "source": [
    "### 6.6 Display the labels that have gotten the most errors ###"
   ]
  },
  {
   "cell_type": "code",
   "execution_count": 22,
   "metadata": {},
   "outputs": [
    {
     "data": {
      "text/plain": [
       "[['RP', 0.7894736842105263],\n",
       " ['PDT', 0.6],\n",
       " ['NNPS', 0.2777777777777778],\n",
       " ['RBR', 0.2708333333333333],\n",
       " ['DT', 0.1871297242083759]]"
      ]
     },
     "execution_count": 22,
     "metadata": {},
     "output_type": "execute_result"
    }
   ],
   "source": [
    "errors.sort(key=itemgetter(1), reverse=True)\n",
    "errors[0:5]"
   ]
  },
  {
   "cell_type": "markdown",
   "metadata": {},
   "source": [
    "# 7.- Viterbi Decoder #"
   ]
  },
  {
   "cell_type": "markdown",
   "metadata": {},
   "source": [
    "## *Important: Run sections 1-4, we need to initialize those values/variables to continue through this section* ##"
   ]
  },
  {
   "cell_type": "markdown",
   "metadata": {},
   "source": [
    "### 7.1 Auxiliary Functions ###"
   ]
  },
  {
   "cell_type": "markdown",
   "metadata": {},
   "source": [
    "##### buildLattice: This function generates a brand new pandas dataframe that will act as a lattice. There will be one of this matrices per sentence#####\n",
    "After this function, the lattice is return with NaN values, but with all the rows, initialized with the tags (hidden states) as an index"
   ]
  },
  {
   "cell_type": "code",
   "execution_count": 23,
   "metadata": {},
   "outputs": [],
   "source": [
    "def buildLattice(sequence):\n",
    "    labels=[]\n",
    "    [labels.append(\"W\"+str(l)) for l in range(len(sequence))]\n",
    "    lattice=pd.DataFrame(columns=labels)\n",
    "    lattice['tags']=tagsList\n",
    "    lattice=lattice.set_index('tags')\n",
    "    return lattice"
   ]
  },
  {
   "cell_type": "markdown",
   "metadata": {},
   "source": [
    "Via this article https://stackoverflow.com/questions/952914/how-to-make-a-flat-list-out-of-list-of-lists I found this fast way to flat a list of lists"
   ]
  },
  {
   "cell_type": "code",
   "execution_count": 24,
   "metadata": {},
   "outputs": [],
   "source": [
    "import functools\n",
    "import operator\n",
    "def functools_reduce_iconcat(a):\n",
    "    return functools.reduce(operator.iconcat, a, [])"
   ]
  },
  {
   "cell_type": "markdown",
   "metadata": {},
   "source": [
    "##### minList: will return the smallest value from a list #####"
   ]
  },
  {
   "cell_type": "code",
   "execution_count": 25,
   "metadata": {},
   "outputs": [],
   "source": [
    "def minList(data,tags):\n",
    "    index=np.argmin(data)\n",
    "    return data[index], tags[index]"
   ]
  },
  {
   "cell_type": "markdown",
   "metadata": {},
   "source": [
    "*****************"
   ]
  },
  {
   "cell_type": "markdown",
   "metadata": {},
   "source": [
    "### 7.3 Main Viterbi decoder function ###"
   ]
  },
  {
   "cell_type": "code",
   "execution_count": 26,
   "metadata": {},
   "outputs": [],
   "source": [
    "import math\n",
    "import time\n",
    "from collections import OrderedDict\n",
    "\n",
    "# Functino used in a map(lambda) that will\n",
    "# return the minimum value out of n dictionaries,\n",
    "# where n = len(tags). We can not make a one ditionary\n",
    "# because the keys are not unique, they are the back\n",
    "# pointer, which can lead to the same value several times\n",
    "def processMin(d,lowest, keyVal,currTag,i):\n",
    "    key,val=next(iter(d.items()))\n",
    "    if val < lowest[0]:\n",
    "        lowest[0]=val\n",
    "        keyVal[0]=key\n",
    "        currTag[0]=tagsList[i[0]]\n",
    "    i[0]=i[0]+1\n",
    "        \n",
    "        \n",
    "# Function that asks, what is the back pointer Tag, and \n",
    "# current Tag that has the lowest value\n",
    "def minInDict(data):\n",
    "    lowest=[99999999]\n",
    "    keyVal=['.']\n",
    "    currTag=['.']\n",
    "    i=[0]\n",
    "    for d in data:\n",
    "        (list(map(lambda x: x(d, \n",
    "                              lowest,\n",
    "                              keyVal,\n",
    "                              currTag,\n",
    "                              i),\n",
    "                  [processMin])))\n",
    "    return keyVal[0], currTag[0]\n",
    "\n",
    "\n",
    "# Let's perform back step so we can recreate the best path\n",
    "def backwards(lattice):\n",
    "    retTbl=[]\n",
    "    # First swap the columns so we can go backwards\n",
    "    reverse_cols = np.flip(lattice.columns.values,axis=0).tolist()\n",
    "    \n",
    "    # Now get the minimum value from the last word.\n",
    "    bestTag, currTag=minInDict(lattice[reverse_cols[0]])\n",
    "    retTbl.append(currTag)\n",
    "    #lowest_key,val=next(iter(d.items()))\n",
    "            \n",
    "    for w in reverse_cols[1:]:\n",
    "        v=lattice.loc[bestTag,w]\n",
    "        retTbl.append(bestTag)\n",
    "        bestTag,_=next(iter(v.items()))\n",
    "    #Now let's flip the result because we iterated backwards\n",
    "    retTbl=np.flip(retTbl,axis=0).tolist()\n",
    "    return retTbl\n",
    "    \n",
    "    \n",
    "    \n",
    "def decodeViterbi(seqDf, lattice_tmp, trprob):\n",
    "    global tagsList\n",
    "    sequence= seqDf.word.tolist()\n",
    "    prevTag='.'\n",
    "    prevEmPr=1.0 # Previous argmax'ed emission probability\n",
    "    best_score = [0] * len(tagsList)\n",
    "    seqCntr=0\n",
    "    tasks=lattice.shape[1] # Get total of iterations to show the progress bar\n",
    "    for word in lattice_tmp:\n",
    "        first_pass_scores=[]\n",
    "        tmp_tbl=[]\n",
    "        for tag, val in lattice_tmp[word].items():\n",
    "            score_tag=[]\n",
    "            # Iterate per node, through all the probabilities for each one of the tags\n",
    "            #for prev_node in tags:\n",
    "            for i in range(len(tagsList)):\n",
    "                prev_node=tagsList[i]\n",
    "                trprob[tag][prev_node]\n",
    "                PW_T(W=sequence[seqCntr], T=tag)\n",
    "                score_tag.append(best_score[i]+(-1*math.log(trprob[tag][prev_node]))+(-1*math.log(PW_T(W=sequence[seqCntr], T=tag))))\n",
    "            minScore,t_tag=minList(score_tag,tagsList)\n",
    "            tmp_tbl.append({t_tag:minScore})\n",
    "            first_pass_scores.append(minScore)\n",
    "        # Now that we have the minimum log probabilities\n",
    "        # per word, we will save those results to that same\n",
    "        # column, so we propagate the probabilities forward\n",
    "\n",
    "        best_score=first_pass_scores\n",
    "        lattice_tmp[word]=tmp_tbl\n",
    "        seqCntr=seqCntr+1\n",
    "\n",
    "        \n",
    "    # Back steps\n",
    "    reverse_cols = np.flip(lattice_tmp.columns.values,axis=0).tolist()\n",
    "    hyp=[]\n",
    "    first_col=True\n",
    "    lowest_key=''\n",
    "    currTag=''\n",
    "    tags=lattice_tmp.index.tolist()\n",
    "    return backwards(lattice_tmp)"
   ]
  },
  {
   "cell_type": "markdown",
   "metadata": {},
   "source": [
    "# 8.- Perform Evaluation using Test Set #\n"
   ]
  },
  {
   "cell_type": "markdown",
   "metadata": {},
   "source": [
    "### 8.1.- Do evaluation and save truth and predictions ###"
   ]
  },
  {
   "cell_type": "code",
   "execution_count": 29,
   "metadata": {},
   "outputs": [
    {
     "data": {
      "application/vnd.jupyter.widget-view+json": {
       "model_id": "97103871e1d84a2ebd195b1a80b99560",
       "version_major": 2,
       "version_minor": 0
      },
      "text/plain": [
       "HBox(children=(IntProgress(value=0, max=1975), HTML(value='')))"
      ]
     },
     "metadata": {},
     "output_type": "display_data"
    },
    {
     "name": "stdout",
     "output_type": "stream",
     "text": [
      "Elapsed time = 245.00945782661438\n",
      "\n"
     ]
    }
   ],
   "source": [
    "target=[]\n",
    "hyp=[]\n",
    "tasks = len(sentences)\n",
    "with tqdm_notebook(total=tasks) as pbar:\n",
    "    start = time.time()\n",
    "    cnt=0\n",
    "    for s in sentences:\n",
    "        target.append(s.pos.tolist())\n",
    "        lattice=buildLattice(s)\n",
    "        hyp.append(decodeViterbi(s, lattice, transitionProbs))\n",
    "        pbar.update(1)\n",
    "    end = time.time()\n",
    "    print(\"Elapsed time = {}\".format(end - start))\n"
   ]
  },
  {
   "cell_type": "markdown",
   "metadata": {},
   "source": [
    "### 8.2 Concatenate each setence array into one big array for evaluation ###\n"
   ]
  },
  {
   "cell_type": "code",
   "execution_count": 30,
   "metadata": {},
   "outputs": [],
   "source": [
    "hyp=functools_reduce_iconcat(hyp)\n",
    "target=functools_reduce_iconcat(target)"
   ]
  },
  {
   "cell_type": "markdown",
   "metadata": {},
   "source": [
    "### 8.3 Calculate Accuracy ###"
   ]
  },
  {
   "cell_type": "code",
   "execution_count": 31,
   "metadata": {},
   "outputs": [
    {
     "name": "stdout",
     "output_type": "stream",
     "text": [
      "Accuracy on test set via greedy decoder = 0.9246729218977138\n"
     ]
    }
   ],
   "source": [
    "from sklearn.metrics import accuracy_score\n",
    "accuracy=accuracy_score(target, hyp)\n",
    "print(\"Accuracy on test set via greedy decoder = {}\".format(accuracy))"
   ]
  },
  {
   "cell_type": "markdown",
   "metadata": {},
   "source": [
    "### 8.4 Calculate confusion matrix ###"
   ]
  },
  {
   "cell_type": "code",
   "execution_count": 32,
   "metadata": {},
   "outputs": [],
   "source": [
    "from sklearn.metrics import confusion_matrix\n",
    "a=(Counter(test_data.pos).keys())\n",
    "labels=[*a]\n",
    "cm=confusion_matrix(target, hyp,labels=labels)"
   ]
  },
  {
   "cell_type": "code",
   "execution_count": 33,
   "metadata": {},
   "outputs": [
    {
     "data": {
      "image/png": "[encoded data removed]",
      "text/plain": [
       "<Figure size 720x720 with 2 Axes>"
      ]
     },
     "metadata": {},
     "output_type": "display_data"
    }
   ],
   "source": [
    "import matplotlib.pyplot as plt\n",
    "import itertools\n",
    "title='Viterbi POS HMM'\n",
    "target_names=labels\n",
    "cmap = plt.get_cmap('Blues')\n",
    "plt.figure(figsize=(10, 10))\n",
    "plt.imshow(cm, interpolation='nearest', cmap=cmap)\n",
    "plt.title(title)\n",
    "plt.colorbar()\n",
    "tick_marks = np.arange(len(target_names))\n",
    "plt.xticks(tick_marks, target_names, rotation=45)\n",
    "pass\n",
    "plt.yticks(tick_marks, target_names)\n",
    "pass\n",
    "plt.tight_layout()\n",
    "plt.ylabel('True label')\n",
    "plt.xlabel('Predicted label\\naccuracy={:0.4f}'.format(accuracy))\n",
    "plt.show()"
   ]
  },
  {
   "cell_type": "markdown",
   "metadata": {},
   "source": [
    "### 8.5 Calculate which labels have the most errors percentage wise ###"
   ]
  },
  {
   "cell_type": "code",
   "execution_count": 34,
   "metadata": {},
   "outputs": [],
   "source": [
    "errors=[]\n",
    "for a in range(len(labels)):\n",
    "    # Display errors independently by label, by percentage\n",
    "    #errors.append([labels[a], sum(cm[:,a])-cm[a,a], sum(cm[:,a])])\n",
    "    # by percent\n",
    "    num=(sum(cm[:,a])-cm[a,a])\n",
    "    den=sum(cm[:,a])\n",
    "    if den != 0:\n",
    "        res=float(num)/float(den)    \n",
    "    else:\n",
    "        res=0.0\n",
    "    errors.append([labels[a],res])\n",
    "\n"
   ]
  },
  {
   "cell_type": "markdown",
   "metadata": {},
   "source": [
    "### 8.6 Display the labels that have gotten the most errors ###\n"
   ]
  },
  {
   "cell_type": "code",
   "execution_count": 35,
   "metadata": {},
   "outputs": [
    {
     "data": {
      "text/plain": [
       "[['.', 1.0],\n",
       " ['RP', 0.75],\n",
       " ['NNPS', 0.27835051546391754],\n",
       " ['PDT', 0.25],\n",
       " ['VBN', 0.14089661482159194]]"
      ]
     },
     "execution_count": 35,
     "metadata": {},
     "output_type": "execute_result"
    }
   ],
   "source": [
    "errors.sort(key=itemgetter(1), reverse=True)\n",
    "errors[0:5]"
   ]
  },
  {
   "cell_type": "code",
   "execution_count": null,
   "metadata": {},
   "outputs": [],
   "source": []
  },
  {
   "cell_type": "code",
   "execution_count": null,
   "metadata": {},
   "outputs": [],
   "source": []
  }
 ],
 "metadata": {
  "kernelspec": {
   "display_name": "Python 3",
   "language": "python",
   "name": "python3"
  },
  "language_info": {
   "codemirror_mode": {
    "name": "ipython",
    "version": 3
   },
   "file_extension": ".py",
   "mimetype": "text/x-python",
   "name": "python",
   "nbconvert_exporter": "python",
   "pygments_lexer": "ipython3",
   "version": "3.6.8"
  }
 },
 "nbformat": 4,
 "nbformat_minor": 2
}
