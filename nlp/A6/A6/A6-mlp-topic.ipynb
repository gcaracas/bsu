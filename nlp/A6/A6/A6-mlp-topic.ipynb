{
 "cells": [
  {
   "cell_type": "markdown",
   "metadata": {},
   "source": [
    "### Word Embeddings\n",
    "\n",
    "- We'll be using the [pymagnitude](https://github.com/plasticityai/magnitude) library"
   ]
  },
  {
   "cell_type": "code",
   "execution_count": 1,
   "metadata": {},
   "outputs": [
    {
     "ename": "ModuleNotFoundError",
     "evalue": "No module named 'torch'",
     "output_type": "error",
     "traceback": [
      "\u001b[1;31m---------------------------------------------------------------------------\u001b[0m",
      "\u001b[1;31mModuleNotFoundError\u001b[0m                       Traceback (most recent call last)",
      "\u001b[1;32m<ipython-input-1-e1a74d032994>\u001b[0m in \u001b[0;36m<module>\u001b[1;34m()\u001b[0m\n\u001b[1;32m----> 1\u001b[1;33m \u001b[1;32mfrom\u001b[0m \u001b[0mpymagnitude\u001b[0m \u001b[1;32mimport\u001b[0m \u001b[1;33m*\u001b[0m\u001b[1;33m\u001b[0m\u001b[0m\n\u001b[0m",
      "\u001b[1;32mD:\\sw\\anaconda\\envs\\fastai\\lib\\site-packages\\pymagnitude\\__init__.py\u001b[0m in \u001b[0;36m<module>\u001b[1;34m()\u001b[0m\n\u001b[0;32m     78\u001b[0m \u001b[0msys\u001b[0m\u001b[1;33m.\u001b[0m\u001b[0mpath\u001b[0m\u001b[1;33m.\u001b[0m\u001b[0mappend\u001b[0m\u001b[1;33m(\u001b[0m\u001b[0mos\u001b[0m\u001b[1;33m.\u001b[0m\u001b[0mpath\u001b[0m\u001b[1;33m.\u001b[0m\u001b[0mdirname\u001b[0m\u001b[1;33m(\u001b[0m\u001b[0m__file__\u001b[0m\u001b[1;33m)\u001b[0m \u001b[1;33m+\u001b[0m \u001b[1;34m'/third_party/'\u001b[0m\u001b[1;33m)\u001b[0m\u001b[1;33m\u001b[0m\u001b[0m\n\u001b[0;32m     79\u001b[0m \u001b[0msys\u001b[0m\u001b[1;33m.\u001b[0m\u001b[0mpath\u001b[0m\u001b[1;33m.\u001b[0m\u001b[0mappend\u001b[0m\u001b[1;33m(\u001b[0m\u001b[0mos\u001b[0m\u001b[1;33m.\u001b[0m\u001b[0mpath\u001b[0m\u001b[1;33m.\u001b[0m\u001b[0mdirname\u001b[0m\u001b[1;33m(\u001b[0m\u001b[0m__file__\u001b[0m\u001b[1;33m)\u001b[0m \u001b[1;33m+\u001b[0m \u001b[1;34m'/third_party_mock/'\u001b[0m\u001b[1;33m)\u001b[0m\u001b[1;33m\u001b[0m\u001b[0m\n\u001b[1;32m---> 80\u001b[1;33m \u001b[1;32mfrom\u001b[0m \u001b[0mpymagnitude\u001b[0m\u001b[1;33m.\u001b[0m\u001b[0mthird_party\u001b[0m\u001b[1;33m.\u001b[0m\u001b[0mallennlp\u001b[0m\u001b[1;33m.\u001b[0m\u001b[0mcommands\u001b[0m\u001b[1;33m.\u001b[0m\u001b[0melmo\u001b[0m \u001b[1;32mimport\u001b[0m \u001b[0mElmoEmbedder\u001b[0m\u001b[1;33m\u001b[0m\u001b[0m\n\u001b[0m\u001b[0;32m     81\u001b[0m \u001b[1;33m\u001b[0m\u001b[0m\n\u001b[0;32m     82\u001b[0m \u001b[1;31m# Import SQLite\u001b[0m\u001b[1;33m\u001b[0m\u001b[1;33m\u001b[0m\u001b[0m\n",
      "\u001b[1;32mD:\\sw\\anaconda\\envs\\fastai\\lib\\site-packages\\pymagnitude\\third_party\\allennlp\\commands\\__init__.py\u001b[0m in \u001b[0;36m<module>\u001b[1;34m()\u001b[0m\n\u001b[0;32m      6\u001b[0m \u001b[1;33m\u001b[0m\u001b[0m\n\u001b[0;32m      7\u001b[0m \u001b[1;33m\u001b[0m\u001b[0m\n\u001b[1;32m----> 8\u001b[1;33m \u001b[1;32mfrom\u001b[0m \u001b[0mallennlp\u001b[0m\u001b[1;33m.\u001b[0m\u001b[0mcommands\u001b[0m\u001b[1;33m.\u001b[0m\u001b[0mconfigure\u001b[0m \u001b[1;32mimport\u001b[0m \u001b[0mConfigure\u001b[0m\u001b[1;33m\u001b[0m\u001b[0m\n\u001b[0m\u001b[0;32m      9\u001b[0m \u001b[1;32mfrom\u001b[0m \u001b[0mallennlp\u001b[0m\u001b[1;33m.\u001b[0m\u001b[0mcommands\u001b[0m\u001b[1;33m.\u001b[0m\u001b[0melmo\u001b[0m \u001b[1;32mimport\u001b[0m \u001b[0mElmo\u001b[0m\u001b[1;33m\u001b[0m\u001b[0m\n\u001b[0;32m     10\u001b[0m \u001b[1;32mfrom\u001b[0m \u001b[0mallennlp\u001b[0m\u001b[1;33m.\u001b[0m\u001b[0mcommands\u001b[0m\u001b[1;33m.\u001b[0m\u001b[0mevaluate\u001b[0m \u001b[1;32mimport\u001b[0m \u001b[0mEvaluate\u001b[0m\u001b[1;33m\u001b[0m\u001b[0m\n",
      "\u001b[1;32mD:\\sw\\anaconda\\envs\\fastai\\lib\\site-packages\\pymagnitude/third_party\\allennlp\\commands\\__init__.py\u001b[0m in \u001b[0;36m<module>\u001b[1;34m()\u001b[0m\n\u001b[0;32m      6\u001b[0m \u001b[1;33m\u001b[0m\u001b[0m\n\u001b[0;32m      7\u001b[0m \u001b[1;33m\u001b[0m\u001b[0m\n\u001b[1;32m----> 8\u001b[1;33m \u001b[1;32mfrom\u001b[0m \u001b[0mallennlp\u001b[0m\u001b[1;33m.\u001b[0m\u001b[0mcommands\u001b[0m\u001b[1;33m.\u001b[0m\u001b[0mconfigure\u001b[0m \u001b[1;32mimport\u001b[0m \u001b[0mConfigure\u001b[0m\u001b[1;33m\u001b[0m\u001b[0m\n\u001b[0m\u001b[0;32m      9\u001b[0m \u001b[1;32mfrom\u001b[0m \u001b[0mallennlp\u001b[0m\u001b[1;33m.\u001b[0m\u001b[0mcommands\u001b[0m\u001b[1;33m.\u001b[0m\u001b[0melmo\u001b[0m \u001b[1;32mimport\u001b[0m \u001b[0mElmo\u001b[0m\u001b[1;33m\u001b[0m\u001b[0m\n\u001b[0;32m     10\u001b[0m \u001b[1;32mfrom\u001b[0m \u001b[0mallennlp\u001b[0m\u001b[1;33m.\u001b[0m\u001b[0mcommands\u001b[0m\u001b[1;33m.\u001b[0m\u001b[0mevaluate\u001b[0m \u001b[1;32mimport\u001b[0m \u001b[0mEvaluate\u001b[0m\u001b[1;33m\u001b[0m\u001b[0m\n",
      "\u001b[1;32mD:\\sw\\anaconda\\envs\\fastai\\lib\\site-packages\\pymagnitude/third_party\\allennlp\\commands\\configure.py\u001b[0m in \u001b[0;36m<module>\u001b[1;34m()\u001b[0m\n\u001b[0;32m     23\u001b[0m \u001b[1;33m\u001b[0m\u001b[0m\n\u001b[0;32m     24\u001b[0m \u001b[1;32mfrom\u001b[0m \u001b[0mallennlp\u001b[0m\u001b[1;33m.\u001b[0m\u001b[0mcommands\u001b[0m\u001b[1;33m.\u001b[0m\u001b[0msubcommand\u001b[0m \u001b[1;32mimport\u001b[0m \u001b[0mSubcommand\u001b[0m\u001b[1;33m\u001b[0m\u001b[0m\n\u001b[1;32m---> 25\u001b[1;33m \u001b[1;32mfrom\u001b[0m \u001b[0mallennlp\u001b[0m\u001b[1;33m.\u001b[0m\u001b[0mcommon\u001b[0m\u001b[1;33m.\u001b[0m\u001b[0mconfiguration\u001b[0m \u001b[1;32mimport\u001b[0m \u001b[0mconfigure\u001b[0m\u001b[1;33m,\u001b[0m \u001b[0mConfig\u001b[0m\u001b[1;33m,\u001b[0m \u001b[0mrender_config\u001b[0m\u001b[1;33m\u001b[0m\u001b[0m\n\u001b[0m\u001b[0;32m     26\u001b[0m \u001b[1;33m\u001b[0m\u001b[0m\n\u001b[0;32m     27\u001b[0m \u001b[1;32mclass\u001b[0m \u001b[0mConfigure\u001b[0m\u001b[1;33m(\u001b[0m\u001b[0mSubcommand\u001b[0m\u001b[1;33m)\u001b[0m\u001b[1;33m:\u001b[0m\u001b[1;33m\u001b[0m\u001b[0m\n",
      "\u001b[1;32mD:\\sw\\anaconda\\envs\\fastai\\lib\\site-packages\\pymagnitude/third_party\\allennlp\\common\\__init__.py\u001b[0m in \u001b[0;36m<module>\u001b[1;34m()\u001b[0m\n\u001b[0;32m      1\u001b[0m \u001b[1;33m\u001b[0m\u001b[0m\n\u001b[0;32m      2\u001b[0m \u001b[1;32mfrom\u001b[0m \u001b[0m__future__\u001b[0m \u001b[1;32mimport\u001b[0m \u001b[0mabsolute_import\u001b[0m\u001b[1;33m\u001b[0m\u001b[0m\n\u001b[1;32m----> 3\u001b[1;33m \u001b[1;32mfrom\u001b[0m \u001b[0mallennlp\u001b[0m\u001b[1;33m.\u001b[0m\u001b[0mcommon\u001b[0m\u001b[1;33m.\u001b[0m\u001b[0mparams\u001b[0m \u001b[1;32mimport\u001b[0m \u001b[0mParams\u001b[0m\u001b[1;33m\u001b[0m\u001b[0m\n\u001b[0m\u001b[0;32m      4\u001b[0m \u001b[1;32mfrom\u001b[0m \u001b[0mallennlp\u001b[0m\u001b[1;33m.\u001b[0m\u001b[0mcommon\u001b[0m\u001b[1;33m.\u001b[0m\u001b[0mregistrable\u001b[0m \u001b[1;32mimport\u001b[0m \u001b[0mRegistrable\u001b[0m\u001b[1;33m\u001b[0m\u001b[0m\n\u001b[0;32m      5\u001b[0m \u001b[1;32mfrom\u001b[0m \u001b[0mallennlp\u001b[0m\u001b[1;33m.\u001b[0m\u001b[0mcommon\u001b[0m\u001b[1;33m.\u001b[0m\u001b[0mtee_logger\u001b[0m \u001b[1;32mimport\u001b[0m \u001b[0mTeeLogger\u001b[0m\u001b[1;33m\u001b[0m\u001b[0m\n",
      "\u001b[1;32mD:\\sw\\anaconda\\envs\\fastai\\lib\\site-packages\\pymagnitude/third_party\\allennlp\\common\\params.py\u001b[0m in \u001b[0;36m<module>\u001b[1;34m()\u001b[0m\n\u001b[0;32m     32\u001b[0m         \u001b[1;32mreturn\u001b[0m \u001b[0mexpr\u001b[0m\u001b[1;33m\u001b[0m\u001b[0m\n\u001b[0;32m     33\u001b[0m \u001b[1;33m\u001b[0m\u001b[0m\n\u001b[1;32m---> 34\u001b[1;33m \u001b[1;32mfrom\u001b[0m \u001b[0mallennlp\u001b[0m\u001b[1;33m.\u001b[0m\u001b[0mcommon\u001b[0m\u001b[1;33m.\u001b[0m\u001b[0mchecks\u001b[0m \u001b[1;32mimport\u001b[0m \u001b[0mConfigurationError\u001b[0m\u001b[1;33m\u001b[0m\u001b[0m\n\u001b[0m\u001b[0;32m     35\u001b[0m \u001b[1;32mfrom\u001b[0m \u001b[0mallennlp\u001b[0m\u001b[1;33m.\u001b[0m\u001b[0mcommon\u001b[0m\u001b[1;33m.\u001b[0m\u001b[0mfile_utils\u001b[0m \u001b[1;32mimport\u001b[0m \u001b[0mcached_path\u001b[0m\u001b[1;33m\u001b[0m\u001b[0m\n\u001b[0;32m     36\u001b[0m \u001b[1;33m\u001b[0m\u001b[0m\n",
      "\u001b[1;32mD:\\sw\\anaconda\\envs\\fastai\\lib\\site-packages\\pymagnitude/third_party\\allennlp\\common\\checks.py\u001b[0m in \u001b[0;36m<module>\u001b[1;34m()\u001b[0m\n\u001b[0;32m      8\u001b[0m \u001b[1;32mimport\u001b[0m \u001b[0mlogging\u001b[0m\u001b[1;33m\u001b[0m\u001b[0m\n\u001b[0;32m      9\u001b[0m \u001b[1;33m\u001b[0m\u001b[0m\n\u001b[1;32m---> 10\u001b[1;33m \u001b[1;32mfrom\u001b[0m \u001b[0mtorch\u001b[0m \u001b[1;32mimport\u001b[0m \u001b[0mcuda\u001b[0m\u001b[1;33m\u001b[0m\u001b[0m\n\u001b[0m\u001b[0;32m     11\u001b[0m \u001b[1;33m\u001b[0m\u001b[0m\n\u001b[0;32m     12\u001b[0m \u001b[0mlogger\u001b[0m \u001b[1;33m=\u001b[0m \u001b[0mlogging\u001b[0m\u001b[1;33m.\u001b[0m\u001b[0mgetLogger\u001b[0m\u001b[1;33m(\u001b[0m\u001b[0m__name__\u001b[0m\u001b[1;33m)\u001b[0m  \u001b[1;31m# pylint: disable=invalid-name\u001b[0m\u001b[1;33m\u001b[0m\u001b[0m\n",
      "\u001b[1;31mModuleNotFoundError\u001b[0m: No module named 'torch'"
     ]
    }
   ],
   "source": [
    "from pymagnitude import *"
   ]
  },
  {
   "cell_type": "code",
   "execution_count": 9,
   "metadata": {},
   "outputs": [],
   "source": [
    "#path = 'data/fasttext-wiki-news-300d-1M.magnitude'\n",
    "path = 'data/glove.6B.50d.magnitude'\n",
    "#path = 'data/GoogleNews-vectors-negative300.magnitude'\n",
    "# this isn't working: path = 'data/elmo_2x4096_512_2048cnn_2xhighway_weights.magnitude'\n",
    "\n",
    "vectors = Magnitude(path)"
   ]
  },
  {
   "cell_type": "code",
   "execution_count": 10,
   "metadata": {},
   "outputs": [
    {
     "data": {
      "text/plain": [
       "400000"
      ]
     },
     "execution_count": 10,
     "metadata": {},
     "output_type": "execute_result"
    }
   ],
   "source": [
    "len(vectors)"
   ]
  },
  {
   "cell_type": "code",
   "execution_count": 11,
   "metadata": {},
   "outputs": [
    {
     "data": {
      "text/plain": [
       "50"
      ]
     },
     "execution_count": 11,
     "metadata": {},
     "output_type": "execute_result"
    }
   ],
   "source": [
    "vectors.dim # this is how big the vectors are for each word"
   ]
  },
  {
   "cell_type": "code",
   "execution_count": 12,
   "metadata": {},
   "outputs": [
    {
     "data": {
      "text/plain": [
       "True"
      ]
     },
     "execution_count": 12,
     "metadata": {},
     "output_type": "execute_result"
    }
   ],
   "source": [
    "\"cat\" in vectors"
   ]
  },
  {
   "cell_type": "code",
   "execution_count": 13,
   "metadata": {},
   "outputs": [
    {
     "name": "stdout",
     "output_type": "stream",
     "text": [
      "working [ 0.0547345 -0.0305866 -0.0075621]\n",
      "community [ 0.0276732  0.117468  -0.1533174]\n",
      "eight [0.0133356 0.0815326 0.1307856]\n",
      "groups [ 0.0933181 -0.0622403 -0.0163335]\n",
      "despite [-0.0066614  0.0074928 -0.0322814]\n",
      "level [-0.0736265  0.1976634  0.0354784]\n",
      "largest [0.1119611 0.0235172 0.0475007]\n",
      "whose [ 0.0633574  0.144303  -0.0080723]\n",
      "attacks [ 0.2780417 -0.1416092  0.1276424]\n",
      "germany [0.0529495 0.009489  0.0464709]\n"
     ]
    }
   ],
   "source": [
    "for key, vector in vectors[500:510]:\n",
    "    print(key, vector[:3])"
   ]
  },
  {
   "cell_type": "code",
   "execution_count": 14,
   "metadata": {},
   "outputs": [
    {
     "data": {
      "text/plain": [
       "array([ 0.1027278, -0.1136787, -0.1218595], dtype=float32)"
      ]
     },
     "execution_count": 14,
     "metadata": {},
     "output_type": "execute_result"
    }
   ],
   "source": [
    "vectors.query(\"cat\")[:3]"
   ]
  },
  {
   "cell_type": "code",
   "execution_count": 15,
   "metadata": {},
   "outputs": [
    {
     "data": {
      "text/plain": [
       "array([ 0.1027278, -0.1136787, -0.1218595], dtype=float32)"
      ]
     },
     "execution_count": 15,
     "metadata": {},
     "output_type": "execute_result"
    }
   ],
   "source": [
    "vectors.query([\"cat\",\"dog\"])[0][:3]"
   ]
  },
  {
   "cell_type": "code",
   "execution_count": 16,
   "metadata": {},
   "outputs": [
    {
     "data": {
      "text/plain": [
       "0.395473"
      ]
     },
     "execution_count": 16,
     "metadata": {},
     "output_type": "execute_result"
    }
   ],
   "source": [
    "vectors.distance(\"cat\", \"dog\")"
   ]
  },
  {
   "cell_type": "code",
   "execution_count": 17,
   "metadata": {},
   "outputs": [
    {
     "data": {
      "text/plain": [
       "1.1279846"
      ]
     },
     "execution_count": 17,
     "metadata": {},
     "output_type": "execute_result"
    }
   ],
   "source": [
    "vectors.distance(\"cat\", \"car\")"
   ]
  },
  {
   "cell_type": "code",
   "execution_count": 18,
   "metadata": {},
   "outputs": [
    {
     "data": {
      "text/plain": [
       "'dog'"
      ]
     },
     "execution_count": 18,
     "metadata": {},
     "output_type": "execute_result"
    }
   ],
   "source": [
    "vectors.most_similar_to_given(\"cat\", [\"dog\", \"television\", \"laptop\"]) "
   ]
  },
  {
   "cell_type": "code",
   "execution_count": 19,
   "metadata": {},
   "outputs": [
    {
     "data": {
      "text/plain": [
       "'cereal'"
      ]
     },
     "execution_count": 19,
     "metadata": {},
     "output_type": "execute_result"
    }
   ],
   "source": [
    "vectors.doesnt_match([\"breakfast\", \"cereal\", \"dinner\", \"lunch\"])"
   ]
  },
  {
   "cell_type": "code",
   "execution_count": 20,
   "metadata": {},
   "outputs": [],
   "source": [
    "#vectors.most_similar(\"cat\", topn = 5)"
   ]
  },
  {
   "cell_type": "code",
   "execution_count": 21,
   "metadata": {},
   "outputs": [],
   "source": [
    "#vectors.most_similar(positive = [\"woman\", \"king\"], negative = [\"man\"])"
   ]
  },
  {
   "cell_type": "markdown",
   "metadata": {},
   "source": [
    "### Topic Modeling\n",
    "\n",
    "- Given a document, determine the topic of the document\n",
    "- For this task, we'll use the Brown corpus of texts accessible via NLTK"
   ]
  },
  {
   "cell_type": "code",
   "execution_count": 23,
   "metadata": {},
   "outputs": [
    {
     "name": "stdout",
     "output_type": "stream",
     "text": [
      "[nltk_data] Downloading package brown to\n",
      "[nltk_data]     C:\\Users\\gcara\\AppData\\Roaming\\nltk_data...\n",
      "[nltk_data]   Unzipping corpora\\brown.zip.\n"
     ]
    },
    {
     "data": {
      "text/plain": [
       "True"
      ]
     },
     "execution_count": 23,
     "metadata": {},
     "output_type": "execute_result"
    }
   ],
   "source": [
    "import nltk\n",
    "nltk.download('brown')"
   ]
  },
  {
   "cell_type": "code",
   "execution_count": 24,
   "metadata": {},
   "outputs": [
    {
     "name": "stdout",
     "output_type": "stream",
     "text": [
      "adventure\n"
     ]
    },
    {
     "data": {
      "application/vnd.jupyter.widget-view+json": {
       "model_id": "14c1346284d54880a040c0445814feda",
       "version_major": 2,
       "version_minor": 0
      },
      "text/plain": [
       "HBox(children=(IntProgress(value=0, max=29), HTML(value='')))"
      ]
     },
     "metadata": {},
     "output_type": "display_data"
    },
    {
     "name": "stdout",
     "output_type": "stream",
     "text": [
      "\n",
      "belles_lettres\n"
     ]
    },
    {
     "data": {
      "application/vnd.jupyter.widget-view+json": {
       "model_id": "0f51608c331941f587a3410329bbf8e0",
       "version_major": 2,
       "version_minor": 0
      },
      "text/plain": [
       "HBox(children=(IntProgress(value=0, max=75), HTML(value='')))"
      ]
     },
     "metadata": {},
     "output_type": "display_data"
    },
    {
     "name": "stdout",
     "output_type": "stream",
     "text": [
      "\n",
      "editorial\n"
     ]
    },
    {
     "data": {
      "application/vnd.jupyter.widget-view+json": {
       "model_id": "9227ad94e2d542e3b6995e20166ea22a",
       "version_major": 2,
       "version_minor": 0
      },
      "text/plain": [
       "HBox(children=(IntProgress(value=0, max=27), HTML(value='')))"
      ]
     },
     "metadata": {},
     "output_type": "display_data"
    },
    {
     "name": "stdout",
     "output_type": "stream",
     "text": [
      "\n",
      "fiction\n"
     ]
    },
    {
     "data": {
      "application/vnd.jupyter.widget-view+json": {
       "model_id": "4d0ce077b985455ba2c6105eea9a0f7d",
       "version_major": 2,
       "version_minor": 0
      },
      "text/plain": [
       "HBox(children=(IntProgress(value=0, max=29), HTML(value='')))"
      ]
     },
     "metadata": {},
     "output_type": "display_data"
    },
    {
     "name": "stdout",
     "output_type": "stream",
     "text": [
      "\n",
      "government\n"
     ]
    },
    {
     "data": {
      "application/vnd.jupyter.widget-view+json": {
       "model_id": "677d755e787249a78ad472cc0065085f",
       "version_major": 2,
       "version_minor": 0
      },
      "text/plain": [
       "HBox(children=(IntProgress(value=0, max=30), HTML(value='')))"
      ]
     },
     "metadata": {},
     "output_type": "display_data"
    },
    {
     "name": "stdout",
     "output_type": "stream",
     "text": [
      "\n",
      "hobbies\n"
     ]
    },
    {
     "data": {
      "application/vnd.jupyter.widget-view+json": {
       "model_id": "234df08df3924fc49a836fb63761c4b7",
       "version_major": 2,
       "version_minor": 0
      },
      "text/plain": [
       "HBox(children=(IntProgress(value=0, max=36), HTML(value='')))"
      ]
     },
     "metadata": {},
     "output_type": "display_data"
    },
    {
     "name": "stdout",
     "output_type": "stream",
     "text": [
      "\n",
      "humor\n"
     ]
    },
    {
     "data": {
      "application/vnd.jupyter.widget-view+json": {
       "model_id": "e518f73f77404a37bdf79e8483de69de",
       "version_major": 2,
       "version_minor": 0
      },
      "text/plain": [
       "HBox(children=(IntProgress(value=0, max=9), HTML(value='')))"
      ]
     },
     "metadata": {},
     "output_type": "display_data"
    },
    {
     "name": "stdout",
     "output_type": "stream",
     "text": [
      "\n",
      "learned\n"
     ]
    },
    {
     "data": {
      "application/vnd.jupyter.widget-view+json": {
       "model_id": "149871df5c914fd1836970567142ae4c",
       "version_major": 2,
       "version_minor": 0
      },
      "text/plain": [
       "HBox(children=(IntProgress(value=0, max=80), HTML(value='')))"
      ]
     },
     "metadata": {},
     "output_type": "display_data"
    },
    {
     "name": "stdout",
     "output_type": "stream",
     "text": [
      "\n",
      "lore\n"
     ]
    },
    {
     "data": {
      "application/vnd.jupyter.widget-view+json": {
       "model_id": "85bcd8ef737d4c4793cf0968353b5ff6",
       "version_major": 2,
       "version_minor": 0
      },
      "text/plain": [
       "HBox(children=(IntProgress(value=0, max=48), HTML(value='')))"
      ]
     },
     "metadata": {},
     "output_type": "display_data"
    },
    {
     "name": "stdout",
     "output_type": "stream",
     "text": [
      "\n",
      "mystery\n"
     ]
    },
    {
     "data": {
      "application/vnd.jupyter.widget-view+json": {
       "model_id": "6515ef5756134139acb80a0f5d54eb77",
       "version_major": 2,
       "version_minor": 0
      },
      "text/plain": [
       "HBox(children=(IntProgress(value=0, max=24), HTML(value='')))"
      ]
     },
     "metadata": {},
     "output_type": "display_data"
    },
    {
     "name": "stdout",
     "output_type": "stream",
     "text": [
      "\n",
      "news\n"
     ]
    },
    {
     "data": {
      "application/vnd.jupyter.widget-view+json": {
       "model_id": "95d59676b28a4ed2b7b4e661be504983",
       "version_major": 2,
       "version_minor": 0
      },
      "text/plain": [
       "HBox(children=(IntProgress(value=0, max=44), HTML(value='')))"
      ]
     },
     "metadata": {},
     "output_type": "display_data"
    },
    {
     "name": "stdout",
     "output_type": "stream",
     "text": [
      "\n",
      "religion\n"
     ]
    },
    {
     "data": {
      "application/vnd.jupyter.widget-view+json": {
       "model_id": "3c2f4c52b7ac4331b98528ada76384ab",
       "version_major": 2,
       "version_minor": 0
      },
      "text/plain": [
       "HBox(children=(IntProgress(value=0, max=17), HTML(value='')))"
      ]
     },
     "metadata": {},
     "output_type": "display_data"
    },
    {
     "name": "stdout",
     "output_type": "stream",
     "text": [
      "\n",
      "reviews\n"
     ]
    },
    {
     "data": {
      "application/vnd.jupyter.widget-view+json": {
       "model_id": "bf63e52bacce468abcb1f7151008e888",
       "version_major": 2,
       "version_minor": 0
      },
      "text/plain": [
       "HBox(children=(IntProgress(value=0, max=17), HTML(value='')))"
      ]
     },
     "metadata": {},
     "output_type": "display_data"
    },
    {
     "name": "stdout",
     "output_type": "stream",
     "text": [
      "\n",
      "romance\n"
     ]
    },
    {
     "data": {
      "application/vnd.jupyter.widget-view+json": {
       "model_id": "a6bd338036d24568bdd9361d795f2031",
       "version_major": 2,
       "version_minor": 0
      },
      "text/plain": [
       "HBox(children=(IntProgress(value=0, max=29), HTML(value='')))"
      ]
     },
     "metadata": {},
     "output_type": "display_data"
    },
    {
     "name": "stdout",
     "output_type": "stream",
     "text": [
      "\n",
      "science_fiction\n"
     ]
    },
    {
     "data": {
      "application/vnd.jupyter.widget-view+json": {
       "model_id": "ab8e19b2cc34443b975c32bbcc961215",
       "version_major": 2,
       "version_minor": 0
      },
      "text/plain": [
       "HBox(children=(IntProgress(value=0, max=6), HTML(value='')))"
      ]
     },
     "metadata": {},
     "output_type": "display_data"
    },
    {
     "name": "stdout",
     "output_type": "stream",
     "text": [
      "\n"
     ]
    }
   ],
   "source": [
    "from nltk.corpus import brown\n",
    "from collections import defaultdict\n",
    "import tqdm # tqdm displays a progress bar\n",
    "from tqdm import tqdm_notebook as tqdm\n",
    "\n",
    "category_vectors = []\n",
    "\n",
    "cats = brown.categories()\n",
    "    \n",
    "# for each category\n",
    "for cat in cats:\n",
    "    print(cat)\n",
    "    # grab all of the documents\n",
    "    for fileid in tqdm(brown.fileids(categories=[cat])):\n",
    "        words = list(map(str.lower, brown.words(fileids=[fileid])))\n",
    "        # grab all of the words, find their embedding, sum all embeddings\n",
    "        word_sum = np.sum([vectors.query([w]) for w in words if w in vectors], axis=0) # why axis=0?\n",
    "        # add the now summed embedding to the list for this category\n",
    "        category_vectors.append((cat,word_sum))\n",
    "    "
   ]
  },
  {
   "cell_type": "code",
   "execution_count": 25,
   "metadata": {},
   "outputs": [],
   "source": [
    "import pandas as pd\n",
    "\n",
    "keys,values=zip(*category_vectors) # unzip using a *\n",
    "\n",
    "data = pd.DataFrame({'cat':keys,'vectors':values})"
   ]
  },
  {
   "cell_type": "code",
   "execution_count": 26,
   "metadata": {},
   "outputs": [
    {
     "data": {
      "text/html": [
       "<div>\n",
       "<style scoped>\n",
       "    .dataframe tbody tr th:only-of-type {\n",
       "        vertical-align: middle;\n",
       "    }\n",
       "\n",
       "    .dataframe tbody tr th {\n",
       "        vertical-align: top;\n",
       "    }\n",
       "\n",
       "    .dataframe thead th {\n",
       "        text-align: right;\n",
       "    }\n",
       "</style>\n",
       "<table border=\"1\" class=\"dataframe\">\n",
       "  <thead>\n",
       "    <tr style=\"text-align: right;\">\n",
       "      <th></th>\n",
       "      <th>cat</th>\n",
       "      <th>vectors</th>\n",
       "    </tr>\n",
       "  </thead>\n",
       "  <tbody>\n",
       "    <tr>\n",
       "      <th>0</th>\n",
       "      <td>adventure</td>\n",
       "      <td>[[101.48395, 49.925434, -35.528347, -92.13484,...</td>\n",
       "    </tr>\n",
       "    <tr>\n",
       "      <th>1</th>\n",
       "      <td>adventure</td>\n",
       "      <td>[[93.14879, 49.615086, -33.30255, -89.50236, 1...</td>\n",
       "    </tr>\n",
       "    <tr>\n",
       "      <th>2</th>\n",
       "      <td>adventure</td>\n",
       "      <td>[[93.08724, 25.093605, 1.5583314, -87.50236, 1...</td>\n",
       "    </tr>\n",
       "  </tbody>\n",
       "</table>\n",
       "</div>"
      ],
      "text/plain": [
       "         cat                                            vectors\n",
       "0  adventure  [[101.48395, 49.925434, -35.528347, -92.13484,...\n",
       "1  adventure  [[93.14879, 49.615086, -33.30255, -89.50236, 1...\n",
       "2  adventure  [[93.08724, 25.093605, 1.5583314, -87.50236, 1..."
      ]
     },
     "execution_count": 26,
     "metadata": {},
     "output_type": "execute_result"
    }
   ],
   "source": [
    "data[:3]"
   ]
  },
  {
   "cell_type": "code",
   "execution_count": 27,
   "metadata": {},
   "outputs": [],
   "source": [
    "total = len(data)"
   ]
  },
  {
   "cell_type": "markdown",
   "metadata": {},
   "source": [
    "#### compute the baselines"
   ]
  },
  {
   "cell_type": "code",
   "execution_count": 28,
   "metadata": {},
   "outputs": [
    {
     "name": "stdout",
     "output_type": "stream",
     "text": [
      "random baseline 0.06666666666666667\n",
      "most common baseline?\n",
      "adventure 0.058\n",
      "belles_lettres 0.15\n",
      "editorial 0.054\n",
      "fiction 0.058\n",
      "government 0.06\n",
      "hobbies 0.072\n",
      "humor 0.018\n",
      "learned 0.16\n",
      "lore 0.096\n",
      "mystery 0.048\n",
      "news 0.088\n",
      "religion 0.034\n",
      "reviews 0.034\n",
      "romance 0.058\n",
      "science_fiction 0.012\n"
     ]
    }
   ],
   "source": [
    "print('random baseline {}'.format(1.0/len(cat)))\n",
    "\n",
    "print('most common baseline?')\n",
    "for cat in cats:\n",
    "    print(cat, len(data[data.cat==cat])/total)"
   ]
  },
  {
   "cell_type": "markdown",
   "metadata": {},
   "source": [
    "#### split the data into train/test"
   ]
  },
  {
   "cell_type": "code",
   "execution_count": 29,
   "metadata": {},
   "outputs": [
    {
     "data": {
      "text/plain": [
       "((50, 2), (450, 2))"
      ]
     },
     "execution_count": 29,
     "metadata": {},
     "output_type": "execute_result"
    }
   ],
   "source": [
    "test = data.sample(frac=0.1,random_state=200)\n",
    "train = data.drop(test.index)\n",
    "\n",
    "test.shape, train.shape "
   ]
  },
  {
   "cell_type": "code",
   "execution_count": 31,
   "metadata": {},
   "outputs": [
    {
     "data": {
      "text/plain": [
       "((450, 50), (450, 15))"
      ]
     },
     "execution_count": 31,
     "metadata": {},
     "output_type": "execute_result"
    }
   ],
   "source": [
    "from sklearn import preprocessing\n",
    "le = preprocessing.LabelEncoder()\n",
    "ohe = preprocessing.OneHotEncoder()\n",
    "le.fit(data.cat) \n",
    "y = le.transform(train.cat).reshape(-1, 1) # this is magic\n",
    "ohe.fit(y)\n",
    "y = ohe.transform(y)\n",
    "\n",
    "X = np.array([x[0] for x in train.vectors])\n",
    "\n",
    "X.shape, y.shape"
   ]
  },
  {
   "cell_type": "markdown",
   "metadata": {},
   "source": [
    "#### train a classifier"
   ]
  },
  {
   "cell_type": "code",
   "execution_count": 50,
   "metadata": {},
   "outputs": [],
   "source": [
    "from keras.models import Model\n",
    "from keras.layers import Input, Dense\n",
    "from keras.models import Sequential\n",
    "from keras.optimizers import Adam"
   ]
  },
  {
   "cell_type": "code",
   "execution_count": 83,
   "metadata": {},
   "outputs": [],
   "source": [
    "model = Sequential()\n",
    "model.add(Dense(units=128, activation='relu', input_dim=vectors.dim))\n",
    "model.add(Dense(units=64, activation='relu'))\n",
    "model.add(Dense(units=len(cats), activation='softmax'))"
   ]
  },
  {
   "cell_type": "code",
   "execution_count": 84,
   "metadata": {},
   "outputs": [],
   "source": [
    "adam = Adam(lr=0.0000001, beta_1=0.9, beta_2=0.999, epsilon=None, decay=0.0, amsgrad=False)"
   ]
  },
  {
   "cell_type": "code",
   "execution_count": 85,
   "metadata": {},
   "outputs": [],
   "source": [
    "model.compile(loss='binary_crossentropy',\n",
    "              optimizer=adam,\n",
    "              metrics=['accuracy'])"
   ]
  },
  {
   "cell_type": "code",
   "execution_count": 86,
   "metadata": {},
   "outputs": [
    {
     "name": "stdout",
     "output_type": "stream",
     "text": [
      "Epoch 1/100\n",
      "450/450 [==============================] - ETA: 1s - loss: 1.9877 - acc: 0.876 - 0s 960us/step - loss: 2.0091 - acc: 0.8747\n",
      "Epoch 2/100\n",
      "450/450 [==============================] - ETA: 0s - loss: 2.0519 - acc: 0.872 - 0s 35us/step - loss: 2.0091 - acc: 0.8747\n",
      "Epoch 3/100\n",
      "450/450 [==============================] - ETA: 0s - loss: 2.0946 - acc: 0.869 - 0s 40us/step - loss: 2.0091 - acc: 0.8747\n",
      "Epoch 4/100\n",
      "450/450 [==============================] - ETA: 0s - loss: 1.9877 - acc: 0.876 - 0s 40us/step - loss: 2.0091 - acc: 0.8747\n",
      "Epoch 5/100\n",
      "450/450 [==============================] - ETA: 0s - loss: 2.0091 - acc: 0.874 - 0s 55us/step - loss: 2.0091 - acc: 0.8747\n",
      "Epoch 6/100\n",
      "450/450 [==============================] - ETA: 0s - loss: 1.9450 - acc: 0.878 - 0s 40us/step - loss: 2.0091 - acc: 0.8747\n",
      "Epoch 7/100\n",
      "450/450 [==============================] - ETA: 0s - loss: 1.9450 - acc: 0.878 - 0s 38us/step - loss: 2.0091 - acc: 0.8747\n",
      "Epoch 8/100\n",
      "450/450 [==============================] - ETA: 0s - loss: 1.9877 - acc: 0.876 - 0s 38us/step - loss: 2.0091 - acc: 0.8747\n",
      "Epoch 9/100\n",
      "450/450 [==============================] - ETA: 0s - loss: 2.0091 - acc: 0.874 - 0s 33us/step - loss: 2.0091 - acc: 0.8747\n",
      "Epoch 10/100\n",
      "450/450 [==============================] - ETA: 0s - loss: 1.9023 - acc: 0.881 - 0s 40us/step - loss: 2.0091 - acc: 0.8747\n",
      "Epoch 11/100\n",
      "450/450 [==============================] - ETA: 0s - loss: 1.9450 - acc: 0.878 - 0s 33us/step - loss: 2.0091 - acc: 0.8747\n",
      "Epoch 12/100\n",
      "450/450 [==============================] - ETA: 0s - loss: 1.9664 - acc: 0.877 - 0s 38us/step - loss: 2.0091 - acc: 0.8747\n",
      "Epoch 13/100\n",
      "450/450 [==============================] - ETA: 0s - loss: 2.0519 - acc: 0.872 - 0s 31us/step - loss: 2.0091 - acc: 0.8747\n",
      "Epoch 14/100\n",
      "450/450 [==============================] - ETA: 0s - loss: 2.0519 - acc: 0.872 - 0s 35us/step - loss: 2.0091 - acc: 0.8747\n",
      "Epoch 15/100\n",
      "450/450 [==============================] - ETA: 0s - loss: 1.9664 - acc: 0.877 - 0s 33us/step - loss: 2.0091 - acc: 0.8747\n",
      "Epoch 16/100\n",
      "450/450 [==============================] - ETA: 0s - loss: 1.9236 - acc: 0.880 - 0s 38us/step - loss: 2.0091 - acc: 0.8747\n",
      "Epoch 17/100\n",
      "450/450 [==============================] - ETA: 0s - loss: 2.0305 - acc: 0.873 - 0s 42us/step - loss: 2.0091 - acc: 0.8747\n",
      "Epoch 18/100\n",
      "450/450 [==============================] - ETA: 0s - loss: 2.0732 - acc: 0.870 - 0s 35us/step - loss: 2.0091 - acc: 0.8747\n",
      "Epoch 19/100\n",
      "450/450 [==============================] - ETA: 0s - loss: 1.9023 - acc: 0.881 - 0s 33us/step - loss: 2.0091 - acc: 0.8747\n",
      "Epoch 20/100\n",
      "450/450 [==============================] - ETA: 0s - loss: 2.0305 - acc: 0.873 - 0s 29us/step - loss: 2.0091 - acc: 0.8747\n",
      "Epoch 21/100\n",
      "450/450 [==============================] - ETA: 0s - loss: 2.0091 - acc: 0.874 - 0s 35us/step - loss: 2.0091 - acc: 0.8747\n",
      "Epoch 22/100\n",
      "450/450 [==============================] - ETA: 0s - loss: 2.0305 - acc: 0.873 - 0s 31us/step - loss: 2.0091 - acc: 0.8747\n",
      "Epoch 23/100\n",
      "450/450 [==============================] - ETA: 0s - loss: 2.0305 - acc: 0.873 - 0s 31us/step - loss: 2.0091 - acc: 0.8747\n",
      "Epoch 24/100\n",
      "450/450 [==============================] - ETA: 0s - loss: 2.0305 - acc: 0.873 - 0s 33us/step - loss: 2.0091 - acc: 0.8747\n",
      "Epoch 25/100\n",
      "450/450 [==============================] - ETA: 0s - loss: 2.0091 - acc: 0.874 - 0s 33us/step - loss: 2.0091 - acc: 0.8747\n",
      "Epoch 26/100\n",
      "450/450 [==============================] - ETA: 0s - loss: 1.9877 - acc: 0.876 - 0s 33us/step - loss: 2.0091 - acc: 0.8747\n",
      "Epoch 27/100\n",
      "450/450 [==============================] - ETA: 0s - loss: 1.9877 - acc: 0.876 - 0s 29us/step - loss: 2.0091 - acc: 0.8747\n",
      "Epoch 28/100\n",
      "450/450 [==============================] - ETA: 0s - loss: 1.9664 - acc: 0.877 - 0s 31us/step - loss: 2.0091 - acc: 0.8747\n",
      "Epoch 29/100\n",
      "450/450 [==============================] - ETA: 0s - loss: 1.9664 - acc: 0.877 - 0s 33us/step - loss: 2.0091 - acc: 0.8747\n",
      "Epoch 30/100\n",
      "450/450 [==============================] - ETA: 0s - loss: 2.0305 - acc: 0.873 - 0s 31us/step - loss: 2.0091 - acc: 0.8747\n",
      "Epoch 31/100\n",
      "450/450 [==============================] - ETA: 0s - loss: 2.0091 - acc: 0.874 - 0s 31us/step - loss: 2.0091 - acc: 0.8747\n",
      "Epoch 32/100\n",
      "450/450 [==============================] - ETA: 0s - loss: 2.0305 - acc: 0.873 - 0s 29us/step - loss: 2.0091 - acc: 0.8747\n",
      "Epoch 33/100\n",
      "450/450 [==============================] - ETA: 0s - loss: 2.0946 - acc: 0.869 - 0s 33us/step - loss: 2.0091 - acc: 0.8747\n",
      "Epoch 34/100\n",
      "450/450 [==============================] - ETA: 0s - loss: 1.9664 - acc: 0.877 - 0s 33us/step - loss: 2.0091 - acc: 0.8747\n",
      "Epoch 35/100\n",
      "450/450 [==============================] - ETA: 0s - loss: 2.0519 - acc: 0.872 - 0s 33us/step - loss: 2.0091 - acc: 0.8747\n",
      "Epoch 36/100\n",
      "450/450 [==============================] - ETA: 0s - loss: 2.0091 - acc: 0.874 - 0s 33us/step - loss: 2.0091 - acc: 0.8747\n",
      "Epoch 37/100\n",
      "450/450 [==============================] - ETA: 0s - loss: 1.9877 - acc: 0.876 - 0s 31us/step - loss: 2.0091 - acc: 0.8747\n",
      "Epoch 38/100\n",
      "450/450 [==============================] - ETA: 0s - loss: 2.0091 - acc: 0.874 - 0s 35us/step - loss: 2.0091 - acc: 0.8747\n",
      "Epoch 39/100\n",
      "450/450 [==============================] - ETA: 0s - loss: 2.0305 - acc: 0.873 - 0s 38us/step - loss: 2.0091 - acc: 0.8747\n",
      "Epoch 40/100\n",
      "450/450 [==============================] - ETA: 0s - loss: 2.0305 - acc: 0.873 - 0s 31us/step - loss: 2.0091 - acc: 0.8747\n",
      "Epoch 41/100\n",
      "450/450 [==============================] - ETA: 0s - loss: 2.0732 - acc: 0.870 - 0s 35us/step - loss: 2.0091 - acc: 0.8747\n",
      "Epoch 42/100\n",
      "450/450 [==============================] - ETA: 0s - loss: 2.0305 - acc: 0.873 - 0s 33us/step - loss: 2.0091 - acc: 0.8747\n",
      "Epoch 43/100\n",
      "450/450 [==============================] - ETA: 0s - loss: 1.9664 - acc: 0.877 - 0s 35us/step - loss: 2.0091 - acc: 0.8747\n",
      "Epoch 44/100\n",
      "450/450 [==============================] - ETA: 0s - loss: 2.0091 - acc: 0.874 - 0s 35us/step - loss: 2.0091 - acc: 0.8747\n",
      "Epoch 45/100\n",
      "450/450 [==============================] - ETA: 0s - loss: 2.0519 - acc: 0.872 - 0s 33us/step - loss: 2.0091 - acc: 0.8747\n",
      "Epoch 46/100\n",
      "450/450 [==============================] - ETA: 0s - loss: 1.9450 - acc: 0.878 - 0s 31us/step - loss: 2.0091 - acc: 0.8747\n",
      "Epoch 47/100\n",
      "450/450 [==============================] - ETA: 0s - loss: 2.0305 - acc: 0.873 - 0s 33us/step - loss: 2.0091 - acc: 0.8747\n",
      "Epoch 48/100\n",
      "450/450 [==============================] - ETA: 0s - loss: 1.9877 - acc: 0.876 - 0s 33us/step - loss: 2.0091 - acc: 0.8747\n",
      "Epoch 49/100\n",
      "450/450 [==============================] - ETA: 0s - loss: 2.0732 - acc: 0.870 - 0s 35us/step - loss: 2.0091 - acc: 0.8747\n",
      "Epoch 50/100\n",
      "450/450 [==============================] - ETA: 0s - loss: 2.0305 - acc: 0.873 - 0s 35us/step - loss: 2.0091 - acc: 0.8747\n",
      "Epoch 51/100\n",
      "450/450 [==============================] - ETA: 0s - loss: 2.0519 - acc: 0.872 - 0s 62us/step - loss: 2.0091 - acc: 0.8747\n",
      "Epoch 52/100\n",
      "450/450 [==============================] - ETA: 0s - loss: 2.0732 - acc: 0.870 - 0s 38us/step - loss: 2.0091 - acc: 0.8747\n",
      "Epoch 53/100\n",
      "450/450 [==============================] - ETA: 0s - loss: 1.9450 - acc: 0.878 - 0s 35us/step - loss: 2.0091 - acc: 0.8747\n",
      "Epoch 54/100\n",
      "450/450 [==============================] - ETA: 0s - loss: 2.0519 - acc: 0.872 - 0s 35us/step - loss: 2.0091 - acc: 0.8747\n",
      "Epoch 55/100\n",
      "450/450 [==============================] - ETA: 0s - loss: 2.0305 - acc: 0.873 - 0s 31us/step - loss: 2.0091 - acc: 0.8747\n",
      "Epoch 56/100\n",
      "450/450 [==============================] - ETA: 0s - loss: 2.0091 - acc: 0.874 - 0s 35us/step - loss: 2.0091 - acc: 0.8747\n",
      "Epoch 57/100\n",
      "450/450 [==============================] - ETA: 0s - loss: 2.0091 - acc: 0.874 - 0s 33us/step - loss: 2.0091 - acc: 0.8747\n",
      "Epoch 58/100\n",
      "450/450 [==============================] - ETA: 0s - loss: 1.9450 - acc: 0.878 - 0s 40us/step - loss: 2.0091 - acc: 0.8747\n",
      "Epoch 59/100\n",
      "450/450 [==============================] - ETA: 0s - loss: 2.0305 - acc: 0.873 - 0s 29us/step - loss: 2.0091 - acc: 0.8747\n",
      "Epoch 60/100\n",
      "450/450 [==============================] - ETA: 0s - loss: 1.9664 - acc: 0.877 - 0s 35us/step - loss: 2.0091 - acc: 0.8747\n",
      "Epoch 61/100\n"
     ]
    },
    {
     "name": "stdout",
     "output_type": "stream",
     "text": [
      "450/450 [==============================] - ETA: 0s - loss: 2.0519 - acc: 0.872 - 0s 33us/step - loss: 2.0091 - acc: 0.8747\n",
      "Epoch 62/100\n",
      "450/450 [==============================] - ETA: 0s - loss: 2.0519 - acc: 0.872 - 0s 29us/step - loss: 2.0091 - acc: 0.8747\n",
      "Epoch 63/100\n",
      "450/450 [==============================] - ETA: 0s - loss: 2.0091 - acc: 0.874 - 0s 35us/step - loss: 2.0091 - acc: 0.8747\n",
      "Epoch 64/100\n",
      "450/450 [==============================] - ETA: 0s - loss: 1.9450 - acc: 0.878 - 0s 29us/step - loss: 2.0091 - acc: 0.8747\n",
      "Epoch 65/100\n",
      "450/450 [==============================] - ETA: 0s - loss: 2.0091 - acc: 0.874 - 0s 35us/step - loss: 2.0091 - acc: 0.8747\n",
      "Epoch 66/100\n",
      "450/450 [==============================] - ETA: 0s - loss: 2.0732 - acc: 0.870 - 0s 31us/step - loss: 2.0091 - acc: 0.8747\n",
      "Epoch 67/100\n",
      "450/450 [==============================] - ETA: 0s - loss: 2.0091 - acc: 0.874 - 0s 31us/step - loss: 2.0091 - acc: 0.8747\n",
      "Epoch 68/100\n",
      "450/450 [==============================] - ETA: 0s - loss: 1.9664 - acc: 0.877 - 0s 31us/step - loss: 2.0091 - acc: 0.8747\n",
      "Epoch 69/100\n",
      "450/450 [==============================] - ETA: 0s - loss: 2.0732 - acc: 0.870 - 0s 31us/step - loss: 2.0091 - acc: 0.8747\n",
      "Epoch 70/100\n",
      "450/450 [==============================] - ETA: 0s - loss: 2.0732 - acc: 0.870 - 0s 31us/step - loss: 2.0091 - acc: 0.8747\n",
      "Epoch 71/100\n",
      "450/450 [==============================] - ETA: 0s - loss: 2.0305 - acc: 0.873 - 0s 31us/step - loss: 2.0091 - acc: 0.8747\n",
      "Epoch 72/100\n",
      "450/450 [==============================] - ETA: 0s - loss: 2.0305 - acc: 0.873 - 0s 31us/step - loss: 2.0091 - acc: 0.8747\n",
      "Epoch 73/100\n",
      "450/450 [==============================] - ETA: 0s - loss: 2.0091 - acc: 0.874 - 0s 33us/step - loss: 2.0091 - acc: 0.8747\n",
      "Epoch 74/100\n",
      "450/450 [==============================] - ETA: 0s - loss: 1.9450 - acc: 0.878 - 0s 31us/step - loss: 2.0091 - acc: 0.8747\n",
      "Epoch 75/100\n",
      "450/450 [==============================] - ETA: 0s - loss: 2.0091 - acc: 0.874 - 0s 35us/step - loss: 2.0091 - acc: 0.8747\n",
      "Epoch 76/100\n",
      "450/450 [==============================] - ETA: 0s - loss: 1.9664 - acc: 0.877 - 0s 31us/step - loss: 2.0091 - acc: 0.8747\n",
      "Epoch 77/100\n",
      "450/450 [==============================] - ETA: 0s - loss: 1.9877 - acc: 0.876 - 0s 29us/step - loss: 2.0091 - acc: 0.8747\n",
      "Epoch 78/100\n",
      "450/450 [==============================] - ETA: 0s - loss: 2.0305 - acc: 0.873 - 0s 31us/step - loss: 2.0091 - acc: 0.8747\n",
      "Epoch 79/100\n",
      "450/450 [==============================] - ETA: 0s - loss: 2.0946 - acc: 0.869 - 0s 33us/step - loss: 2.0091 - acc: 0.8747\n",
      "Epoch 80/100\n",
      "450/450 [==============================] - ETA: 0s - loss: 2.0091 - acc: 0.874 - 0s 31us/step - loss: 2.0091 - acc: 0.8747\n",
      "Epoch 81/100\n",
      "450/450 [==============================] - ETA: 0s - loss: 1.9450 - acc: 0.878 - 0s 31us/step - loss: 2.0091 - acc: 0.8747\n",
      "Epoch 82/100\n",
      "450/450 [==============================] - ETA: 0s - loss: 2.0305 - acc: 0.873 - 0s 31us/step - loss: 2.0091 - acc: 0.8747\n",
      "Epoch 83/100\n",
      "450/450 [==============================] - ETA: 0s - loss: 1.9664 - acc: 0.877 - 0s 31us/step - loss: 2.0091 - acc: 0.8747\n",
      "Epoch 84/100\n",
      "450/450 [==============================] - ETA: 0s - loss: 2.0091 - acc: 0.874 - 0s 31us/step - loss: 2.0091 - acc: 0.8747\n",
      "Epoch 85/100\n",
      "450/450 [==============================] - ETA: 0s - loss: 2.0091 - acc: 0.874 - 0s 31us/step - loss: 2.0091 - acc: 0.8747\n",
      "Epoch 86/100\n",
      "450/450 [==============================] - ETA: 0s - loss: 2.0519 - acc: 0.872 - 0s 33us/step - loss: 2.0091 - acc: 0.8747\n",
      "Epoch 87/100\n",
      "450/450 [==============================] - ETA: 0s - loss: 1.9877 - acc: 0.876 - 0s 35us/step - loss: 2.0091 - acc: 0.8747\n",
      "Epoch 88/100\n",
      "450/450 [==============================] - ETA: 0s - loss: 1.9664 - acc: 0.877 - 0s 33us/step - loss: 2.0091 - acc: 0.8747\n",
      "Epoch 89/100\n",
      "450/450 [==============================] - ETA: 0s - loss: 2.0732 - acc: 0.870 - 0s 33us/step - loss: 2.0091 - acc: 0.8747\n",
      "Epoch 90/100\n",
      "450/450 [==============================] - ETA: 0s - loss: 1.9877 - acc: 0.876 - 0s 33us/step - loss: 2.0091 - acc: 0.8747\n",
      "Epoch 91/100\n",
      "450/450 [==============================] - ETA: 0s - loss: 2.0091 - acc: 0.874 - 0s 29us/step - loss: 2.0091 - acc: 0.8747\n",
      "Epoch 92/100\n",
      "450/450 [==============================] - ETA: 0s - loss: 2.0519 - acc: 0.872 - 0s 29us/step - loss: 2.0091 - acc: 0.8747\n",
      "Epoch 93/100\n",
      "450/450 [==============================] - ETA: 0s - loss: 2.0732 - acc: 0.870 - 0s 31us/step - loss: 2.0091 - acc: 0.8747\n",
      "Epoch 94/100\n",
      "450/450 [==============================] - ETA: 0s - loss: 2.0732 - acc: 0.870 - 0s 31us/step - loss: 2.0091 - acc: 0.8747\n",
      "Epoch 95/100\n",
      "450/450 [==============================] - ETA: 0s - loss: 1.9664 - acc: 0.877 - 0s 33us/step - loss: 2.0091 - acc: 0.8747\n",
      "Epoch 96/100\n",
      "450/450 [==============================] - ETA: 0s - loss: 2.0091 - acc: 0.874 - 0s 33us/step - loss: 2.0091 - acc: 0.8747\n",
      "Epoch 97/100\n",
      "450/450 [==============================] - ETA: 0s - loss: 2.0091 - acc: 0.874 - 0s 31us/step - loss: 2.0091 - acc: 0.8747\n",
      "Epoch 98/100\n",
      "450/450 [==============================] - ETA: 0s - loss: 1.9664 - acc: 0.877 - 0s 35us/step - loss: 2.0091 - acc: 0.8747\n",
      "Epoch 99/100\n",
      "450/450 [==============================] - ETA: 0s - loss: 2.0519 - acc: 0.872 - 0s 33us/step - loss: 2.0091 - acc: 0.8747\n",
      "Epoch 100/100\n",
      "450/450 [==============================] - ETA: 0s - loss: 2.0519 - acc: 0.872 - 0s 44us/step - loss: 2.0091 - acc: 0.8747\n"
     ]
    }
   ],
   "source": [
    "history = model.fit(X,y, epochs=100, batch_size=100)"
   ]
  },
  {
   "cell_type": "code",
   "execution_count": 45,
   "metadata": {},
   "outputs": [
    {
     "name": "stdout",
     "output_type": "stream",
     "text": [
      "dict_keys(['loss', 'acc'])\n"
     ]
    },
    {
     "data": {
      "image/png": "[encoded data removed]",
      "text/plain": [
       "<Figure size 432x288 with 1 Axes>"
      ]
     },
     "metadata": {
      "needs_background": "light"
     },
     "output_type": "display_data"
    },
    {
     "data": {
      "image/png": "[encoded data removed]",
      "text/plain": [
       "<Figure size 432x288 with 1 Axes>"
      ]
     },
     "metadata": {
      "needs_background": "light"
     },
     "output_type": "display_data"
    }
   ],
   "source": [
    "import matplotlib.pyplot as plt\n",
    "%matplotlib inline\n",
    "# list all data in history\n",
    "print(history.history.keys())\n",
    "# summarize history for accuracy\n",
    "plt.plot(history.history['acc'])\n",
    "plt.title('model accuracy')\n",
    "plt.ylabel('accuracy')\n",
    "plt.xlabel('epoch')\n",
    "plt.show()\n",
    "# summarize history for loss\n",
    "plt.plot(history.history['loss'])\n",
    "plt.title('model loss')\n",
    "plt.ylabel('loss')\n",
    "plt.xlabel('epoch')\n",
    "plt.show()"
   ]
  },
  {
   "cell_type": "code",
   "execution_count": 87,
   "metadata": {},
   "outputs": [
    {
     "name": "stdout",
     "output_type": "stream",
     "text": [
      "dict_keys(['loss', 'acc'])\n"
     ]
    },
    {
     "data": {
      "image/png": "[encoded data removed]",
      "text/plain": [
       "<Figure size 432x288 with 1 Axes>"
      ]
     },
     "metadata": {
      "needs_background": "light"
     },
     "output_type": "display_data"
    },
    {
     "data": {
      "image/png": "[encoded data removed]",
      "text/plain": [
       "<Figure size 432x288 with 1 Axes>"
      ]
     },
     "metadata": {
      "needs_background": "light"
     },
     "output_type": "display_data"
    }
   ],
   "source": [
    "import matplotlib.pyplot as plt\n",
    "%matplotlib inline\n",
    "# list all data in history\n",
    "print(history.history.keys())\n",
    "# summarize history for accuracy\n",
    "plt.plot(history.history['acc'])\n",
    "plt.title('model accuracy')\n",
    "plt.ylabel('accuracy')\n",
    "plt.xlabel('epoch')\n",
    "plt.show()\n",
    "# summarize history for loss\n",
    "plt.plot(history.history['loss'])\n",
    "plt.title('model loss')\n",
    "plt.ylabel('loss')\n",
    "plt.xlabel('epoch')\n",
    "plt.show()"
   ]
  },
  {
   "cell_type": "code",
   "execution_count": null,
   "metadata": {},
   "outputs": [],
   "source": []
  },
  {
   "cell_type": "markdown",
   "metadata": {},
   "source": [
    "#### evaluate "
   ]
  },
  {
   "cell_type": "code",
   "execution_count": 36,
   "metadata": {},
   "outputs": [],
   "source": [
    "from sklearn.metrics import accuracy_score"
   ]
  },
  {
   "cell_type": "code",
   "execution_count": 62,
   "metadata": {},
   "outputs": [
    {
     "name": "stdout",
     "output_type": "stream",
     "text": [
      "50/50 [==============================] - ETA:  - 0s 1ms/step\n"
     ]
    },
    {
     "data": {
      "text/plain": [
       "[1.4202947092056275, 0.872000002861023]"
      ]
     },
     "execution_count": 62,
     "metadata": {},
     "output_type": "execute_result"
    }
   ],
   "source": [
    "test_y = ohe.transform(le.transform(test.cat).reshape(-1, 1))\n",
    "\n",
    "test_X = np.array([x[0] for x in test.vectors])\n",
    "\n",
    "model.evaluate(test_X, test_y)"
   ]
  },
  {
   "cell_type": "markdown",
   "metadata": {},
   "source": [
    "### Embeddings with `flair` library\n",
    "\n",
    "- [reference](https://github.com/zalandoresearch/flair/blob/master/resources/docs/TUTORIAL_3_WORD_EMBEDDING.md)\n",
    "- flair can use your GPU if you have CUDA installed"
   ]
  },
  {
   "cell_type": "code",
   "execution_count": 38,
   "metadata": {},
   "outputs": [
    {
     "ename": "ModuleNotFoundError",
     "evalue": "No module named 'flair'",
     "output_type": "error",
     "traceback": [
      "\u001b[1;31m---------------------------------------------------------------------------\u001b[0m",
      "\u001b[1;31mModuleNotFoundError\u001b[0m                       Traceback (most recent call last)",
      "\u001b[1;32m<ipython-input-38-54b950fa1802>\u001b[0m in \u001b[0;36m<module>\u001b[1;34m()\u001b[0m\n\u001b[1;32m----> 1\u001b[1;33m \u001b[1;32mfrom\u001b[0m \u001b[0mflair\u001b[0m\u001b[1;33m.\u001b[0m\u001b[0membeddings\u001b[0m \u001b[1;32mimport\u001b[0m \u001b[0mWordEmbeddings\u001b[0m\u001b[1;33m\u001b[0m\u001b[0m\n\u001b[0m\u001b[0;32m      2\u001b[0m \u001b[1;33m\u001b[0m\u001b[0m\n\u001b[0;32m      3\u001b[0m \u001b[1;31m# init embedding\u001b[0m\u001b[1;33m\u001b[0m\u001b[1;33m\u001b[0m\u001b[0m\n\u001b[0;32m      4\u001b[0m \u001b[0mglove_embedding\u001b[0m \u001b[1;33m=\u001b[0m \u001b[0mWordEmbeddings\u001b[0m\u001b[1;33m(\u001b[0m\u001b[1;34m'glove'\u001b[0m\u001b[1;33m)\u001b[0m\u001b[1;33m\u001b[0m\u001b[0m\n",
      "\u001b[1;31mModuleNotFoundError\u001b[0m: No module named 'flair'"
     ]
    }
   ],
   "source": [
    "from flair.embeddings import WordEmbeddings\n",
    "\n",
    "# init embedding\n",
    "glove_embedding = WordEmbeddings('glove')"
   ]
  },
  {
   "cell_type": "code",
   "execution_count": 4,
   "metadata": {},
   "outputs": [
    {
     "name": "stdout",
     "output_type": "stream",
     "text": [
      "Token: 1 The\n",
      "tensor([-0.0382, -0.2449,  0.7281, -0.3996,  0.0832,  0.0440, -0.3914,  0.3344,\n",
      "        -0.5755,  0.0875])\n",
      "Token: 2 grass\n",
      "tensor([-0.8135,  0.9404, -0.2405, -0.1350,  0.0557,  0.3363,  0.0802, -0.1015,\n",
      "        -0.5478, -0.3537])\n",
      "Token: 3 is\n",
      "tensor([-0.5426,  0.4148,  1.0322, -0.4024,  0.4669,  0.2182, -0.0749,  0.4733,\n",
      "         0.0810, -0.2208])\n",
      "Token: 4 green\n",
      "tensor([-6.7907e-01,  3.4908e-01, -2.3984e-01, -9.9652e-01,  7.3782e-01,\n",
      "        -6.5911e-04,  2.8010e-01,  1.7287e-02, -3.6063e-01,  3.6955e-02])\n",
      "Token: 5 .\n",
      "tensor([-0.3398,  0.2094,  0.4635, -0.6479, -0.3838,  0.0380,  0.1713,  0.1598,\n",
      "         0.4662, -0.0192])\n"
     ]
    }
   ],
   "source": [
    "from flair.data import Sentence\n",
    "# create sentence.\n",
    "sentence = Sentence('The grass is green .')\n",
    "\n",
    "# embed a sentence using glove.\n",
    "glove_embedding.embed(sentence)\n",
    "\n",
    "# now check out the embedded tokens.\n",
    "for token in sentence:\n",
    "    print(token)\n",
    "    print(token.embedding[:10])"
   ]
  },
  {
   "cell_type": "code",
   "execution_count": 6,
   "metadata": {},
   "outputs": [
    {
     "ename": "RuntimeError",
     "evalue": "CUDA error: out of memory",
     "output_type": "error",
     "traceback": [
      "\u001b[0;31m---------------------------------------------------------------------------\u001b[0m",
      "\u001b[0;31mRuntimeError\u001b[0m                              Traceback (most recent call last)",
      "\u001b[0;32m<ipython-input-6-283cd8e32c5f>\u001b[0m in \u001b[0;36m<module>\u001b[0;34m()\u001b[0m\n\u001b[1;32m      8\u001b[0m \u001b[0;34m\u001b[0m\u001b[0m\n\u001b[1;32m      9\u001b[0m \u001b[0;31m# embed words in sentence\u001b[0m\u001b[0;34m\u001b[0m\u001b[0;34m\u001b[0m\u001b[0m\n\u001b[0;32m---> 10\u001b[0;31m \u001b[0membedding\u001b[0m\u001b[0;34m.\u001b[0m\u001b[0membed\u001b[0m\u001b[0;34m(\u001b[0m\u001b[0msentence\u001b[0m\u001b[0;34m)\u001b[0m\u001b[0;34m\u001b[0m\u001b[0m\n\u001b[0m",
      "\u001b[0;32m~/.local/lib/python3.6/site-packages/flair/embeddings.py\u001b[0m in \u001b[0;36membed\u001b[0;34m(self, sentences)\u001b[0m\n\u001b[1;32m     54\u001b[0m \u001b[0;34m\u001b[0m\u001b[0m\n\u001b[1;32m     55\u001b[0m         \u001b[0;32mif\u001b[0m \u001b[0;32mnot\u001b[0m \u001b[0meverything_embedded\u001b[0m \u001b[0;32mor\u001b[0m \u001b[0;32mnot\u001b[0m \u001b[0mself\u001b[0m\u001b[0;34m.\u001b[0m\u001b[0mstatic_embeddings\u001b[0m\u001b[0;34m:\u001b[0m\u001b[0;34m\u001b[0m\u001b[0m\n\u001b[0;32m---> 56\u001b[0;31m             \u001b[0mself\u001b[0m\u001b[0;34m.\u001b[0m\u001b[0m_add_embeddings_internal\u001b[0m\u001b[0;34m(\u001b[0m\u001b[0msentences\u001b[0m\u001b[0;34m)\u001b[0m\u001b[0;34m\u001b[0m\u001b[0m\n\u001b[0m\u001b[1;32m     57\u001b[0m \u001b[0;34m\u001b[0m\u001b[0m\n\u001b[1;32m     58\u001b[0m         \u001b[0;32mreturn\u001b[0m \u001b[0msentences\u001b[0m\u001b[0;34m\u001b[0m\u001b[0m\n",
      "\u001b[0;32m~/.local/lib/python3.6/site-packages/flair/embeddings.py\u001b[0m in \u001b[0;36m_add_embeddings_internal\u001b[0;34m(self, sentences)\u001b[0m\n\u001b[1;32m    949\u001b[0m         \u001b[0mfeatures\u001b[0m \u001b[0;34m=\u001b[0m \u001b[0mself\u001b[0m\u001b[0;34m.\u001b[0m\u001b[0m_convert_sentences_to_features\u001b[0m\u001b[0;34m(\u001b[0m\u001b[0msentences\u001b[0m\u001b[0;34m,\u001b[0m \u001b[0mlongest_sentence_in_batch\u001b[0m\u001b[0;34m)\u001b[0m\u001b[0;34m\u001b[0m\u001b[0m\n\u001b[1;32m    950\u001b[0m         \u001b[0;32mif\u001b[0m \u001b[0mtorch\u001b[0m\u001b[0;34m.\u001b[0m\u001b[0mcuda\u001b[0m\u001b[0;34m.\u001b[0m\u001b[0mis_available\u001b[0m\u001b[0;34m(\u001b[0m\u001b[0;34m)\u001b[0m\u001b[0;34m:\u001b[0m\u001b[0;34m\u001b[0m\u001b[0m\n\u001b[0;32m--> 951\u001b[0;31m             \u001b[0mall_input_ids\u001b[0m \u001b[0;34m=\u001b[0m \u001b[0mtorch\u001b[0m\u001b[0;34m.\u001b[0m\u001b[0mtensor\u001b[0m\u001b[0;34m(\u001b[0m\u001b[0;34m[\u001b[0m\u001b[0mf\u001b[0m\u001b[0;34m.\u001b[0m\u001b[0minput_ids\u001b[0m \u001b[0;32mfor\u001b[0m \u001b[0mf\u001b[0m \u001b[0;32min\u001b[0m \u001b[0mfeatures\u001b[0m\u001b[0;34m]\u001b[0m\u001b[0;34m,\u001b[0m \u001b[0mdtype\u001b[0m\u001b[0;34m=\u001b[0m\u001b[0mtorch\u001b[0m\u001b[0;34m.\u001b[0m\u001b[0mlong\u001b[0m\u001b[0;34m)\u001b[0m\u001b[0;34m.\u001b[0m\u001b[0mcuda\u001b[0m\u001b[0;34m(\u001b[0m\u001b[0;34m)\u001b[0m\u001b[0;34m\u001b[0m\u001b[0m\n\u001b[0m\u001b[1;32m    952\u001b[0m             \u001b[0mall_input_masks\u001b[0m \u001b[0;34m=\u001b[0m \u001b[0mtorch\u001b[0m\u001b[0;34m.\u001b[0m\u001b[0mtensor\u001b[0m\u001b[0;34m(\u001b[0m\u001b[0;34m[\u001b[0m\u001b[0mf\u001b[0m\u001b[0;34m.\u001b[0m\u001b[0minput_mask\u001b[0m \u001b[0;32mfor\u001b[0m \u001b[0mf\u001b[0m \u001b[0;32min\u001b[0m \u001b[0mfeatures\u001b[0m\u001b[0;34m]\u001b[0m\u001b[0;34m,\u001b[0m \u001b[0mdtype\u001b[0m\u001b[0;34m=\u001b[0m\u001b[0mtorch\u001b[0m\u001b[0;34m.\u001b[0m\u001b[0mlong\u001b[0m\u001b[0;34m)\u001b[0m\u001b[0;34m.\u001b[0m\u001b[0mcuda\u001b[0m\u001b[0;34m(\u001b[0m\u001b[0;34m)\u001b[0m\u001b[0;34m\u001b[0m\u001b[0m\n\u001b[1;32m    953\u001b[0m         \u001b[0;32melse\u001b[0m\u001b[0;34m:\u001b[0m\u001b[0;34m\u001b[0m\u001b[0m\n",
      "\u001b[0;31mRuntimeError\u001b[0m: CUDA error: out of memory"
     ]
    }
   ],
   "source": [
    "from flair.embeddings import BertEmbeddings\n",
    "\n",
    "# init embedding\n",
    "embedding = BertEmbeddings()\n",
    "\n",
    "# create a sentence\n",
    "sentence = Sentence('The grass is green .')\n",
    "\n",
    "# embed words in sentence\n",
    "embedding.embed(sentence)"
   ]
  },
  {
   "cell_type": "code",
   "execution_count": null,
   "metadata": {},
   "outputs": [],
   "source": []
  }
 ],
 "metadata": {
  "kernelspec": {
   "display_name": "Python 3",
   "language": "python",
   "name": "python3"
  },
  "language_info": {
   "codemirror_mode": {
    "name": "ipython",
    "version": 3
   },
   "file_extension": ".py",
   "mimetype": "text/x-python",
   "name": "python",
   "nbconvert_exporter": "python",
   "pygments_lexer": "ipython3",
   "version": "3.6.6"
  }
 },
 "nbformat": 4,
 "nbformat_minor": 2
}
