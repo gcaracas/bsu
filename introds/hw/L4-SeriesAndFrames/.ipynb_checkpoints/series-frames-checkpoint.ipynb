{
 "cells": [
  {
   "cell_type": "markdown",
   "metadata": {},
   "source": [
    "<body>\n",
    "    <section style=\"border:1px solid RoyalBlue;\">\n",
    "        <section style=\"background-color:White; font-family:Georgia;text-align:center\">\n",
    "            <h1 style=\"color:RoyalBlue\">Introduction to Data Science</h1>\n",
    "            <h2 style=\"color:RoyalBlue\">Dr.\tCasey Kennington</h1>\n",
    "            <h2 style=\"font-family:Courier; text-align:center;\">CS-533</h2>\n",
    "            <br>\n",
    "            <h2 style=\"font-family:Garamond;\">Gerardo Caracas Uribe</h2>\n",
    "            <h2 style=\"font-family:Garamond;\">Student ID: 114104708</h2>\n",
    "            <h2 style=\"font-family:Courier;\">Homework #4 Series and Frames</h2>\n",
    "            <hr/>\n",
    "        </section>\n",
    "    </section>\n",
    "</body>"
   ]
  },
  {
   "cell_type": "markdown",
   "metadata": {},
   "source": [
    "<body>\n",
    "    <section style=\"background-color:White; font-family:Georgia;text-align:center\">\n",
    "        <h2 style=\"font-family:Garamond; color:solid #229954\">Unit 31</h2>\n",
    "        <h3 style=\"font-family:Garamond;\">Geting Used to Pandas Data Structures</h3>\n",
    "        <hr/>\n",
    "    </section>\n",
    "</body>"
   ]
  },
  {
   "cell_type": "code",
   "execution_count": 100,
   "metadata": {},
   "outputs": [
    {
     "data": {
      "text/plain": [
       "0     2.2\n",
       "1     3.4\n",
       "2     2.8\n",
       "3     1.6\n",
       "4     2.3\n",
       "5     2.7\n",
       "6     3.4\n",
       "7     3.2\n",
       "8     2.8\n",
       "9     3.8\n",
       "10   -0.4\n",
       "11    1.6\n",
       "12    3.2\n",
       "13    2.1\n",
       "14    1.5\n",
       "15    1.5\n",
       "dtype: float64"
      ]
     },
     "execution_count": 100,
     "metadata": {},
     "output_type": "execute_result"
    }
   ],
   "source": [
    "import pandas as pd\n",
    "# The last value is wrokg, we will fix it later!\n",
    "inflation = pd.Series((2.2, 3.4,2.8,1.6,2.3,2.7,3.4,3.2,2.8,3.8,-0.4,1.6,3.2,2.1,1.5,1.5))\n",
    "inflation"
   ]
  },
  {
   "cell_type": "code",
   "execution_count": 101,
   "metadata": {},
   "outputs": [
    {
     "data": {
      "text/plain": [
       "16"
      ]
     },
     "execution_count": 101,
     "metadata": {},
     "output_type": "execute_result"
    }
   ],
   "source": [
    "len(inflation)"
   ]
  },
  {
   "cell_type": "code",
   "execution_count": 102,
   "metadata": {},
   "outputs": [
    {
     "data": {
      "text/plain": [
       "array([ 2.2,  3.4,  2.8,  1.6,  2.3,  2.7,  3.4,  3.2,  2.8,  3.8, -0.4,\n",
       "        1.6,  3.2,  2.1,  1.5,  1.5])"
      ]
     },
     "execution_count": 102,
     "metadata": {},
     "output_type": "execute_result"
    }
   ],
   "source": [
    "inflation.values"
   ]
  },
  {
   "cell_type": "code",
   "execution_count": 103,
   "metadata": {},
   "outputs": [
    {
     "data": {
      "text/plain": [
       "RangeIndex(start=0, stop=16, step=1)"
      ]
     },
     "execution_count": 103,
     "metadata": {},
     "output_type": "execute_result"
    }
   ],
   "source": [
    "inflation.index"
   ]
  },
  {
   "cell_type": "code",
   "execution_count": 104,
   "metadata": {},
   "outputs": [
    {
     "data": {
      "text/plain": [
       "array([ 0,  1,  2,  3,  4,  5,  6,  7,  8,  9, 10, 11, 12, 13, 14, 15],\n",
       "      dtype=int64)"
      ]
     },
     "execution_count": 104,
     "metadata": {},
     "output_type": "execute_result"
    }
   ],
   "source": [
    "inflation.index.values"
   ]
  },
  {
   "cell_type": "code",
   "execution_count": 105,
   "metadata": {},
   "outputs": [],
   "source": [
    "import numpy as np\n",
    "inflation = pd.Series({1999:2.2,2000:3.4,2001:2.8,2002:1.6,2003:2.3,2004:2.6,2005:3.4,2006:3.2,2007:2.8,2008:3.8,2009:-0.4,2010:1.6,2011:3.2,2012:2.1,2013:1.5,2014:1.6,2015:np.nan})\n"
   ]
  },
  {
   "cell_type": "code",
   "execution_count": 106,
   "metadata": {},
   "outputs": [
    {
     "data": {
      "text/plain": [
       "1999    2.2\n",
       "2000    3.4\n",
       "2001    2.8\n",
       "2002    1.6\n",
       "2003    2.3\n",
       "2004    2.6\n",
       "2005    3.4\n",
       "2006    3.2\n",
       "2007    2.8\n",
       "2008    3.8\n",
       "2009   -0.4\n",
       "2010    1.6\n",
       "2011    3.2\n",
       "2012    2.1\n",
       "2013    1.5\n",
       "2014    1.6\n",
       "2015    NaN\n",
       "dtype: float64"
      ]
     },
     "execution_count": 106,
     "metadata": {},
     "output_type": "execute_result"
    }
   ],
   "source": [
    "inflation.index = pd.Index(range(1999, 2016))\n",
    "inflation[2015]=np.nan\n",
    "inflation"
   ]
  },
  {
   "cell_type": "code",
   "execution_count": 107,
   "metadata": {},
   "outputs": [],
   "source": [
    "inflation.index.name = \"Year\"\n",
    "inflation.name = \"%\""
   ]
  },
  {
   "cell_type": "code",
   "execution_count": 108,
   "metadata": {},
   "outputs": [
    {
     "data": {
      "text/plain": [
       "Year\n",
       "1999    2.2\n",
       "2000    3.4\n",
       "2001    2.8\n",
       "2002    1.6\n",
       "2003    2.3\n",
       "Name: %, dtype: float64"
      ]
     },
     "execution_count": 108,
     "metadata": {},
     "output_type": "execute_result"
    }
   ],
   "source": [
    "inflation.head()"
   ]
  },
  {
   "cell_type": "code",
   "execution_count": 109,
   "metadata": {},
   "outputs": [
    {
     "data": {
      "text/plain": [
       "Year\n",
       "2011    3.2\n",
       "2012    2.1\n",
       "2013    1.5\n",
       "2014    1.6\n",
       "2015    NaN\n",
       "Name: %, dtype: float64"
      ]
     },
     "execution_count": 109,
     "metadata": {},
     "output_type": "execute_result"
    }
   ],
   "source": [
    "inflation.tail()"
   ]
  },
  {
   "cell_type": "markdown",
   "metadata": {},
   "source": [
    "The following section we don't have all the data but I will do my best to replicate the excercises by loading a csv file"
   ]
  },
  {
   "cell_type": "code",
   "execution_count": 110,
   "metadata": {},
   "outputs": [
    {
     "name": "stderr",
     "output_type": "stream",
     "text": [
      "D:\\sw\\anaconda\\envs\\fastai\\lib\\site-packages\\pandas\\core\\frame.py:3697: SettingWithCopyWarning: \n",
      "A value is trying to be set on a copy of a slice from a DataFrame\n",
      "\n",
      "See the caveats in the documentation: http://pandas.pydata.org/pandas-docs/stable/indexing.html#indexing-view-versus-copy\n",
      "  errors=errors)\n"
     ]
    },
    {
     "data": {
      "text/html": [
       "<div>\n",
       "<style scoped>\n",
       "    .dataframe tbody tr th:only-of-type {\n",
       "        vertical-align: middle;\n",
       "    }\n",
       "\n",
       "    .dataframe tbody tr th {\n",
       "        vertical-align: top;\n",
       "    }\n",
       "\n",
       "    .dataframe thead th {\n",
       "        text-align: right;\n",
       "    }\n",
       "</style>\n",
       "<table border=\"1\" class=\"dataframe\">\n",
       "  <thead>\n",
       "    <tr style=\"text-align: right;\">\n",
       "      <th></th>\n",
       "      <th>Beer</th>\n",
       "      <th>Wine</th>\n",
       "      <th>Spirits</th>\n",
       "    </tr>\n",
       "    <tr>\n",
       "      <th>State</th>\n",
       "      <th></th>\n",
       "      <th></th>\n",
       "      <th></th>\n",
       "    </tr>\n",
       "  </thead>\n",
       "  <tbody>\n",
       "    <tr>\n",
       "      <th>Alabama</th>\n",
       "      <td>1.20</td>\n",
       "      <td>0.22</td>\n",
       "      <td>0.58</td>\n",
       "    </tr>\n",
       "    <tr>\n",
       "      <th>Alaska</th>\n",
       "      <td>1.31</td>\n",
       "      <td>0.54</td>\n",
       "      <td>1.16</td>\n",
       "    </tr>\n",
       "    <tr>\n",
       "      <th>Arizona</th>\n",
       "      <td>1.19</td>\n",
       "      <td>0.38</td>\n",
       "      <td>0.74</td>\n",
       "    </tr>\n",
       "    <tr>\n",
       "      <th>Arkansas</th>\n",
       "      <td>1.07</td>\n",
       "      <td>0.17</td>\n",
       "      <td>0.60</td>\n",
       "    </tr>\n",
       "    <tr>\n",
       "      <th>California</th>\n",
       "      <td>1.05</td>\n",
       "      <td>0.55</td>\n",
       "      <td>0.73</td>\n",
       "    </tr>\n",
       "    <tr>\n",
       "      <th>Colorado</th>\n",
       "      <td>1.22</td>\n",
       "      <td>0.46</td>\n",
       "      <td>1.00</td>\n",
       "    </tr>\n",
       "    <tr>\n",
       "      <th>Connecticut</th>\n",
       "      <td>0.89</td>\n",
       "      <td>0.59</td>\n",
       "      <td>0.86</td>\n",
       "    </tr>\n",
       "    <tr>\n",
       "      <th>Delaware</th>\n",
       "      <td>1.31</td>\n",
       "      <td>0.57</td>\n",
       "      <td>1.25</td>\n",
       "    </tr>\n",
       "    <tr>\n",
       "      <th>District of Columbia</th>\n",
       "      <td>1.26</td>\n",
       "      <td>1.00</td>\n",
       "      <td>1.64</td>\n",
       "    </tr>\n",
       "    <tr>\n",
       "      <th>Florida</th>\n",
       "      <td>1.21</td>\n",
       "      <td>0.48</td>\n",
       "      <td>0.92</td>\n",
       "    </tr>\n",
       "    <tr>\n",
       "      <th>Georgia</th>\n",
       "      <td>1.08</td>\n",
       "      <td>0.25</td>\n",
       "      <td>0.64</td>\n",
       "    </tr>\n",
       "    <tr>\n",
       "      <th>Hawaii</th>\n",
       "      <td>1.30</td>\n",
       "      <td>0.53</td>\n",
       "      <td>0.75</td>\n",
       "    </tr>\n",
       "    <tr>\n",
       "      <th>Idaho</th>\n",
       "      <td>1.05</td>\n",
       "      <td>0.92</td>\n",
       "      <td>0.70</td>\n",
       "    </tr>\n",
       "    <tr>\n",
       "      <th>Illinois</th>\n",
       "      <td>1.22</td>\n",
       "      <td>0.39</td>\n",
       "      <td>0.73</td>\n",
       "    </tr>\n",
       "    <tr>\n",
       "      <th>Indiana</th>\n",
       "      <td>1.09</td>\n",
       "      <td>0.25</td>\n",
       "      <td>0.73</td>\n",
       "    </tr>\n",
       "    <tr>\n",
       "      <th>Iowa</th>\n",
       "      <td>1.42</td>\n",
       "      <td>0.18</td>\n",
       "      <td>0.72</td>\n",
       "    </tr>\n",
       "    <tr>\n",
       "      <th>Kansas</th>\n",
       "      <td>1.18</td>\n",
       "      <td>0.14</td>\n",
       "      <td>0.67</td>\n",
       "    </tr>\n",
       "    <tr>\n",
       "      <th>Kentucky</th>\n",
       "      <td>1.11</td>\n",
       "      <td>0.18</td>\n",
       "      <td>0.65</td>\n",
       "    </tr>\n",
       "    <tr>\n",
       "      <th>Louisiana</th>\n",
       "      <td>1.50</td>\n",
       "      <td>0.28</td>\n",
       "      <td>0.85</td>\n",
       "    </tr>\n",
       "    <tr>\n",
       "      <th>Maine</th>\n",
       "      <td>1.24</td>\n",
       "      <td>0.42</td>\n",
       "      <td>0.83</td>\n",
       "    </tr>\n",
       "    <tr>\n",
       "      <th>Maryland</th>\n",
       "      <td>0.97</td>\n",
       "      <td>0.37</td>\n",
       "      <td>0.87</td>\n",
       "    </tr>\n",
       "    <tr>\n",
       "      <th>Massachusetts</th>\n",
       "      <td>1.02</td>\n",
       "      <td>0.61</td>\n",
       "      <td>0.84</td>\n",
       "    </tr>\n",
       "    <tr>\n",
       "      <th>Michigan</th>\n",
       "      <td>1.10</td>\n",
       "      <td>0.31</td>\n",
       "      <td>0.80</td>\n",
       "    </tr>\n",
       "    <tr>\n",
       "      <th>Minnesota</th>\n",
       "      <td>1.19</td>\n",
       "      <td>0.37</td>\n",
       "      <td>1.04</td>\n",
       "    </tr>\n",
       "    <tr>\n",
       "      <th>Mississippi</th>\n",
       "      <td>1.41</td>\n",
       "      <td>0.11</td>\n",
       "      <td>0.71</td>\n",
       "    </tr>\n",
       "    <tr>\n",
       "      <th>Missouri</th>\n",
       "      <td>1.30</td>\n",
       "      <td>0.30</td>\n",
       "      <td>0.83</td>\n",
       "    </tr>\n",
       "    <tr>\n",
       "      <th>Montana</th>\n",
       "      <td>1.66</td>\n",
       "      <td>0.45</td>\n",
       "      <td>0.88</td>\n",
       "    </tr>\n",
       "    <tr>\n",
       "      <th>Nebraska</th>\n",
       "      <td>1.46</td>\n",
       "      <td>0.20</td>\n",
       "      <td>0.68</td>\n",
       "    </tr>\n",
       "    <tr>\n",
       "      <th>Nevada</th>\n",
       "      <td>1.57</td>\n",
       "      <td>0.58</td>\n",
       "      <td>1.15</td>\n",
       "    </tr>\n",
       "    <tr>\n",
       "      <th>New Hampshire</th>\n",
       "      <td>1.72</td>\n",
       "      <td>0.84</td>\n",
       "      <td>1.82</td>\n",
       "    </tr>\n",
       "    <tr>\n",
       "      <th>New Jersey</th>\n",
       "      <td>0.92</td>\n",
       "      <td>0.57</td>\n",
       "      <td>0.87</td>\n",
       "    </tr>\n",
       "    <tr>\n",
       "      <th>New Mexico</th>\n",
       "      <td>1.37</td>\n",
       "      <td>0.32</td>\n",
       "      <td>0.74</td>\n",
       "    </tr>\n",
       "    <tr>\n",
       "      <th>New York</th>\n",
       "      <td>0.91</td>\n",
       "      <td>0.46</td>\n",
       "      <td>0.69</td>\n",
       "    </tr>\n",
       "    <tr>\n",
       "      <th>North Carolina</th>\n",
       "      <td>1.10</td>\n",
       "      <td>0.34</td>\n",
       "      <td>0.58</td>\n",
       "    </tr>\n",
       "    <tr>\n",
       "      <th>North Dakota</th>\n",
       "      <td>1.63</td>\n",
       "      <td>0.25</td>\n",
       "      <td>1.16</td>\n",
       "    </tr>\n",
       "    <tr>\n",
       "      <th>Ohio</th>\n",
       "      <td>1.28</td>\n",
       "      <td>0.26</td>\n",
       "      <td>0.47</td>\n",
       "    </tr>\n",
       "    <tr>\n",
       "      <th>Oklahoma</th>\n",
       "      <td>1.18</td>\n",
       "      <td>0.18</td>\n",
       "      <td>0.58</td>\n",
       "    </tr>\n",
       "    <tr>\n",
       "      <th>Oregon</th>\n",
       "      <td>1.28</td>\n",
       "      <td>0.49</td>\n",
       "      <td>0.82</td>\n",
       "    </tr>\n",
       "    <tr>\n",
       "      <th>Pennsylvania</th>\n",
       "      <td>1.35</td>\n",
       "      <td>0.23</td>\n",
       "      <td>0.61</td>\n",
       "    </tr>\n",
       "    <tr>\n",
       "      <th>Rhode Island</th>\n",
       "      <td>1.10</td>\n",
       "      <td>0.53</td>\n",
       "      <td>0.92</td>\n",
       "    </tr>\n",
       "    <tr>\n",
       "      <th>South Carolina</th>\n",
       "      <td>1.36</td>\n",
       "      <td>0.24</td>\n",
       "      <td>0.77</td>\n",
       "    </tr>\n",
       "    <tr>\n",
       "      <th>South Dakota</th>\n",
       "      <td>1.53</td>\n",
       "      <td>0.22</td>\n",
       "      <td>0.88</td>\n",
       "    </tr>\n",
       "    <tr>\n",
       "      <th>Tennessee</th>\n",
       "      <td>1.05</td>\n",
       "      <td>0.21</td>\n",
       "      <td>0.57</td>\n",
       "    </tr>\n",
       "    <tr>\n",
       "      <th>Texas</th>\n",
       "      <td>1.42</td>\n",
       "      <td>0.28</td>\n",
       "      <td>0.58</td>\n",
       "    </tr>\n",
       "    <tr>\n",
       "      <th>Utah</th>\n",
       "      <td>0.70</td>\n",
       "      <td>0.17</td>\n",
       "      <td>0.46</td>\n",
       "    </tr>\n",
       "    <tr>\n",
       "      <th>Vermont</th>\n",
       "      <td>1.36</td>\n",
       "      <td>0.63</td>\n",
       "      <td>0.70</td>\n",
       "    </tr>\n",
       "    <tr>\n",
       "      <th>Virginia</th>\n",
       "      <td>1.11</td>\n",
       "      <td>0.43</td>\n",
       "      <td>0.59</td>\n",
       "    </tr>\n",
       "    <tr>\n",
       "      <th>Washington</th>\n",
       "      <td>1.09</td>\n",
       "      <td>0.51</td>\n",
       "      <td>0.74</td>\n",
       "    </tr>\n",
       "    <tr>\n",
       "      <th>West Virginia</th>\n",
       "      <td>1.24</td>\n",
       "      <td>0.10</td>\n",
       "      <td>0.45</td>\n",
       "    </tr>\n",
       "    <tr>\n",
       "      <th>Wisconsin</th>\n",
       "      <td>1.49</td>\n",
       "      <td>0.31</td>\n",
       "      <td>1.16</td>\n",
       "    </tr>\n",
       "    <tr>\n",
       "      <th>Wyoming</th>\n",
       "      <td>1.45</td>\n",
       "      <td>0.22</td>\n",
       "      <td>1.10</td>\n",
       "    </tr>\n",
       "  </tbody>\n",
       "</table>\n",
       "</div>"
      ],
      "text/plain": [
       "                      Beer  Wine  Spirits\n",
       "State                                    \n",
       "Alabama               1.20  0.22     0.58\n",
       "Alaska                1.31  0.54     1.16\n",
       "Arizona               1.19  0.38     0.74\n",
       "Arkansas              1.07  0.17     0.60\n",
       "California            1.05  0.55     0.73\n",
       "Colorado              1.22  0.46     1.00\n",
       "Connecticut           0.89  0.59     0.86\n",
       "Delaware              1.31  0.57     1.25\n",
       "District of Columbia  1.26  1.00     1.64\n",
       "Florida               1.21  0.48     0.92\n",
       "Georgia               1.08  0.25     0.64\n",
       "Hawaii                1.30  0.53     0.75\n",
       "Idaho                 1.05  0.92     0.70\n",
       "Illinois              1.22  0.39     0.73\n",
       "Indiana               1.09  0.25     0.73\n",
       "Iowa                  1.42  0.18     0.72\n",
       "Kansas                1.18  0.14     0.67\n",
       "Kentucky              1.11  0.18     0.65\n",
       "Louisiana             1.50  0.28     0.85\n",
       "Maine                 1.24  0.42     0.83\n",
       "Maryland              0.97  0.37     0.87\n",
       "Massachusetts         1.02  0.61     0.84\n",
       "Michigan              1.10  0.31     0.80\n",
       "Minnesota             1.19  0.37     1.04\n",
       "Mississippi           1.41  0.11     0.71\n",
       "Missouri              1.30  0.30     0.83\n",
       "Montana               1.66  0.45     0.88\n",
       "Nebraska              1.46  0.20     0.68\n",
       "Nevada                1.57  0.58     1.15\n",
       "New Hampshire         1.72  0.84     1.82\n",
       "New Jersey            0.92  0.57     0.87\n",
       "New Mexico            1.37  0.32     0.74\n",
       "New York              0.91  0.46     0.69\n",
       "North Carolina        1.10  0.34     0.58\n",
       "North Dakota          1.63  0.25     1.16\n",
       "Ohio                  1.28  0.26     0.47\n",
       "Oklahoma              1.18  0.18     0.58\n",
       "Oregon                1.28  0.49     0.82\n",
       "Pennsylvania          1.35  0.23     0.61\n",
       "Rhode Island          1.10  0.53     0.92\n",
       "South Carolina        1.36  0.24     0.77\n",
       "South Dakota          1.53  0.22     0.88\n",
       "Tennessee             1.05  0.21     0.57\n",
       "Texas                 1.42  0.28     0.58\n",
       "Utah                  0.70  0.17     0.46\n",
       "Vermont               1.36  0.63     0.70\n",
       "Virginia              1.11  0.43     0.59\n",
       "Washington            1.09  0.51     0.74\n",
       "West Virginia         1.24  0.10     0.45\n",
       "Wisconsin             1.49  0.31     1.16\n",
       "Wyoming               1.45  0.22     1.10"
      ]
     },
     "execution_count": 110,
     "metadata": {},
     "output_type": "execute_result"
    }
   ],
   "source": [
    "tmpdata=pd.read_csv(\"./data.csv\")\n",
    "alco2009 = tmpdata.loc[tmpdata['Year'] == 2009]\n",
    "alco2009.set_index('State',inplace=True)\n",
    "alco2009.drop(['Year'], axis=1, inplace=True)\n",
    "alco2009"
   ]
  },
  {
   "cell_type": "code",
   "execution_count": 111,
   "metadata": {},
   "outputs": [
    {
     "data": {
      "text/plain": [
       "State\n",
       "Alabama       0.22\n",
       "Alaska        0.54\n",
       "Arizona       0.38\n",
       "Arkansas      0.17\n",
       "California    0.55\n",
       "Name: Wine, dtype: float64"
      ]
     },
     "execution_count": 111,
     "metadata": {},
     "output_type": "execute_result"
    }
   ],
   "source": [
    "alco2009[\"Wine\"].head()"
   ]
  },
  {
   "cell_type": "code",
   "execution_count": 112,
   "metadata": {},
   "outputs": [
    {
     "data": {
      "text/plain": [
       "State\n",
       "Virginia         1.11\n",
       "Washington       1.09\n",
       "West Virginia    1.24\n",
       "Wisconsin        1.49\n",
       "Wyoming          1.45\n",
       "Name: Beer, dtype: float64"
      ]
     },
     "execution_count": 112,
     "metadata": {},
     "output_type": "execute_result"
    }
   ],
   "source": [
    "alco2009.Beer.tail()"
   ]
  },
  {
   "cell_type": "code",
   "execution_count": 113,
   "metadata": {},
   "outputs": [
    {
     "name": "stderr",
     "output_type": "stream",
     "text": [
      "D:\\sw\\anaconda\\envs\\fastai\\lib\\site-packages\\ipykernel_launcher.py:1: SettingWithCopyWarning: \n",
      "A value is trying to be set on a copy of a slice from a DataFrame.\n",
      "Try using .loc[row_indexer,col_indexer] = value instead\n",
      "\n",
      "See the caveats in the documentation: http://pandas.pydata.org/pandas-docs/stable/indexing.html#indexing-view-versus-copy\n",
      "  \"\"\"Entry point for launching an IPython kernel.\n"
     ]
    },
    {
     "data": {
      "text/html": [
       "<div>\n",
       "<style scoped>\n",
       "    .dataframe tbody tr th:only-of-type {\n",
       "        vertical-align: middle;\n",
       "    }\n",
       "\n",
       "    .dataframe tbody tr th {\n",
       "        vertical-align: top;\n",
       "    }\n",
       "\n",
       "    .dataframe thead th {\n",
       "        text-align: right;\n",
       "    }\n",
       "</style>\n",
       "<table border=\"1\" class=\"dataframe\">\n",
       "  <thead>\n",
       "    <tr style=\"text-align: right;\">\n",
       "      <th></th>\n",
       "      <th>Beer</th>\n",
       "      <th>Wine</th>\n",
       "      <th>Spirits</th>\n",
       "      <th>Total</th>\n",
       "    </tr>\n",
       "    <tr>\n",
       "      <th>State</th>\n",
       "      <th></th>\n",
       "      <th></th>\n",
       "      <th></th>\n",
       "      <th></th>\n",
       "    </tr>\n",
       "  </thead>\n",
       "  <tbody>\n",
       "    <tr>\n",
       "      <th>Alabama</th>\n",
       "      <td>1.20</td>\n",
       "      <td>0.22</td>\n",
       "      <td>0.58</td>\n",
       "      <td>0</td>\n",
       "    </tr>\n",
       "    <tr>\n",
       "      <th>Alaska</th>\n",
       "      <td>1.31</td>\n",
       "      <td>0.54</td>\n",
       "      <td>1.16</td>\n",
       "      <td>0</td>\n",
       "    </tr>\n",
       "    <tr>\n",
       "      <th>Arizona</th>\n",
       "      <td>1.19</td>\n",
       "      <td>0.38</td>\n",
       "      <td>0.74</td>\n",
       "      <td>0</td>\n",
       "    </tr>\n",
       "    <tr>\n",
       "      <th>Arkansas</th>\n",
       "      <td>1.07</td>\n",
       "      <td>0.17</td>\n",
       "      <td>0.60</td>\n",
       "      <td>0</td>\n",
       "    </tr>\n",
       "    <tr>\n",
       "      <th>California</th>\n",
       "      <td>1.05</td>\n",
       "      <td>0.55</td>\n",
       "      <td>0.73</td>\n",
       "      <td>0</td>\n",
       "    </tr>\n",
       "  </tbody>\n",
       "</table>\n",
       "</div>"
      ],
      "text/plain": [
       "            Beer  Wine  Spirits  Total\n",
       "State                                 \n",
       "Alabama     1.20  0.22     0.58      0\n",
       "Alaska      1.31  0.54     1.16      0\n",
       "Arizona     1.19  0.38     0.74      0\n",
       "Arkansas    1.07  0.17     0.60      0\n",
       "California  1.05  0.55     0.73      0"
      ]
     },
     "execution_count": 113,
     "metadata": {},
     "output_type": "execute_result"
    }
   ],
   "source": [
    "alco2009[\"Total\"]=0\n",
    "alco2009.head()"
   ]
  },
  {
   "cell_type": "markdown",
   "metadata": {},
   "source": [
    "<body>\n",
    "    <section style=\"background-color:White; font-family:Georgia;text-align:center\">\n",
    "        <h2 style=\"font-family:Garamond; color:solid #229954\">Unit 32</h2>\n",
    "        <h3 style=\"font-family:Garamond;\">Reshaping Data</h3>\n",
    "        <hr/>\n",
    "    </section>\n",
    "</body>"
   ]
  },
  {
   "cell_type": "code",
   "execution_count": 114,
   "metadata": {},
   "outputs": [
    {
     "data": {
      "text/plain": [
       "array(['Beer', 'Wine', 'Spirits', 'Total'], dtype=object)"
      ]
     },
     "execution_count": 114,
     "metadata": {},
     "output_type": "execute_result"
    }
   ],
   "source": [
    "alco2009.columns.values"
   ]
  },
  {
   "cell_type": "code",
   "execution_count": 115,
   "metadata": {},
   "outputs": [
    {
     "data": {
      "text/plain": [
       "array(['Alabama', 'Alaska', 'Arizona', 'Arkansas', 'California',\n",
       "       'Colorado', 'Connecticut', 'Delaware', 'District of Columbia',\n",
       "       'Florida', 'Georgia', 'Hawaii', 'Idaho', 'Illinois', 'Indiana',\n",
       "       'Iowa', 'Kansas', 'Kentucky', 'Louisiana', 'Maine', 'Maryland',\n",
       "       'Massachusetts', 'Michigan', 'Minnesota', 'Mississippi',\n",
       "       'Missouri', 'Montana', 'Nebraska', 'Nevada', 'New Hampshire',\n",
       "       'New Jersey', 'New Mexico', 'New York', 'North Carolina',\n",
       "       'North Dakota', 'Ohio', 'Oklahoma', 'Oregon', 'Pennsylvania',\n",
       "       'Rhode Island', 'South Carolina', 'South Dakota', 'Tennessee',\n",
       "       'Texas', 'Utah', 'Vermont', 'Virginia', 'Washington',\n",
       "       'West Virginia', 'Wisconsin', 'Wyoming'], dtype=object)"
      ]
     },
     "execution_count": 115,
     "metadata": {},
     "output_type": "execute_result"
    }
   ],
   "source": [
    "alco2009.index.values"
   ]
  },
  {
   "cell_type": "code",
   "execution_count": 116,
   "metadata": {},
   "outputs": [
    {
     "data": {
      "text/html": [
       "<div>\n",
       "<style scoped>\n",
       "    .dataframe tbody tr th:only-of-type {\n",
       "        vertical-align: middle;\n",
       "    }\n",
       "\n",
       "    .dataframe tbody tr th {\n",
       "        vertical-align: top;\n",
       "    }\n",
       "\n",
       "    .dataframe thead th {\n",
       "        text-align: right;\n",
       "    }\n",
       "</style>\n",
       "<table border=\"1\" class=\"dataframe\">\n",
       "  <thead>\n",
       "    <tr style=\"text-align: right;\">\n",
       "      <th></th>\n",
       "      <th>State</th>\n",
       "      <th>Wine</th>\n",
       "      <th>Spirits</th>\n",
       "      <th>Total</th>\n",
       "    </tr>\n",
       "    <tr>\n",
       "      <th>Beer</th>\n",
       "      <th></th>\n",
       "      <th></th>\n",
       "      <th></th>\n",
       "      <th></th>\n",
       "    </tr>\n",
       "  </thead>\n",
       "  <tbody>\n",
       "    <tr>\n",
       "      <th>1.20</th>\n",
       "      <td>Alabama</td>\n",
       "      <td>0.22</td>\n",
       "      <td>0.58</td>\n",
       "      <td>0</td>\n",
       "    </tr>\n",
       "    <tr>\n",
       "      <th>1.31</th>\n",
       "      <td>Alaska</td>\n",
       "      <td>0.54</td>\n",
       "      <td>1.16</td>\n",
       "      <td>0</td>\n",
       "    </tr>\n",
       "    <tr>\n",
       "      <th>1.19</th>\n",
       "      <td>Arizona</td>\n",
       "      <td>0.38</td>\n",
       "      <td>0.74</td>\n",
       "      <td>0</td>\n",
       "    </tr>\n",
       "    <tr>\n",
       "      <th>1.07</th>\n",
       "      <td>Arkansas</td>\n",
       "      <td>0.17</td>\n",
       "      <td>0.60</td>\n",
       "      <td>0</td>\n",
       "    </tr>\n",
       "    <tr>\n",
       "      <th>1.05</th>\n",
       "      <td>California</td>\n",
       "      <td>0.55</td>\n",
       "      <td>0.73</td>\n",
       "      <td>0</td>\n",
       "    </tr>\n",
       "  </tbody>\n",
       "</table>\n",
       "</div>"
      ],
      "text/plain": [
       "           State  Wine  Spirits  Total\n",
       "Beer                                  \n",
       "1.20     Alabama  0.22     0.58      0\n",
       "1.31      Alaska  0.54     1.16      0\n",
       "1.19     Arizona  0.38     0.74      0\n",
       "1.07    Arkansas  0.17     0.60      0\n",
       "1.05  California  0.55     0.73      0"
      ]
     },
     "execution_count": 116,
     "metadata": {},
     "output_type": "execute_result"
    }
   ],
   "source": [
    "alco2009.reset_index().set_index(\"Beer\").head()"
   ]
  },
  {
   "cell_type": "code",
   "execution_count": 117,
   "metadata": {
    "scrolled": true
   },
   "outputs": [
    {
     "name": "stderr",
     "output_type": "stream",
     "text": [
      "D:\\sw\\anaconda\\envs\\fastai\\lib\\site-packages\\ipykernel_launcher.py:1: DeprecationWarning: \n",
      ".ix is deprecated. Please use\n",
      ".loc for label based indexing or\n",
      ".iloc for positional indexing\n",
      "\n",
      "See the documentation here:\n",
      "http://pandas.pydata.org/pandas-docs/stable/indexing.html#ix-indexer-is-deprecated\n",
      "  \"\"\"Entry point for launching an IPython kernel.\n"
     ]
    },
    {
     "data": {
      "text/plain": [
       "Beer       1.46\n",
       "Wine       0.20\n",
       "Spirits    0.68\n",
       "Total      0.00\n",
       "Name: Nebraska, dtype: float64"
      ]
     },
     "execution_count": 117,
     "metadata": {},
     "output_type": "execute_result"
    }
   ],
   "source": [
    "alco2009.ix[\"Nebraska\"]"
   ]
  },
  {
   "cell_type": "code",
   "execution_count": 118,
   "metadata": {},
   "outputs": [
    {
     "data": {
      "text/plain": [
       "False"
      ]
     },
     "execution_count": 118,
     "metadata": {},
     "output_type": "execute_result"
    }
   ],
   "source": [
    "\"Samoa\" in alco2009.index"
   ]
  },
  {
   "cell_type": "code",
   "execution_count": 119,
   "metadata": {},
   "outputs": [
    {
     "data": {
      "text/html": [
       "<div>\n",
       "<style scoped>\n",
       "    .dataframe tbody tr th:only-of-type {\n",
       "        vertical-align: middle;\n",
       "    }\n",
       "\n",
       "    .dataframe tbody tr th {\n",
       "        vertical-align: top;\n",
       "    }\n",
       "\n",
       "    .dataframe thead th {\n",
       "        text-align: right;\n",
       "    }\n",
       "</style>\n",
       "<table border=\"1\" class=\"dataframe\">\n",
       "  <thead>\n",
       "    <tr style=\"text-align: right;\">\n",
       "      <th></th>\n",
       "      <th>Beer</th>\n",
       "      <th>Wine</th>\n",
       "      <th>Spirits</th>\n",
       "      <th>Total</th>\n",
       "      <th>Water</th>\n",
       "    </tr>\n",
       "    <tr>\n",
       "      <th>State</th>\n",
       "      <th></th>\n",
       "      <th></th>\n",
       "      <th></th>\n",
       "      <th></th>\n",
       "      <th></th>\n",
       "    </tr>\n",
       "  </thead>\n",
       "  <tbody>\n",
       "    <tr>\n",
       "      <th>South Carolina</th>\n",
       "      <td>1.36</td>\n",
       "      <td>0.24</td>\n",
       "      <td>0.77</td>\n",
       "      <td>0.0</td>\n",
       "      <td>NaN</td>\n",
       "    </tr>\n",
       "    <tr>\n",
       "      <th>South Dakota</th>\n",
       "      <td>1.53</td>\n",
       "      <td>0.22</td>\n",
       "      <td>0.88</td>\n",
       "      <td>0.0</td>\n",
       "      <td>NaN</td>\n",
       "    </tr>\n",
       "    <tr>\n",
       "      <th>Samoa</th>\n",
       "      <td>NaN</td>\n",
       "      <td>NaN</td>\n",
       "      <td>NaN</td>\n",
       "      <td>NaN</td>\n",
       "      <td>NaN</td>\n",
       "    </tr>\n",
       "  </tbody>\n",
       "</table>\n",
       "</div>"
      ],
      "text/plain": [
       "                Beer  Wine  Spirits  Total  Water\n",
       "State                                            \n",
       "South Carolina  1.36  0.24     0.77    0.0    NaN\n",
       "South Dakota    1.53  0.22     0.88    0.0    NaN\n",
       "Samoa            NaN   NaN      NaN    NaN    NaN"
      ]
     },
     "execution_count": 119,
     "metadata": {},
     "output_type": "execute_result"
    }
   ],
   "source": [
    "s_states = [state for state in alco2009.index if state[0] == 'S'] + [\"Samoa\"]\n",
    "drinks = list(alco2009.columns) + [\"Water\"]\n",
    "nan_alco = alco2009.reindex(s_states, columns=drinks)\n",
    "nan_alco"
   ]
  },
  {
   "cell_type": "code",
   "execution_count": 120,
   "metadata": {},
   "outputs": [
    {
     "data": {
      "text/html": [
       "<div>\n",
       "<style scoped>\n",
       "    .dataframe tbody tr th:only-of-type {\n",
       "        vertical-align: middle;\n",
       "    }\n",
       "\n",
       "    .dataframe tbody tr th {\n",
       "        vertical-align: top;\n",
       "    }\n",
       "\n",
       "    .dataframe thead th {\n",
       "        text-align: right;\n",
       "    }\n",
       "</style>\n",
       "<table border=\"1\" class=\"dataframe\">\n",
       "  <thead>\n",
       "    <tr style=\"text-align: right;\">\n",
       "      <th></th>\n",
       "      <th>State</th>\n",
       "      <th>Year</th>\n",
       "      <th>Beer</th>\n",
       "      <th>Wine</th>\n",
       "      <th>Spirits</th>\n",
       "    </tr>\n",
       "  </thead>\n",
       "  <tbody>\n",
       "    <tr>\n",
       "      <th>0</th>\n",
       "      <td>Alabama</td>\n",
       "      <td>2009</td>\n",
       "      <td>1.20</td>\n",
       "      <td>0.22</td>\n",
       "      <td>0.58</td>\n",
       "    </tr>\n",
       "    <tr>\n",
       "      <th>1</th>\n",
       "      <td>NaN</td>\n",
       "      <td>2008</td>\n",
       "      <td>1.24</td>\n",
       "      <td>0.22</td>\n",
       "      <td>0.58</td>\n",
       "    </tr>\n",
       "    <tr>\n",
       "      <th>2</th>\n",
       "      <td>NaN</td>\n",
       "      <td>2007</td>\n",
       "      <td>1.24</td>\n",
       "      <td>0.22</td>\n",
       "      <td>0.56</td>\n",
       "    </tr>\n",
       "    <tr>\n",
       "      <th>3</th>\n",
       "      <td>NaN</td>\n",
       "      <td>2006</td>\n",
       "      <td>1.22</td>\n",
       "      <td>0.21</td>\n",
       "      <td>0.55</td>\n",
       "    </tr>\n",
       "    <tr>\n",
       "      <th>4</th>\n",
       "      <td>NaN</td>\n",
       "      <td>2005</td>\n",
       "      <td>1.18</td>\n",
       "      <td>0.20</td>\n",
       "      <td>0.53</td>\n",
       "    </tr>\n",
       "    <tr>\n",
       "      <th>5</th>\n",
       "      <td>NaN</td>\n",
       "      <td>2004</td>\n",
       "      <td>1.19</td>\n",
       "      <td>0.20</td>\n",
       "      <td>0.52</td>\n",
       "    </tr>\n",
       "    <tr>\n",
       "      <th>6</th>\n",
       "      <td>NaN</td>\n",
       "      <td>2003</td>\n",
       "      <td>1.18</td>\n",
       "      <td>0.19</td>\n",
       "      <td>0.52</td>\n",
       "    </tr>\n",
       "    <tr>\n",
       "      <th>7</th>\n",
       "      <td>NaN</td>\n",
       "      <td>2002</td>\n",
       "      <td>1.18</td>\n",
       "      <td>0.21</td>\n",
       "      <td>0.53</td>\n",
       "    </tr>\n",
       "    <tr>\n",
       "      <th>8</th>\n",
       "      <td>NaN</td>\n",
       "      <td>2001</td>\n",
       "      <td>1.16</td>\n",
       "      <td>0.17</td>\n",
       "      <td>0.53</td>\n",
       "    </tr>\n",
       "    <tr>\n",
       "      <th>9</th>\n",
       "      <td>NaN</td>\n",
       "      <td>2000</td>\n",
       "      <td>1.19</td>\n",
       "      <td>0.18</td>\n",
       "      <td>0.51</td>\n",
       "    </tr>\n",
       "    <tr>\n",
       "      <th>10</th>\n",
       "      <td>NaN</td>\n",
       "      <td>1999</td>\n",
       "      <td>1.18</td>\n",
       "      <td>0.17</td>\n",
       "      <td>0.51</td>\n",
       "    </tr>\n",
       "    <tr>\n",
       "      <th>11</th>\n",
       "      <td>NaN</td>\n",
       "      <td>1998</td>\n",
       "      <td>1.16</td>\n",
       "      <td>0.17</td>\n",
       "      <td>0.51</td>\n",
       "    </tr>\n",
       "    <tr>\n",
       "      <th>12</th>\n",
       "      <td>NaN</td>\n",
       "      <td>1997</td>\n",
       "      <td>1.14</td>\n",
       "      <td>0.15</td>\n",
       "      <td>0.52</td>\n",
       "    </tr>\n",
       "    <tr>\n",
       "      <th>13</th>\n",
       "      <td>NaN</td>\n",
       "      <td>1996</td>\n",
       "      <td>1.17</td>\n",
       "      <td>0.15</td>\n",
       "      <td>0.53</td>\n",
       "    </tr>\n",
       "    <tr>\n",
       "      <th>14</th>\n",
       "      <td>NaN</td>\n",
       "      <td>1995</td>\n",
       "      <td>1.14</td>\n",
       "      <td>0.15</td>\n",
       "      <td>0.53</td>\n",
       "    </tr>\n",
       "    <tr>\n",
       "      <th>15</th>\n",
       "      <td>NaN</td>\n",
       "      <td>1994</td>\n",
       "      <td>1.16</td>\n",
       "      <td>0.17</td>\n",
       "      <td>0.54</td>\n",
       "    </tr>\n",
       "    <tr>\n",
       "      <th>16</th>\n",
       "      <td>NaN</td>\n",
       "      <td>1993</td>\n",
       "      <td>1.14</td>\n",
       "      <td>0.17</td>\n",
       "      <td>0.56</td>\n",
       "    </tr>\n",
       "    <tr>\n",
       "      <th>17</th>\n",
       "      <td>NaN</td>\n",
       "      <td>1992</td>\n",
       "      <td>1.02</td>\n",
       "      <td>0.19</td>\n",
       "      <td>0.59</td>\n",
       "    </tr>\n",
       "    <tr>\n",
       "      <th>18</th>\n",
       "      <td>NaN</td>\n",
       "      <td>1991</td>\n",
       "      <td>1.00</td>\n",
       "      <td>0.17</td>\n",
       "      <td>0.59</td>\n",
       "    </tr>\n",
       "    <tr>\n",
       "      <th>19</th>\n",
       "      <td>NaN</td>\n",
       "      <td>1990</td>\n",
       "      <td>1.12</td>\n",
       "      <td>0.18</td>\n",
       "      <td>0.61</td>\n",
       "    </tr>\n",
       "    <tr>\n",
       "      <th>20</th>\n",
       "      <td>NaN</td>\n",
       "      <td>1989</td>\n",
       "      <td>1.10</td>\n",
       "      <td>0.17</td>\n",
       "      <td>0.60</td>\n",
       "    </tr>\n",
       "    <tr>\n",
       "      <th>21</th>\n",
       "      <td>NaN</td>\n",
       "      <td>1988</td>\n",
       "      <td>1.10</td>\n",
       "      <td>0.18</td>\n",
       "      <td>0.61</td>\n",
       "    </tr>\n",
       "    <tr>\n",
       "      <th>22</th>\n",
       "      <td>NaN</td>\n",
       "      <td>1987</td>\n",
       "      <td>1.10</td>\n",
       "      <td>0.18</td>\n",
       "      <td>0.61</td>\n",
       "    </tr>\n",
       "    <tr>\n",
       "      <th>23</th>\n",
       "      <td>NaN</td>\n",
       "      <td>1986</td>\n",
       "      <td>1.09</td>\n",
       "      <td>0.18</td>\n",
       "      <td>0.64</td>\n",
       "    </tr>\n",
       "    <tr>\n",
       "      <th>24</th>\n",
       "      <td>NaN</td>\n",
       "      <td>1985</td>\n",
       "      <td>1.06</td>\n",
       "      <td>0.17</td>\n",
       "      <td>0.67</td>\n",
       "    </tr>\n",
       "    <tr>\n",
       "      <th>25</th>\n",
       "      <td>NaN</td>\n",
       "      <td>1984</td>\n",
       "      <td>1.02</td>\n",
       "      <td>0.19</td>\n",
       "      <td>0.69</td>\n",
       "    </tr>\n",
       "    <tr>\n",
       "      <th>26</th>\n",
       "      <td>NaN</td>\n",
       "      <td>1983</td>\n",
       "      <td>1.01</td>\n",
       "      <td>0.17</td>\n",
       "      <td>0.71</td>\n",
       "    </tr>\n",
       "    <tr>\n",
       "      <th>27</th>\n",
       "      <td>NaN</td>\n",
       "      <td>1982</td>\n",
       "      <td>1.00</td>\n",
       "      <td>0.18</td>\n",
       "      <td>0.72</td>\n",
       "    </tr>\n",
       "    <tr>\n",
       "      <th>28</th>\n",
       "      <td>NaN</td>\n",
       "      <td>1981</td>\n",
       "      <td>1.00</td>\n",
       "      <td>0.19</td>\n",
       "      <td>0.73</td>\n",
       "    </tr>\n",
       "    <tr>\n",
       "      <th>29</th>\n",
       "      <td>NaN</td>\n",
       "      <td>1980</td>\n",
       "      <td>0.96</td>\n",
       "      <td>0.16</td>\n",
       "      <td>0.74</td>\n",
       "    </tr>\n",
       "    <tr>\n",
       "      <th>...</th>\n",
       "      <td>...</td>\n",
       "      <td>...</td>\n",
       "      <td>...</td>\n",
       "      <td>...</td>\n",
       "      <td>...</td>\n",
       "    </tr>\n",
       "    <tr>\n",
       "      <th>1653</th>\n",
       "      <td>NaN</td>\n",
       "      <td>2006</td>\n",
       "      <td>1.47</td>\n",
       "      <td>0.23</td>\n",
       "      <td>1.05</td>\n",
       "    </tr>\n",
       "    <tr>\n",
       "      <th>1654</th>\n",
       "      <td>NaN</td>\n",
       "      <td>2005</td>\n",
       "      <td>1.21</td>\n",
       "      <td>0.23</td>\n",
       "      <td>0.97</td>\n",
       "    </tr>\n",
       "    <tr>\n",
       "      <th>1655</th>\n",
       "      <td>NaN</td>\n",
       "      <td>2004</td>\n",
       "      <td>1.41</td>\n",
       "      <td>0.22</td>\n",
       "      <td>0.92</td>\n",
       "    </tr>\n",
       "    <tr>\n",
       "      <th>1656</th>\n",
       "      <td>NaN</td>\n",
       "      <td>2003</td>\n",
       "      <td>1.69</td>\n",
       "      <td>0.23</td>\n",
       "      <td>0.90</td>\n",
       "    </tr>\n",
       "    <tr>\n",
       "      <th>1657</th>\n",
       "      <td>NaN</td>\n",
       "      <td>2002</td>\n",
       "      <td>1.46</td>\n",
       "      <td>0.22</td>\n",
       "      <td>0.88</td>\n",
       "    </tr>\n",
       "    <tr>\n",
       "      <th>1658</th>\n",
       "      <td>NaN</td>\n",
       "      <td>2001</td>\n",
       "      <td>1.43</td>\n",
       "      <td>0.22</td>\n",
       "      <td>0.88</td>\n",
       "    </tr>\n",
       "    <tr>\n",
       "      <th>1659</th>\n",
       "      <td>NaN</td>\n",
       "      <td>2000</td>\n",
       "      <td>1.42</td>\n",
       "      <td>0.18</td>\n",
       "      <td>0.86</td>\n",
       "    </tr>\n",
       "    <tr>\n",
       "      <th>1660</th>\n",
       "      <td>NaN</td>\n",
       "      <td>1999</td>\n",
       "      <td>1.41</td>\n",
       "      <td>0.18</td>\n",
       "      <td>0.84</td>\n",
       "    </tr>\n",
       "    <tr>\n",
       "      <th>1661</th>\n",
       "      <td>NaN</td>\n",
       "      <td>1998</td>\n",
       "      <td>1.38</td>\n",
       "      <td>0.20</td>\n",
       "      <td>0.81</td>\n",
       "    </tr>\n",
       "    <tr>\n",
       "      <th>1662</th>\n",
       "      <td>NaN</td>\n",
       "      <td>1997</td>\n",
       "      <td>1.36</td>\n",
       "      <td>0.17</td>\n",
       "      <td>0.81</td>\n",
       "    </tr>\n",
       "    <tr>\n",
       "      <th>1663</th>\n",
       "      <td>NaN</td>\n",
       "      <td>1996</td>\n",
       "      <td>1.37</td>\n",
       "      <td>0.16</td>\n",
       "      <td>0.81</td>\n",
       "    </tr>\n",
       "    <tr>\n",
       "      <th>1664</th>\n",
       "      <td>NaN</td>\n",
       "      <td>1995</td>\n",
       "      <td>1.34</td>\n",
       "      <td>0.16</td>\n",
       "      <td>0.80</td>\n",
       "    </tr>\n",
       "    <tr>\n",
       "      <th>1665</th>\n",
       "      <td>NaN</td>\n",
       "      <td>1994</td>\n",
       "      <td>1.42</td>\n",
       "      <td>0.18</td>\n",
       "      <td>0.83</td>\n",
       "    </tr>\n",
       "    <tr>\n",
       "      <th>1666</th>\n",
       "      <td>NaN</td>\n",
       "      <td>1993</td>\n",
       "      <td>1.40</td>\n",
       "      <td>0.19</td>\n",
       "      <td>0.86</td>\n",
       "    </tr>\n",
       "    <tr>\n",
       "      <th>1667</th>\n",
       "      <td>NaN</td>\n",
       "      <td>1992</td>\n",
       "      <td>1.44</td>\n",
       "      <td>0.20</td>\n",
       "      <td>0.91</td>\n",
       "    </tr>\n",
       "    <tr>\n",
       "      <th>1668</th>\n",
       "      <td>NaN</td>\n",
       "      <td>1991</td>\n",
       "      <td>1.45</td>\n",
       "      <td>0.20</td>\n",
       "      <td>0.90</td>\n",
       "    </tr>\n",
       "    <tr>\n",
       "      <th>1669</th>\n",
       "      <td>NaN</td>\n",
       "      <td>1990</td>\n",
       "      <td>1.48</td>\n",
       "      <td>0.22</td>\n",
       "      <td>0.93</td>\n",
       "    </tr>\n",
       "    <tr>\n",
       "      <th>1670</th>\n",
       "      <td>NaN</td>\n",
       "      <td>1989</td>\n",
       "      <td>1.35</td>\n",
       "      <td>0.22</td>\n",
       "      <td>0.82</td>\n",
       "    </tr>\n",
       "    <tr>\n",
       "      <th>1671</th>\n",
       "      <td>NaN</td>\n",
       "      <td>1988</td>\n",
       "      <td>1.39</td>\n",
       "      <td>0.23</td>\n",
       "      <td>0.83</td>\n",
       "    </tr>\n",
       "    <tr>\n",
       "      <th>1672</th>\n",
       "      <td>NaN</td>\n",
       "      <td>1987</td>\n",
       "      <td>1.46</td>\n",
       "      <td>0.24</td>\n",
       "      <td>0.86</td>\n",
       "    </tr>\n",
       "    <tr>\n",
       "      <th>1673</th>\n",
       "      <td>NaN</td>\n",
       "      <td>1986</td>\n",
       "      <td>1.46</td>\n",
       "      <td>0.26</td>\n",
       "      <td>0.92</td>\n",
       "    </tr>\n",
       "    <tr>\n",
       "      <th>1674</th>\n",
       "      <td>NaN</td>\n",
       "      <td>1985</td>\n",
       "      <td>1.56</td>\n",
       "      <td>0.25</td>\n",
       "      <td>1.03</td>\n",
       "    </tr>\n",
       "    <tr>\n",
       "      <th>1675</th>\n",
       "      <td>NaN</td>\n",
       "      <td>1984</td>\n",
       "      <td>1.58</td>\n",
       "      <td>0.22</td>\n",
       "      <td>1.05</td>\n",
       "    </tr>\n",
       "    <tr>\n",
       "      <th>1676</th>\n",
       "      <td>NaN</td>\n",
       "      <td>1983</td>\n",
       "      <td>1.66</td>\n",
       "      <td>0.22</td>\n",
       "      <td>1.09</td>\n",
       "    </tr>\n",
       "    <tr>\n",
       "      <th>1677</th>\n",
       "      <td>NaN</td>\n",
       "      <td>1982</td>\n",
       "      <td>1.80</td>\n",
       "      <td>0.24</td>\n",
       "      <td>1.21</td>\n",
       "    </tr>\n",
       "    <tr>\n",
       "      <th>1678</th>\n",
       "      <td>NaN</td>\n",
       "      <td>1981</td>\n",
       "      <td>1.91</td>\n",
       "      <td>0.24</td>\n",
       "      <td>1.27</td>\n",
       "    </tr>\n",
       "    <tr>\n",
       "      <th>1679</th>\n",
       "      <td>NaN</td>\n",
       "      <td>1980</td>\n",
       "      <td>1.85</td>\n",
       "      <td>0.24</td>\n",
       "      <td>1.32</td>\n",
       "    </tr>\n",
       "    <tr>\n",
       "      <th>1680</th>\n",
       "      <td>NaN</td>\n",
       "      <td>1979</td>\n",
       "      <td>1.86</td>\n",
       "      <td>0.22</td>\n",
       "      <td>1.30</td>\n",
       "    </tr>\n",
       "    <tr>\n",
       "      <th>1681</th>\n",
       "      <td>NaN</td>\n",
       "      <td>1978</td>\n",
       "      <td>1.82</td>\n",
       "      <td>0.22</td>\n",
       "      <td>1.36</td>\n",
       "    </tr>\n",
       "    <tr>\n",
       "      <th>1682</th>\n",
       "      <td>NaN</td>\n",
       "      <td>1977</td>\n",
       "      <td>1.79</td>\n",
       "      <td>0.21</td>\n",
       "      <td>1.32</td>\n",
       "    </tr>\n",
       "  </tbody>\n",
       "</table>\n",
       "<p>1683 rows × 5 columns</p>\n",
       "</div>"
      ],
      "text/plain": [
       "        State  Year  Beer  Wine  Spirits\n",
       "0     Alabama  2009  1.20  0.22     0.58\n",
       "1         NaN  2008  1.24  0.22     0.58\n",
       "2         NaN  2007  1.24  0.22     0.56\n",
       "3         NaN  2006  1.22  0.21     0.55\n",
       "4         NaN  2005  1.18  0.20     0.53\n",
       "5         NaN  2004  1.19  0.20     0.52\n",
       "6         NaN  2003  1.18  0.19     0.52\n",
       "7         NaN  2002  1.18  0.21     0.53\n",
       "8         NaN  2001  1.16  0.17     0.53\n",
       "9         NaN  2000  1.19  0.18     0.51\n",
       "10        NaN  1999  1.18  0.17     0.51\n",
       "11        NaN  1998  1.16  0.17     0.51\n",
       "12        NaN  1997  1.14  0.15     0.52\n",
       "13        NaN  1996  1.17  0.15     0.53\n",
       "14        NaN  1995  1.14  0.15     0.53\n",
       "15        NaN  1994  1.16  0.17     0.54\n",
       "16        NaN  1993  1.14  0.17     0.56\n",
       "17        NaN  1992  1.02  0.19     0.59\n",
       "18        NaN  1991  1.00  0.17     0.59\n",
       "19        NaN  1990  1.12  0.18     0.61\n",
       "20        NaN  1989  1.10  0.17     0.60\n",
       "21        NaN  1988  1.10  0.18     0.61\n",
       "22        NaN  1987  1.10  0.18     0.61\n",
       "23        NaN  1986  1.09  0.18     0.64\n",
       "24        NaN  1985  1.06  0.17     0.67\n",
       "25        NaN  1984  1.02  0.19     0.69\n",
       "26        NaN  1983  1.01  0.17     0.71\n",
       "27        NaN  1982  1.00  0.18     0.72\n",
       "28        NaN  1981  1.00  0.19     0.73\n",
       "29        NaN  1980  0.96  0.16     0.74\n",
       "...       ...   ...   ...   ...      ...\n",
       "1653      NaN  2006  1.47  0.23     1.05\n",
       "1654      NaN  2005  1.21  0.23     0.97\n",
       "1655      NaN  2004  1.41  0.22     0.92\n",
       "1656      NaN  2003  1.69  0.23     0.90\n",
       "1657      NaN  2002  1.46  0.22     0.88\n",
       "1658      NaN  2001  1.43  0.22     0.88\n",
       "1659      NaN  2000  1.42  0.18     0.86\n",
       "1660      NaN  1999  1.41  0.18     0.84\n",
       "1661      NaN  1998  1.38  0.20     0.81\n",
       "1662      NaN  1997  1.36  0.17     0.81\n",
       "1663      NaN  1996  1.37  0.16     0.81\n",
       "1664      NaN  1995  1.34  0.16     0.80\n",
       "1665      NaN  1994  1.42  0.18     0.83\n",
       "1666      NaN  1993  1.40  0.19     0.86\n",
       "1667      NaN  1992  1.44  0.20     0.91\n",
       "1668      NaN  1991  1.45  0.20     0.90\n",
       "1669      NaN  1990  1.48  0.22     0.93\n",
       "1670      NaN  1989  1.35  0.22     0.82\n",
       "1671      NaN  1988  1.39  0.23     0.83\n",
       "1672      NaN  1987  1.46  0.24     0.86\n",
       "1673      NaN  1986  1.46  0.26     0.92\n",
       "1674      NaN  1985  1.56  0.25     1.03\n",
       "1675      NaN  1984  1.58  0.22     1.05\n",
       "1676      NaN  1983  1.66  0.22     1.09\n",
       "1677      NaN  1982  1.80  0.24     1.21\n",
       "1678      NaN  1981  1.91  0.24     1.27\n",
       "1679      NaN  1980  1.85  0.24     1.32\n",
       "1680      NaN  1979  1.86  0.22     1.30\n",
       "1681      NaN  1978  1.82  0.22     1.36\n",
       "1682      NaN  1977  1.79  0.21     1.32\n",
       "\n",
       "[1683 rows x 5 columns]"
      ]
     },
     "execution_count": 120,
     "metadata": {},
     "output_type": "execute_result"
    }
   ],
   "source": [
    "alco=pd.read_csv(\"./data.csv\")\n",
    "state = \"\"\n",
    "test=[]\n",
    "for a in alco.itertuples():\n",
    "    if isinstance(a.State, float) == False:\n",
    "        state = a.State\n",
    "    test.append(list([state, a.Year]))\n",
    "alco"
   ]
  },
  {
   "cell_type": "code",
   "execution_count": 121,
   "metadata": {},
   "outputs": [],
   "source": [
    "multi = pd.MultiIndex.from_tuples(test, names=[\"State\",\"Year\"])\n",
    "alco.drop(['Year',\"State\"], axis=1, inplace=True)\n",
    "alco.index=multi"
   ]
  },
  {
   "cell_type": "code",
   "execution_count": 122,
   "metadata": {},
   "outputs": [
    {
     "ename": "PicklingError",
     "evalue": "Can't pickle <class 'pandas.core.frame.Pandas'>: attribute lookup Pandas on pandas.core.frame failed",
     "output_type": "error",
     "traceback": [
      "\u001b[1;31m---------------------------------------------------------------------------\u001b[0m",
      "\u001b[1;31mPicklingError\u001b[0m                             Traceback (most recent call last)",
      "\u001b[1;32m<ipython-input-122-6ed18feef8f9>\u001b[0m in \u001b[0;36m<module>\u001b[1;34m()\u001b[0m\n\u001b[0;32m      1\u001b[0m \u001b[1;32mimport\u001b[0m \u001b[0mpickle\u001b[0m\u001b[1;33m\u001b[0m\u001b[0m\n\u001b[0;32m      2\u001b[0m \u001b[1;32mwith\u001b[0m \u001b[0mopen\u001b[0m\u001b[1;33m(\u001b[0m\u001b[1;34m\"alco.pickle\"\u001b[0m\u001b[1;33m,\u001b[0m\u001b[1;34m\"wb\"\u001b[0m\u001b[1;33m)\u001b[0m \u001b[1;32mas\u001b[0m \u001b[0moFile\u001b[0m\u001b[1;33m:\u001b[0m\u001b[1;33m\u001b[0m\u001b[0m\n\u001b[1;32m----> 3\u001b[1;33m     \u001b[0mpickle\u001b[0m\u001b[1;33m.\u001b[0m\u001b[0mdump\u001b[0m\u001b[1;33m(\u001b[0m\u001b[0mdata\u001b[0m\u001b[1;33m,\u001b[0m \u001b[0moFile\u001b[0m\u001b[1;33m)\u001b[0m\u001b[1;33m\u001b[0m\u001b[0m\n\u001b[0m",
      "\u001b[1;31mPicklingError\u001b[0m: Can't pickle <class 'pandas.core.frame.Pandas'>: attribute lookup Pandas on pandas.core.frame failed"
     ]
    }
   ],
   "source": [
    "import pickle\n",
    "with open(\"alco.pickle\",\"wb\") as oFile:\n",
    "    pickle.dump(alco, oFile)"
   ]
  },
  {
   "cell_type": "code",
   "execution_count": null,
   "metadata": {},
   "outputs": [],
   "source": [
    "alco.ix['Wyoming'].head()"
   ]
  },
  {
   "cell_type": "code",
   "execution_count": null,
   "metadata": {},
   "outputs": [],
   "source": [
    "alco.ix['Wyoming', 1999]"
   ]
  },
  {
   "cell_type": "code",
   "execution_count": null,
   "metadata": {},
   "outputs": [],
   "source": [
    "tall_alco = alco.stack()\n",
    "tall_alco.index.names = ['State','Year','Drink']\n",
    "tall_alco.head()"
   ]
  },
  {
   "cell_type": "code",
   "execution_count": null,
   "metadata": {},
   "outputs": [],
   "source": [
    "wide_alco = alco.unstack()\n",
    "wide_alco.head()"
   ]
  },
  {
   "cell_type": "markdown",
   "metadata": {},
   "source": [
    "<body>\n",
    "    <section style=\"background-color:White; font-family:Georgia;text-align:center\">\n",
    "        <h2 style=\"font-family:Garamond; color:solid #229954\">Unit 33</h2>\n",
    "        <h3 style=\"font-family:Garamond;\">Handling Missing Data</h3>\n",
    "        <hr/>\n",
    "    </section>\n",
    "</body>"
   ]
  },
  {
   "cell_type": "code",
   "execution_count": null,
   "metadata": {},
   "outputs": [],
   "source": [
    "nan_alco.dropna(how=\"all\")"
   ]
  },
  {
   "cell_type": "code",
   "execution_count": null,
   "metadata": {},
   "outputs": [],
   "source": [
    "nan_alco.dropna(how=\"all\", axis=1)\n"
   ]
  },
  {
   "cell_type": "code",
   "execution_count": null,
   "metadata": {},
   "outputs": [],
   "source": [
    "nan_alco.dropna()"
   ]
  },
  {
   "cell_type": "code",
   "execution_count": null,
   "metadata": {},
   "outputs": [],
   "source": [
    "nan_alco.isnull()\n"
   ]
  },
  {
   "cell_type": "code",
   "execution_count": null,
   "metadata": {},
   "outputs": [],
   "source": [
    "nan_alco.notnull()"
   ]
  },
  {
   "cell_type": "code",
   "execution_count": null,
   "metadata": {},
   "outputs": [],
   "source": [
    "sp = nan_alco['Spirits'] # Selected a column with dirty rows\n",
    "clean = sp.notnull() # The clean rows\n",
    "sp[-clean] = sp[clean].mean() # Impute the clean mean into the dirty rows\n",
    "nan_alco\n"
   ]
  },
  {
   "cell_type": "code",
   "execution_count": null,
   "metadata": {},
   "outputs": [],
   "source": [
    "nan_alco.fillna(0)\n"
   ]
  },
  {
   "cell_type": "code",
   "execution_count": null,
   "metadata": {},
   "outputs": [],
   "source": [
    "nan_alco.fillna(method=\"ffill\")"
   ]
  },
  {
   "cell_type": "markdown",
   "metadata": {},
   "source": [
    "<body>\n",
    "    <section style=\"background-color:White; font-family:Georgia;text-align:center\">\n",
    "        <h2 style=\"font-family:Garamond; color:solid #229954\">Unit 34</h2>\n",
    "        <h3 style=\"font-family:Garamond;\">Combining Data</h3>\n",
    "        <hr/>\n",
    "    </section>\n",
    "</body>"
   ]
  },
  {
   "cell_type": "code",
   "execution_count": null,
   "metadata": {},
   "outputs": [],
   "source": [
    "population=pd.read_csv(\"./population.csv\",thousands=',')\n",
    "population=population.set_index(\"State\")\n",
    "alco2009.drop(columns=\"Total\",inplace=True)"
   ]
  },
  {
   "cell_type": "code",
   "execution_count": null,
   "metadata": {},
   "outputs": [],
   "source": [
    "population.head()"
   ]
  },
  {
   "cell_type": "code",
   "execution_count": null,
   "metadata": {},
   "outputs": [],
   "source": [
    "df = pd.merge(alco2009.reset_index(),\n",
    "population.reset_index()).set_index(\"State\")\n",
    "df.head()"
   ]
  },
  {
   "cell_type": "code",
   "execution_count": null,
   "metadata": {},
   "outputs": [],
   "source": [
    "df = pd.merge(alco2009, population, left_index=True, right_index=True)\n",
    "df.head()\n"
   ]
  },
  {
   "cell_type": "code",
   "execution_count": null,
   "metadata": {},
   "outputs": [],
   "source": [
    "population.join(alco2009).tail(10)"
   ]
  },
  {
   "cell_type": "code",
   "execution_count": null,
   "metadata": {},
   "outputs": [],
   "source": [
    "pd.concat([alco2009, population], axis=1).tail()"
   ]
  },
  {
   "cell_type": "code",
   "execution_count": null,
   "metadata": {},
   "outputs": [],
   "source": [
    "pop_ca=pd.read_csv(\"./1710000501-eng.csv\",thousands=',')\n",
    "pop_ca.set_index(\"State\", inplace=True)\n",
    "pop_ca.head()"
   ]
  },
  {
   "cell_type": "code",
   "execution_count": null,
   "metadata": {},
   "outputs": [],
   "source": [
    "pop_na = pd.concat([population, pop_ca], keys=[\"US\", \"CA\"])\n",
    "pop_na.index.names = (\"Country\", \"State\")\n",
    "pop_na"
   ]
  },
  {
   "cell_type": "markdown",
   "metadata": {},
   "source": [
    "<body>\n",
    "    <section style=\"background-color:White; font-family:Georgia;text-align:center\">\n",
    "        <h2 style=\"font-family:Garamond; color:solid #229954\">Unit 35</h2>\n",
    "        <h3 style=\"font-family:Garamond;\">Ordering and Describing Data</h3>\n",
    "        <hr/>\n",
    "    </section>\n",
    "</body>"
   ]
  },
  {
   "cell_type": "code",
   "execution_count": null,
   "metadata": {},
   "outputs": [],
   "source": [
    "population.sort_index().head()\n"
   ]
  },
  {
   "cell_type": "code",
   "execution_count": null,
   "metadata": {},
   "outputs": [],
   "source": [
    "population.sort_values(\"Population\").head()"
   ]
  },
  {
   "cell_type": "code",
   "execution_count": null,
   "metadata": {},
   "outputs": [],
   "source": [
    "pop_by_state = population.sort_index()\n",
    "pop_by_state.rank().head()\n"
   ]
  },
  {
   "cell_type": "code",
   "execution_count": null,
   "metadata": {},
   "outputs": [],
   "source": [
    "alco2009.max()"
   ]
  },
  {
   "cell_type": "code",
   "execution_count": null,
   "metadata": {},
   "outputs": [],
   "source": [
    "alco2009.min(axis=1)"
   ]
  },
  {
   "cell_type": "code",
   "execution_count": null,
   "metadata": {},
   "outputs": [],
   "source": [
    "alco2009.sum()"
   ]
  },
  {
   "cell_type": "code",
   "execution_count": null,
   "metadata": {},
   "outputs": [],
   "source": [
    "alco.ix['Hawaii'].cumsum().head()"
   ]
  },
  {
   "cell_type": "code",
   "execution_count": null,
   "metadata": {},
   "outputs": [],
   "source": [
    "alco.ix['Hawaii'].diff().head()"
   ]
  },
  {
   "cell_type": "code",
   "execution_count": null,
   "metadata": {},
   "outputs": [],
   "source": [
    "dna = \"AGTCCGCGAATACAGGCTCGGT\"\n",
    "dna_as_series = pd.Series(list(dna), name=\"genes\")\n",
    "dna_as_series.head()"
   ]
  },
  {
   "cell_type": "code",
   "execution_count": null,
   "metadata": {},
   "outputs": [],
   "source": [
    "dna_as_series.unique()\n"
   ]
  },
  {
   "cell_type": "code",
   "execution_count": null,
   "metadata": {},
   "outputs": [],
   "source": [
    "dna_as_series.value_counts().sort_index()\n"
   ]
  },
  {
   "cell_type": "code",
   "execution_count": null,
   "metadata": {},
   "outputs": [],
   "source": [
    "valid_nucs = list(\"ACGT\")\n",
    "dna_as_series.isin(valid_nucs).all()"
   ]
  },
  {
   "cell_type": "markdown",
   "metadata": {},
   "source": [
    "<body>\n",
    "    <section style=\"background-color:White; font-family:Georgia;text-align:center\">\n",
    "        <h2 style=\"font-family:Garamond; color:solid #229954\">Unit 36</h2>\n",
    "        <h3 style=\"font-family:Garamond;\">Transforming Data</h3>\n",
    "        <hr/>\n",
    "    </section>\n",
    "</body>"
   ]
  },
  {
   "cell_type": "code",
   "execution_count": null,
   "metadata": {},
   "outputs": [],
   "source": [
    "alco[\"Total\"] = alco.Wine + alco.Spirits + alco.Beer\n",
    "alco.head()"
   ]
  },
  {
   "cell_type": "code",
   "execution_count": null,
   "metadata": {},
   "outputs": [],
   "source": [
    "np.log10(alco.Total).head()"
   ]
  },
  {
   "cell_type": "code",
   "execution_count": null,
   "metadata": {},
   "outputs": [],
   "source": [
    "dna = \"AGTCCGCGAATACAGGCTCGGT\"\n",
    "dna1 = dna.replace(\"C\", \"\")\n",
    "dna2 = dna.replace(\"T\", \"\")\n",
    "dna_as_series1 = pd.Series(list(dna1), name=\"genes\") # No C's\n",
    "dna_as_series2 = pd.Series(list(dna2), name=\"genes\") # No T's\n",
    "dna_as_series1.value_counts() + dna_as_series2.value_counts()\n"
   ]
  },
  {
   "cell_type": "code",
   "execution_count": null,
   "metadata": {},
   "outputs": [],
   "source": [
    "# We want to group by the \"Year\" column\n",
    "alco_noidx = alco.reset_index()\n",
    "sum_alco = alco_noidx.groupby(\"Year\").sum()\n",
    "sum_alco.tail()"
   ]
  },
  {
   "cell_type": "code",
   "execution_count": null,
   "metadata": {},
   "outputs": [],
   "source": [
    "regions=pd.read_csv(\"./regions.csv\")\n",
    "state2reg = dict()\n",
    "for data in regions.itertuples():\n",
    "    state2reg.update({data.state:data.Region})"
   ]
  },
  {
   "cell_type": "code",
   "execution_count": null,
   "metadata": {},
   "outputs": [],
   "source": [
    "state2reg"
   ]
  },
  {
   "cell_type": "code",
   "execution_count": null,
   "metadata": {},
   "outputs": [],
   "source": [
    "alco2009.groupby(state2reg).mean()"
   ]
  },
  {
   "cell_type": "code",
   "execution_count": null,
   "metadata": {},
   "outputs": [],
   "source": [
    "cats = pd.cut(alco2009['Wine'], 3).head()\n",
    "cats"
   ]
  },
  {
   "cell_type": "code",
   "execution_count": null,
   "metadata": {},
   "outputs": [],
   "source": [
    "cats = pd.cut(alco2009['Wine'], 3, labels=(\"Low\", \"Moderate\", \"Heavy\"))\n",
    "cats.head()"
   ]
  },
  {
   "cell_type": "code",
   "execution_count": null,
   "metadata": {},
   "outputs": [],
   "source": [
    "cats = pd.cut(alco2009['Wine'], 3, labels=False).head()\n",
    "cats"
   ]
  },
  {
   "cell_type": "code",
   "execution_count": null,
   "metadata": {},
   "outputs": [],
   "source": [
    "quants = pd.qcut(alco2009['Wine'], 3, labels=(\"Low\", \"Moderate\", \"Heavy\"))\n",
    "quants.head()"
   ]
  },
  {
   "cell_type": "code",
   "execution_count": null,
   "metadata": {},
   "outputs": [],
   "source": [
    "pd.get_dummies(state2reg).sort_index().head()"
   ]
  },
  {
   "cell_type": "code",
   "execution_count": null,
   "metadata": {},
   "outputs": [],
   "source": [
    "with_state = alco2009.reset_index()\n",
    "abbrevs = with_state[\"State\"].map(lambda x: x[:3].upper())\n",
    "abbrevs.head()"
   ]
  },
  {
   "cell_type": "code",
   "execution_count": null,
   "metadata": {},
   "outputs": [],
   "source": [
    "wine_state = alco2009[\"Wine\"] > alco2009[\"Wine\"].mean()\n",
    "beer_state = alco2009[\"Beer\"] > alco2009[\"Beer\"].mean()\n",
    "pd.crosstab(wine_state, beer_state)"
   ]
  },
  {
   "cell_type": "markdown",
   "metadata": {},
   "source": [
    "<body>\n",
    "    <section style=\"background-color:White; font-family:Georgia;text-align:center\">\n",
    "        <h2 style=\"font-family:Garamond; color:solid #229954\">Unit 37</h2>\n",
    "        <h3 style=\"font-family:Garamond;\">Taming Pandas File I/O</h3>\n",
    "        <hr/>\n",
    "    </section>\n",
    "</body>"
   ]
  },
  {
   "cell_type": "code",
   "execution_count": null,
   "metadata": {},
   "outputs": [],
   "source": [
    "regions = pd.read_csv(\"original_regions.csv\",\n",
    "header=None,\n",
    "names=(\"region\", \"division\", \"state\"))\n",
    "state2reg_series = regions.ffill().set_index(\"state\")[\"region\"]\n",
    "state2reg_series.head()"
   ]
  },
  {
   "cell_type": "code",
   "execution_count": null,
   "metadata": {},
   "outputs": [],
   "source": [
    "state2reg = state2reg_series.to_dict()\n",
    "state2reg"
   ]
  },
  {
   "cell_type": "markdown",
   "metadata": {},
   "source": []
  },
  {
   "cell_type": "markdown",
   "metadata": {},
   "source": [
    "<body>\n",
    "    <section style=\"border:1px solid RoyalBlue;\">\n",
    "        <section style=\"background-color:White; font-family:Georgia;text-align:center\">\n",
    "            <h1 style=\"color:RoyalBlue\">Lynx Trappings</h1><br/>\n",
    "            <h2 style=\"color:RoyalBlue\">Section \"Your Turn\"</h2><br/>\n",
    "            <h2 style=\"color:RoyalBlue\">Chapter 6</h2><br/>\n",
    "            <h2 style=\"color:RoyalBlue\">Page: 119</h2><br/>\n",
    "        </section>\n",
    "    </section>\n",
    "</body>"
   ]
  },
  {
   "cell_type": "markdown",
   "metadata": {},
   "source": [
    "<body>\n",
    "    <section style=\"background-color:White; font-family:Georgia;text-align:center\">\n",
    "        <h2 style=\"font-family:Garamond; color:solid #229954\">Step 1</h2>\n",
    "        <h3 style=\"font-family:Garamond;\">Import Libraries, making input directory and saving file</h3>\n",
    "    </section>        <hr/>\n",
    "\n",
    "</body>"
   ]
  },
  {
   "cell_type": "code",
   "execution_count": null,
   "metadata": {},
   "outputs": [],
   "source": [
    "import os\n",
    "import urllib\n",
    "import pandas as pd\n",
    "import numpy as np\n",
    "inFilePath=\"./cache\"\n",
    "if not os.path.exists(inFilePath):\n",
    "    print(\"Directory \",inFilePath,\" doesn't exist. Creating it\")\n",
    "    os.mkdir(inFilePath)\n",
    "else:\n",
    "    print(\"Directory \",inFilePath,\" exist. Continuing\")\n",
    "\n",
    "fileToWork = urllib.request.URLopener()\n",
    "fileToWork.retrieve(\"http://vincentarelbundock.github.io/Rdatasets/csv/datasets/lynx.csv\", inFilePath+\"/lynx.csv\")\n"
   ]
  },
  {
   "cell_type": "markdown",
   "metadata": {},
   "source": [
    "<body>\n",
    "    <section style=\"background-color:White; font-family:Georgia;text-align:center\">\n",
    "        <h2 style=\"font-family:Garamond; color:solid #229954\">Step 2</h2>\n",
    "        <h3 style=\"font-family:Garamond;\">Read data and save it as a DataFrame</h3>\n",
    "    </section>        <hr/>\n",
    "\n",
    "</body>"
   ]
  },
  {
   "cell_type": "code",
   "execution_count": null,
   "metadata": {},
   "outputs": [],
   "source": [
    "data = pd.read_csv(inFilePath+\"/lynx.csv\",index_col=0)\n",
    "data.head()"
   ]
  },
  {
   "cell_type": "markdown",
   "metadata": {},
   "source": [
    "<body>\n",
    "    <section style=\"background-color:White; font-family:Georgia;text-align:center\">\n",
    "        <h2 style=\"font-family:Garamond; color:solid #229954\">Step 3</h2>\n",
    "        <h3 style=\"font-family:Garamond;\">Generate a new column for decades</h3>\n",
    "    </section>        <hr/>\n",
    "\n",
    "</body>"
   ]
  },
  {
   "cell_type": "code",
   "execution_count": null,
   "metadata": {},
   "outputs": [],
   "source": [
    "data[\"decade\"]=((np.trunc((data.time/10)))*10).astype(int)\n",
    "data.head()"
   ]
  },
  {
   "cell_type": "markdown",
   "metadata": {},
   "source": [
    "<body>\n",
    "    <section style=\"background-color:White; font-family:Georgia;text-align:center\">\n",
    "        <h2 style=\"font-family:Garamond; color:solid #229954\">Step 4</h2>\n",
    "        <h3 style=\"font-family:Garamond;\">Rearrange columns</h3>\n",
    "    </section>        <hr/>\n",
    "\n",
    "</body>"
   ]
  },
  {
   "cell_type": "code",
   "execution_count": null,
   "metadata": {},
   "outputs": [],
   "source": [
    "data=data[['decade', 'time', 'value']]\n",
    "data.head()"
   ]
  },
  {
   "cell_type": "markdown",
   "metadata": {},
   "source": [
    "<body>\n",
    "    <section style=\"background-color:White; font-family:Georgia;text-align:center\">\n",
    "        <h2 style=\"font-family:Garamond; color:solid #229954\">Step 5</h2>\n",
    "        <h3 style=\"font-family:Garamond;\">Set decade as index</h3>\n",
    "    </section>        <hr/>\n",
    "\n",
    "</body>"
   ]
  },
  {
   "cell_type": "code",
   "execution_count": null,
   "metadata": {},
   "outputs": [],
   "source": [
    "data=data.set_index(\"decade\")\n",
    "data.head()"
   ]
  },
  {
   "cell_type": "markdown",
   "metadata": {},
   "source": [
    "<body>\n",
    "    <section style=\"background-color:White; font-family:Georgia;text-align:center\">\n",
    "        <h2 style=\"font-family:Garamond; color:solid #229954\">Step 6</h2>\n",
    "        <h3 style=\"font-family:Garamond;\">Make new dictionary for final data</h3>\n",
    "    </section>        <hr/>\n",
    "\n",
    "</body>"
   ]
  },
  {
   "cell_type": "code",
   "execution_count": null,
   "metadata": {},
   "outputs": [],
   "source": [
    "res = {}\n",
    "for dec in list(set(data.index.values)):\n",
    "    res[dec]=(data.ix[dec].value.sum())\n",
    "res"
   ]
  },
  {
   "cell_type": "markdown",
   "metadata": {},
   "source": [
    "<body>\n",
    "    <section style=\"background-color:White; font-family:Georgia;text-align:center\">\n",
    "        <h2 style=\"font-family:Garamond; color:solid #229954\">Step 7</h2>\n",
    "        <h3 style=\"font-family:Garamond;\">Generate new DataFrame from Dictionary and sort it</h3>\n",
    "    </section>        <hr/>\n",
    "\n",
    "</body>"
   ]
  },
  {
   "cell_type": "code",
   "execution_count": null,
   "metadata": {},
   "outputs": [],
   "source": [
    "finalDF = pd.DataFrame.from_dict(res, orient='index',columns=['trappings'])\n",
    "finalDF.index.name = \"decade\"\n",
    "finalDF.sort_values(\"trappings\",ascending=False, inplace=True)\n",
    "finalDF"
   ]
  },
  {
   "cell_type": "markdown",
   "metadata": {},
   "source": [
    "<body>\n",
    "    <section style=\"background-color:White; font-family:Georgia;text-align:center\">\n",
    "        <h2 style=\"font-family:Garamond; color:solid #229954\">Step 8</h2>\n",
    "        <h3 style=\"font-family:Garamond;\">Make out directory</h3>\n",
    "    </section>        <hr/>\n",
    "\n",
    "</body>"
   ]
  },
  {
   "cell_type": "code",
   "execution_count": null,
   "metadata": {},
   "outputs": [],
   "source": [
    "outFilePath=\"./doc\"\n",
    "fileName=\"/result.csv\"\n",
    "if not os.path.exists(outFilePath):\n",
    "    print(\"Directory \",outFilePath,\" doesn't exist. Creating it\")\n",
    "    os.mkdir(outFilePath)\n",
    "else:\n",
    "    print(\"Directory \",outFilePath,\" exist. Continuing\")"
   ]
  },
  {
   "cell_type": "markdown",
   "metadata": {},
   "source": [
    "<body>\n",
    "    <section style=\"background-color:White; font-family:Georgia;text-align:center\">\n",
    "        <h2 style=\"font-family:Garamond; color:solid #229954\">Step 9</h2>\n",
    "        <h3 style=\"font-family:Garamond;\">Saving results to CSV file</h3>\n",
    "    </section>        <hr/>\n",
    "\n",
    "</body>"
   ]
  },
  {
   "cell_type": "code",
   "execution_count": null,
   "metadata": {},
   "outputs": [],
   "source": [
    "finalDF.to_csv(outFilePath+fileName)"
   ]
  },
  {
   "cell_type": "markdown",
   "metadata": {},
   "source": [
    "<body>\n",
    "    <section style=\"background-color:White; font-family:Georgia;text-align:center\">\n",
    "        <h2 style=\"font-family:Garamond; color:solid #229954\">Step 10</h2>\n",
    "        <h3 style=\"font-family:Garamond;\">Displaying results</h3>\n",
    "    </section>        <hr/>\n",
    "\n",
    "</body>"
   ]
  },
  {
   "cell_type": "code",
   "execution_count": null,
   "metadata": {},
   "outputs": [],
   "source": [
    "%matplotlib inline  \n",
    "\n",
    "import matplotlib.pyplot as plt\n",
    "finalDF.plot.bar()"
   ]
  },
  {
   "cell_type": "code",
   "execution_count": null,
   "metadata": {},
   "outputs": [],
   "source": []
  }
 ],
 "metadata": {
  "kernelspec": {
   "display_name": "Python 3",
   "language": "python",
   "name": "python3"
  },
  "language_info": {
   "codemirror_mode": {
    "name": "ipython",
    "version": 3
   },
   "file_extension": ".py",
   "mimetype": "text/x-python",
   "name": "python",
   "nbconvert_exporter": "python",
   "pygments_lexer": "ipython3",
   "version": "3.6.6"
  }
 },
 "nbformat": 4,
 "nbformat_minor": 2
}
