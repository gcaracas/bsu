{
 "cells": [
  {
   "cell_type": "markdown",
   "metadata": {},
   "source": [
    "### Gerardo Caracas Uribe<br>\n",
    "____\n",
    "Assigment: L2-Text Data<br>\n",
    "Date: 8/26/2018"
   ]
  },
  {
   "cell_type": "code",
   "execution_count": 1,
   "metadata": {},
   "outputs": [
    {
     "data": {
      "text/plain": [
       "'\\nMy Document\\nMain Text.\\n'"
      ]
     },
     "execution_count": 1,
     "metadata": {},
     "output_type": "execute_result"
    }
   ],
   "source": [
    "from bs4 import BeautifulSoup\n",
    "htmlString = '''\n",
    "<HTML>\n",
    "<HEAD><TITLE>My Document</TITLE></HEAD>\n",
    "<BODU>Main Text.</BODY></HTML>\n",
    "'''\n",
    "soup = BeautifulSoup(htmlString)\n",
    "soup.get_text()"
   ]
  },
  {
   "cell_type": "code",
   "execution_count": 3,
   "metadata": {},
   "outputs": [],
   "source": [
    "import urllib.request\n",
    "with urllib.request.urlopen(\"http://www.networksciencelab.com/\") as doc:\n",
    "    soup = BeautifulSoup(doc)\n",
    "links = [(link.string, link[\"href\"]) for link in soup.find_all(\"a\") if link.has_attr(\"href\")]"
   ]
  },
  {
   "cell_type": "code",
   "execution_count": 4,
   "metadata": {},
   "outputs": [
    {
     "name": "stdout",
     "output_type": "stream",
     "text": [
      "[nltk_data] Downloading package wordnet to\n",
      "[nltk_data]     C:\\Users\\gcara\\AppData\\Roaming\\nltk_data...\n",
      "[nltk_data]   Package wordnet is already up-to-date!\n"
     ]
    },
    {
     "data": {
      "text/plain": [
       "[Synset('cat.n.01'),\n",
       " Synset('guy.n.01'),\n",
       " Synset('cat.n.03'),\n",
       " Synset('kat.n.01'),\n",
       " Synset('cat-o'-nine-tails.n.01'),\n",
       " Synset('caterpillar.n.02'),\n",
       " Synset('big_cat.n.01'),\n",
       " Synset('computerized_tomography.n.01'),\n",
       " Synset('cat.v.01'),\n",
       " Synset('vomit.v.01')]"
      ]
     },
     "execution_count": 4,
     "metadata": {},
     "output_type": "execute_result"
    }
   ],
   "source": [
    "import nltk\n",
    "nltk.download('wordnet')\n",
    "wn = nltk.corpus.wordnet\n",
    "wn.synsets(\"cat\")"
   ]
  },
  {
   "cell_type": "code",
   "execution_count": 5,
   "metadata": {},
   "outputs": [
    {
     "data": {
      "text/plain": [
       "'feline mammal usually having thick soft fur and no ability to roar: domestic cats; wildcats'"
      ]
     },
     "execution_count": 5,
     "metadata": {},
     "output_type": "execute_result"
    }
   ],
   "source": [
    "wn.synset(\"cat.n.01\").definition()"
   ]
  },
  {
   "cell_type": "code",
   "execution_count": 6,
   "metadata": {},
   "outputs": [
    {
     "data": {
      "text/plain": [
       "[Synset('domestic_cat.n.01'), Synset('wildcat.n.03')]"
      ]
     },
     "execution_count": 6,
     "metadata": {},
     "output_type": "execute_result"
    }
   ],
   "source": [
    "wn.synset(\"cat.n.01\").hyponyms()"
   ]
  },
  {
   "cell_type": "code",
   "execution_count": 7,
   "metadata": {},
   "outputs": [
    {
     "data": {
      "text/plain": [
       "0.04"
      ]
     },
     "execution_count": 7,
     "metadata": {},
     "output_type": "execute_result"
    }
   ],
   "source": [
    "x = wn.synset(\"cat.n.01\")\n",
    "y = wn.synset(\"lynx.n.01\")\n",
    "x.path_similarity(y)"
   ]
  },
  {
   "cell_type": "code",
   "execution_count": 8,
   "metadata": {},
   "outputs": [
    {
     "data": {
      "text/plain": [
       "['an informal term for a youth or man', 'informal term for a man']"
      ]
     },
     "execution_count": 8,
     "metadata": {},
     "output_type": "execute_result"
    }
   ],
   "source": [
    "[simxy.definition() for simxy in max ((x.path_similarity(y), x, y) for x in wn.synsets('cat') for y in wn.synsets('dog') if x.path_similarity(y))[1:]]"
   ]
  },
  {
   "cell_type": "code",
   "execution_count": 9,
   "metadata": {},
   "outputs": [
    {
     "data": {
      "text/plain": [
       "['}', 'Help', '!', ':)))', ':[', '.....', ':', 'D', '{']"
      ]
     },
     "execution_count": 9,
     "metadata": {},
     "output_type": "execute_result"
    }
   ],
   "source": [
    "from nltk.tokenize import WordPunctTokenizer\n",
    "word_punct = WordPunctTokenizer()\n",
    "text = \"}Help! :))) :[ ..... :D{\"\n",
    "word_punct.tokenize(text)"
   ]
  },
  {
   "cell_type": "code",
   "execution_count": 10,
   "metadata": {},
   "outputs": [
    {
     "data": {
      "text/plain": [
       "['}', 'Help', '!', ':', ')', ')', ')', ':', '[', '...', '..', ':', 'D', '{']"
      ]
     },
     "execution_count": 10,
     "metadata": {},
     "output_type": "execute_result"
    }
   ],
   "source": [
    "nltk.word_tokenize(text)"
   ]
  },
  {
   "cell_type": "code",
   "execution_count": 11,
   "metadata": {},
   "outputs": [
    {
     "data": {
      "text/plain": [
       "'wonder'"
      ]
     },
     "execution_count": 11,
     "metadata": {},
     "output_type": "execute_result"
    }
   ],
   "source": [
    "pstemmer = nltk.PorterStemmer()\n",
    "pstemmer.stem(\"wonderful\")"
   ]
  },
  {
   "cell_type": "code",
   "execution_count": 12,
   "metadata": {},
   "outputs": [
    {
     "data": {
      "text/plain": [
       "'wond'"
      ]
     },
     "execution_count": 12,
     "metadata": {},
     "output_type": "execute_result"
    }
   ],
   "source": [
    "lstemmer = nltk.LancasterStemmer()\n",
    "lstemmer.stem(\"wonderful\")"
   ]
  },
  {
   "cell_type": "code",
   "execution_count": 13,
   "metadata": {},
   "outputs": [
    {
     "data": {
      "text/plain": [
       "'wonderful'"
      ]
     },
     "execution_count": 13,
     "metadata": {},
     "output_type": "execute_result"
    }
   ],
   "source": [
    "lemmatizer = nltk.WordNetLemmatizer()\n",
    "lemmatizer.lemmatize(\"wonderful\")"
   ]
  },
  {
   "cell_type": "code",
   "execution_count": 14,
   "metadata": {},
   "outputs": [
    {
     "name": "stdout",
     "output_type": "stream",
     "text": [
      "[nltk_data] Downloading package averaged_perceptron_tagger to\n",
      "[nltk_data]     C:\\Users\\gcara\\AppData\\Roaming\\nltk_data...\n",
      "[nltk_data]   Package averaged_perceptron_tagger is already up-to-\n",
      "[nltk_data]       date!\n"
     ]
    },
    {
     "data": {
      "text/plain": [
       "[('beautiful', 'JJ'), ('world', 'NN')]"
      ]
     },
     "execution_count": 14,
     "metadata": {},
     "output_type": "execute_result"
    }
   ],
   "source": [
    "nltk.download('averaged_perceptron_tagger')\n",
    "\n",
    "nltk.pos_tag([\"beautiful\", \"world\"]) # An adjective and a noun"
   ]
  },
  {
   "cell_type": "markdown",
   "metadata": {},
   "source": [
    "## Broken Link Detector"
   ]
  },
  {
   "cell_type": "code",
   "execution_count": 96,
   "metadata": {},
   "outputs": [],
   "source": [
    "# User, fill in the URL variable below, the url address you wnat to process.\n",
    "URL=\"http://en.wikipedia.org/wiki/Data_science\"\n",
    "#URL=\"https://github.com/mrdoob/three.js/issues/1218\"\n",
    "# Now read the page, with exception handling\n",
    "import urllib.request\n",
    "try:\n",
    "    with urllib.request.urlopen(URL) as doc:\n",
    "        html = doc.read()\n",
    "        # if reading was successful, the connection is closed automatically\n",
    "except:\n",
    "    print(\"Could not open %s\" %doc, file=sys.err)\n",
    "    # Do note pretend that the document has been read!\n",
    "    # Execute an error handler here\n",
    "        "
   ]
  },
  {
   "cell_type": "code",
   "execution_count": 97,
   "metadata": {},
   "outputs": [],
   "source": [
    "# Now cook a soup using the html code\n",
    "soup = BeautifulSoup(html)"
   ]
  },
  {
   "cell_type": "code",
   "execution_count": 98,
   "metadata": {},
   "outputs": [],
   "source": [
    "# Now let's find all the attributes <a>/<a> that have a href defined within\n",
    "links = [(link.string, link[\"href\"]) for link in soup.find_all(\"a\") if link.has_attr(\"href\")]"
   ]
  },
  {
   "cell_type": "code",
   "execution_count": 99,
   "metadata": {},
   "outputs": [
    {
     "name": "stdout",
     "output_type": "stream",
     "text": [
      "The number of links to process are  470\n"
     ]
    }
   ],
   "source": [
    "print(\"The number of links to process are \",len(links))"
   ]
  },
  {
   "cell_type": "code",
   "execution_count": 110,
   "metadata": {},
   "outputs": [],
   "source": [
    "# Lets define a function that checks if a given url is valid or not.\n",
    "def checkUrl(url):   \n",
    "    retVal = True;\n",
    "    name = url[0]\n",
    "    val = url[1]\n",
    "    if type(url[0]) is str:\n",
    "        name = name.strip()\n",
    "    if type(url[1]) is str:\n",
    "        val = val.strip()\n",
    "    try:\n",
    "        with urllib.request.urlopen(val) as doc:\n",
    "            retVal = True\n",
    "    except:\n",
    "        retVal = False;\n",
    "        print(\"Broken link detected. name[\\\"\",name,\"\\\"] = \", val)\n",
    "    return retVal"
   ]
  },
  {
   "cell_type": "code",
   "execution_count": 111,
   "metadata": {},
   "outputs": [
    {
     "data": {
      "text/plain": [
       "470"
      ]
     },
     "execution_count": 111,
     "metadata": {},
     "output_type": "execute_result"
    }
   ],
   "source": [
    "len(links)"
   ]
  },
  {
   "cell_type": "code",
   "execution_count": 112,
   "metadata": {},
   "outputs": [
    {
     "name": "stdout",
     "output_type": "stream",
     "text": [
      "Broken link detected. name[\" Jump to navigation \"] =  #mw-head\n",
      "Broken link detected. name[\" Jump to search \"] =  #p-search\n",
      "Broken link detected. name[\" information science \"] =  /wiki/Information_science\n",
      "Broken link detected. name[\" Machine learning \"] =  /wiki/Machine_learning\n",
      "Broken link detected. name[\" data mining \"] =  /wiki/Data_mining\n",
      "Broken link detected. name[\" None \"] =  /wiki/File:Kernel_Machine.svg\n",
      "Broken link detected. name[\" Classification \"] =  /wiki/Statistical_classification\n",
      "Broken link detected. name[\" Clustering \"] =  /wiki/Cluster_analysis\n",
      "Broken link detected. name[\" Regression \"] =  /wiki/Regression_analysis\n",
      "Broken link detected. name[\" Anomaly detection \"] =  /wiki/Anomaly_detection\n",
      "Broken link detected. name[\" AutoML \"] =  /wiki/Automated_machine_learning\n",
      "Broken link detected. name[\" Association rules \"] =  /wiki/Association_rule_learning\n",
      "Broken link detected. name[\" Reinforcement learning \"] =  /wiki/Reinforcement_learning\n",
      "Broken link detected. name[\" Structured prediction \"] =  /wiki/Structured_prediction\n",
      "Broken link detected. name[\" Feature engineering \"] =  /wiki/Feature_engineering\n",
      "Broken link detected. name[\" Feature learning \"] =  /wiki/Feature_learning\n",
      "Broken link detected. name[\" Online learning \"] =  /wiki/Online_machine_learning\n",
      "Broken link detected. name[\" Semi-supervised learning \"] =  /wiki/Semi-supervised_learning\n",
      "Broken link detected. name[\" Unsupervised learning \"] =  /wiki/Unsupervised_learning\n",
      "Broken link detected. name[\" Learning to rank \"] =  /wiki/Learning_to_rank\n",
      "Broken link detected. name[\" Grammar induction \"] =  /wiki/Grammar_induction\n",
      "Broken link detected. name[\" Supervised learning \"] =  /wiki/Supervised_learning\n",
      "Broken link detected. name[\" classification \"] =  /wiki/Statistical_classification\n",
      "Broken link detected. name[\" regression \"] =  /wiki/Regression_analysis\n",
      "Broken link detected. name[\" Decision trees \"] =  /wiki/Decision_tree_learning\n",
      "Broken link detected. name[\" Ensembles \"] =  /wiki/Ensemble_learning\n",
      "Broken link detected. name[\" Bagging \"] =  /wiki/Bootstrap_aggregating\n",
      "Broken link detected. name[\" Boosting \"] =  /wiki/Boosting_(machine_learning)\n",
      "Broken link detected. name[\" Random forest \"] =  /wiki/Random_forest\n",
      "Broken link detected. name[\" None \"] =  /wiki/K-nearest_neighbors_algorithm\n",
      "Broken link detected. name[\" Linear regression \"] =  /wiki/Linear_regression\n",
      "Broken link detected. name[\" Naive Bayes \"] =  /wiki/Naive_Bayes_classifier\n",
      "Broken link detected. name[\" Neural networks \"] =  /wiki/Artificial_neural_network\n",
      "Broken link detected. name[\" Logistic regression \"] =  /wiki/Logistic_regression\n",
      "Broken link detected. name[\" Perceptron \"] =  /wiki/Perceptron\n",
      "Broken link detected. name[\" Relevance vector machine (RVM) \"] =  /wiki/Relevance_vector_machine\n",
      "Broken link detected. name[\" Support vector machine (SVM) \"] =  /wiki/Support_vector_machine\n",
      "Broken link detected. name[\" Clustering \"] =  /wiki/Cluster_analysis\n",
      "Broken link detected. name[\" BIRCH \"] =  /wiki/BIRCH\n",
      "Broken link detected. name[\" CURE \"] =  /wiki/CURE_data_clustering_algorithm\n",
      "Broken link detected. name[\" Hierarchical \"] =  /wiki/Hierarchical_clustering\n",
      "Broken link detected. name[\" None \"] =  /wiki/K-means_clustering\n",
      "Broken link detected. name[\" Expectation–maximization (EM) \"] =  /wiki/Expectation%E2%80%93maximization_algorithm\n",
      "Broken link detected. name[\" DBSCAN \"] =  /wiki/DBSCAN\n",
      "Broken link detected. name[\" OPTICS \"] =  /wiki/OPTICS_algorithm\n",
      "Broken link detected. name[\" Mean-shift \"] =  /wiki/Mean-shift\n",
      "Broken link detected. name[\" Dimensionality reduction \"] =  /wiki/Dimensionality_reduction\n",
      "Broken link detected. name[\" Factor analysis \"] =  /wiki/Factor_analysis\n",
      "Broken link detected. name[\" CCA \"] =  /wiki/Canonical_correlation_analysis\n",
      "Broken link detected. name[\" ICA \"] =  /wiki/Independent_component_analysis\n",
      "Broken link detected. name[\" LDA \"] =  /wiki/Linear_discriminant_analysis\n",
      "Broken link detected. name[\" NMF \"] =  /wiki/Non-negative_matrix_factorization\n",
      "Broken link detected. name[\" PCA \"] =  /wiki/Principal_component_analysis\n",
      "Broken link detected. name[\" t-SNE \"] =  /wiki/T-distributed_stochastic_neighbor_embedding\n",
      "Broken link detected. name[\" Structured prediction \"] =  /wiki/Structured_prediction\n",
      "Broken link detected. name[\" Graphical models \"] =  /wiki/Graphical_model\n",
      "Broken link detected. name[\" Bayes net \"] =  /wiki/Bayesian_network\n",
      "Broken link detected. name[\" CRF \"] =  /wiki/Conditional_random_field\n",
      "Broken link detected. name[\" HMM \"] =  /wiki/Hidden_Markov_model\n",
      "Broken link detected. name[\" Anomaly detection \"] =  /wiki/Anomaly_detection\n",
      "Broken link detected. name[\" None \"] =  /wiki/K-nearest_neighbors_classification\n",
      "Broken link detected. name[\" Local outlier factor \"] =  /wiki/Local_outlier_factor\n",
      "Broken link detected. name[\" Neural nets \"] =  /wiki/Artificial_neural_network\n",
      "Broken link detected. name[\" Autoencoder \"] =  /wiki/Autoencoder\n",
      "Broken link detected. name[\" Deep learning \"] =  /wiki/Deep_learning\n",
      "Broken link detected. name[\" Multilayer perceptron \"] =  /wiki/Multilayer_perceptron\n",
      "Broken link detected. name[\" RNN \"] =  /wiki/Recurrent_neural_network\n",
      "Broken link detected. name[\" LSTM \"] =  /wiki/Long_short-term_memory\n",
      "Broken link detected. name[\" GRU \"] =  /wiki/Gated_recurrent_unit\n",
      "Broken link detected. name[\" Restricted Boltzmann machine \"] =  /wiki/Restricted_Boltzmann_machine\n",
      "Broken link detected. name[\" SOM \"] =  /wiki/Self-organizing_map\n",
      "Broken link detected. name[\" Convolutional neural network \"] =  /wiki/Convolutional_neural_network\n",
      "Broken link detected. name[\" U-Net \"] =  /wiki/U-Net\n",
      "Broken link detected. name[\" Reinforcement learning \"] =  /wiki/Reinforcement_learning\n",
      "Broken link detected. name[\" Q-learning \"] =  /wiki/Q-learning\n",
      "Broken link detected. name[\" SARSA \"] =  /wiki/State%E2%80%93action%E2%80%93reward%E2%80%93state%E2%80%93action\n",
      "Broken link detected. name[\" Temporal difference (TD) \"] =  /wiki/Temporal_difference_learning\n",
      "Broken link detected. name[\" Bias-variance dilemma \"] =  /wiki/Bias-variance_dilemma\n",
      "Broken link detected. name[\" Computational learning theory \"] =  /wiki/Computational_learning_theory\n",
      "Broken link detected. name[\" Empirical risk minimization \"] =  /wiki/Empirical_risk_minimization\n",
      "Broken link detected. name[\" Occam learning \"] =  /wiki/Occam_learning\n",
      "Broken link detected. name[\" PAC learning \"] =  /wiki/Probably_approximately_correct_learning\n",
      "Broken link detected. name[\" Statistical learning \"] =  /wiki/Statistical_learning_theory\n",
      "Broken link detected. name[\" VC theory \"] =  /wiki/Vapnik%E2%80%93Chervonenkis_theory\n",
      "Broken link detected. name[\" NIPS \"] =  /wiki/Conference_on_Neural_Information_Processing_Systems\n",
      "Broken link detected. name[\" ICML \"] =  /wiki/International_Conference_on_Machine_Learning\n",
      "Broken link detected. name[\" ML \"] =  /wiki/Machine_Learning_(journal)\n",
      "Broken link detected. name[\" JMLR \"] =  /wiki/Journal_of_Machine_Learning_Research\n",
      "Broken link detected. name[\" Glossary of artificial intelligence \"] =  /wiki/Glossary_of_artificial_intelligence\n",
      "Broken link detected. name[\" Glossary of artificial intelligence \"] =  /wiki/Glossary_of_artificial_intelligence\n",
      "Broken link detected. name[\" List of datasets for machine-learning research \"] =  /wiki/List_of_datasets_for_machine-learning_research\n",
      "Broken link detected. name[\" Outline of machine learning \"] =  /wiki/Outline_of_machine_learning\n",
      "Broken link detected. name[\" None \"] =  /wiki/File:Portal-puzzle.svg\n",
      "Broken link detected. name[\" Machine learning portal \"] =  /wiki/Portal:Machine_learning\n",
      "Broken link detected. name[\" v \"] =  /wiki/Template:Machine_learning_bar\n",
      "Broken link detected. name[\" t \"] =  /wiki/Template_talk:Machine_learning_bar\n",
      "Broken link detected. name[\" e \"] =  //en.wikipedia.org/w/index.php?title=Template:Machine_learning_bar&action=edit\n",
      "Broken link detected. name[\" knowledge \"] =  /wiki/Knowledge\n",
      "Broken link detected. name[\" data \"] =  /wiki/Data\n",
      "Broken link detected. name[\" [1] \"] =  #cite_note-:0-1\n",
      "Broken link detected. name[\" [2] \"] =  #cite_note-2\n",
      "Broken link detected. name[\" data mining \"] =  /wiki/Data_mining\n",
      "Broken link detected. name[\" [3] \"] =  #cite_note-Hayashi-3\n",
      "Broken link detected. name[\" mathematics \"] =  /wiki/Mathematics\n",
      "Broken link detected. name[\" statistics \"] =  /wiki/Statistics\n",
      "Broken link detected. name[\" information science \"] =  /wiki/Information_science\n",
      "Broken link detected. name[\" computer science \"] =  /wiki/Computer_science\n",
      "Broken link detected. name[\" Turing award \"] =  /wiki/Turing_award\n",
      "Broken link detected. name[\" Jim Gray \"] =  /wiki/Jim_Gray_(computer_scientist)\n",
      "Broken link detected. name[\" empirical \"] =  /wiki/Empirical_research\n",
      "Broken link detected. name[\" theoretical \"] =  /wiki/Basic_research\n",
      "Broken link detected. name[\" data deluge \"] =  /wiki/Information_explosion\n",
      "Broken link detected. name[\" [4] \"] =  #cite_note-TansleyTolle2009-4\n",
      "Broken link detected. name[\" [5] \"] =  #cite_note-BellHey2009-5\n",
      "Broken link detected. name[\" Harvard Business Review \"] =  /wiki/Harvard_Business_Review\n",
      "Broken link detected. name[\" [6] \"] =  #cite_note-Harvard-6\n",
      "Broken link detected. name[\" buzzword \"] =  /wiki/Buzzword\n",
      "Broken link detected. name[\" business analytics \"] =  /wiki/Business_analytics\n",
      "Broken link detected. name[\" [7] \"] =  #cite_note-GilPress-7\n",
      "Broken link detected. name[\" business intelligence \"] =  /wiki/Business_intelligence\n",
      "Broken link detected. name[\" predictive modeling \"] =  /wiki/Predictive_modelling\n",
      "Broken link detected. name[\" statistics \"] =  /wiki/Statistics\n"
     ]
    },
    {
     "name": "stdout",
     "output_type": "stream",
     "text": [
      "Broken link detected. name[\" [8] \"] =  #cite_note-NateSilver-8\n",
      "Broken link detected. name[\" [9] \"] =  #cite_note-9\n",
      "Broken link detected. name[\" [7] \"] =  #cite_note-GilPress-7\n",
      "Broken link detected. name[\" big data \"] =  /wiki/Big_data\n",
      "Broken link detected. name[\" [10] \"] =  #cite_note-10\n",
      "Broken link detected. name[\" [11] \"] =  #cite_note-11\n",
      "Broken link detected. name[\" [12] \"] =  #cite_note-12\n",
      "Broken link detected. name[\" [13] \"] =  #cite_note-13\n",
      "Broken link detected. name[\" edit \"] =  /w/index.php?title=Data_science&action=edit&section=1\n",
      "Broken link detected. name[\" computer science \"] =  /wiki/Computer_science\n",
      "Broken link detected. name[\" Peter Naur \"] =  /wiki/Peter_Naur\n",
      "Broken link detected. name[\" datalogy \"] =  /wiki/Datalogy\n",
      "Broken link detected. name[\" [14] \"] =  #cite_note-14\n",
      "Broken link detected. name[\" [15] \"] =  #cite_note-15\n",
      "Broken link detected. name[\" [3] \"] =  #cite_note-Hayashi-3\n",
      "Broken link detected. name[\" C.F. Jeff Wu \"] =  /wiki/C.F._Jeff_Wu\n",
      "Broken link detected. name[\" [16] \"] =  #cite_note-cfjwutk-16\n",
      "Broken link detected. name[\" University of Michigan \"] =  /wiki/University_of_Michigan\n",
      "Broken link detected. name[\" [17] \"] =  #cite_note-cfjwu01-17\n",
      "Broken link detected. name[\" [16] \"] =  #cite_note-cfjwutk-16\n",
      "Broken link detected. name[\" [18] \"] =  #cite_note-cfjwu02-18\n",
      "Broken link detected. name[\" Prasanta Chandra Mahalanobis \"] =  /wiki/Prasanta_Chandra_Mahalanobis\n",
      "Broken link detected. name[\" Indian Statistical Institute \"] =  /wiki/Indian_Statistical_Institute\n",
      "Broken link detected. name[\" [19] \"] =  #cite_note-cleveland01-19\n",
      "Broken link detected. name[\" [20] \"] =  #cite_note-ics12-20\n",
      "Broken link detected. name[\" [21] \"] =  #cite_note-dsj12-21\n",
      "Broken link detected. name[\" [22] \"] =  #cite_note-dsj02-22\n",
      "Broken link detected. name[\" [23] \"] =  #cite_note-jds03-23\n",
      "Broken link detected. name[\" [24] \"] =  #cite_note-24\n",
      "Broken link detected. name[\" citation needed \"] =  /wiki/Wikipedia:Citation_needed\n",
      "Broken link detected. name[\" Jim Gray \"] =  /wiki/Jim_Gray_(computer_scientist)\n",
      "Broken link detected. name[\" [4] \"] =  #cite_note-TansleyTolle2009-4\n",
      "Broken link detected. name[\" [5] \"] =  #cite_note-BellHey2009-5\n",
      "Broken link detected. name[\" [25] \"] =  #cite_note-25\n",
      "Broken link detected. name[\" Harvard Business Review \"] =  /wiki/Harvard_Business_Review\n",
      "Broken link detected. name[\" [6] \"] =  #cite_note-Harvard-6\n",
      "Broken link detected. name[\" DJ Patil \"] =  /wiki/DJ_Patil\n",
      "Broken link detected. name[\" Jeff Hammerbacher \"] =  /wiki/Jeff_Hammerbacher\n",
      "Broken link detected. name[\" [26] \"] =  #cite_note-26\n",
      "Broken link detected. name[\" [27] \"] =  #cite_note-27\n",
      "Broken link detected. name[\" General Assembly \"] =  /wiki/General_Assembly_(school)\n",
      "Broken link detected. name[\" The Data Incubator \"] =  /wiki/The_Data_Incubator\n",
      "Broken link detected. name[\" [28] \"] =  #cite_note-28\n",
      "Broken link detected. name[\" American Statistical Association \"] =  /wiki/American_Statistical_Association\n",
      "Broken link detected. name[\" [29] \"] =  #cite_note-ASA-29\n",
      "Broken link detected. name[\" [30] \"] =  #cite_note-30\n",
      "Broken link detected. name[\" University of Essex \"] =  /wiki/University_of_Essex\n",
      "Broken link detected. name[\" edit \"] =  /w/index.php?title=Data_science&action=edit&section=2\n",
      "Broken link detected. name[\" [31] \"] =  #cite_note-31\n",
      "Broken link detected. name[\" statistics \"] =  /wiki/Statistics\n",
      "Broken link detected. name[\" Forbes \"] =  /wiki/Forbes\n",
      "Broken link detected. name[\" buzzword \"] =  /wiki/Buzzword\n",
      "Broken link detected. name[\" business analytics \"] =  /wiki/Business_analytics\n",
      "Broken link detected. name[\" [7] \"] =  #cite_note-GilPress-7\n",
      "Broken link detected. name[\" American Statistical Association \"] =  /wiki/American_Statistical_Association\n",
      "Broken link detected. name[\" Nate Silver \"] =  /wiki/Nate_Silver\n",
      "Broken link detected. name[\" [8] \"] =  #cite_note-NateSilver-8\n",
      "Broken link detected. name[\" [32] \"] =  #cite_note-32\n",
      "Broken link detected. name[\" developers \"] =  /wiki/Software_Developer\n",
      "Broken link detected. name[\" engineers \"] =  /wiki/Software_engineer\n",
      "Broken link detected. name[\" [33] \"] =  #cite_note-33\n",
      "Broken link detected. name[\" Wall Street Journal \"] =  /wiki/The_Wall_Street_Journal\n",
      "Broken link detected. name[\" computer science \"] =  /wiki/Computer_science\n",
      "Broken link detected. name[\" interdisciplinary \"] =  /wiki/Interdisciplinarity\n",
      "Broken link detected. name[\" methodologies \"] =  /wiki/Methodology\n",
      "Broken link detected. name[\" academia \"] =  /wiki/Academy\n",
      "Broken link detected. name[\" industry \"] =  /wiki/Industry\n",
      "Broken link detected. name[\" discipline \"] =  /wiki/Discipline_(academia)\n",
      "Broken link detected. name[\" [34] \"] =  #cite_note-:1-34\n",
      "Broken link detected. name[\" NYU \"] =  /wiki/New_York_University\n",
      "Broken link detected. name[\" Stern's \"] =  /wiki/NYU_Stern_Center_for_Business_and_Human_Rights\n",
      "Broken link detected. name[\" [34] \"] =  #cite_note-:1-34\n",
      "Broken link detected. name[\" disciplines \"] =  /wiki/Discipline_(academia)\n",
      "Broken link detected. name[\" data sets \"] =  /wiki/Data_set\n",
      "Broken link detected. name[\" pattern \"] =  /wiki/Pattern_recognition\n",
      "Broken link detected. name[\" predictive uses \"] =  /wiki/Predictive_modelling\n",
      "Broken link detected. name[\" [1] \"] =  #cite_note-:0-1\n",
      "Broken link detected. name[\" analytics \"] =  /wiki/Analytics\n",
      "Broken link detected. name[\" applied fields \"] =  /wiki/Applied_science\n",
      "Broken link detected. name[\" theories \"] =  /wiki/Theory\n",
      "Broken link detected. name[\" health science \"] =  /wiki/Health_science\n",
      "Broken link detected. name[\" social science \"] =  /wiki/Social_science\n",
      "Broken link detected. name[\" [1] \"] =  #cite_note-:0-1\n",
      "Broken link detected. name[\" David Donoho \"] =  /wiki/David_Donoho\n",
      "Broken link detected. name[\" [35] \"] =  #cite_note-:2-35\n",
      "Broken link detected. name[\" big data \"] =  /wiki/Big_data\n",
      "Broken link detected. name[\" [35] \"] =  #cite_note-:2-35\n",
      "Broken link detected. name[\" computing \"] =  /wiki/Computing\n",
      "Broken link detected. name[\" [35] \"] =  #cite_note-:2-35\n",
      "Broken link detected. name[\" academic programs \"] =  /wiki/Graduate_school\n",
      "Broken link detected. name[\" graduate programs \"] =  /wiki/Graduate_school\n",
      "Broken link detected. name[\" [35] \"] =  #cite_note-:2-35\n",
      "Broken link detected. name[\" [36] \"] =  #cite_note-36\n",
      "Broken link detected. name[\" statistician \"] =  /wiki/Statistician\n",
      "Broken link detected. name[\" Donoho \"] =  /wiki/David_Donoho\n",
      "Broken link detected. name[\" [35] \"] =  #cite_note-:2-35\n",
      "Broken link detected. name[\" [37] \"] =  #cite_note-37\n",
      "Broken link detected. name[\" predictive tools \"] =  /wiki/Predictive_modelling\n",
      "Broken link detected. name[\" explanatory theories. \"] =  /wiki/Explanatory_model\n",
      "Broken link detected. name[\" [19] \"] =  #cite_note-cleveland01-19\n",
      "Broken link detected. name[\" statisticians \"] =  /wiki/Statistician\n",
      "Broken link detected. name[\" statistics \"] =  /wiki/Statistics\n",
      "Broken link detected. name[\" open science \"] =  /wiki/Open_science\n",
      "Broken link detected. name[\" academic publications \"] =  /wiki/Academic_publishing\n",
      "Broken link detected. name[\" [35] \"] =  #cite_note-:2-35\n",
      "Broken link detected. name[\" US National Institute of Health \"] =  /wiki/National_Institutes_of_Health\n",
      "Broken link detected. name[\" [38] \"] =  #cite_note-38\n",
      "Broken link detected. name[\" journals \"] =  /wiki/Academic_journal\n",
      "Broken link detected. name[\" [39] \"] =  #cite_note-39\n",
      "Broken link detected. name[\" [40] \"] =  #cite_note-40\n",
      "Broken link detected. name[\" statistical theories \"] =  /wiki/Statistical_theory\n",
      "Broken link detected. name[\" research paradigms \"] =  /wiki/Paradigm\n",
      "Broken link detected. name[\" [35] \"] =  #cite_note-:2-35\n",
      "Broken link detected. name[\" [35] \"] =  #cite_note-:2-35\n",
      "Broken link detected. name[\" edit \"] =  /w/index.php?title=Data_science&action=edit&section=3\n",
      "Broken link detected. name[\" a \"] =  #cite_ref-:0_1-0\n",
      "Broken link detected. name[\" b \"] =  #cite_ref-:0_1-1\n",
      "Broken link detected. name[\" c \"] =  #cite_ref-:0_1-2\n",
      "Broken link detected. name[\" \"Data science and prediction\" \"] =  http://cacm.acm.org/magazines/2013/12/169933-data-science-and-prediction/fulltext\n",
      "Broken link detected. name[\" doi \"] =  /wiki/Digital_object_identifier\n",
      "Broken link detected. name[\" 10.1145/2500499 \"] =  //doi.org/10.1145/2500499\n",
      "Broken link detected. name[\" ^ \"] =  #cite_ref-2\n",
      "Broken link detected. name[\" a \"] =  #cite_ref-Hayashi_3-0\n",
      "Broken link detected. name[\" b \"] =  #cite_ref-Hayashi_3-1\n"
     ]
    },
    {
     "name": "stdout",
     "output_type": "stream",
     "text": [
      "Broken link detected. name[\" doi \"] =  /wiki/Digital_object_identifier\n",
      "Broken link detected. name[\" 10.1007/978-4-431-65950-1_3 \"] =  //doi.org/10.1007/978-4-431-65950-1_3\n",
      "Broken link detected. name[\" ISBN \"] =  /wiki/International_Standard_Book_Number\n",
      "Broken link detected. name[\" 9784431702085 \"] =  /wiki/Special:BookSources/9784431702085\n",
      "Broken link detected. name[\" a \"] =  #cite_ref-TansleyTolle2009_4-0\n",
      "Broken link detected. name[\" b \"] =  #cite_ref-TansleyTolle2009_4-1\n",
      "Broken link detected. name[\" The Fourth Paradigm: Data-intensive Scientific Discovery \"] =  https://books.google.com/books?id=oGs_AQAAIAAJ\n",
      "Broken link detected. name[\" ISBN \"] =  /wiki/International_Standard_Book_Number\n",
      "Broken link detected. name[\" 978-0-9825442-0-4 \"] =  /wiki/Special:BookSources/978-0-9825442-0-4\n",
      "Broken link detected. name[\" a \"] =  #cite_ref-BellHey2009_5-0\n",
      "Broken link detected. name[\" b \"] =  #cite_ref-BellHey2009_5-1\n",
      "Broken link detected. name[\" doi \"] =  /wiki/Digital_object_identifier\n",
      "Broken link detected. name[\" 10.1126/science.1170411 \"] =  //doi.org/10.1126/science.1170411\n",
      "Broken link detected. name[\" ISSN \"] =  /wiki/International_Standard_Serial_Number\n",
      "Broken link detected. name[\" 0036-8075 \"] =  //www.worldcat.org/issn/0036-8075\n",
      "Broken link detected. name[\" a \"] =  #cite_ref-Harvard_6-0\n",
      "Broken link detected. name[\" b \"] =  #cite_ref-Harvard_6-1\n",
      "Broken link detected. name[\" Davenport, Thomas H. \"] =  /wiki/Thomas_H._Davenport\n",
      "Broken link detected. name[\" Patil, DJ \"] =  /wiki/DJ_Patil\n",
      "Broken link detected. name[\" Harvard Business Review \"] =  /wiki/Harvard_Business_Review\n",
      "Broken link detected. name[\" a \"] =  #cite_ref-GilPress_7-0\n",
      "Broken link detected. name[\" b \"] =  #cite_ref-GilPress_7-1\n",
      "Broken link detected. name[\" c \"] =  #cite_ref-GilPress_7-2\n",
      "Broken link detected. name[\" Forbes \"] =  /wiki/Forbes\n",
      "Broken link detected. name[\" a \"] =  #cite_ref-NateSilver_8-0\n",
      "Broken link detected. name[\" b \"] =  #cite_ref-NateSilver_8-1\n",
      "Broken link detected. name[\" ^ \"] =  #cite_ref-9\n",
      "Broken link detected. name[\" ^ \"] =  #cite_ref-10\n",
      "Broken link detected. name[\" ^ \"] =  #cite_ref-11\n",
      "Broken link detected. name[\" ^ \"] =  #cite_ref-12\n",
      "Broken link detected. name[\" ^ \"] =  #cite_ref-13\n",
      "Broken link detected. name[\" ^ \"] =  #cite_ref-14\n",
      "Broken link detected. name[\" doi \"] =  /wiki/Digital_object_identifier\n",
      "Broken link detected. name[\" 10.1145/365719.366510 \"] =  //doi.org/10.1145/365719.366510\n",
      "Broken link detected. name[\" ^ \"] =  #cite_ref-15\n",
      "Broken link detected. name[\" a \"] =  #cite_ref-cfjwutk_16-0\n",
      "Broken link detected. name[\" b \"] =  #cite_ref-cfjwutk_16-1\n",
      "Broken link detected. name[\" ^ \"] =  #cite_ref-cfjwu01_17-0\n",
      "Broken link detected. name[\" ^ \"] =  #cite_ref-cfjwu02_18-0\n",
      "Broken link detected. name[\" the original \"] =  http://www.isical.ac.in/~statmath/html/pcm/pcm_recent.html\n",
      "Broken link detected. name[\" a \"] =  #cite_ref-cleveland01_19-0\n",
      "Broken link detected. name[\" b \"] =  #cite_ref-cleveland01_19-1\n",
      "Broken link detected. name[\" ^ \"] =  #cite_ref-ics12_20-0\n",
      "Broken link detected. name[\" ^ \"] =  #cite_ref-dsj12_21-0\n",
      "Broken link detected. name[\" http://www.jstage.jst.go.jp/browse/dsj/_vols \"] =  http://www.jstage.jst.go.jp/browse/dsj/_vols\n",
      "Broken link detected. name[\" ^ \"] =  #cite_ref-dsj02_22-0\n",
      "Broken link detected. name[\" ^ \"] =  #cite_ref-jds03_23-0\n",
      "Broken link detected. name[\" ^ \"] =  #cite_ref-24\n",
      "Broken link detected. name[\" ^ \"] =  #cite_ref-25\n",
      "Broken link detected. name[\" ISSN \"] =  /wiki/International_Standard_Serial_Number\n",
      "Broken link detected. name[\" 0362-4331 \"] =  //www.worldcat.org/issn/0362-4331\n",
      "Broken link detected. name[\" ^ \"] =  #cite_ref-26\n",
      "Broken link detected. name[\" ^ \"] =  #cite_ref-27\n",
      "Broken link detected. name[\" \"2014 IEEE International Conference on Data Science and Advanced Analytics\" \"] =  http://datamining.it.uts.edu.au/conferences/dsaa14/\n",
      "Broken link detected. name[\" ^ \"] =  #cite_ref-28\n",
      "Broken link detected. name[\" ^ \"] =  #cite_ref-ASA_29-0\n",
      "Broken link detected. name[\" \"ASA Expands Scope, Outreach to Foster Growth, Collaboration in Data Science\" \"] =  http://magazine.amstat.org/blog/2016/06/01/datascience-2/\n",
      "Broken link detected. name[\" American Statistical Association \"] =  /wiki/American_Statistical_Association\n",
      "Broken link detected. name[\" ^ \"] =  #cite_ref-30\n",
      "Broken link detected. name[\" ^ \"] =  #cite_ref-31\n",
      "Broken link detected. name[\" ^ \"] =  #cite_ref-32\n",
      "Broken link detected. name[\" doi \"] =  /wiki/Digital_object_identifier\n",
      "Broken link detected. name[\" 10.7146/jod.9823 \"] =  //doi.org/10.7146/jod.9823\n",
      "Broken link detected. name[\" ISSN \"] =  /wiki/International_Standard_Serial_Number\n",
      "Broken link detected. name[\" 2245-408X \"] =  //www.worldcat.org/issn/2245-408X\n",
      "Broken link detected. name[\" ^ \"] =  #cite_ref-33\n",
      "Broken link detected. name[\" doi \"] =  /wiki/Digital_object_identifier\n",
      "Broken link detected. name[\" 10.1016/j.ipm.2017.05.004 \"] =  //doi.org/10.1016/j.ipm.2017.05.004\n",
      "Broken link detected. name[\" a \"] =  #cite_ref-:1_34-0\n",
      "Broken link detected. name[\" b \"] =  #cite_ref-:1_34-1\n",
      "Broken link detected. name[\" a \"] =  #cite_ref-:2_35-0\n",
      "Broken link detected. name[\" b \"] =  #cite_ref-:2_35-1\n",
      "Broken link detected. name[\" c \"] =  #cite_ref-:2_35-2\n",
      "Broken link detected. name[\" d \"] =  #cite_ref-:2_35-3\n",
      "Broken link detected. name[\" e \"] =  #cite_ref-:2_35-4\n",
      "Broken link detected. name[\" f \"] =  #cite_ref-:2_35-5\n",
      "Broken link detected. name[\" g \"] =  #cite_ref-:2_35-6\n",
      "Broken link detected. name[\" h \"] =  #cite_ref-:2_35-7\n",
      "Broken link detected. name[\" ^ \"] =  #cite_ref-36\n",
      "Broken link detected. name[\" ^ \"] =  #cite_ref-37\n",
      "Broken link detected. name[\" doi \"] =  /wiki/Digital_object_identifier\n",
      "Broken link detected. name[\" 10.1007/BF00141776 \"] =  //doi.org/10.1007/BF00141776\n",
      "Broken link detected. name[\" ISSN \"] =  /wiki/International_Standard_Serial_Number\n",
      "Broken link detected. name[\" 0960-3174 \"] =  //www.worldcat.org/issn/0960-3174\n",
      "Broken link detected. name[\" ^ \"] =  #cite_ref-38\n",
      "Broken link detected. name[\" \"NIH plans to enhance reproducibility\" \"] =  //www.ncbi.nlm.nih.gov/pmc/articles/PMC4058759\n",
      "Broken link detected. name[\" doi \"] =  /wiki/Digital_object_identifier\n",
      "Broken link detected. name[\" 10.1038/505612a \"] =  //doi.org/10.1038/505612a\n",
      "Broken link detected. name[\" ISSN \"] =  /wiki/International_Standard_Serial_Number\n",
      "Broken link detected. name[\" 0028-0836 \"] =  //www.worldcat.org/issn/0028-0836\n",
      "Broken link detected. name[\" PMC \"] =  /wiki/PubMed_Central\n",
      "Broken link detected. name[\" 4058759 \"] =  //www.ncbi.nlm.nih.gov/pmc/articles/PMC4058759\n",
      "Broken link detected. name[\" PMID \"] =  /wiki/PubMed_Identifier\n",
      "Broken link detected. name[\" 24482835 \"] =  //www.ncbi.nlm.nih.gov/pubmed/24482835\n",
      "Broken link detected. name[\" ^ \"] =  #cite_ref-39\n",
      "Broken link detected. name[\" doi \"] =  /wiki/Digital_object_identifier\n",
      "Broken link detected. name[\" 10.1126/science.1250475 \"] =  //doi.org/10.1126/science.1250475\n",
      "Broken link detected. name[\" ISSN \"] =  /wiki/International_Standard_Serial_Number\n",
      "Broken link detected. name[\" 0036-8075 \"] =  //www.worldcat.org/issn/0036-8075\n",
      "Broken link detected. name[\" PMID \"] =  /wiki/PubMed_Identifier\n",
      "Broken link detected. name[\" 24436391 \"] =  //www.ncbi.nlm.nih.gov/pubmed/24436391\n",
      "Broken link detected. name[\" ^ \"] =  #cite_ref-40\n",
      "Broken link detected. name[\" doi \"] =  /wiki/Digital_object_identifier\n",
      "Broken link detected. name[\" 10.1093/biostatistics/kxp014 \"] =  //doi.org/10.1093/biostatistics/kxp014\n",
      "Broken link detected. name[\" ISSN \"] =  /wiki/International_Standard_Serial_Number\n",
      "Broken link detected. name[\" 1465-4644 \"] =  //www.worldcat.org/issn/1465-4644\n",
      "Broken link detected. name[\" Categories \"] =  /wiki/Help:Category\n",
      "Broken link detected. name[\" Information science \"] =  /wiki/Category:Information_science\n",
      "Broken link detected. name[\" Computer occupations \"] =  /wiki/Category:Computer_occupations\n",
      "Broken link detected. name[\" Computational fields of study \"] =  /wiki/Category:Computational_fields_of_study\n",
      "Broken link detected. name[\" Data analysis \"] =  /wiki/Category:Data_analysis\n",
      "Broken link detected. name[\" Use dmy dates from December 2012 \"] =  /wiki/Category:Use_dmy_dates_from_December_2012\n",
      "Broken link detected. name[\" All articles with unsourced statements \"] =  /wiki/Category:All_articles_with_unsourced_statements\n",
      "Broken link detected. name[\" Articles with unsourced statements from April 2018 \"] =  /wiki/Category:Articles_with_unsourced_statements_from_April_2018\n",
      "Broken link detected. name[\" Talk \"] =  /wiki/Special:MyTalk\n",
      "Broken link detected. name[\" Contributions \"] =  /wiki/Special:MyContributions\n",
      "Broken link detected. name[\" Create account \"] =  /w/index.php?title=Special:CreateAccount&returnto=Data+science\n",
      "Broken link detected. name[\" Log in \"] =  /w/index.php?title=Special:UserLogin&returnto=Data+science\n",
      "Broken link detected. name[\" Article \"] =  /wiki/Data_science\n",
      "Broken link detected. name[\" Talk \"] =  /wiki/Talk:Data_science\n",
      "Broken link detected. name[\" Read \"] =  /wiki/Data_science\n",
      "Broken link detected. name[\" Edit \"] =  /w/index.php?title=Data_science&action=edit\n",
      "Broken link detected. name[\" View history \"] =  /w/index.php?title=Data_science&action=history\n",
      "Broken link detected. name[\" None \"] =  /wiki/Main_Page\n",
      "Broken link detected. name[\" Main page \"] =  /wiki/Main_Page\n",
      "Broken link detected. name[\" Contents \"] =  /wiki/Portal:Contents\n",
      "Broken link detected. name[\" Featured content \"] =  /wiki/Portal:Featured_content\n",
      "Broken link detected. name[\" Current events \"] =  /wiki/Portal:Current_events\n",
      "Broken link detected. name[\" Random article \"] =  /wiki/Special:Random\n"
     ]
    },
    {
     "name": "stdout",
     "output_type": "stream",
     "text": [
      "Broken link detected. name[\" Wikipedia store \"] =  //shop.wikimedia.org\n",
      "Broken link detected. name[\" Help \"] =  /wiki/Help:Contents\n",
      "Broken link detected. name[\" About Wikipedia \"] =  /wiki/Wikipedia:About\n",
      "Broken link detected. name[\" Community portal \"] =  /wiki/Wikipedia:Community_portal\n",
      "Broken link detected. name[\" Recent changes \"] =  /wiki/Special:RecentChanges\n",
      "Broken link detected. name[\" Contact page \"] =  //en.wikipedia.org/wiki/Wikipedia:Contact_us\n",
      "Broken link detected. name[\" What links here \"] =  /wiki/Special:WhatLinksHere/Data_science\n",
      "Broken link detected. name[\" Related changes \"] =  /wiki/Special:RecentChangesLinked/Data_science\n",
      "Broken link detected. name[\" Upload file \"] =  /wiki/Wikipedia:File_Upload_Wizard\n",
      "Broken link detected. name[\" Special pages \"] =  /wiki/Special:SpecialPages\n",
      "Broken link detected. name[\" Permanent link \"] =  /w/index.php?title=Data_science&oldid=855744476\n",
      "Broken link detected. name[\" Page information \"] =  /w/index.php?title=Data_science&action=info\n",
      "Broken link detected. name[\" Cite this page \"] =  /w/index.php?title=Special:CiteThisPage&page=Data_science&id=855744476\n",
      "Broken link detected. name[\" Create a book \"] =  /w/index.php?title=Special:Book&bookcmd=book_creator&referer=Data+science\n",
      "Broken link detected. name[\" Download as PDF \"] =  /w/index.php?title=Special:ElectronPdf&page=Data+science&action=show-download-screen\n",
      "Broken link detected. name[\" Printable version \"] =  /w/index.php?title=Data_science&printable=yes\n",
      "Broken link detected. name[\" Creative Commons Attribution-ShareAlike License \"] =  //en.wikipedia.org/wiki/Wikipedia:Text_of_Creative_Commons_Attribution-ShareAlike_3.0_Unported_License\n",
      "Broken link detected. name[\" None \"] =  //creativecommons.org/licenses/by-sa/3.0/\n",
      "Broken link detected. name[\" Terms of Use \"] =  //wikimediafoundation.org/wiki/Terms_of_Use\n",
      "Broken link detected. name[\" Privacy Policy \"] =  //wikimediafoundation.org/wiki/Privacy_policy\n",
      "Broken link detected. name[\" Wikimedia Foundation, Inc. \"] =  //www.wikimediafoundation.org/\n",
      "Broken link detected. name[\" About Wikipedia \"] =  /wiki/Wikipedia:About\n",
      "Broken link detected. name[\" Disclaimers \"] =  /wiki/Wikipedia:General_disclaimer\n",
      "Broken link detected. name[\" Contact Wikipedia \"] =  //en.wikipedia.org/wiki/Wikipedia:Contact_us\n",
      "Broken link detected. name[\" Mobile view \"] =  //en.m.wikipedia.org/w/index.php?title=Data_science&mobileaction=toggle_view_mobile\n",
      "Broken link detected. name[\" None \"] =  //www.mediawiki.org/\n"
     ]
    }
   ],
   "source": [
    "for tlink in links:\n",
    "    checkUrl(tlink)"
   ]
  },
  {
   "cell_type": "code",
   "execution_count": null,
   "metadata": {},
   "outputs": [],
   "source": []
  }
 ],
 "metadata": {
  "kernelspec": {
   "display_name": "Python 3",
   "language": "python",
   "name": "python3"
  },
  "language_info": {
   "codemirror_mode": {
    "name": "ipython",
    "version": 3
   },
   "file_extension": ".py",
   "mimetype": "text/x-python",
   "name": "python",
   "nbconvert_exporter": "python",
   "pygments_lexer": "ipython3",
   "version": "3.6.4"
  }
 },
 "nbformat": 4,
 "nbformat_minor": 2
}
