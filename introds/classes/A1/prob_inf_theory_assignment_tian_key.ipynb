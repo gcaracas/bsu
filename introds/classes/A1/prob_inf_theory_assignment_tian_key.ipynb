{
 "cells": [
  {
   "cell_type": "markdown",
   "metadata": {},
   "source": [
    "# Assignment 2 - Elementary Probability and Information Theory \n",
    "# Boise State University DL - Dr. Kennington\n",
    "\n",
    "### Instructions and Hints:\n",
    "\n",
    "* This notebook loads some data into a `pandas` dataframe, then does a small amount of preprocessing. Make sure your data can load by stepping through all of the cells up until question 1. \n",
    "* Most of the questions require you to write some code. In many cases, you will write some kind of probability function like we did in class using the data. \n",
    "* Some of the questions only require you to write answers, so be sure to change the cell type to markdown or raw text\n",
    "* Don't worry about normalizing the text this time (e.g., lowercase, etc.). Just focus on probabilies. \n",
    "* Most questions can be answered in a single cell, but you can make as many additional cells as you need. \n",
    "* When complete, please export as HTML. Follow the instructions on the corresponding assignment Trello card for submitting your assignment. "
   ]
  },
  {
   "cell_type": "code",
   "execution_count": 1,
   "metadata": {
    "collapsed": true
   },
   "outputs": [],
   "source": [
    "import pandas as pd \n",
    "\n",
    "data = pd.read_csv('data/pnp-train.txt',delimiter='\\t',encoding='latin-1', # utf8 encoding didn't work for this\n",
    "                  names=['type','name']) # supply the column names for the dataframe\n",
    "\n",
    "# this next line creates a new column with the lower-cased first word\n",
    "data['first_word'] = data['name'].map(lambda x: x.lower().split()[0])"
   ]
  },
  {
   "cell_type": "code",
   "execution_count": 2,
   "metadata": {
    "collapsed": false
   },
   "outputs": [
    {
     "data": {
      "text/html": [
       "<div>\n",
       "<table border=\"1\" class=\"dataframe\">\n",
       "  <thead>\n",
       "    <tr style=\"text-align: right;\">\n",
       "      <th></th>\n",
       "      <th>type</th>\n",
       "      <th>name</th>\n",
       "      <th>first_word</th>\n",
       "    </tr>\n",
       "  </thead>\n",
       "  <tbody>\n",
       "    <tr>\n",
       "      <th>0</th>\n",
       "      <td>drug</td>\n",
       "      <td>Dilotab</td>\n",
       "      <td>dilotab</td>\n",
       "    </tr>\n",
       "    <tr>\n",
       "      <th>1</th>\n",
       "      <td>movie</td>\n",
       "      <td>Beastie Boys: Live in Glasgow</td>\n",
       "      <td>beastie</td>\n",
       "    </tr>\n",
       "    <tr>\n",
       "      <th>2</th>\n",
       "      <td>person</td>\n",
       "      <td>Michelle Ford-Eriksson</td>\n",
       "      <td>michelle</td>\n",
       "    </tr>\n",
       "    <tr>\n",
       "      <th>3</th>\n",
       "      <td>place</td>\n",
       "      <td>Ramsbury</td>\n",
       "      <td>ramsbury</td>\n",
       "    </tr>\n",
       "    <tr>\n",
       "      <th>4</th>\n",
       "      <td>place</td>\n",
       "      <td>Market Bosworth</td>\n",
       "      <td>market</td>\n",
       "    </tr>\n",
       "    <tr>\n",
       "      <th>5</th>\n",
       "      <td>drug</td>\n",
       "      <td>Cyanide Antidote Package</td>\n",
       "      <td>cyanide</td>\n",
       "    </tr>\n",
       "    <tr>\n",
       "      <th>6</th>\n",
       "      <td>person</td>\n",
       "      <td>Bill Johnson</td>\n",
       "      <td>bill</td>\n",
       "    </tr>\n",
       "    <tr>\n",
       "      <th>7</th>\n",
       "      <td>place</td>\n",
       "      <td>Ettalong</td>\n",
       "      <td>ettalong</td>\n",
       "    </tr>\n",
       "    <tr>\n",
       "      <th>8</th>\n",
       "      <td>movie</td>\n",
       "      <td>The Suicide Club</td>\n",
       "      <td>the</td>\n",
       "    </tr>\n",
       "    <tr>\n",
       "      <th>9</th>\n",
       "      <td>place</td>\n",
       "      <td>Pézenas</td>\n",
       "      <td>pézenas</td>\n",
       "    </tr>\n",
       "  </tbody>\n",
       "</table>\n",
       "</div>"
      ],
      "text/plain": [
       "     type                           name first_word\n",
       "0    drug                        Dilotab    dilotab\n",
       "1   movie  Beastie Boys: Live in Glasgow    beastie\n",
       "2  person         Michelle Ford-Eriksson   michelle\n",
       "3   place                       Ramsbury   ramsbury\n",
       "4   place                Market Bosworth     market\n",
       "5    drug       Cyanide Antidote Package    cyanide\n",
       "6  person                   Bill Johnson       bill\n",
       "7   place                       Ettalong   ettalong\n",
       "8   movie               The Suicide Club        the\n",
       "9   place                        Pézenas    pézenas"
      ]
     },
     "execution_count": 2,
     "metadata": {},
     "output_type": "execute_result"
    }
   ],
   "source": [
    "data[:10]"
   ]
  },
  {
   "cell_type": "code",
   "execution_count": 3,
   "metadata": {
    "collapsed": false
   },
   "outputs": [
    {
     "data": {
      "text/html": [
       "<div>\n",
       "<table border=\"1\" class=\"dataframe\">\n",
       "  <thead>\n",
       "    <tr style=\"text-align: right;\">\n",
       "      <th></th>\n",
       "      <th>type</th>\n",
       "      <th>name</th>\n",
       "      <th>first_word</th>\n",
       "    </tr>\n",
       "  </thead>\n",
       "  <tbody>\n",
       "    <tr>\n",
       "      <th>count</th>\n",
       "      <td>21001</td>\n",
       "      <td>21001</td>\n",
       "      <td>21001</td>\n",
       "    </tr>\n",
       "    <tr>\n",
       "      <th>unique</th>\n",
       "      <td>5</td>\n",
       "      <td>20992</td>\n",
       "      <td>13703</td>\n",
       "    </tr>\n",
       "    <tr>\n",
       "      <th>top</th>\n",
       "      <td>movie</td>\n",
       "      <td>Valentine</td>\n",
       "      <td>the</td>\n",
       "    </tr>\n",
       "    <tr>\n",
       "      <th>freq</th>\n",
       "      <td>6262</td>\n",
       "      <td>2</td>\n",
       "      <td>635</td>\n",
       "    </tr>\n",
       "  </tbody>\n",
       "</table>\n",
       "</div>"
      ],
      "text/plain": [
       "         type       name first_word\n",
       "count   21001      21001      21001\n",
       "unique      5      20992      13703\n",
       "top     movie  Valentine        the\n",
       "freq     6262          2        635"
      ]
     },
     "execution_count": 3,
     "metadata": {},
     "output_type": "execute_result"
    }
   ],
   "source": [
    "data.describe()"
   ]
  },
  {
   "cell_type": "markdown",
   "metadata": {},
   "source": [
    "## 1. Write a probability function/distribution $P(T)$ over the types. \n",
    "\n",
    "Hints:\n",
    "\n",
    "* The Counter library might be useful: `from collections import Counter`\n",
    "* Write a function `def P(T='')` that returns the probability of the specific value for T\n",
    "* You can access the types from the dataframe by calling `data['type']`"
   ]
  },
  {
   "cell_type": "code",
   "execution_count": 4,
   "metadata": {
    "collapsed": true
   },
   "outputs": [],
   "source": [
    "from collections import Counter\n",
    "data_types = data['type'].values\n",
    "length_type = len(data_types)\n",
    "stats_type = Counter(data_types)\n",
    "def P(T=''):\n",
    "    return stats_type[T] / length_type"
   ]
  },
  {
   "cell_type": "markdown",
   "metadata": {},
   "source": [
    "## 2. What is `P(T='movie')` ?"
   ]
  },
  {
   "cell_type": "code",
   "execution_count": 5,
   "metadata": {
    "collapsed": false
   },
   "outputs": [
    {
     "data": {
      "text/plain": [
       "0.29817627732012764"
      ]
     },
     "execution_count": 5,
     "metadata": {},
     "output_type": "execute_result"
    }
   ],
   "source": [
    "P('movie')"
   ]
  },
  {
   "cell_type": "markdown",
   "metadata": {},
   "source": [
    "## 3. Show that your probability distribution sums to one."
   ]
  },
  {
   "cell_type": "code",
   "execution_count": 6,
   "metadata": {
    "collapsed": false
   },
   "outputs": [
    {
     "data": {
      "text/plain": [
       "1.0"
      ]
     },
     "execution_count": 6,
     "metadata": {},
     "output_type": "execute_result"
    }
   ],
   "source": [
    "import numpy as np\n",
    "\n",
    "np.sum([P(x) for x in stats_type.keys()])"
   ]
  },
  {
   "cell_type": "markdown",
   "metadata": {},
   "source": [
    "## 4. Write a joint distribution using the type and the first word of the name\n",
    "\n",
    "Hints:\n",
    "\n",
    "* The function is $P2(T,W_1)$\n",
    "* You will need to count up types AND the first words, for example: ('person','bill)\n",
    "* Using the zip function was useful for me here"
   ]
  },
  {
   "cell_type": "code",
   "execution_count": 7,
   "metadata": {
    "collapsed": true
   },
   "outputs": [],
   "source": [
    "W1 = data['first_word'].values\n",
    "type_firstWord = list(zip(data_types, W1))\n",
    "length_joint_dist = len(type_firstWord)\n",
    "stats_joint_dist = Counter(type_firstWord)\n",
    "def P2(T='', W1=''):\n",
    "    return stats_joint_dist[(T, W1)] / length_joint_dist"
   ]
  },
  {
   "cell_type": "markdown",
   "metadata": {},
   "source": [
    "## 5. What is P2(T='person', W1='bill')? What about P2(T='movie',W1='the')?"
   ]
  },
  {
   "cell_type": "code",
   "execution_count": 8,
   "metadata": {
    "collapsed": false
   },
   "outputs": [
    {
     "data": {
      "text/plain": [
       "0.00047616780153326033"
      ]
     },
     "execution_count": 8,
     "metadata": {},
     "output_type": "execute_result"
    }
   ],
   "source": [
    "P2('person', 'bill')"
   ]
  },
  {
   "cell_type": "code",
   "execution_count": 9,
   "metadata": {
    "collapsed": false
   },
   "outputs": [
    {
     "data": {
      "text/plain": [
       "0.02747488214846912"
      ]
     },
     "execution_count": 9,
     "metadata": {},
     "output_type": "execute_result"
    }
   ],
   "source": [
    "P2('movie', 'the')"
   ]
  },
  {
   "cell_type": "markdown",
   "metadata": {},
   "source": [
    "## 6. Show that your probability distribution P(T,W1) sums to one."
   ]
  },
  {
   "cell_type": "code",
   "execution_count": 10,
   "metadata": {
    "collapsed": false
   },
   "outputs": [
    {
     "data": {
      "text/plain": [
       "1.0"
      ]
     },
     "execution_count": 10,
     "metadata": {},
     "output_type": "execute_result"
    }
   ],
   "source": [
    "np.sum([P2(type_word[0], type_word[1]) for type_word in stats_joint_dist.keys()])"
   ]
  },
  {
   "cell_type": "markdown",
   "metadata": {},
   "source": [
    "## 7. Make a new function Q(T) from marginalizing over P(T,W1) and make sure that Q(T) sums to one.\n",
    "\n",
    "Hints:\n",
    "\n",
    "* Your Q function will call P(T,W1)\n",
    "* Your check for the sum to one should be the same answer as Question 3, only it calls Q instead of P."
   ]
  },
  {
   "cell_type": "code",
   "execution_count": 11,
   "metadata": {
    "collapsed": true
   },
   "outputs": [],
   "source": [
    "def Q(T='movie'):\n",
    "    return np.sum([P2(type_word[0], type_word[1]) for type_word in stats_joint_dist.keys() if type_word[0] == T])"
   ]
  },
  {
   "cell_type": "code",
   "execution_count": 12,
   "metadata": {
    "collapsed": false
   },
   "outputs": [
    {
     "data": {
      "text/plain": [
       "0.29817627732012769"
      ]
     },
     "execution_count": 12,
     "metadata": {},
     "output_type": "execute_result"
    }
   ],
   "source": [
    "Q('movie')"
   ]
  },
  {
   "cell_type": "code",
   "execution_count": 13,
   "metadata": {
    "collapsed": false
   },
   "outputs": [
    {
     "data": {
      "text/plain": [
       "1.0"
      ]
     },
     "execution_count": 13,
     "metadata": {},
     "output_type": "execute_result"
    }
   ],
   "source": [
    "np.sum([Q(types) for types in stats_type.keys()])"
   ]
  },
  {
   "cell_type": "markdown",
   "metadata": {},
   "source": [
    "## 8. What is the KL Divergence of your Q function and your P function for Question 1?\n",
    "\n",
    "* Even if you know the answer, you still need to write code that computes it."
   ]
  },
  {
   "cell_type": "code",
   "execution_count": 14,
   "metadata": {
    "collapsed": false
   },
   "outputs": [
    {
     "data": {
      "text/plain": [
       "-8.5573099693762471e-17"
      ]
     },
     "execution_count": 14,
     "metadata": {},
     "output_type": "execute_result"
    }
   ],
   "source": [
    "np.sum([-P(types) * np.log10(Q(types) / P(types)) for types in stats_type.keys()])"
   ]
  },
  {
   "cell_type": "markdown",
   "metadata": {},
   "source": [
    "## 9. Convert from P(T,W1) to P(W1|T) \n",
    "\n",
    "Hints:\n",
    "\n",
    "* Just write a comment cell, no code this time. \n",
    "* Note that $P(T,W1) = P(W1,T)$"
   ]
  },
  {
   "cell_type": "markdown",
   "metadata": {},
   "source": [
    "## $P(W_1|T) = \\frac{P(W_1,T)}{P(T)}$"
   ]
  },
  {
   "cell_type": "markdown",
   "metadata": {},
   "source": [
    "## 10. Write a function `Pwt` (that calls the functions you already have) to compute $P(W_1|T)$.\n",
    "\n",
    "* This will be something like the multiplication rule, but you may need to change something"
   ]
  },
  {
   "cell_type": "code",
   "execution_count": 15,
   "metadata": {
    "collapsed": true
   },
   "outputs": [],
   "source": [
    "def Pwt(W1='', T=''):\n",
    "    return P2(T, W1)/P(T)"
   ]
  },
  {
   "cell_type": "markdown",
   "metadata": {},
   "source": [
    "## 11. What is P(W1='the'|T='movie')?"
   ]
  },
  {
   "cell_type": "code",
   "execution_count": 16,
   "metadata": {
    "collapsed": false
   },
   "outputs": [
    {
     "data": {
      "text/plain": [
       "0.09214308527626956"
      ]
     },
     "execution_count": 16,
     "metadata": {},
     "output_type": "execute_result"
    }
   ],
   "source": [
    "Pwt('the', 'movie')"
   ]
  },
  {
   "cell_type": "markdown",
   "metadata": {},
   "source": [
    "## 12. Use Baye's rule to convert from P(W1|T) to P(T|W1). Write a function Ptw to reflect this. \n",
    "\n",
    "Hints:\n",
    "\n",
    "* Call your other functions.\n",
    "* You may need to write a function for P(W1) and you may need a new counter for `data['first_word']`"
   ]
  },
  {
   "cell_type": "code",
   "execution_count": 17,
   "metadata": {
    "collapsed": true
   },
   "outputs": [],
   "source": [
    "data_W1 = data['first_word'].values\n",
    "length_W1 = len(data_W1)\n",
    "stats_W1 = Counter(data_W1)\n",
    "\n",
    "def Pw(W1=''):\n",
    "    return stats_W1[W1] / length_W1\n",
    "    \n",
    "def Ptw(W1='', T=''):\n",
    "    return Pwt(W1, T) * P(T) / Pw(W1)"
   ]
  },
  {
   "cell_type": "markdown",
   "metadata": {},
   "source": [
    "## 13 \n",
    "### What is P(T='movie'|W1='the')? \n",
    "### What about P(T='person'|W1='the')?\n",
    "### What about P(T='drug'|W1='the')?\n",
    "### What about P(T='place'|W1='the')\n",
    "### What about P(T='company'|W1='the')"
   ]
  },
  {
   "cell_type": "code",
   "execution_count": 18,
   "metadata": {
    "collapsed": false
   },
   "outputs": [
    {
     "data": {
      "text/plain": [
       "0.9086614173228347"
      ]
     },
     "execution_count": 18,
     "metadata": {},
     "output_type": "execute_result"
    }
   ],
   "source": [
    "Ptw('the', 'movie')"
   ]
  },
  {
   "cell_type": "code",
   "execution_count": 19,
   "metadata": {
    "collapsed": false
   },
   "outputs": [
    {
     "data": {
      "text/plain": [
       "0.0"
      ]
     },
     "execution_count": 19,
     "metadata": {},
     "output_type": "execute_result"
    }
   ],
   "source": [
    "Ptw('the', 'person')"
   ]
  },
  {
   "cell_type": "code",
   "execution_count": 20,
   "metadata": {
    "collapsed": false
   },
   "outputs": [
    {
     "data": {
      "text/plain": [
       "0.0"
      ]
     },
     "execution_count": 20,
     "metadata": {},
     "output_type": "execute_result"
    }
   ],
   "source": [
    "Ptw('the', 'drug')"
   ]
  },
  {
   "cell_type": "code",
   "execution_count": 21,
   "metadata": {
    "collapsed": false
   },
   "outputs": [
    {
     "data": {
      "text/plain": [
       "0.0015748031496062992"
      ]
     },
     "execution_count": 21,
     "metadata": {},
     "output_type": "execute_result"
    }
   ],
   "source": [
    "Ptw('the', 'place')"
   ]
  },
  {
   "cell_type": "code",
   "execution_count": 22,
   "metadata": {
    "collapsed": false
   },
   "outputs": [
    {
     "data": {
      "text/plain": [
       "0.08976377952755905"
      ]
     },
     "execution_count": 22,
     "metadata": {},
     "output_type": "execute_result"
    }
   ],
   "source": [
    "Ptw('the', 'company')"
   ]
  },
  {
   "cell_type": "markdown",
   "metadata": {},
   "source": [
    "## 14 Given this, if the word 'the' is found in a name, what is the most likely type?"
   ]
  },
  {
   "cell_type": "markdown",
   "metadata": {
    "collapsed": true
   },
   "source": [
    "**Movie**"
   ]
  },
  {
   "cell_type": "markdown",
   "metadata": {},
   "source": [
    "## 15. Is Ptw(T='movie'|W1='the') the same as Pwt(W1='the'|T='movie') the same? Why or why not?"
   ]
  },
  {
   "cell_type": "code",
   "execution_count": 23,
   "metadata": {
    "collapsed": false
   },
   "outputs": [
    {
     "data": {
      "text/plain": [
       "0.9086614173228347"
      ]
     },
     "execution_count": 23,
     "metadata": {},
     "output_type": "execute_result"
    }
   ],
   "source": [
    "Ptw('the', 'movie')"
   ]
  },
  {
   "cell_type": "code",
   "execution_count": 24,
   "metadata": {
    "collapsed": false
   },
   "outputs": [
    {
     "data": {
      "text/plain": [
       "0.09214308527626956"
      ]
     },
     "execution_count": 24,
     "metadata": {},
     "output_type": "execute_result"
    }
   ],
   "source": [
    "Pwt('the', 'movie')"
   ]
  },
  {
   "cell_type": "markdown",
   "metadata": {},
   "source": [
    "No, because conditional distributions aren't communative."
   ]
  },
  {
   "cell_type": "markdown",
   "metadata": {
    "collapsed": true
   },
   "source": [
    "## 16. Do you think modeling Ptw(T|W1) would be better with a continuous function like a Gaussian? Why or why not?\n",
    "\n",
    "* Not really beacuse words are countable, disecrete things. But there are ways...."
   ]
  },
  {
   "cell_type": "markdown",
   "metadata": {},
   "source": [
    "## 17. Determine the right probability distribution\n",
    "\n",
    "* Load the `rivers.csv` file and print out a histogram\n",
    "* Which disitrbutions do you think would fit the data for the `x` column? Here is a list: https://en.wikipedia.org/wiki/Category:Continuous_distributions\n",
    "* Hint: look at some of the exponential distributions, and maybe the Pareto\n",
    "* Use the principle of Maximum Entropy to detemrine which of the two distributions would best fit your data (you can sum over all values in your data)\n",
    "* You will need to estimate the parameters needed for each distribution (you may need to write maximum likelihood estimation functions for estimating your parameters)\n",
    "* You can use built-in python functions to model the distribution, if they exist. Otherwise, you may need to write your own\n",
    "* Show the Maximum Entropy calculations. \n",
    "* Calculate the KL divergence on the two distributions\n",
    "* make nice markdown commments so I know where everything is"
   ]
  },
  {
   "cell_type": "code",
   "execution_count": 25,
   "metadata": {
    "collapsed": true
   },
   "outputs": [],
   "source": [
    "%matplotlib inline  \n",
    "\n",
    "import matplotlib.pyplot as plt"
   ]
  },
  {
   "cell_type": "code",
   "execution_count": 26,
   "metadata": {
    "collapsed": true
   },
   "outputs": [],
   "source": [
    "data = pd.read_csv('data/rivers.csv') "
   ]
  },
  {
   "cell_type": "code",
   "execution_count": 27,
   "metadata": {
    "collapsed": false
   },
   "outputs": [
    {
     "data": {
      "text/html": [
       "<div>\n",
       "<table border=\"1\" class=\"dataframe\">\n",
       "  <thead>\n",
       "    <tr style=\"text-align: right;\">\n",
       "      <th></th>\n",
       "      <th>Unnamed: 0</th>\n",
       "      <th>x</th>\n",
       "    </tr>\n",
       "  </thead>\n",
       "  <tbody>\n",
       "    <tr>\n",
       "      <th>count</th>\n",
       "      <td>141.000000</td>\n",
       "      <td>141.000000</td>\n",
       "    </tr>\n",
       "    <tr>\n",
       "      <th>mean</th>\n",
       "      <td>71.000000</td>\n",
       "      <td>591.184397</td>\n",
       "    </tr>\n",
       "    <tr>\n",
       "      <th>std</th>\n",
       "      <td>40.847277</td>\n",
       "      <td>493.870842</td>\n",
       "    </tr>\n",
       "    <tr>\n",
       "      <th>min</th>\n",
       "      <td>1.000000</td>\n",
       "      <td>135.000000</td>\n",
       "    </tr>\n",
       "    <tr>\n",
       "      <th>25%</th>\n",
       "      <td>36.000000</td>\n",
       "      <td>310.000000</td>\n",
       "    </tr>\n",
       "    <tr>\n",
       "      <th>50%</th>\n",
       "      <td>71.000000</td>\n",
       "      <td>425.000000</td>\n",
       "    </tr>\n",
       "    <tr>\n",
       "      <th>75%</th>\n",
       "      <td>106.000000</td>\n",
       "      <td>680.000000</td>\n",
       "    </tr>\n",
       "    <tr>\n",
       "      <th>max</th>\n",
       "      <td>141.000000</td>\n",
       "      <td>3710.000000</td>\n",
       "    </tr>\n",
       "  </tbody>\n",
       "</table>\n",
       "</div>"
      ],
      "text/plain": [
       "       Unnamed: 0            x\n",
       "count  141.000000   141.000000\n",
       "mean    71.000000   591.184397\n",
       "std     40.847277   493.870842\n",
       "min      1.000000   135.000000\n",
       "25%     36.000000   310.000000\n",
       "50%     71.000000   425.000000\n",
       "75%    106.000000   680.000000\n",
       "max    141.000000  3710.000000"
      ]
     },
     "execution_count": 27,
     "metadata": {},
     "output_type": "execute_result"
    }
   ],
   "source": [
    "data.describe()"
   ]
  },
  {
   "cell_type": "code",
   "execution_count": 28,
   "metadata": {
    "collapsed": false
   },
   "outputs": [
    {
     "data": {
      "text/plain": [
       "<matplotlib.axes._subplots.AxesSubplot at 0x7f4e265af898>"
      ]
     },
     "execution_count": 28,
     "metadata": {},
     "output_type": "execute_result"
    },
    {
     "data": {
      "image/png": "[encoded data removed]",
      "text/plain": [
       "<matplotlib.figure.Figure at 0x7f4e265a4e10>"
      ]
     },
     "metadata": {},
     "output_type": "display_data"
    }
   ],
   "source": [
    "data.x.hist()"
   ]
  },
  {
   "cell_type": "markdown",
   "metadata": {},
   "source": [
    "Get the data of the column \"x\""
   ]
  },
  {
   "cell_type": "code",
   "execution_count": 29,
   "metadata": {
    "collapsed": true
   },
   "outputs": [],
   "source": [
    "X = data['x']"
   ]
  },
  {
   "cell_type": "markdown",
   "metadata": {},
   "source": [
    "Based on the histogram plot, the Exponential distribution seems good fitting into the data. And we also choose Gaussian distribution for comparison (the one that is not very close to this histogram).\n",
    "\n",
    "In order to estimate the parameters of these two distribution, we use the maximum likelihood estimation (MLE).\n",
    "- For the Gaussian distribution, $N \\sim (\\mu, \\sigma^2)$, we need to estimate the mean and standard deviation. And the MLE solution of the Gaussian distribution is: $\\hat{\\mu} = \\frac{1}{N}\\sum_{n=1}^{N}{x_n}$; $\\hat{\\sigma}^2 = \\frac{1}{N}\\sum_{n=1}^{N}{(x_n - \\hat{\\mu})^2}$\n",
    "- For the Exponential distribution, $E \\sim (\\lambda)$, we need to estimate the parameter $\\lambda$, which is estimated by MLE as: $\\hat{\\lambda} = \\frac{N}{\\sum_{n=1}^{N}{x_n}}$. This is the same as the reciprocal of the sample mean.\n",
    "\n",
    "Compute the estimation of parameters of the selected distributions."
   ]
  },
  {
   "cell_type": "code",
   "execution_count": 30,
   "metadata": {
    "collapsed": true
   },
   "outputs": [],
   "source": [
    "X_mean = np.mean(X)\n",
    "X_std = np.std(X)\n",
    "X_lambda = 1 / X_mean"
   ]
  },
  {
   "cell_type": "markdown",
   "metadata": {},
   "source": [
    "After getting these parameters, we want to compare the Entropy of fitted distributions.\n",
    "\n",
    "Using `scipy.stats` distribution functions to compute the values of the probability density functions."
   ]
  },
  {
   "cell_type": "code",
   "execution_count": 31,
   "metadata": {
    "collapsed": true
   },
   "outputs": [],
   "source": [
    "from scipy.stats import norm\n",
    "from scipy.stats import expon\n",
    "norm_pdf = norm.pdf(X, X_mean, X_std)\n",
    "expon_pdf = expon.pdf(X, loc=0, scale = 1 / X_lambda)"
   ]
  },
  {
   "cell_type": "markdown",
   "metadata": {},
   "source": [
    "Define a function to compute entropy:\n",
    "$$H(p) = -\\sum_{n=1}^{N}{P(X_n)log(P(X_n))}$$"
   ]
  },
  {
   "cell_type": "code",
   "execution_count": 32,
   "metadata": {
    "collapsed": true
   },
   "outputs": [],
   "source": [
    "def entropy(pdf):\n",
    "    return -np.sum([p * np.log(p) for p in pdf])"
   ]
  },
  {
   "cell_type": "markdown",
   "metadata": {},
   "source": [
    "Entropy of the Gassian distribution"
   ]
  },
  {
   "cell_type": "code",
   "execution_count": 33,
   "metadata": {
    "collapsed": false
   },
   "outputs": [
    {
     "data": {
      "text/plain": [
       "0.6817146718970013"
      ]
     },
     "execution_count": 33,
     "metadata": {},
     "output_type": "execute_result"
    }
   ],
   "source": [
    "entropy(norm_pdf)"
   ]
  },
  {
   "cell_type": "markdown",
   "metadata": {},
   "source": [
    "Entropy of the Exponential distribution"
   ]
  },
  {
   "cell_type": "code",
   "execution_count": 34,
   "metadata": {
    "collapsed": false
   },
   "outputs": [
    {
     "data": {
      "text/plain": [
       "0.75034777381086548"
      ]
     },
     "execution_count": 34,
     "metadata": {},
     "output_type": "execute_result"
    }
   ],
   "source": [
    "entropy(expon_pdf)"
   ]
  },
  {
   "cell_type": "markdown",
   "metadata": {},
   "source": [
    "From the values of entropy, we can see that the exponential distribution has a better fit.\n",
    "\n",
    "Calculate the KL divergence\n",
    "\n",
    "$$D_{KL}(P || Q) = \\sum_{n=1}^{N}{P(X_n)log(\\frac{P(X_n)}{Q(X_n)})}$$"
   ]
  },
  {
   "cell_type": "code",
   "execution_count": 35,
   "metadata": {
    "collapsed": false
   },
   "outputs": [
    {
     "data": {
      "text/plain": [
       "0.0044275769629730493"
      ]
     },
     "execution_count": 35,
     "metadata": {},
     "output_type": "execute_result"
    }
   ],
   "source": [
    "np.sum(-np.multiply(norm_pdf, np.log(np.divide(norm_pdf, expon_pdf))))"
   ]
  },
  {
   "cell_type": "markdown",
   "metadata": {},
   "source": [
    "We can see that the value is close to 0, which means these two fitted distribution are close to each other.\n",
    "\n",
    "We can plot it.\n",
    "- sort the values of X for plot."
   ]
  },
  {
   "cell_type": "code",
   "execution_count": 36,
   "metadata": {
    "collapsed": false
   },
   "outputs": [],
   "source": [
    "sortedIndex = np.argsort(X)"
   ]
  },
  {
   "cell_type": "code",
   "execution_count": 37,
   "metadata": {
    "collapsed": false
   },
   "outputs": [
    {
     "data": {
      "text/plain": [
       "[<matplotlib.lines.Line2D at 0x7f4e1cbe7f60>]"
      ]
     },
     "execution_count": 37,
     "metadata": {},
     "output_type": "execute_result"
    },
    {
     "data": {
      "image/png": "[encoded data removed]",
      "text/plain": [
       "<matplotlib.figure.Figure at 0x7f4e1cbc3160>"
      ]
     },
     "metadata": {},
     "output_type": "display_data"
    }
   ],
   "source": [
    "data.x.plot(kind='hist', normed=True)\n",
    "\n",
    "plt.plot(X[sortedIndex], norm_pdf[sortedIndex])\n",
    "plt.plot(X[sortedIndex], expon_pdf[sortedIndex])"
   ]
  }
 ],
 "metadata": {
  "kernelspec": {
   "display_name": "Python 3",
   "language": "python",
   "name": "python3"
  },
  "language_info": {
   "codemirror_mode": {
    "name": "ipython",
    "version": 3
   },
   "file_extension": ".py",
   "mimetype": "text/x-python",
   "name": "python",
   "nbconvert_exporter": "python",
   "pygments_lexer": "ipython3",
   "version": "3.6.0"
  }
 },
 "nbformat": 4,
 "nbformat_minor": 1
}
