{
 "cells": [
  {
   "cell_type": "markdown",
   "metadata": {},
   "source": [
    "#### Note: Before you read this, please read the `probability_theory-discrete` notebook."
   ]
  },
  {
   "cell_type": "markdown",
   "metadata": {},
   "source": [
    "# 1. When counting isn't enough"
   ]
  },
  {
   "cell_type": "markdown",
   "metadata": {},
   "source": [
    "Question:\n",
    "\n",
    "* What if I can't count?\n",
    "\n",
    "That question didn't come out right. The question really is: what if we are dealing with variables where we can't just simply count the relative frequencies? That's easy enough for things like words, but what about cases where the variables aren't so....**discrete**?"
   ]
  },
  {
   "cell_type": "markdown",
   "metadata": {},
   "source": [
    "#### Example: Write a probability distribution/function `P(W)` for cat weights. So if your friend Biff says \"I have a cat that weights 3.44 pounds\" (or is it kilos?) then you can tell Biff what P(W=3.44) is.\n",
    "\n",
    "So, you download the [catsM data](https://vincentarelbundock.github.io/Rdatasets/datasets.html), load it up, and you count up the relative frequencies:"
   ]
  },
  {
   "cell_type": "code",
   "execution_count": 1,
   "metadata": {},
   "outputs": [
    {
     "data": {
      "text/plain": [
       "97"
      ]
     },
     "execution_count": 1,
     "metadata": {},
     "output_type": "execute_result"
    }
   ],
   "source": [
    "import pandas as pd # <- the pandas library has a lot of nice things for working with data\n",
    "\n",
    "data = pd.read_csv('catsM.csv') # loads a pandas data frame\n",
    "\n",
    "len(data)"
   ]
  },
  {
   "cell_type": "code",
   "execution_count": 34,
   "metadata": {},
   "outputs": [
    {
     "data": {
      "text/html": [
       "<div>\n",
       "<style scoped>\n",
       "    .dataframe tbody tr th:only-of-type {\n",
       "        vertical-align: middle;\n",
       "    }\n",
       "\n",
       "    .dataframe tbody tr th {\n",
       "        vertical-align: top;\n",
       "    }\n",
       "\n",
       "    .dataframe thead th {\n",
       "        text-align: right;\n",
       "    }\n",
       "</style>\n",
       "<table border=\"1\" class=\"dataframe\">\n",
       "  <thead>\n",
       "    <tr style=\"text-align: right;\">\n",
       "      <th></th>\n",
       "      <th>Unnamed: 0</th>\n",
       "      <th>Sex</th>\n",
       "      <th>Bwt</th>\n",
       "      <th>Hwt</th>\n",
       "    </tr>\n",
       "  </thead>\n",
       "  <tbody>\n",
       "    <tr>\n",
       "      <th>0</th>\n",
       "      <td>1</td>\n",
       "      <td>M</td>\n",
       "      <td>2.0</td>\n",
       "      <td>6.5</td>\n",
       "    </tr>\n",
       "    <tr>\n",
       "      <th>1</th>\n",
       "      <td>2</td>\n",
       "      <td>M</td>\n",
       "      <td>2.0</td>\n",
       "      <td>6.5</td>\n",
       "    </tr>\n",
       "    <tr>\n",
       "      <th>2</th>\n",
       "      <td>3</td>\n",
       "      <td>M</td>\n",
       "      <td>2.1</td>\n",
       "      <td>10.1</td>\n",
       "    </tr>\n",
       "    <tr>\n",
       "      <th>3</th>\n",
       "      <td>4</td>\n",
       "      <td>M</td>\n",
       "      <td>2.2</td>\n",
       "      <td>7.2</td>\n",
       "    </tr>\n",
       "    <tr>\n",
       "      <th>4</th>\n",
       "      <td>5</td>\n",
       "      <td>M</td>\n",
       "      <td>2.2</td>\n",
       "      <td>7.6</td>\n",
       "    </tr>\n",
       "    <tr>\n",
       "      <th>5</th>\n",
       "      <td>6</td>\n",
       "      <td>M</td>\n",
       "      <td>2.2</td>\n",
       "      <td>7.9</td>\n",
       "    </tr>\n",
       "    <tr>\n",
       "      <th>6</th>\n",
       "      <td>7</td>\n",
       "      <td>M</td>\n",
       "      <td>2.2</td>\n",
       "      <td>8.5</td>\n",
       "    </tr>\n",
       "    <tr>\n",
       "      <th>7</th>\n",
       "      <td>8</td>\n",
       "      <td>M</td>\n",
       "      <td>2.2</td>\n",
       "      <td>9.1</td>\n",
       "    </tr>\n",
       "    <tr>\n",
       "      <th>8</th>\n",
       "      <td>9</td>\n",
       "      <td>M</td>\n",
       "      <td>2.2</td>\n",
       "      <td>9.6</td>\n",
       "    </tr>\n",
       "    <tr>\n",
       "      <th>9</th>\n",
       "      <td>10</td>\n",
       "      <td>M</td>\n",
       "      <td>2.2</td>\n",
       "      <td>9.6</td>\n",
       "    </tr>\n",
       "  </tbody>\n",
       "</table>\n",
       "</div>"
      ],
      "text/plain": [
       "   Unnamed: 0 Sex  Bwt   Hwt\n",
       "0           1   M  2.0   6.5\n",
       "1           2   M  2.0   6.5\n",
       "2           3   M  2.1  10.1\n",
       "3           4   M  2.2   7.2\n",
       "4           5   M  2.2   7.6\n",
       "5           6   M  2.2   7.9\n",
       "6           7   M  2.2   8.5\n",
       "7           8   M  2.2   9.1\n",
       "8           9   M  2.2   9.6\n",
       "9          10   M  2.2   9.6"
      ]
     },
     "execution_count": 34,
     "metadata": {},
     "output_type": "execute_result"
    }
   ],
   "source": [
    "data[:10] "
   ]
  },
  {
   "cell_type": "markdown",
   "metadata": {},
   "source": [
    "We're interested in the `Bwt` (body weight) column, so let's do what we did before and just count up the relative frequencies:"
   ]
  },
  {
   "cell_type": "code",
   "execution_count": 2,
   "metadata": {},
   "outputs": [
    {
     "data": {
      "text/plain": [
       "2.0"
      ]
     },
     "execution_count": 2,
     "metadata": {},
     "output_type": "execute_result"
    }
   ],
   "source": [
    "min(data.Bwt)"
   ]
  },
  {
   "cell_type": "code",
   "execution_count": 3,
   "metadata": {},
   "outputs": [
    {
     "data": {
      "text/plain": [
       "3.9"
      ]
     },
     "execution_count": 3,
     "metadata": {},
     "output_type": "execute_result"
    }
   ],
   "source": [
    "max(data.Bwt)"
   ]
  },
  {
   "cell_type": "code",
   "execution_count": 4,
   "metadata": {},
   "outputs": [],
   "source": [
    "from collections import Counter \n",
    "\n",
    "counts = Counter(data['Bwt']) # all the values in the Bwt column from the dataframe"
   ]
  },
  {
   "cell_type": "code",
   "execution_count": 5,
   "metadata": {},
   "outputs": [
    {
     "data": {
      "text/plain": [
       "Counter({2.0: 2,\n",
       "         2.1: 1,\n",
       "         2.2: 8,\n",
       "         2.3: 1,\n",
       "         2.4: 5,\n",
       "         2.5: 8,\n",
       "         2.6: 6,\n",
       "         2.7: 9,\n",
       "         2.8: 7,\n",
       "         2.9: 5,\n",
       "         3.0: 9,\n",
       "         3.1: 6,\n",
       "         3.2: 6,\n",
       "         3.3: 5,\n",
       "         3.4: 5,\n",
       "         3.5: 5,\n",
       "         3.6: 4,\n",
       "         3.7: 1,\n",
       "         3.8: 2,\n",
       "         3.9: 2})"
      ]
     },
     "execution_count": 5,
     "metadata": {},
     "output_type": "execute_result"
    }
   ],
   "source": [
    "counts"
   ]
  },
  {
   "cell_type": "markdown",
   "metadata": {},
   "source": [
    "You write your `P` function:"
   ]
  },
  {
   "cell_type": "code",
   "execution_count": 6,
   "metadata": {},
   "outputs": [],
   "source": [
    "def P(W=''):\n",
    "    global counts\n",
    "    global data\n",
    "    return counts[W] / len(data['Bwt'])"
   ]
  },
  {
   "cell_type": "markdown",
   "metadata": {},
   "source": [
    "And you test it out by making sure everything sums to one:"
   ]
  },
  {
   "cell_type": "code",
   "execution_count": 7,
   "metadata": {},
   "outputs": [
    {
     "data": {
      "text/plain": [
       "1.0"
      ]
     },
     "execution_count": 7,
     "metadata": {},
     "output_type": "execute_result"
    }
   ],
   "source": [
    "import numpy as np\n",
    "\n",
    "round(np.sum([P(W=x) for x in set(data['Bwt'])]),3)"
   ]
  },
  {
   "cell_type": "markdown",
   "metadata": {},
   "source": [
    "(After rounding errror) is basically one. So, you try to see how probable it is for Biff's cat: P(W=3.44)"
   ]
  },
  {
   "cell_type": "code",
   "execution_count": 8,
   "metadata": {},
   "outputs": [
    {
     "data": {
      "text/plain": [
       "0.0"
      ]
     },
     "execution_count": 8,
     "metadata": {},
     "output_type": "execute_result"
    }
   ],
   "source": [
    "P(W=3.44)"
   ]
  },
  {
   "cell_type": "markdown",
   "metadata": {},
   "source": [
    "*Wait, it's ZERO? How can that be? I mean,  the data points seem to range from 2.1 to 3.9, so what gives here? There should be some cats that weigh 3.44 pounds, right?*\n",
    "\n",
    "Yes, there are. This is an example of trying to treat continuous data as discrete. \n",
    "\n",
    "Question:\n",
    "\n",
    "* *What is the difference between discrete and continuous?*\n",
    "\n",
    "Answer: \n",
    "\n",
    "* Discrete: individually separate and distinct\n",
    "* Continuous: forming an unbroken whole; without interruption\n",
    "* Another way to look at it is discrete data are things you can count (like words), whereas continuous data are things that belong on a number range (like cat weights). \n",
    "\n",
    "Question:\n",
    "\n",
    "* *Can't we just make continuous data discrete by putting various ranges into pre-defined \"bins?\"*\n",
    "\n",
    "Answer:\n",
    "\n",
    "* Yes you can. But who is to say what the bins should be?\n",
    "\n",
    "I mean, we can try it. Let's bin from 1-2.5, 2.5-3, 3-3.5, 3.5-4."
   ]
  },
  {
   "cell_type": "raw",
   "metadata": {},
   "source": [
    "1.0 - 2.5 = small\n",
    "2.5 - 3.0 = medium\n",
    "3.0 - 3.5 = large\n",
    "3.5 - 4.0 = huge"
   ]
  },
  {
   "cell_type": "code",
   "execution_count": 21,
   "metadata": {},
   "outputs": [],
   "source": [
    "bins =    [1.0, 2.5,     3.0,     3.5,    4.0]\n",
    "group_names =  ['small','medium','large','huge'] "
   ]
  },
  {
   "cell_type": "code",
   "execution_count": 22,
   "metadata": {},
   "outputs": [],
   "source": [
    "# the pandas library has provisions for binning\n",
    "categories = pd.cut(data['Bwt'], bins, labels=group_names)\n",
    "data['categories'] = pd.cut(data['Bwt'], bins, labels=group_names)"
   ]
  },
  {
   "cell_type": "code",
   "execution_count": 23,
   "metadata": {},
   "outputs": [
    {
     "data": {
      "text/html": [
       "<div>\n",
       "<style scoped>\n",
       "    .dataframe tbody tr th:only-of-type {\n",
       "        vertical-align: middle;\n",
       "    }\n",
       "\n",
       "    .dataframe tbody tr th {\n",
       "        vertical-align: top;\n",
       "    }\n",
       "\n",
       "    .dataframe thead th {\n",
       "        text-align: right;\n",
       "    }\n",
       "</style>\n",
       "<table border=\"1\" class=\"dataframe\">\n",
       "  <thead>\n",
       "    <tr style=\"text-align: right;\">\n",
       "      <th></th>\n",
       "      <th>Unnamed: 0</th>\n",
       "      <th>Sex</th>\n",
       "      <th>Bwt</th>\n",
       "      <th>Hwt</th>\n",
       "      <th>categories</th>\n",
       "    </tr>\n",
       "  </thead>\n",
       "  <tbody>\n",
       "    <tr>\n",
       "      <th>0</th>\n",
       "      <td>1</td>\n",
       "      <td>M</td>\n",
       "      <td>2.0</td>\n",
       "      <td>6.5</td>\n",
       "      <td>small</td>\n",
       "    </tr>\n",
       "    <tr>\n",
       "      <th>1</th>\n",
       "      <td>2</td>\n",
       "      <td>M</td>\n",
       "      <td>2.0</td>\n",
       "      <td>6.5</td>\n",
       "      <td>small</td>\n",
       "    </tr>\n",
       "    <tr>\n",
       "      <th>2</th>\n",
       "      <td>3</td>\n",
       "      <td>M</td>\n",
       "      <td>2.1</td>\n",
       "      <td>10.1</td>\n",
       "      <td>small</td>\n",
       "    </tr>\n",
       "    <tr>\n",
       "      <th>3</th>\n",
       "      <td>4</td>\n",
       "      <td>M</td>\n",
       "      <td>2.2</td>\n",
       "      <td>7.2</td>\n",
       "      <td>small</td>\n",
       "    </tr>\n",
       "    <tr>\n",
       "      <th>4</th>\n",
       "      <td>5</td>\n",
       "      <td>M</td>\n",
       "      <td>2.2</td>\n",
       "      <td>7.6</td>\n",
       "      <td>small</td>\n",
       "    </tr>\n",
       "    <tr>\n",
       "      <th>5</th>\n",
       "      <td>6</td>\n",
       "      <td>M</td>\n",
       "      <td>2.2</td>\n",
       "      <td>7.9</td>\n",
       "      <td>small</td>\n",
       "    </tr>\n",
       "    <tr>\n",
       "      <th>6</th>\n",
       "      <td>7</td>\n",
       "      <td>M</td>\n",
       "      <td>2.2</td>\n",
       "      <td>8.5</td>\n",
       "      <td>small</td>\n",
       "    </tr>\n",
       "    <tr>\n",
       "      <th>7</th>\n",
       "      <td>8</td>\n",
       "      <td>M</td>\n",
       "      <td>2.2</td>\n",
       "      <td>9.1</td>\n",
       "      <td>small</td>\n",
       "    </tr>\n",
       "    <tr>\n",
       "      <th>8</th>\n",
       "      <td>9</td>\n",
       "      <td>M</td>\n",
       "      <td>2.2</td>\n",
       "      <td>9.6</td>\n",
       "      <td>small</td>\n",
       "    </tr>\n",
       "    <tr>\n",
       "      <th>9</th>\n",
       "      <td>10</td>\n",
       "      <td>M</td>\n",
       "      <td>2.2</td>\n",
       "      <td>9.6</td>\n",
       "      <td>small</td>\n",
       "    </tr>\n",
       "  </tbody>\n",
       "</table>\n",
       "</div>"
      ],
      "text/plain": [
       "   Unnamed: 0 Sex  Bwt   Hwt categories\n",
       "0           1   M  2.0   6.5      small\n",
       "1           2   M  2.0   6.5      small\n",
       "2           3   M  2.1  10.1      small\n",
       "3           4   M  2.2   7.2      small\n",
       "4           5   M  2.2   7.6      small\n",
       "5           6   M  2.2   7.9      small\n",
       "6           7   M  2.2   8.5      small\n",
       "7           8   M  2.2   9.1      small\n",
       "8           9   M  2.2   9.6      small\n",
       "9          10   M  2.2   9.6      small"
      ]
     },
     "execution_count": 23,
     "metadata": {},
     "output_type": "execute_result"
    }
   ],
   "source": [
    "data[:10]"
   ]
  },
  {
   "cell_type": "code",
   "execution_count": 24,
   "metadata": {},
   "outputs": [],
   "source": [
    "counts = Counter(data['categories'])"
   ]
  },
  {
   "cell_type": "code",
   "execution_count": 25,
   "metadata": {},
   "outputs": [
    {
     "data": {
      "text/plain": [
       "Counter({'small': 25, 'medium': 36, 'large': 27, 'huge': 9})"
      ]
     },
     "execution_count": 25,
     "metadata": {},
     "output_type": "execute_result"
    }
   ],
   "source": [
    "counts"
   ]
  },
  {
   "cell_type": "markdown",
   "metadata": {},
   "source": [
    "And since Biff's cat is 3.44 pounds, its binned as `large`. So what's P(W='large')?"
   ]
  },
  {
   "cell_type": "code",
   "execution_count": 26,
   "metadata": {},
   "outputs": [
    {
     "data": {
      "text/plain": [
       "0.27835051546391754"
      ]
     },
     "execution_count": 26,
     "metadata": {},
     "output_type": "execute_result"
    }
   ],
   "source": [
    "P(W='large')"
   ]
  },
  {
   "cell_type": "markdown",
   "metadata": {},
   "source": [
    "That actually doesn't seem unreasonable. \n",
    "\n",
    "However, it's not always easy to bin continuous data into discrete bins and counting data isn't always the best way to  write your probability functions/distributions. "
   ]
  },
  {
   "cell_type": "markdown",
   "metadata": {},
   "source": [
    "# 2. Writing Continuous Probability Functions/Distributions"
   ]
  },
  {
   "cell_type": "markdown",
   "metadata": {},
   "source": [
    "For some computer scientists, determining a probability function that is continuous it's not quite straight-forward.\n",
    "\n",
    "Well, maybe this will help: if probability distributions are functions, then is there another way of writing a function that could be continuous? I.e., can we write functions without first counting things? \n",
    "\n",
    "Yes, it turns out that most math functions are written like this. You probably recognize the function:\n",
    "\n",
    "$$y = mx + b$$\n",
    "\n",
    "As the generic linear function where $b$ is the value of y at the 0 intercept, and $x$ as the step of increase for every $y$. \n",
    "\n",
    "This is fairly straight-forward to define and apply in Python. We can even draw a nice graph:"
   ]
  },
  {
   "cell_type": "code",
   "execution_count": 31,
   "metadata": {},
   "outputs": [
    {
     "data": {
      "text/plain": [
       "[<matplotlib.lines.Line2D at 0x7fdefb1f9eb8>]"
      ]
     },
     "execution_count": 31,
     "metadata": {},
     "output_type": "execute_result"
    },
    {
     "data": {
      "image/png": "[encoded data removed]",
      "text/plain": [
       "<Figure size 432x288 with 1 Axes>"
      ]
     },
     "metadata": {},
     "output_type": "display_data"
    }
   ],
   "source": [
    "%matplotlib inline  \n",
    "\n",
    "import matplotlib.pyplot as plt\n",
    "\n",
    "# our function y = mx + b (default m=0.5 and b=5)\n",
    "def y(x, m=0.5, b=5):\n",
    "    return m * x + b\n",
    "\n",
    "# let's plot it for x values 0 to 100\n",
    "r = range(0,100)\n",
    "plt.plot(r, [y(x, m=0.1, b=2) for x in r])"
   ]
  },
  {
   "cell_type": "markdown",
   "metadata": {},
   "source": [
    "Above is just a simple linear function $y = 0.5 x + 5$. That's a simple **continuous** function. If only we could bend this line around to fit our data. That way, no matter what value we give to it, it will yield some kind of probability. \n",
    "\n",
    "Question:\n",
    "\n",
    "* *Okay, can we write a function like THAT for our cat data?*\n",
    "\n",
    "Answer:\n",
    "\n",
    "* Possibly. In order to do that, we have to determine what kind of function it looks like. To do that, we have to analyze the data a bit. \n",
    "\n",
    "We have our data stored in a `pandas` dataframe, so we can maybe use that to get some information about the underlying data. Remember, we're interested in `Bwt`:"
   ]
  },
  {
   "cell_type": "code",
   "execution_count": 32,
   "metadata": {},
   "outputs": [
    {
     "data": {
      "text/html": [
       "<div>\n",
       "<style scoped>\n",
       "    .dataframe tbody tr th:only-of-type {\n",
       "        vertical-align: middle;\n",
       "    }\n",
       "\n",
       "    .dataframe tbody tr th {\n",
       "        vertical-align: top;\n",
       "    }\n",
       "\n",
       "    .dataframe thead th {\n",
       "        text-align: right;\n",
       "    }\n",
       "</style>\n",
       "<table border=\"1\" class=\"dataframe\">\n",
       "  <thead>\n",
       "    <tr style=\"text-align: right;\">\n",
       "      <th></th>\n",
       "      <th>Unnamed: 0</th>\n",
       "      <th>Bwt</th>\n",
       "      <th>Hwt</th>\n",
       "    </tr>\n",
       "  </thead>\n",
       "  <tbody>\n",
       "    <tr>\n",
       "      <th>count</th>\n",
       "      <td>97.000000</td>\n",
       "      <td>97.000000</td>\n",
       "      <td>97.000000</td>\n",
       "    </tr>\n",
       "    <tr>\n",
       "      <th>mean</th>\n",
       "      <td>49.000000</td>\n",
       "      <td>2.900000</td>\n",
       "      <td>11.322680</td>\n",
       "    </tr>\n",
       "    <tr>\n",
       "      <th>std</th>\n",
       "      <td>28.145456</td>\n",
       "      <td>0.467484</td>\n",
       "      <td>2.542288</td>\n",
       "    </tr>\n",
       "    <tr>\n",
       "      <th>min</th>\n",
       "      <td>1.000000</td>\n",
       "      <td>2.000000</td>\n",
       "      <td>6.500000</td>\n",
       "    </tr>\n",
       "    <tr>\n",
       "      <th>25%</th>\n",
       "      <td>25.000000</td>\n",
       "      <td>2.500000</td>\n",
       "      <td>9.400000</td>\n",
       "    </tr>\n",
       "    <tr>\n",
       "      <th>50%</th>\n",
       "      <td>49.000000</td>\n",
       "      <td>2.900000</td>\n",
       "      <td>11.400000</td>\n",
       "    </tr>\n",
       "    <tr>\n",
       "      <th>75%</th>\n",
       "      <td>73.000000</td>\n",
       "      <td>3.200000</td>\n",
       "      <td>12.800000</td>\n",
       "    </tr>\n",
       "    <tr>\n",
       "      <th>max</th>\n",
       "      <td>97.000000</td>\n",
       "      <td>3.900000</td>\n",
       "      <td>20.500000</td>\n",
       "    </tr>\n",
       "  </tbody>\n",
       "</table>\n",
       "</div>"
      ],
      "text/plain": [
       "       Unnamed: 0        Bwt        Hwt\n",
       "count   97.000000  97.000000  97.000000\n",
       "mean    49.000000   2.900000  11.322680\n",
       "std     28.145456   0.467484   2.542288\n",
       "min      1.000000   2.000000   6.500000\n",
       "25%     25.000000   2.500000   9.400000\n",
       "50%     49.000000   2.900000  11.400000\n",
       "75%     73.000000   3.200000  12.800000\n",
       "max     97.000000   3.900000  20.500000"
      ]
     },
     "execution_count": 32,
     "metadata": {},
     "output_type": "execute_result"
    }
   ],
   "source": [
    "data.describe()"
   ]
  },
  {
   "cell_type": "code",
   "execution_count": 50,
   "metadata": {},
   "outputs": [
    {
     "data": {
      "text/plain": [
       "array([[<matplotlib.axes._subplots.AxesSubplot object at 0x7fe32c808f28>,\n",
       "        <matplotlib.axes._subplots.AxesSubplot object at 0x7fe32c831198>],\n",
       "       [<matplotlib.axes._subplots.AxesSubplot object at 0x7fe32c7d84a8>,\n",
       "        <matplotlib.axes._subplots.AxesSubplot object at 0x7fe32c7837b8>]],\n",
       "      dtype=object)"
      ]
     },
     "execution_count": 50,
     "metadata": {},
     "output_type": "execute_result"
    },
    {
     "data": {
      "image/png": "[encoded data removed]",
      "text/plain": [
       "<Figure size 432x288 with 4 Axes>"
      ]
     },
     "metadata": {},
     "output_type": "display_data"
    }
   ],
   "source": [
    "data.hist() # a way of binning and showing the frequencies of how things are binned"
   ]
  },
  {
   "cell_type": "markdown",
   "metadata": {},
   "source": [
    "These show something interesting. Let's look closer at the one for `Bwt`:"
   ]
  },
  {
   "cell_type": "code",
   "execution_count": 33,
   "metadata": {},
   "outputs": [
    {
     "name": "stderr",
     "output_type": "stream",
     "text": [
      "/home/casey/anaconda3/envs/fastai/lib/python3.6/site-packages/matplotlib/axes/_axes.py:6462: UserWarning: The 'normed' kwarg is deprecated, and has been replaced by the 'density' kwarg.\n",
      "  warnings.warn(\"The 'normed' kwarg is deprecated, and has been \"\n"
     ]
    },
    {
     "data": {
      "text/plain": [
       "<matplotlib.axes._subplots.AxesSubplot at 0x7fdefb148e10>"
      ]
     },
     "execution_count": 33,
     "metadata": {},
     "output_type": "execute_result"
    },
    {
     "data": {
      "image/png": "[encoded data removed]",
      "text/plain": [
       "<Figure size 432x288 with 1 Axes>"
      ]
     },
     "metadata": {},
     "output_type": "display_data"
    }
   ],
   "source": [
    "data.Bwt.plot(kind='hist', normed=True)"
   ]
  },
  {
   "cell_type": "markdown",
   "metadata": {},
   "source": [
    "Can we now draw a line that follows the histogram? If we could do that, then we'd have our function!"
   ]
  },
  {
   "cell_type": "code",
   "execution_count": 38,
   "metadata": {},
   "outputs": [
    {
     "name": "stderr",
     "output_type": "stream",
     "text": [
      "/home/casey/anaconda3/envs/fastai/lib/python3.6/site-packages/matplotlib/axes/_axes.py:6462: UserWarning: The 'normed' kwarg is deprecated, and has been replaced by the 'density' kwarg.\n",
      "  warnings.warn(\"The 'normed' kwarg is deprecated, and has been \"\n"
     ]
    },
    {
     "data": {
      "text/plain": [
       "[<matplotlib.lines.Line2D at 0x7fdef2cd9668>]"
      ]
     },
     "execution_count": 38,
     "metadata": {},
     "output_type": "execute_result"
    },
    {
     "data": {
      "image/png": "[encoded data removed]",
      "text/plain": [
       "<Figure size 432x288 with 1 Axes>"
      ]
     },
     "metadata": {},
     "output_type": "display_data"
    }
   ],
   "source": [
    "from scipy.stats import norm  \n",
    "\n",
    "data.Bwt.plot(kind='hist', normed=True)\n",
    "\n",
    "r = np.arange(1.5, 4, 0.001)\n",
    "plt.plot(r, norm.pdf(r,2.9,0.5))"
   ]
  },
  {
   "cell_type": "markdown",
   "metadata": {},
   "source": [
    "That actually doesn't look too bad. Can we use that? \n",
    "\n",
    "Yes. In fact, data so often looks like this, that this function is pre-defined in several Python libraries. You might recognize it as the \"bell curve\" or the \"normal curve.\" To sound smart at cocktail parties, we call this the **Gaussian**.\n",
    "\n",
    "I want you to notice the final line, which is actually the line that plots the function: \n",
    "`plt.plot(r, norm.pdf(range,2.9,0.5))`. \n",
    "\n",
    "The values `2.9` and `0.5` are values that tell the Gaussian where it's apex (i.e., center) should be and how wide the two tails on each end should be. I tried a few differnt values in both, but the one that \"looks like\" it fit the best was 2.9 for the center, and 0.5 for the width, which we see above.\n",
    "\n",
    "These two values are, respectively, the **mean** and the **standard deviation** (from the mean; denoted as \"std\")\n",
    "\n",
    "Those numbers look somewhat familiar. Let's look at the `describe()` function again (still focusing on `Bwt`):"
   ]
  },
  {
   "cell_type": "code",
   "execution_count": 39,
   "metadata": {},
   "outputs": [
    {
     "data": {
      "text/html": [
       "<div>\n",
       "<style scoped>\n",
       "    .dataframe tbody tr th:only-of-type {\n",
       "        vertical-align: middle;\n",
       "    }\n",
       "\n",
       "    .dataframe tbody tr th {\n",
       "        vertical-align: top;\n",
       "    }\n",
       "\n",
       "    .dataframe thead th {\n",
       "        text-align: right;\n",
       "    }\n",
       "</style>\n",
       "<table border=\"1\" class=\"dataframe\">\n",
       "  <thead>\n",
       "    <tr style=\"text-align: right;\">\n",
       "      <th></th>\n",
       "      <th>Unnamed: 0</th>\n",
       "      <th>Bwt</th>\n",
       "      <th>Hwt</th>\n",
       "    </tr>\n",
       "  </thead>\n",
       "  <tbody>\n",
       "    <tr>\n",
       "      <th>count</th>\n",
       "      <td>97.000000</td>\n",
       "      <td>97.000000</td>\n",
       "      <td>97.000000</td>\n",
       "    </tr>\n",
       "    <tr>\n",
       "      <th>mean</th>\n",
       "      <td>49.000000</td>\n",
       "      <td>2.900000</td>\n",
       "      <td>11.322680</td>\n",
       "    </tr>\n",
       "    <tr>\n",
       "      <th>std</th>\n",
       "      <td>28.145456</td>\n",
       "      <td>0.467484</td>\n",
       "      <td>2.542288</td>\n",
       "    </tr>\n",
       "    <tr>\n",
       "      <th>min</th>\n",
       "      <td>1.000000</td>\n",
       "      <td>2.000000</td>\n",
       "      <td>6.500000</td>\n",
       "    </tr>\n",
       "    <tr>\n",
       "      <th>25%</th>\n",
       "      <td>25.000000</td>\n",
       "      <td>2.500000</td>\n",
       "      <td>9.400000</td>\n",
       "    </tr>\n",
       "    <tr>\n",
       "      <th>50%</th>\n",
       "      <td>49.000000</td>\n",
       "      <td>2.900000</td>\n",
       "      <td>11.400000</td>\n",
       "    </tr>\n",
       "    <tr>\n",
       "      <th>75%</th>\n",
       "      <td>73.000000</td>\n",
       "      <td>3.200000</td>\n",
       "      <td>12.800000</td>\n",
       "    </tr>\n",
       "    <tr>\n",
       "      <th>max</th>\n",
       "      <td>97.000000</td>\n",
       "      <td>3.900000</td>\n",
       "      <td>20.500000</td>\n",
       "    </tr>\n",
       "  </tbody>\n",
       "</table>\n",
       "</div>"
      ],
      "text/plain": [
       "       Unnamed: 0        Bwt        Hwt\n",
       "count   97.000000  97.000000  97.000000\n",
       "mean    49.000000   2.900000  11.322680\n",
       "std     28.145456   0.467484   2.542288\n",
       "min      1.000000   2.000000   6.500000\n",
       "25%     25.000000   2.500000   9.400000\n",
       "50%     49.000000   2.900000  11.400000\n",
       "75%     73.000000   3.200000  12.800000\n",
       "max     97.000000   3.900000  20.500000"
      ]
     },
     "execution_count": 39,
     "metadata": {},
     "output_type": "execute_result"
    }
   ],
   "source": [
    "data.describe() "
   ]
  },
  {
   "cell_type": "markdown",
   "metadata": {},
   "source": [
    "*Hold the phone here, the \"mean\" value is 2.9 just like our center, and the \"std\" value is 0.467, which is pretty close to our 0.5! Do those numbers have anything to do with the function we need to write for this data?*\n",
    "\n",
    "Yes, they do. In fact, let's plug those two numbers into our plot:"
   ]
  },
  {
   "cell_type": "code",
   "execution_count": 40,
   "metadata": {},
   "outputs": [
    {
     "name": "stderr",
     "output_type": "stream",
     "text": [
      "/home/casey/anaconda3/envs/fastai/lib/python3.6/site-packages/matplotlib/axes/_axes.py:6462: UserWarning: The 'normed' kwarg is deprecated, and has been replaced by the 'density' kwarg.\n",
      "  warnings.warn(\"The 'normed' kwarg is deprecated, and has been \"\n"
     ]
    },
    {
     "data": {
      "text/plain": [
       "[<matplotlib.lines.Line2D at 0x7fdef2914da0>]"
      ]
     },
     "execution_count": 40,
     "metadata": {},
     "output_type": "execute_result"
    },
    {
     "data": {
      "image/png": "[encoded data removed]",
      "text/plain": [
       "<Figure size 432x288 with 1 Axes>"
      ]
     },
     "metadata": {},
     "output_type": "display_data"
    }
   ],
   "source": [
    "data.Bwt.plot(kind='hist', normed=True)\n",
    "r = np.arange(1.5, 4, 0.001)\n",
    "plt.plot(r, norm.pdf(r,2.9,0.467)) # <- plug those numbers in here"
   ]
  },
  {
   "cell_type": "markdown",
   "metadata": {},
   "source": [
    "That's even better than before! \n",
    "\n",
    "Question:\n",
    "\n",
    "* *So can we use those values to write our function? What was it called? The Gaussian?*\n",
    "\n",
    "Answer: \n",
    "\n",
    "* Yes! Let's write our probability function using the Gaussian function (which one can find on the Internetss):"
   ]
  },
  {
   "cell_type": "code",
   "execution_count": 41,
   "metadata": {},
   "outputs": [],
   "source": [
    "import math\n",
    "\n",
    "def P(W='', mean=2.9, std=0.467):\n",
    "    return 1.0 / (math.sqrt(2.0 * math.pi) * std) * math.exp(-(((W - mean)**2.0) / (2.0 * std ** 2.0)))"
   ]
  },
  {
   "cell_type": "markdown",
   "metadata": {},
   "source": [
    "That is, we can define the function with the **parameters** **mean** and **std**. Then we can give it any number we want, even if it wasn't in the training data, and it will give us a probability!\n",
    "\n",
    "Alright, Biff, the probability that your cat weights 3.44 lbs like you said is:"
   ]
  },
  {
   "cell_type": "code",
   "execution_count": 47,
   "metadata": {},
   "outputs": [
    {
     "data": {
      "text/plain": [
       "0.43777643662857885"
      ]
     },
     "execution_count": 47,
     "metadata": {},
     "output_type": "execute_result"
    }
   ],
   "source": [
    "P(W=3.44)"
   ]
  },
  {
   "cell_type": "markdown",
   "metadata": {},
   "source": [
    "(As a sanity check, let's make sure our Gaussian function for our probability distribution yields the same probability as if we used a built-in function written by a smart person)"
   ]
  },
  {
   "cell_type": "code",
   "execution_count": 48,
   "metadata": {},
   "outputs": [],
   "source": [
    "def P(W='', mean=2.9, std=0.467):\n",
    "    return norm.pdf(W,mean,std)"
   ]
  },
  {
   "cell_type": "code",
   "execution_count": 49,
   "metadata": {},
   "outputs": [
    {
     "data": {
      "text/plain": [
       "0.43777643662857885"
      ]
     },
     "execution_count": 49,
     "metadata": {},
     "output_type": "execute_result"
    }
   ],
   "source": [
    "P(W=3.44)"
   ]
  },
  {
   "cell_type": "markdown",
   "metadata": {},
   "source": [
    "Phew, they are (pretty much) the same. Sanity checked. "
   ]
  },
  {
   "cell_type": "markdown",
   "metadata": {},
   "source": [
    "Okay, now how probable would a tiny cat be? Say, 0.1 lbs?"
   ]
  },
  {
   "cell_type": "code",
   "execution_count": 50,
   "metadata": {},
   "outputs": [
    {
     "data": {
      "text/plain": [
       "1.3348981448786469e-08"
      ]
     },
     "execution_count": 50,
     "metadata": {},
     "output_type": "execute_result"
    }
   ],
   "source": [
    "P(W=0.1)"
   ]
  },
  {
   "cell_type": "markdown",
   "metadata": {},
   "source": [
    "So, very very not-probable.\n",
    "\n",
    "What about a huge cat that weighs 10 lbs?"
   ]
  },
  {
   "cell_type": "code",
   "execution_count": 51,
   "metadata": {},
   "outputs": [
    {
     "data": {
      "text/plain": [
       "5.486246224510481e-51"
      ]
     },
     "execution_count": 51,
     "metadata": {},
     "output_type": "execute_result"
    }
   ],
   "source": [
    "P(W=10)"
   ]
  },
  {
   "cell_type": "markdown",
   "metadata": {},
   "source": [
    "Also very improbable, as we might expect. Not impossible, but not probable at all. "
   ]
  },
  {
   "cell_type": "markdown",
   "metadata": {},
   "source": [
    "## Parameters.\n",
    "\n",
    "It turns out that the Gaussian equation is so useful that we can use it as a general formula for a lot of different continuous data, not just our cat weights. Here's the formula again:\n",
    "\n",
    "### $$n(x; \\mu, \\sigma) = \\frac{1}{\\sqrt{2\\pi}\\sigma} e^{\\frac{-(x - \\mu)^2}{2\\sigma^2}}$$"
   ]
  },
  {
   "cell_type": "markdown",
   "metadata": {},
   "source": [
    "So $n$ here is basically a special probability function that takes in **parameters** for the mean ($\\mu$) and the standard deviation ($\\sigma$) to tell the function where to center and how wide to set the tails (respectively) and then you can pass in whatever value you want for x and it will yield a probability. \n",
    "\n",
    "This kind of function is called a **parametric** function. Like with the descrete probability functions, we can use data to determine how the function should behave, but we don't count things. Instead, we learn the parameters. For the case of this Gaussian function, we only need to learn the parameters $\\mu$ and $\\sigma$. \n",
    "\n",
    "\n",
    "We can compute $\\mu$ and $\\sigma$ for any distribution, even our discrete ones we wrote in the previous notebook. Just use these formulas:\n",
    "\n",
    "### $$\\mu = \\frac{x}{\\sum_{x \\in X} x}$$ \n",
    "\n",
    "(i.e., the average) and the standard deviation is:\n",
    "\n",
    "### $$\\sigma = \\sqrt{\\frac{1}{N} \\sum_{i=1}^N (x_i - \\mu)^2 } $$\n",
    "\n",
    "Question:\n",
    "\n",
    "* This seems odd. Is it really true that we can calculate the mean and std using these equations, even if we are trying to come up with a continuous function? \n",
    "\n",
    "Answer:\n",
    "\n",
    "* Even if you are trying to \"model\" your distribution using a Gaussian, you will be using a bunch of individual data points. Data points (i.e., events or samples) can still be used to calculate these two important parameters using the above formulas. \n",
    "\n",
    "But we can do this easily with the numpy or pandas package:"
   ]
  },
  {
   "cell_type": "code",
   "execution_count": 52,
   "metadata": {},
   "outputs": [
    {
     "data": {
      "text/plain": [
       "2.8999999999999995"
      ]
     },
     "execution_count": 52,
     "metadata": {},
     "output_type": "execute_result"
    }
   ],
   "source": [
    "np.mean(data['Bwt'])"
   ]
  },
  {
   "cell_type": "code",
   "execution_count": 53,
   "metadata": {},
   "outputs": [
    {
     "data": {
      "text/plain": [
       "0.46506844635366784"
      ]
     },
     "execution_count": 53,
     "metadata": {},
     "output_type": "execute_result"
    }
   ],
   "source": [
    "np.std(data['Bwt'])"
   ]
  },
  {
   "cell_type": "markdown",
   "metadata": {},
   "source": [
    "Of course, one can compute the mean and std of ANY distribution. \n",
    "\n",
    "Question:\n",
    "\n",
    "* If we apply all the possible values to this Gaussian function, would it sum to one?\n",
    "\n",
    "Answer:\n",
    "\n",
    "* No (what precision should our values be anyway? 0.1? 0.01? 0.00001? Try summing all that up). Since this is continuous, instead of summing we would take the integral over the function. The integral result should be one. \n",
    "\n",
    "\n",
    "#### Note: This only works if the underlying data fit to a Gaussian kind of function. While this is a very common occurance allowing us to use the Gaussian function for a lot of different continuous kinds of data, it doesn't work everywhere. \n",
    "\n",
    "There are other kinds of parametric equations, like the **binomial** which works when there is a single variable and it can only take on two values (i.e., it's binary). It has very different parameters (`p` which is the probability of one of the values, and `n` the number of trials). This is actually a discrete distribution, but it's common since a lot of data is binary. In fact, there are whole families of parametric equations like this that we can use for our probability functions.\n",
    "\n"
   ]
  },
  {
   "cell_type": "markdown",
   "metadata": {
    "collapsed": true
   },
   "source": [
    "Question:\n",
    "    \n",
    "* Are there other continuous distributions that we should know about?\n",
    "\n",
    "Answer:\n",
    "\n",
    "* Yes, there are many of them: https://en.wikipedia.org/wiki/Category:Continuous_distributions\n",
    "\n",
    "\n",
    "Let's say you gather some data, you make a histogram, then you try to fit a function onto it:"
   ]
  },
  {
   "cell_type": "code",
   "execution_count": 133,
   "metadata": {
    "collapsed": true
   },
   "outputs": [],
   "source": [
    "y = [100,40,18,12.5,6.75,3.8,1.6,0.8,0.4,0.2,0.1]\n",
    "y = [x / max(y) for x in y]\n",
    "x = range(len(y))"
   ]
  },
  {
   "cell_type": "code",
   "execution_count": 134,
   "metadata": {},
   "outputs": [
    {
     "data": {
      "text/plain": [
       "[<matplotlib.lines.Line2D at 0x7f4a34322ef0>]"
      ]
     },
     "execution_count": 134,
     "metadata": {},
     "output_type": "execute_result"
    },
    {
     "data": {
      "image/png": "[encoded data removed]",
      "text/plain": [
       "<matplotlib.figure.Figure at 0x7f4a344d6b38>"
      ]
     },
     "metadata": {},
     "output_type": "display_data"
    }
   ],
   "source": [
    "plt.plot(x,y)"
   ]
  },
  {
   "cell_type": "markdown",
   "metadata": {},
   "source": [
    "* What kind of distribution is that? That most definitely is not Gaussian!\n",
    "\n",
    "It might be exponential. Let's try that:"
   ]
  },
  {
   "cell_type": "code",
   "execution_count": 131,
   "metadata": {
    "collapsed": true
   },
   "outputs": [],
   "source": [
    "def P(X='', l=0.5):\n",
    "     return l * (math.e ** (- l * X)) "
   ]
  },
  {
   "cell_type": "markdown",
   "metadata": {},
   "source": [
    "Unlike the Gaussian which needs the mean and std to determine how the function is placed and stretched, the exponential function needs lambda (`l`), which has something to do with the rate of exponential decay. If you want an accurate "
   ]
  },
  {
   "cell_type": "code",
   "execution_count": 132,
   "metadata": {},
   "outputs": [
    {
     "data": {
      "text/plain": [
       "0.18393972058572117"
      ]
     },
     "execution_count": 132,
     "metadata": {},
     "output_type": "execute_result"
    }
   ],
   "source": [
    "P(X=2)"
   ]
  },
  {
   "cell_type": "markdown",
   "metadata": {
    "collapsed": true
   },
   "source": [
    "### What about other distributions, like Bernoulli, Multinoulli, or Laplace?"
   ]
  },
  {
   "cell_type": "code",
   "execution_count": 31,
   "metadata": {},
   "outputs": [],
   "source": [
    "from IPython.display import YouTubeVideo"
   ]
  },
  {
   "cell_type": "code",
   "execution_count": 32,
   "metadata": {},
   "outputs": [
    {
     "data": {
      "image/jpeg": "[encoded data removed]",
      "text/html": [
       "\n",
       "        <iframe\n",
       "            width=\"400\"\n",
       "            height=\"300\"\n",
       "            src=\"https://www.youtube.com/embed/ce3kUWkY9IY\"\n",
       "            frameborder=\"0\"\n",
       "            allowfullscreen\n",
       "        ></iframe>\n",
       "        "
      ],
      "text/plain": [
       "<IPython.lib.display.YouTubeVideo at 0x7fe32d0ff9e8>"
      ]
     },
     "execution_count": 32,
     "metadata": {},
     "output_type": "execute_result"
    }
   ],
   "source": [
    "### PDF vs CDF\n",
    "YouTubeVideo('ce3kUWkY9IY')"
   ]
  },
  {
   "cell_type": "markdown",
   "metadata": {
    "collapsed": true
   },
   "source": [
    "### How do we learn parameters for data, given a particular distribution? \n",
    "\n",
    "For the moment, use maximum likelihood estimation (MLE). "
   ]
  },
  {
   "cell_type": "markdown",
   "metadata": {
    "collapsed": true
   },
   "source": [
    "Note: I recently downloaded the cat data again and there were more entries (144 instead of 97). The distribution was very different."
   ]
  },
  {
   "cell_type": "code",
   "execution_count": null,
   "metadata": {},
   "outputs": [],
   "source": []
  }
 ],
 "metadata": {
  "kernelspec": {
   "display_name": "Python 3",
   "language": "python",
   "name": "python3"
  },
  "language_info": {
   "codemirror_mode": {
    "name": "ipython",
    "version": 3
   },
   "file_extension": ".py",
   "mimetype": "text/x-python",
   "name": "python",
   "nbconvert_exporter": "python",
   "pygments_lexer": "ipython3",
   "version": "3.6.5"
  }
 },
 "nbformat": 4,
 "nbformat_minor": 1
}
