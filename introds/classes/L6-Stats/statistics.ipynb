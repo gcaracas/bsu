{
 "cells": [
  {
   "cell_type": "markdown",
   "metadata": {},
   "source": [
    "# Lab 6 - Statistics\n",
    "## Chapter 9\n",
    "*Joshua Chamberlain*"
   ]
  },
  {
   "cell_type": "markdown",
   "metadata": {},
   "source": [
    "## Utility Functions\n",
    "Functions to create the variables that magically appear in the book."
   ]
  },
  {
   "cell_type": "code",
   "execution_count": 1,
   "metadata": {},
   "outputs": [],
   "source": [
    "import pandas as pd\n",
    "import numpy as np\n",
    "import itertools\n",
    "from scipy.stats import pearsonr\n",
    "\n",
    "def build_pop():   \n",
    "    ret = pd.read_csv('./NST-EST2009-cleaned.csv', header=1, thousands=',', index_col=0)\n",
    "    ret.index.set_names(['State'], inplace=True)\n",
    "    return ret"
   ]
  },
  {
   "cell_type": "code",
   "execution_count": 2,
   "metadata": {},
   "outputs": [],
   "source": [
    "import pickle\n",
    "\n",
    "def build_alco():\n",
    "    with open('alco.pickle', 'rb') as f:\n",
    "        ret = pickle.load(f)\n",
    "        ret.drop(columns=['Total'], inplace=True)\n",
    "    return ret"
   ]
  },
  {
   "cell_type": "code",
   "execution_count": 3,
   "metadata": {},
   "outputs": [],
   "source": [
    "def build_alco2009():\n",
    "    data = pd.read_csv('./niaaa-report-filled-in-reversed.csv', index_col=[0, 1])\n",
    "    return data.xs(2009, level=1)"
   ]
  },
  {
   "cell_type": "markdown",
   "metadata": {},
   "source": [
    "## Unit 47: Doing Status the Python Way\n",
    "\n",
    "### Page 153"
   ]
  },
  {
   "cell_type": "code",
   "execution_count": 4,
   "metadata": {},
   "outputs": [],
   "source": [
    "import numpy.random as rnd\n",
    "rnd.seed(1)"
   ]
  },
  {
   "cell_type": "code",
   "execution_count": 5,
   "metadata": {},
   "outputs": [
    {
     "data": {
      "text/plain": [
       "0.9709778539165481"
      ]
     },
     "execution_count": 5,
     "metadata": {},
     "output_type": "execute_result"
    }
   ],
   "source": [
    "alco = build_alco() # Create the variable that mysteriously appears in the book.\n",
    "\n",
    "beer_seriesNY = alco.loc['New York']['Beer']\n",
    "beer_seriesCA = alco.loc['California']['Beer']\n",
    "\n",
    "beer_seriesNY.corr(beer_seriesCA)"
   ]
  },
  {
   "cell_type": "code",
   "execution_count": 6,
   "metadata": {},
   "outputs": [
    {
     "data": {
      "text/plain": [
       "0.017438162878787876"
      ]
     },
     "execution_count": 6,
     "metadata": {},
     "output_type": "execute_result"
    }
   ],
   "source": [
    "beer_seriesCA.cov(beer_seriesNY)"
   ]
  },
  {
   "cell_type": "code",
   "execution_count": 7,
   "metadata": {},
   "outputs": [
    {
     "data": {
      "text/plain": [
       "[0.1645729129297682, 0.3283810058631073]"
      ]
     },
     "execution_count": 7,
     "metadata": {},
     "output_type": "execute_result"
    }
   ],
   "source": [
    "[x.skew() for x in (beer_seriesCA, beer_seriesNY)]"
   ]
  },
  {
   "cell_type": "code",
   "execution_count": 8,
   "metadata": {},
   "outputs": [
    {
     "data": {
      "text/plain": [
       "Beer       0.328381\n",
       "Wine       0.127308\n",
       "Spirits    0.656699\n",
       "dtype: float64"
      ]
     },
     "execution_count": 8,
     "metadata": {},
     "output_type": "execute_result"
    }
   ],
   "source": [
    "frameNY = alco.loc['New York']\n",
    "frameNY.skew()"
   ]
  },
  {
   "cell_type": "code",
   "execution_count": 9,
   "metadata": {},
   "outputs": [
    {
     "data": {
      "text/html": [
       "<div>\n",
       "<style scoped>\n",
       "    .dataframe tbody tr th:only-of-type {\n",
       "        vertical-align: middle;\n",
       "    }\n",
       "\n",
       "    .dataframe tbody tr th {\n",
       "        vertical-align: top;\n",
       "    }\n",
       "\n",
       "    .dataframe thead th {\n",
       "        text-align: right;\n",
       "    }\n",
       "</style>\n",
       "<table border=\"1\" class=\"dataframe\">\n",
       "  <thead>\n",
       "    <tr style=\"text-align: right;\">\n",
       "      <th></th>\n",
       "      <th>Beer</th>\n",
       "      <th>Wine</th>\n",
       "      <th>Spirits</th>\n",
       "    </tr>\n",
       "  </thead>\n",
       "  <tbody>\n",
       "    <tr>\n",
       "      <th>Beer</th>\n",
       "      <td>1.000000</td>\n",
       "      <td>0.470690</td>\n",
       "      <td>0.908969</td>\n",
       "    </tr>\n",
       "    <tr>\n",
       "      <th>Wine</th>\n",
       "      <td>0.470690</td>\n",
       "      <td>1.000000</td>\n",
       "      <td>0.611923</td>\n",
       "    </tr>\n",
       "    <tr>\n",
       "      <th>Spirits</th>\n",
       "      <td>0.908969</td>\n",
       "      <td>0.611923</td>\n",
       "      <td>1.000000</td>\n",
       "    </tr>\n",
       "  </tbody>\n",
       "</table>\n",
       "</div>"
      ],
      "text/plain": [
       "             Beer      Wine   Spirits\n",
       "Beer     1.000000  0.470690  0.908969\n",
       "Wine     0.470690  1.000000  0.611923\n",
       "Spirits  0.908969  0.611923  1.000000"
      ]
     },
     "execution_count": 9,
     "metadata": {},
     "output_type": "execute_result"
    }
   ],
   "source": [
    "frameNY.corr()"
   ]
  },
  {
   "cell_type": "code",
   "execution_count": 10,
   "metadata": {},
   "outputs": [
    {
     "data": {
      "text/html": [
       "<div>\n",
       "<style scoped>\n",
       "    .dataframe tbody tr th:only-of-type {\n",
       "        vertical-align: middle;\n",
       "    }\n",
       "\n",
       "    .dataframe tbody tr th {\n",
       "        vertical-align: top;\n",
       "    }\n",
       "\n",
       "    .dataframe thead th {\n",
       "        text-align: right;\n",
       "    }\n",
       "</style>\n",
       "<table border=\"1\" class=\"dataframe\">\n",
       "  <thead>\n",
       "    <tr style=\"text-align: right;\">\n",
       "      <th></th>\n",
       "      <th>Beer</th>\n",
       "      <th>Wine</th>\n",
       "      <th>Spirits</th>\n",
       "    </tr>\n",
       "  </thead>\n",
       "  <tbody>\n",
       "    <tr>\n",
       "      <th>Beer</th>\n",
       "      <td>0.016103</td>\n",
       "      <td>0.002872</td>\n",
       "      <td>0.026020</td>\n",
       "    </tr>\n",
       "    <tr>\n",
       "      <th>Wine</th>\n",
       "      <td>0.002872</td>\n",
       "      <td>0.002312</td>\n",
       "      <td>0.006638</td>\n",
       "    </tr>\n",
       "    <tr>\n",
       "      <th>Spirits</th>\n",
       "      <td>0.026020</td>\n",
       "      <td>0.006638</td>\n",
       "      <td>0.050888</td>\n",
       "    </tr>\n",
       "  </tbody>\n",
       "</table>\n",
       "</div>"
      ],
      "text/plain": [
       "             Beer      Wine   Spirits\n",
       "Beer     0.016103  0.002872  0.026020\n",
       "Wine     0.002872  0.002312  0.006638\n",
       "Spirits  0.026020  0.006638  0.050888"
      ]
     },
     "execution_count": 10,
     "metadata": {},
     "output_type": "execute_result"
    }
   ],
   "source": [
    "frameNY.cov()"
   ]
  },
  {
   "cell_type": "markdown",
   "metadata": {},
   "source": [
    "### Page 154"
   ]
  },
  {
   "cell_type": "code",
   "execution_count": 11,
   "metadata": {},
   "outputs": [
    {
     "data": {
      "text/plain": [
       "Beer      -0.520878\n",
       "Wine       0.936026\n",
       "Spirits    0.957697\n",
       "dtype: float64"
      ]
     },
     "execution_count": 11,
     "metadata": {},
     "output_type": "execute_result"
    }
   ],
   "source": [
    "pop = build_pop() # Create the variable that mysteriously appears in the book.\n",
    "\n",
    "pop_seriesNY = pop.loc['New York'][:-2]\n",
    "pop_seriesNY.index = pop_seriesNY.index.str.split().str[-1].astype(int)\n",
    "\n",
    "frameNY.loc[2000:2009].corrwith(pop_seriesNY)"
   ]
  },
  {
   "cell_type": "code",
   "execution_count": 12,
   "metadata": {},
   "outputs": [
    {
     "data": {
      "text/html": [
       "<div>\n",
       "<style scoped>\n",
       "    .dataframe tbody tr th:only-of-type {\n",
       "        vertical-align: middle;\n",
       "    }\n",
       "\n",
       "    .dataframe tbody tr th {\n",
       "        vertical-align: top;\n",
       "    }\n",
       "\n",
       "    .dataframe thead th {\n",
       "        text-align: right;\n",
       "    }\n",
       "</style>\n",
       "<table border=\"1\" class=\"dataframe\">\n",
       "  <thead>\n",
       "    <tr style=\"text-align: right;\">\n",
       "      <th></th>\n",
       "      <th>r</th>\n",
       "      <th>p-value</th>\n",
       "    </tr>\n",
       "    <tr>\n",
       "      <th>bev</th>\n",
       "      <th></th>\n",
       "      <th></th>\n",
       "    </tr>\n",
       "  </thead>\n",
       "  <tbody>\n",
       "    <tr>\n",
       "      <th>Beer</th>\n",
       "      <td>-0.520878</td>\n",
       "      <td>0.122646</td>\n",
       "    </tr>\n",
       "    <tr>\n",
       "      <th>Wine</th>\n",
       "      <td>0.936026</td>\n",
       "      <td>0.000068</td>\n",
       "    </tr>\n",
       "    <tr>\n",
       "      <th>Spirits</th>\n",
       "      <td>0.957697</td>\n",
       "      <td>0.000013</td>\n",
       "    </tr>\n",
       "  </tbody>\n",
       "</table>\n",
       "</div>"
      ],
      "text/plain": [
       "                r   p-value\n",
       "bev                        \n",
       "Beer    -0.520878  0.122646\n",
       "Wine     0.936026  0.000068\n",
       "Spirits  0.957697  0.000013"
      ]
     },
     "execution_count": 12,
     "metadata": {},
     "output_type": "execute_result"
    }
   ],
   "source": [
    "from scipy.stats import pearsonr\n",
    "\n",
    "pop_sorted = pop_seriesNY.sort_index()\n",
    "alco_10 = alco.loc['New York'][-10:]\n",
    "\n",
    "corrs = [(bev,) + pearsonr(alco_10[bev], pop_sorted) for bev in alco_10.columns]\n",
    "pd.DataFrame(corrs, columns=(\"bev\", \"r\", \"p-value\")).set_index(\"bev\")\n",
    "                           "
   ]
  },
  {
   "cell_type": "markdown",
   "metadata": {},
   "source": [
    "### Page 155"
   ]
  },
  {
   "cell_type": "code",
   "execution_count": 13,
   "metadata": {},
   "outputs": [
    {
     "data": {
      "text/html": [
       "<div>\n",
       "<style scoped>\n",
       "    .dataframe tbody tr th:only-of-type {\n",
       "        vertical-align: middle;\n",
       "    }\n",
       "\n",
       "    .dataframe tbody tr th {\n",
       "        vertical-align: top;\n",
       "    }\n",
       "\n",
       "    .dataframe thead th {\n",
       "        text-align: right;\n",
       "    }\n",
       "</style>\n",
       "<table border=\"1\" class=\"dataframe\">\n",
       "  <thead>\n",
       "    <tr style=\"text-align: right;\">\n",
       "      <th></th>\n",
       "      <th>Beer</th>\n",
       "      <th>Wine</th>\n",
       "      <th>Spirits</th>\n",
       "    </tr>\n",
       "  </thead>\n",
       "  <tbody>\n",
       "    <tr>\n",
       "      <th>Beer</th>\n",
       "      <td>1.000000</td>\n",
       "      <td>-0.031560</td>\n",
       "      <td>0.452279</td>\n",
       "    </tr>\n",
       "    <tr>\n",
       "      <th>Wine</th>\n",
       "      <td>-0.031560</td>\n",
       "      <td>1.000000</td>\n",
       "      <td>0.599791</td>\n",
       "    </tr>\n",
       "    <tr>\n",
       "      <th>Spirits</th>\n",
       "      <td>0.452279</td>\n",
       "      <td>0.599791</td>\n",
       "      <td>1.000000</td>\n",
       "    </tr>\n",
       "  </tbody>\n",
       "</table>\n",
       "</div>"
      ],
      "text/plain": [
       "             Beer      Wine   Spirits\n",
       "Beer     1.000000 -0.031560  0.452279\n",
       "Wine    -0.031560  1.000000  0.599791\n",
       "Spirits  0.452279  0.599791  1.000000"
      ]
     },
     "execution_count": 13,
     "metadata": {},
     "output_type": "execute_result"
    }
   ],
   "source": [
    "alco2009 = build_alco2009() # Create the variable that mysteriously appears in the book.\n",
    "alco2009.corr()\n"
   ]
  },
  {
   "cell_type": "code",
   "execution_count": 14,
   "metadata": {},
   "outputs": [
    {
     "data": {
      "text/plain": [
       "(-0.031560488300856844, 0.825984813107873)"
      ]
     },
     "execution_count": 14,
     "metadata": {},
     "output_type": "execute_result"
    }
   ],
   "source": [
    "pearsonr(alco2009['Wine'], alco2009['Beer'])"
   ]
  },
  {
   "cell_type": "code",
   "execution_count": 15,
   "metadata": {},
   "outputs": [
    {
     "data": {
      "text/plain": [
       "Text(0,0.5,'Beer')"
      ]
     },
     "execution_count": 15,
     "metadata": {},
     "output_type": "execute_result"
    }
   ],
   "source": [
    "# Code not in book, but the graph is. I added this code for practice and to make it easier to correlate to the book.\n",
    "import matplotlib, matplotlib.pyplot as plt\n",
    "plt.title('Wine and Beer Consumption per Capita in the USA in 2009')\n",
    "plt.scatter(alco2009.Wine, alco2009.Beer, c='g')\n",
    "plt.xlabel('Wine')\n",
    "plt.ylabel('Beer')\n"
   ]
  },
  {
   "cell_type": "markdown",
   "metadata": {},
   "source": [
    "## Your Turn"
   ]
  },
  {
   "cell_type": "markdown",
   "metadata": {},
   "source": [
    "### Twenty-First Century S&P 500* \n",
    "> Write a program that reports some basic statistical measures of the closing values of the S&P 500 stock index: the mean, standard deviation, skewness, and correlation between the closing values and trading volume in the twenty-first century. Is the correlation reliable? You can download the historical prices from Yahoo! Finance.[42](https://finance.yahoo.com/quote/%5EGSPC/history?period1=978332400&period2=1538460000&interval=1d&filter=history&frequency=1d) Remember that the twenty-first century began on January 1, 2001.\n",
    "\n",
    "I downloaded the data into [GSPC.csv](./GSPC.csv).\n"
   ]
  },
  {
   "cell_type": "markdown",
   "metadata": {},
   "source": [
    "#### Load the Data"
   ]
  },
  {
   "cell_type": "code",
   "execution_count": 16,
   "metadata": {},
   "outputs": [
    {
     "data": {
      "text/html": [
       "<div>\n",
       "<style scoped>\n",
       "    .dataframe tbody tr th:only-of-type {\n",
       "        vertical-align: middle;\n",
       "    }\n",
       "\n",
       "    .dataframe tbody tr th {\n",
       "        vertical-align: top;\n",
       "    }\n",
       "\n",
       "    .dataframe thead th {\n",
       "        text-align: right;\n",
       "    }\n",
       "</style>\n",
       "<table border=\"1\" class=\"dataframe\">\n",
       "  <thead>\n",
       "    <tr style=\"text-align: right;\">\n",
       "      <th></th>\n",
       "      <th>Close</th>\n",
       "      <th>Volume</th>\n",
       "    </tr>\n",
       "    <tr>\n",
       "      <th>Date</th>\n",
       "      <th></th>\n",
       "      <th></th>\n",
       "    </tr>\n",
       "  </thead>\n",
       "  <tbody>\n",
       "    <tr>\n",
       "      <th>2001-01-02</th>\n",
       "      <td>1283.270020</td>\n",
       "      <td>1129400000</td>\n",
       "    </tr>\n",
       "    <tr>\n",
       "      <th>2001-01-03</th>\n",
       "      <td>1347.560059</td>\n",
       "      <td>1880700000</td>\n",
       "    </tr>\n",
       "    <tr>\n",
       "      <th>2001-01-04</th>\n",
       "      <td>1333.339966</td>\n",
       "      <td>2131000000</td>\n",
       "    </tr>\n",
       "    <tr>\n",
       "      <th>2001-01-05</th>\n",
       "      <td>1298.349976</td>\n",
       "      <td>1430800000</td>\n",
       "    </tr>\n",
       "    <tr>\n",
       "      <th>2001-01-08</th>\n",
       "      <td>1295.859985</td>\n",
       "      <td>1115500000</td>\n",
       "    </tr>\n",
       "  </tbody>\n",
       "</table>\n",
       "</div>"
      ],
      "text/plain": [
       "                  Close      Volume\n",
       "Date                               \n",
       "2001-01-02  1283.270020  1129400000\n",
       "2001-01-03  1347.560059  1880700000\n",
       "2001-01-04  1333.339966  2131000000\n",
       "2001-01-05  1298.349976  1430800000\n",
       "2001-01-08  1295.859985  1115500000"
      ]
     },
     "execution_count": 16,
     "metadata": {},
     "output_type": "execute_result"
    }
   ],
   "source": [
    "data = pd.read_csv('GSPC.csv', usecols=['Date', 'Close', 'Volume'], index_col='Date')\n",
    "data.head()"
   ]
  },
  {
   "cell_type": "markdown",
   "metadata": {},
   "source": [
    "#### Analyze the Data"
   ]
  },
  {
   "cell_type": "code",
   "execution_count": 17,
   "metadata": {},
   "outputs": [
    {
     "name": "stdout",
     "output_type": "stream",
     "text": [
      "Basic Statistical Measures\n"
     ]
    },
    {
     "data": {
      "text/html": [
       "<div>\n",
       "<style scoped>\n",
       "    .dataframe tbody tr th:only-of-type {\n",
       "        vertical-align: middle;\n",
       "    }\n",
       "\n",
       "    .dataframe tbody tr th {\n",
       "        vertical-align: top;\n",
       "    }\n",
       "\n",
       "    .dataframe thead th {\n",
       "        text-align: right;\n",
       "    }\n",
       "</style>\n",
       "<table border=\"1\" class=\"dataframe\">\n",
       "  <thead>\n",
       "    <tr style=\"text-align: right;\">\n",
       "      <th></th>\n",
       "      <th>Closing Values</th>\n",
       "      <th>Trading Volume</th>\n",
       "    </tr>\n",
       "  </thead>\n",
       "  <tbody>\n",
       "    <tr>\n",
       "      <th>Mean</th>\n",
       "      <td>1492.259445</td>\n",
       "      <td>3.169026e+09</td>\n",
       "    </tr>\n",
       "    <tr>\n",
       "      <th>Standard Deviation</th>\n",
       "      <td>508.496805</td>\n",
       "      <td>1.466269e+09</td>\n",
       "    </tr>\n",
       "    <tr>\n",
       "      <th>Skewness</th>\n",
       "      <td>0.978527</td>\n",
       "      <td>7.023795e-01</td>\n",
       "    </tr>\n",
       "    <tr>\n",
       "      <th>Correlation</th>\n",
       "      <td>0.141690</td>\n",
       "      <td>1.416902e-01</td>\n",
       "    </tr>\n",
       "  </tbody>\n",
       "</table>\n",
       "</div>"
      ],
      "text/plain": [
       "                    Closing Values  Trading Volume\n",
       "Mean                   1492.259445    3.169026e+09\n",
       "Standard Deviation      508.496805    1.466269e+09\n",
       "Skewness                  0.978527    7.023795e-01\n",
       "Correlation               0.141690    1.416902e-01"
      ]
     },
     "metadata": {},
     "output_type": "display_data"
    }
   ],
   "source": [
    "import IPython.display\n",
    "df = pd.DataFrame(index=['Mean', 'Standard Deviation', 'Skewness', 'Correlation'])\n",
    "df['Closing Values'] = [\n",
    "    data.Close.mean(),\n",
    "    data.Close.std(),\n",
    "    data.Close.skew(),\n",
    "    data.Close.corr(data.Volume)\n",
    "]\n",
    "df['Trading Volume'] = [\n",
    "    data.Volume.mean(),\n",
    "    data.Volume.std(),\n",
    "    data.Volume.skew(),\n",
    "    data.Volume.corr(data.Close)\n",
    "]\n",
    "\n",
    "print(\"Basic Statistical Measures\")\n",
    "display(df)"
   ]
  },
  {
   "cell_type": "markdown",
   "metadata": {},
   "source": [
    "*To better understand the correlation, I also want a $p$ value.*"
   ]
  },
  {
   "cell_type": "code",
   "execution_count": 18,
   "metadata": {},
   "outputs": [
    {
     "name": "stdout",
     "output_type": "stream",
     "text": [
      "The correlation of 0.141690 has p=1.848666E-21\n"
     ]
    }
   ],
   "source": [
    "cor, p = pearsonr(data.Close, data.Volume)\n",
    "print(\"The correlation of %f has p=%E\" % (cor, p))"
   ]
  },
  {
   "cell_type": "markdown",
   "metadata": {},
   "source": [
    "#### Sanity Check\n",
    "The tiny value of $p$ made me think I did something wrong. I expected a large value of $p$ because these features should be unrelated. I decided to plot the data for my sanity."
   ]
  },
  {
   "cell_type": "code",
   "execution_count": 19,
   "metadata": {
    "scrolled": true
   },
   "outputs": [
    {
     "data": {
      "text/plain": [
       "Text(0,0.5,'Trading Volume')"
      ]
     },
     "execution_count": 19,
     "metadata": {},
     "output_type": "execute_result"
    },
    {
     "data": {
      "image/png": "[encoded data removed]",
      "text/plain": [
       "<Figure size 432x288 with 1 Axes>"
      ]
     },
     "metadata": {},
     "output_type": "display_data"
    }
   ],
   "source": [
    "import numpy as np\n",
    "import matplotlib, matplotlib.pyplot as plt\n",
    "\n",
    "plt.scatter(data.Close, data.Volume)\n",
    "plt.xlabel(\"Closing Value\")\n",
    "plt.ylabel(\"Trading Volume\")\n"
   ]
  },
  {
   "cell_type": "markdown",
   "metadata": {},
   "source": [
    "This looks like a downward trend, so I thought the correlation should have been negative. Surely I did something wrong, right? Well, let's check. I used `numpy` to fit a trend line. For a positive correlation, the slope of the line should be positive. Let's see."
   ]
  },
  {
   "cell_type": "code",
   "execution_count": 20,
   "metadata": {},
   "outputs": [
    {
     "data": {
      "text/plain": [
       "Text(0,0.5,'Trading Volume')"
      ]
     },
     "execution_count": 20,
     "metadata": {},
     "output_type": "execute_result"
    },
    {
     "data": {
      "image/png": "[encoded data removed]",
      "text/plain": [
       "<Figure size 432x288 with 1 Axes>"
      ]
     },
     "metadata": {},
     "output_type": "display_data"
    }
   ],
   "source": [
    "import numpy as np\n",
    "\n",
    "m, b = np.polyfit(data.Close, data.Volume, 1)\n",
    "trend = data.Close * m + b\n",
    "\n",
    "\n",
    "plt.scatter(data.Close, data.Volume)\n",
    "plt.plot(data.Close, trend, c='y')\n",
    "plt.xlabel(\"Closing Value\")\n",
    "plt.ylabel(\"Trading Volume\")\n",
    "\n"
   ]
  },
  {
   "cell_type": "markdown",
   "metadata": {},
   "source": [
    "The trend line is actually going up, meaning the correlation value should actually be positive. It looks like the numbers are actually sane."
   ]
  },
  {
   "cell_type": "markdown",
   "metadata": {},
   "source": [
    "#### Summary\n",
    "With extremely high certainty ($p\\approx0$), there is a positive correlation between closing value and trading volume. This suggests that the more people trade, the higher the closing cost will be. Based on the $p$ value alone, this correlation is reliable. However, the correlation is so small, I would not consider it reliable.\n"
   ]
  },
  {
   "cell_type": "markdown",
   "metadata": {},
   "source": [
    "### Network of Nutrients***\n",
    "> The United States Department of Agriculture (USDA) nutrient database[43](https://www.ars.usda.gov/northeast-area/beltsville-md-bhnrc/beltsville-human-nutrition-research-center/nutrient-data-laboratory/docs/sr28-download-files/) contains information about approximately 9,000 food items and 150 constituent nutrients. Let's say that two nutrients are similar if their amounts in all food items are strongly and reliably correlated: the correlation is greater than 0.7 and the p-value is less than 0.01. Write a program that uses the nutrition data in the file `NUT_DATA.txt` to construct a network of similar nutrients (you may need to revisit Unit 40, *Harnessing Networkx*). Each nutrient in the network is a node, and two nodes are connected if two nutrients are similar. Does the network have any community structure? If it does, what nutrients go together?\n",
    "\n"
   ]
  },
  {
   "cell_type": "markdown",
   "metadata": {},
   "source": [
    "#### Load the Data\n",
    "Load the statistics about the different nutrients from one file, and the names of the nutrients from another."
   ]
  },
  {
   "cell_type": "code",
   "execution_count": 21,
   "metadata": {},
   "outputs": [
    {
     "data": {
      "text/html": [
       "<div>\n",
       "<style scoped>\n",
       "    .dataframe tbody tr th:only-of-type {\n",
       "        vertical-align: middle;\n",
       "    }\n",
       "\n",
       "    .dataframe tbody tr th {\n",
       "        vertical-align: top;\n",
       "    }\n",
       "\n",
       "    .dataframe thead th {\n",
       "        text-align: right;\n",
       "    }\n",
       "</style>\n",
       "<table border=\"1\" class=\"dataframe\">\n",
       "  <thead>\n",
       "    <tr style=\"text-align: right;\">\n",
       "      <th></th>\n",
       "      <th>Food</th>\n",
       "      <th>Nutrient</th>\n",
       "      <th>Amount</th>\n",
       "    </tr>\n",
       "  </thead>\n",
       "  <tbody>\n",
       "    <tr>\n",
       "      <th>0</th>\n",
       "      <td>01001</td>\n",
       "      <td>203</td>\n",
       "      <td>0.85</td>\n",
       "    </tr>\n",
       "    <tr>\n",
       "      <th>1</th>\n",
       "      <td>01001</td>\n",
       "      <td>204</td>\n",
       "      <td>81.11</td>\n",
       "    </tr>\n",
       "    <tr>\n",
       "      <th>2</th>\n",
       "      <td>01001</td>\n",
       "      <td>205</td>\n",
       "      <td>0.06</td>\n",
       "    </tr>\n",
       "    <tr>\n",
       "      <th>3</th>\n",
       "      <td>01001</td>\n",
       "      <td>207</td>\n",
       "      <td>2.11</td>\n",
       "    </tr>\n",
       "    <tr>\n",
       "      <th>4</th>\n",
       "      <td>01001</td>\n",
       "      <td>208</td>\n",
       "      <td>717.00</td>\n",
       "    </tr>\n",
       "  </tbody>\n",
       "</table>\n",
       "</div>"
      ],
      "text/plain": [
       "    Food Nutrient  Amount\n",
       "0  01001      203    0.85\n",
       "1  01001      204   81.11\n",
       "2  01001      205    0.06\n",
       "3  01001      207    2.11\n",
       "4  01001      208  717.00"
      ]
     },
     "execution_count": 21,
     "metadata": {},
     "output_type": "execute_result"
    }
   ],
   "source": [
    "import pandas as pd\n",
    "\n",
    "fields = [\n",
    "    'Food', # NDB_No in the documentation\n",
    "    'Nutrient', # Nutr_No in the documentation\n",
    "    'Amount', # Nutr_Val in the documentation\n",
    "    # Other columns we don't care about\n",
    "    'Num_Data_Pts','Std_Error','Src_Cd','Driv_Cd','Ref_NDB_No','Add_Nutr_Mark','Num_Studies', 'Min', 'Max','DF', 'Low_EB','Up_EB','Stat_cmt','AddMod_Data','CC']\n",
    "\n",
    "data = pd.read_csv('sr28asc/NUT_DATA.txt', delimiter='^', encoding='latin-1', header=None, names=fields,\n",
    "                       usecols=['Food', 'Nutrient', 'Amount'])\n",
    "data.Food = data.Food.apply(lambda x: x[1:-1]) # Remove the tildes from ~<ID>~\n",
    "data.Nutrient = data.Nutrient.apply(lambda x: x[1:-1]) # Remove the tildes from ~<ID>~\n",
    "data.head()\n"
   ]
  },
  {
   "cell_type": "code",
   "execution_count": 22,
   "metadata": {},
   "outputs": [
    {
     "data": {
      "text/html": [
       "<div>\n",
       "<style scoped>\n",
       "    .dataframe tbody tr th:only-of-type {\n",
       "        vertical-align: middle;\n",
       "    }\n",
       "\n",
       "    .dataframe tbody tr th {\n",
       "        vertical-align: top;\n",
       "    }\n",
       "\n",
       "    .dataframe thead th {\n",
       "        text-align: right;\n",
       "    }\n",
       "</style>\n",
       "<table border=\"1\" class=\"dataframe\">\n",
       "  <thead>\n",
       "    <tr style=\"text-align: right;\">\n",
       "      <th></th>\n",
       "      <th>tag</th>\n",
       "      <th>desc</th>\n",
       "    </tr>\n",
       "    <tr>\n",
       "      <th>id</th>\n",
       "      <th></th>\n",
       "      <th></th>\n",
       "    </tr>\n",
       "  </thead>\n",
       "  <tbody>\n",
       "    <tr>\n",
       "      <th>203</th>\n",
       "      <td>PROCNT</td>\n",
       "      <td>Protein</td>\n",
       "    </tr>\n",
       "    <tr>\n",
       "      <th>204</th>\n",
       "      <td>FAT</td>\n",
       "      <td>Total lipid (fat)</td>\n",
       "    </tr>\n",
       "    <tr>\n",
       "      <th>205</th>\n",
       "      <td>CHOCDF</td>\n",
       "      <td>Carbohydrate, by difference</td>\n",
       "    </tr>\n",
       "    <tr>\n",
       "      <th>207</th>\n",
       "      <td>ASH</td>\n",
       "      <td>Ash</td>\n",
       "    </tr>\n",
       "    <tr>\n",
       "      <th>208</th>\n",
       "      <td>ENERC_KCAL</td>\n",
       "      <td>Energy</td>\n",
       "    </tr>\n",
       "  </tbody>\n",
       "</table>\n",
       "</div>"
      ],
      "text/plain": [
       "            tag                         desc\n",
       "id                                          \n",
       "203      PROCNT                      Protein\n",
       "204         FAT            Total lipid (fat)\n",
       "205      CHOCDF  Carbohydrate, by difference\n",
       "207         ASH                          Ash\n",
       "208  ENERC_KCAL                       Energy"
      ]
     },
     "execution_count": 22,
     "metadata": {},
     "output_type": "execute_result"
    }
   ],
   "source": [
    "fields = [\n",
    "    'id', # 'Nutr_No'\n",
    "    'Units',\n",
    "    'tag', # Tagname\n",
    "    'desc', # NutrDesc\n",
    "    'Num_Dec', 'SR_Order']\n",
    "\n",
    "raw_nut_names = pd.read_csv('sr28asc/NUTR_DEF.txt', delimiter='^', encoding='latin-1', header=None, names=fields,\n",
    "                       usecols=[0,2,3])\n",
    "nut_names = raw_nut_names.applymap(lambda x: x[1:-1])\n",
    "nut_names.set_index('id', inplace=True)\n",
    "nut_names.head()"
   ]
  },
  {
   "cell_type": "markdown",
   "metadata": {},
   "source": [
    "#### Munge the Data\n",
    "The data is based on a relational database, so each row basically has a key for the type of food and type of nutrient. I want to be able to use this table with `pearsonr`. This means I need to create a column for every unique Nutrient value.\n",
    "\n",
    "I assume that missing values mean that a given nutrient is not present in a certain food, so I fill `NaN`s with `0`."
   ]
  },
  {
   "cell_type": "code",
   "execution_count": 23,
   "metadata": {},
   "outputs": [
    {
     "data": {
      "text/html": [
       "<div>\n",
       "<style scoped>\n",
       "    .dataframe tbody tr th:only-of-type {\n",
       "        vertical-align: middle;\n",
       "    }\n",
       "\n",
       "    .dataframe tbody tr th {\n",
       "        vertical-align: top;\n",
       "    }\n",
       "\n",
       "    .dataframe thead th {\n",
       "        text-align: right;\n",
       "    }\n",
       "</style>\n",
       "<table border=\"1\" class=\"dataframe\">\n",
       "  <thead>\n",
       "    <tr style=\"text-align: right;\">\n",
       "      <th>Nutrient</th>\n",
       "      <th>203</th>\n",
       "      <th>204</th>\n",
       "      <th>205</th>\n",
       "      <th>207</th>\n",
       "      <th>208</th>\n",
       "      <th>209</th>\n",
       "      <th>210</th>\n",
       "      <th>211</th>\n",
       "      <th>212</th>\n",
       "      <th>213</th>\n",
       "      <th>...</th>\n",
       "      <th>696</th>\n",
       "      <th>697</th>\n",
       "      <th>851</th>\n",
       "      <th>852</th>\n",
       "      <th>853</th>\n",
       "      <th>855</th>\n",
       "      <th>856</th>\n",
       "      <th>857</th>\n",
       "      <th>858</th>\n",
       "      <th>859</th>\n",
       "    </tr>\n",
       "    <tr>\n",
       "      <th>Food</th>\n",
       "      <th></th>\n",
       "      <th></th>\n",
       "      <th></th>\n",
       "      <th></th>\n",
       "      <th></th>\n",
       "      <th></th>\n",
       "      <th></th>\n",
       "      <th></th>\n",
       "      <th></th>\n",
       "      <th></th>\n",
       "      <th></th>\n",
       "      <th></th>\n",
       "      <th></th>\n",
       "      <th></th>\n",
       "      <th></th>\n",
       "      <th></th>\n",
       "      <th></th>\n",
       "      <th></th>\n",
       "      <th></th>\n",
       "      <th></th>\n",
       "      <th></th>\n",
       "    </tr>\n",
       "  </thead>\n",
       "  <tbody>\n",
       "    <tr>\n",
       "      <th>01001</th>\n",
       "      <td>0.85</td>\n",
       "      <td>81.11</td>\n",
       "      <td>0.06</td>\n",
       "      <td>2.11</td>\n",
       "      <td>717.0</td>\n",
       "      <td>0.0</td>\n",
       "      <td>0.0</td>\n",
       "      <td>0.0</td>\n",
       "      <td>0.0</td>\n",
       "      <td>0.0</td>\n",
       "      <td>...</td>\n",
       "      <td>0.0</td>\n",
       "      <td>0.0</td>\n",
       "      <td>0.315</td>\n",
       "      <td>0.000</td>\n",
       "      <td>0.000</td>\n",
       "      <td>0.0</td>\n",
       "      <td>0.000</td>\n",
       "      <td>0.0</td>\n",
       "      <td>0.00</td>\n",
       "      <td>0.0</td>\n",
       "    </tr>\n",
       "    <tr>\n",
       "      <th>01002</th>\n",
       "      <td>0.49</td>\n",
       "      <td>78.30</td>\n",
       "      <td>2.87</td>\n",
       "      <td>1.62</td>\n",
       "      <td>718.0</td>\n",
       "      <td>0.0</td>\n",
       "      <td>0.0</td>\n",
       "      <td>0.0</td>\n",
       "      <td>0.0</td>\n",
       "      <td>0.0</td>\n",
       "      <td>...</td>\n",
       "      <td>0.0</td>\n",
       "      <td>0.0</td>\n",
       "      <td>0.285</td>\n",
       "      <td>0.005</td>\n",
       "      <td>0.081</td>\n",
       "      <td>0.0</td>\n",
       "      <td>0.008</td>\n",
       "      <td>0.0</td>\n",
       "      <td>0.02</td>\n",
       "      <td>0.0</td>\n",
       "    </tr>\n",
       "    <tr>\n",
       "      <th>01003</th>\n",
       "      <td>0.28</td>\n",
       "      <td>99.48</td>\n",
       "      <td>0.00</td>\n",
       "      <td>0.00</td>\n",
       "      <td>876.0</td>\n",
       "      <td>0.0</td>\n",
       "      <td>0.0</td>\n",
       "      <td>0.0</td>\n",
       "      <td>0.0</td>\n",
       "      <td>0.0</td>\n",
       "      <td>...</td>\n",
       "      <td>0.0</td>\n",
       "      <td>0.0</td>\n",
       "      <td>0.000</td>\n",
       "      <td>0.000</td>\n",
       "      <td>0.000</td>\n",
       "      <td>0.0</td>\n",
       "      <td>0.000</td>\n",
       "      <td>0.0</td>\n",
       "      <td>0.00</td>\n",
       "      <td>0.0</td>\n",
       "    </tr>\n",
       "    <tr>\n",
       "      <th>01004</th>\n",
       "      <td>21.40</td>\n",
       "      <td>28.74</td>\n",
       "      <td>2.34</td>\n",
       "      <td>5.11</td>\n",
       "      <td>353.0</td>\n",
       "      <td>0.0</td>\n",
       "      <td>0.0</td>\n",
       "      <td>0.0</td>\n",
       "      <td>0.0</td>\n",
       "      <td>0.0</td>\n",
       "      <td>...</td>\n",
       "      <td>0.0</td>\n",
       "      <td>0.0</td>\n",
       "      <td>0.000</td>\n",
       "      <td>0.000</td>\n",
       "      <td>0.000</td>\n",
       "      <td>0.0</td>\n",
       "      <td>0.000</td>\n",
       "      <td>0.0</td>\n",
       "      <td>0.00</td>\n",
       "      <td>0.0</td>\n",
       "    </tr>\n",
       "    <tr>\n",
       "      <th>01005</th>\n",
       "      <td>23.24</td>\n",
       "      <td>29.68</td>\n",
       "      <td>2.79</td>\n",
       "      <td>3.18</td>\n",
       "      <td>371.0</td>\n",
       "      <td>0.0</td>\n",
       "      <td>0.0</td>\n",
       "      <td>0.0</td>\n",
       "      <td>0.0</td>\n",
       "      <td>0.0</td>\n",
       "      <td>...</td>\n",
       "      <td>0.0</td>\n",
       "      <td>0.0</td>\n",
       "      <td>0.000</td>\n",
       "      <td>0.000</td>\n",
       "      <td>0.000</td>\n",
       "      <td>0.0</td>\n",
       "      <td>0.000</td>\n",
       "      <td>0.0</td>\n",
       "      <td>0.00</td>\n",
       "      <td>0.0</td>\n",
       "    </tr>\n",
       "  </tbody>\n",
       "</table>\n",
       "<p>5 rows × 150 columns</p>\n",
       "</div>"
      ],
      "text/plain": [
       "Nutrient    203    204   205   207    208  209  210  211  212  213 ...   696  \\\n",
       "Food                                                               ...         \n",
       "01001      0.85  81.11  0.06  2.11  717.0  0.0  0.0  0.0  0.0  0.0 ...   0.0   \n",
       "01002      0.49  78.30  2.87  1.62  718.0  0.0  0.0  0.0  0.0  0.0 ...   0.0   \n",
       "01003      0.28  99.48  0.00  0.00  876.0  0.0  0.0  0.0  0.0  0.0 ...   0.0   \n",
       "01004     21.40  28.74  2.34  5.11  353.0  0.0  0.0  0.0  0.0  0.0 ...   0.0   \n",
       "01005     23.24  29.68  2.79  3.18  371.0  0.0  0.0  0.0  0.0  0.0 ...   0.0   \n",
       "\n",
       "Nutrient  697    851    852    853  855    856  857   858  859  \n",
       "Food                                                            \n",
       "01001     0.0  0.315  0.000  0.000  0.0  0.000  0.0  0.00  0.0  \n",
       "01002     0.0  0.285  0.005  0.081  0.0  0.008  0.0  0.02  0.0  \n",
       "01003     0.0  0.000  0.000  0.000  0.0  0.000  0.0  0.00  0.0  \n",
       "01004     0.0  0.000  0.000  0.000  0.0  0.000  0.0  0.00  0.0  \n",
       "01005     0.0  0.000  0.000  0.000  0.0  0.000  0.0  0.00  0.0  \n",
       "\n",
       "[5 rows x 150 columns]"
      ]
     },
     "execution_count": 23,
     "metadata": {},
     "output_type": "execute_result"
    }
   ],
   "source": [
    "amount_per_nutrient = data.pivot(index='Food', columns='Nutrient', values='Amount')\n",
    "amount_per_nutrient.fillna(value=0, inplace=True)\n",
    "amount_per_nutrient.head()"
   ]
  },
  {
   "cell_type": "markdown",
   "metadata": {},
   "source": [
    "Also, there are some missing values from the nutrient names, so that has to be fixed."
   ]
  },
  {
   "cell_type": "code",
   "execution_count": 24,
   "metadata": {},
   "outputs": [
    {
     "data": {
      "text/html": [
       "<div>\n",
       "<style scoped>\n",
       "    .dataframe tbody tr th:only-of-type {\n",
       "        vertical-align: middle;\n",
       "    }\n",
       "\n",
       "    .dataframe tbody tr th {\n",
       "        vertical-align: top;\n",
       "    }\n",
       "\n",
       "    .dataframe thead th {\n",
       "        text-align: right;\n",
       "    }\n",
       "</style>\n",
       "<table border=\"1\" class=\"dataframe\">\n",
       "  <thead>\n",
       "    <tr style=\"text-align: right;\">\n",
       "      <th></th>\n",
       "      <th>tag</th>\n",
       "      <th>desc</th>\n",
       "      <th>display</th>\n",
       "    </tr>\n",
       "    <tr>\n",
       "      <th>id</th>\n",
       "      <th></th>\n",
       "      <th></th>\n",
       "      <th></th>\n",
       "    </tr>\n",
       "  </thead>\n",
       "  <tbody>\n",
       "    <tr>\n",
       "      <th>203</th>\n",
       "      <td>PROCNT</td>\n",
       "      <td>Protein</td>\n",
       "      <td>PROCNT Protein</td>\n",
       "    </tr>\n",
       "    <tr>\n",
       "      <th>204</th>\n",
       "      <td>FAT</td>\n",
       "      <td>Total lipid (fat)</td>\n",
       "      <td>FAT Total lipid (fat)</td>\n",
       "    </tr>\n",
       "    <tr>\n",
       "      <th>205</th>\n",
       "      <td>CHOCDF</td>\n",
       "      <td>Carbohydrate, by difference</td>\n",
       "      <td>CHOCDF Carbohydrate, by difference</td>\n",
       "    </tr>\n",
       "    <tr>\n",
       "      <th>207</th>\n",
       "      <td>ASH</td>\n",
       "      <td>Ash</td>\n",
       "      <td>ASH Ash</td>\n",
       "    </tr>\n",
       "    <tr>\n",
       "      <th>208</th>\n",
       "      <td>ENERC_KCAL</td>\n",
       "      <td>Energy</td>\n",
       "      <td>ENERC_KCAL Energy</td>\n",
       "    </tr>\n",
       "  </tbody>\n",
       "</table>\n",
       "</div>"
      ],
      "text/plain": [
       "            tag                         desc  \\\n",
       "id                                             \n",
       "203      PROCNT                      Protein   \n",
       "204         FAT            Total lipid (fat)   \n",
       "205      CHOCDF  Carbohydrate, by difference   \n",
       "207         ASH                          Ash   \n",
       "208  ENERC_KCAL                       Energy   \n",
       "\n",
       "                                display  \n",
       "id                                       \n",
       "203                      PROCNT Protein  \n",
       "204               FAT Total lipid (fat)  \n",
       "205  CHOCDF Carbohydrate, by difference  \n",
       "207                             ASH Ash  \n",
       "208                   ENERC_KCAL Energy  "
      ]
     },
     "execution_count": 24,
     "metadata": {},
     "output_type": "execute_result"
    }
   ],
   "source": [
    "nut_names.tag.replace(to_replace='', value='(no name)', inplace=True)\n",
    "nut_names.desc.replace(to_replace='', value='(no description)', inplace=True)\n",
    "nut_names['display'] = nut_names.tag + ' ' + nut_names.desc\n",
    "nut_names.head()"
   ]
  },
  {
   "cell_type": "markdown",
   "metadata": {},
   "source": [
    "#### Analyze the Data\n",
    "Run `pearsonr` on every possible edge to determine if it should be added to the network."
   ]
  },
  {
   "cell_type": "code",
   "execution_count": 25,
   "metadata": {},
   "outputs": [],
   "source": [
    "# Every nutrient is a node\n",
    "nodes = amount_per_nutrient.columns.values\n",
    "\n",
    "# Get a list of every possible combination\n",
    "candidates = list(itertools.combinations(nodes, 2))\n",
    "\n",
    "# Run pearsonr to get the similarity between the two nodes of each tuple\n",
    "sim = [pearsonr(amount_per_nutrient[i], amount_per_nutrient[j]) for (i, j) in candidates]\n",
    "\n",
    "# Create a mask for valid edges, those with a correlation > 0.7 and a p value < 0.01\n",
    "valid_edge = [(c > 0.7 and p < 0.01) for (c,p) in sim]\n",
    "\n",
    "# Use that mask to create a list of edges\n",
    "edges = np.array(list(candidates))[valid_edge]"
   ]
  },
  {
   "cell_type": "markdown",
   "metadata": {},
   "source": [
    "**Use the list of edges to find cliques with `networkx`**\n",
    "\n",
    "The `find_cliques` method from `networkx` considers isolated nodes to be a clique of 1. Therefore, I'm measuring cliques prior to adding all nodes."
   ]
  },
  {
   "cell_type": "code",
   "execution_count": 26,
   "metadata": {},
   "outputs": [
    {
     "name": "stdout",
     "output_type": "stream",
     "text": [
      "There are 29 cliques, with 2.966 nutrients per clique:\n",
      "\tF18D2CLA 18:2 CLAs, F17D0 17:0\n",
      "\tILE_G Isoleucine, TRP_G Tryptophan, PRO_G Proline, ASP_G Aspartic acid, HISTN_G Histidine, LYS_G Lysine, MET_G Methionine, ALA_G Alanine, PROCNT Protein, TYR_G Tyrosine, GLY_G Glycine, SER_G Serine, LEU_G Leucine, ARG_G Arginine, THR_G Threonine, CYS_G Cystine, GLU_G Glutamic acid, VAL_G Valine, PHE_G Phenylalanine\n",
      "\tGLUS Glucose (dextrose), FRUS Fructose\n",
      "\tVITD Vitamin D, VITD Vitamin D (D2 + D3)\n",
      "\tF8D0 8:0, F10D0 10:0\n",
      "\tFATRNP Fatty acids, total trans-polyenoic, (no name) 18:2 i, FATRN Fatty acids, total trans, FATRNM Fatty acids, total trans-monoenoic, F18D1T 18:1 t\n",
      "\tFATRNP Fatty acids, total trans-polyenoic, (no name) 18:3i\n",
      "\tTOCPHG Tocopherol, gamma, TOCPHD Tocopherol, delta\n",
      "\tF16D0 16:0, F18D0 18:0, FASAT Fatty acids, total saturated\n",
      "\tF16D0 16:0, FAT Total lipid (fat), FASAT Fatty acids, total saturated\n",
      "\tF16D0 16:0, FAT Total lipid (fat), FAMS Fatty acids, total monounsaturated, F18D1 18:1 undifferentiated\n",
      "\tVITA_RAE Vitamin A, RAE, VITA_IU Vitamin A, IU\n",
      "\tVITA_RAE Vitamin A, RAE, RETOL Retinol\n",
      "\tF4D0 4:0, F6D0 6:0\n",
      "\tFOL Folate, total, FOLDFE Folate, DFE, FOLAC Folic acid\n",
      "\tF18D2 18:2 undifferentiated, FAPU Fatty acids, total polyunsaturated\n",
      "\tF22D6 22:6 n-3 (DHA), F20D5 20:5 n-3 (EPA), F22D5 22:5 n-3 (DPA), F18D4 18:4\n",
      "\tSITSTR Beta-sitosterol, CAMD5 Campesterol\n",
      "\tNA Sodium, Na, ASH Ash\n",
      "\tFAT Total lipid (fat), FAPU Fatty acids, total polyunsaturated\n",
      "\tFAT Total lipid (fat), ENERC_KJ Energy, ENERC_KCAL Energy\n",
      "\tF24D0 24:0, F22D0 22:0\n",
      "\tNIA Niacin, RIBF Riboflavin\n",
      "\tNIA Niacin, VITB6A Vitamin B-6\n",
      "\tF20D3N6 20:3 n-6, F20D3 20:3 undifferentiated\n",
      "\tF18D3CN3 18:3 n-3 c,c,c (ALA), F18D3 18:3 undifferentiated\n",
      "\tF12D0 12:0, F10D0 10:0\n",
      "\tF22D5 22:5 n-3 (DPA), F21D5 21:5\n",
      "\tF20D0 20:0, F22D0 22:0\n"
     ]
    }
   ],
   "source": [
    "import networkx as nx\n",
    "\n",
    "G = nx.Graph()\n",
    "\n",
    "G.add_edges_from(edges)\n",
    "clique_list = list(nx.find_cliques(G))\n",
    "clique_sizes = np.array([len(x) for x in clique_list])\n",
    "cliques = [', '.join([nut_names.display[x] for x in y ]) for y in clique_list]\n",
    "\n",
    "print(\"There are %d cliques, with %.3f nutrients per clique:\" % (len(cliques), clique_sizes.mean()))\n",
    "print('\\t' + '\\n\\t'.join(cliques))"
   ]
  },
  {
   "cell_type": "markdown",
   "metadata": {},
   "source": [
    "**Look for isolated nodes**\n",
    "\n",
    "So far, isolated nodes will not exist in the graph. I only added nodes by adding edges. Now I'll add every node.\n"
   ]
  },
  {
   "cell_type": "code",
   "execution_count": 27,
   "metadata": {},
   "outputs": [
    {
     "name": "stdout",
     "output_type": "stream",
     "text": [
      "There are 77 isolated nodes. The first 10:\n",
      "\tCA Calcium, Ca\n",
      "\tMG Magnesium, Mg\n",
      "\tLYCPN Lycopene\n",
      "\tVITC Vitamin C, total ascorbic acid\n",
      "\tSE Selenium, Se\n",
      "\tF22D1C 22:1 c\n",
      "\tMN Manganese, Mn\n",
      "\tSUGAR Sugars, total\n",
      "\tF16D1C 16:1 c\n",
      "\tCU Copper, Cu\n"
     ]
    }
   ],
   "source": [
    "G.add_nodes_from(nut_names.index.values)\n",
    "# isolated = list(nx.isolates(G))\n",
    "\n",
    "\n",
    "isolated = [nut_names.display[x] for x in nx.isolates(G)]\n",
    "print(\"There are %d isolated nodes. The first 10:\" % len(isolated))\n",
    "print('\\t' + '\\n\\t'.join(isolated[:10]))"
   ]
  },
  {
   "cell_type": "markdown",
   "metadata": {},
   "source": [
    "#### Summary\n",
    "Just over half of the nutrients (77 out of 150) do not have a significant similarity to any other nutrient. For those that do, their communities are typically small (on average just under 3)."
   ]
  }
 ],
 "metadata": {
  "kernelspec": {
   "display_name": "Python 3",
   "language": "python",
   "name": "python3"
  },
  "language_info": {
   "codemirror_mode": {
    "name": "ipython",
    "version": 3
   },
   "file_extension": ".py",
   "mimetype": "text/x-python",
   "name": "python",
   "nbconvert_exporter": "python",
   "pygments_lexer": "ipython3",
   "version": "3.5.2"
  },
  "toc": {
   "base_numbering": 1,
   "nav_menu": {
    "height": "159px",
    "width": "160px"
   },
   "number_sections": false,
   "sideBar": true,
   "skip_h1_title": true,
   "title_cell": "Table of Contents",
   "title_sidebar": "Contents",
   "toc_cell": false,
   "toc_position": {
    "height": "calc(100% - 180px)",
    "left": "10px",
    "top": "150px",
    "width": "377.6px"
   },
   "toc_section_display": true,
   "toc_window_display": true
  },
  "varInspector": {
   "cols": {
    "lenName": 16,
    "lenType": 16,
    "lenVar": 40
   },
   "kernels_config": {
    "python": {
     "delete_cmd_postfix": "",
     "delete_cmd_prefix": "del ",
     "library": "var_list.py",
     "varRefreshCmd": "print(var_dic_list())"
    },
    "r": {
     "delete_cmd_postfix": ") ",
     "delete_cmd_prefix": "rm(",
     "library": "var_list.r",
     "varRefreshCmd": "cat(var_dic_list()) "
    }
   },
   "types_to_exclude": [
    "module",
    "function",
    "builtin_function_or_method",
    "instance",
    "_Feature"
   ],
   "window_display": false
  }
 },
 "nbformat": 4,
 "nbformat_minor": 2
}
