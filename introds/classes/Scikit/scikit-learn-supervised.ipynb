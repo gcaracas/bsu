{
 "cells": [
  {
   "cell_type": "markdown",
   "metadata": {},
   "source": [
    "# Supervised Learning with scikit-learn\n",
    "\n",
    "* http://scikit-learn.org/stable/supervised_learning.html\n",
    "* Bare bones Python ML implementations: https://github.com/eriklindernoren/ML-From-Scratch\n",
    "\n",
    "### Classification Metrics:\n",
    "\n",
    "* http://scikit-learn.org/stable/modules/model_evaluation.html\n",
    "* Today we will be using accuracy (compare to fscore, mrr, ...)"
   ]
  },
  {
   "cell_type": "code",
   "execution_count": 1,
   "metadata": {},
   "outputs": [],
   "source": [
    "import pandas as pd\n",
    "import numpy as np\n",
    "from collections import Counter"
   ]
  },
  {
   "cell_type": "markdown",
   "metadata": {},
   "source": [
    "## Prepare Data (once again, sentiment analysis)"
   ]
  },
  {
   "cell_type": "code",
   "execution_count": 2,
   "metadata": {},
   "outputs": [
    {
     "data": {
      "text/plain": [
       "(8001, 4)"
      ]
     },
     "execution_count": 2,
     "metadata": {},
     "output_type": "execute_result"
    }
   ],
   "source": [
    "data = pd.read_pickle('sentiment.pkl')\n",
    "\n",
    "data.shape"
   ]
  },
  {
   "cell_type": "code",
   "execution_count": 3,
   "metadata": {},
   "outputs": [
    {
     "data": {
      "text/html": [
       "<div>\n",
       "<style scoped>\n",
       "    .dataframe tbody tr th:only-of-type {\n",
       "        vertical-align: middle;\n",
       "    }\n",
       "\n",
       "    .dataframe tbody tr th {\n",
       "        vertical-align: top;\n",
       "    }\n",
       "\n",
       "    .dataframe thead th {\n",
       "        text-align: right;\n",
       "    }\n",
       "</style>\n",
       "<table border=\"1\" class=\"dataframe\">\n",
       "  <thead>\n",
       "    <tr style=\"text-align: right;\">\n",
       "      <th></th>\n",
       "      <th>polarity</th>\n",
       "      <th>tweet</th>\n",
       "      <th>split_tweet</th>\n",
       "      <th>w2v</th>\n",
       "    </tr>\n",
       "  </thead>\n",
       "  <tbody>\n",
       "    <tr>\n",
       "      <th>888312</th>\n",
       "      <td>4</td>\n",
       "      <td>Breaky burrito at Whole Foods is a good way to...</td>\n",
       "      <td>[breaky, burrito, at, whole, foods, is, a, goo...</td>\n",
       "      <td>[-0.077301025, 0.6977997, 1.0196915, 2.9152832...</td>\n",
       "    </tr>\n",
       "    <tr>\n",
       "      <th>516573</th>\n",
       "      <td>0</td>\n",
       "      <td>i'm out! gonna check my facebook. please!!!!!!...</td>\n",
       "      <td>[i'm, out, !, gonna, check, my, facebook, ., p...</td>\n",
       "      <td>[0.74108887, -0.13287354, 0.54785156, 1.409133...</td>\n",
       "    </tr>\n",
       "    <tr>\n",
       "      <th>970735</th>\n",
       "      <td>4</td>\n",
       "      <td>yay just won mac msf in petticoat on ebay and ...</td>\n",
       "      <td>[yay, just, won, mac, msf, in, petticoat, on, ...</td>\n",
       "      <td>[0.20593262, -0.48257446, -0.27441406, 1.66168...</td>\n",
       "    </tr>\n",
       "    <tr>\n",
       "      <th>862961</th>\n",
       "      <td>4</td>\n",
       "      <td>@shezDOPEx3 i love you more</td>\n",
       "      <td>[i, love, you, more]</td>\n",
       "      <td>[0.14550781, -0.41455078, 0.107910156, 0.83886...</td>\n",
       "    </tr>\n",
       "    <tr>\n",
       "      <th>122643</th>\n",
       "      <td>0</td>\n",
       "      <td>@mahdi Maybe the problem is from my ISP</td>\n",
       "      <td>[maybe, the, problem, is, from, my, isp]</td>\n",
       "      <td>[0.318573, 0.029671669, 0.38720703, 1.3040771,...</td>\n",
       "    </tr>\n",
       "  </tbody>\n",
       "</table>\n",
       "</div>"
      ],
      "text/plain": [
       "        polarity                                              tweet  \\\n",
       "888312         4  Breaky burrito at Whole Foods is a good way to...   \n",
       "516573         0  i'm out! gonna check my facebook. please!!!!!!...   \n",
       "970735         4  yay just won mac msf in petticoat on ebay and ...   \n",
       "862961         4                       @shezDOPEx3 i love you more    \n",
       "122643         0           @mahdi Maybe the problem is from my ISP    \n",
       "\n",
       "                                              split_tweet  \\\n",
       "888312  [breaky, burrito, at, whole, foods, is, a, goo...   \n",
       "516573  [i'm, out, !, gonna, check, my, facebook, ., p...   \n",
       "970735  [yay, just, won, mac, msf, in, petticoat, on, ...   \n",
       "862961                               [i, love, you, more]   \n",
       "122643           [maybe, the, problem, is, from, my, isp]   \n",
       "\n",
       "                                                      w2v  \n",
       "888312  [-0.077301025, 0.6977997, 1.0196915, 2.9152832...  \n",
       "516573  [0.74108887, -0.13287354, 0.54785156, 1.409133...  \n",
       "970735  [0.20593262, -0.48257446, -0.27441406, 1.66168...  \n",
       "862961  [0.14550781, -0.41455078, 0.107910156, 0.83886...  \n",
       "122643  [0.318573, 0.029671669, 0.38720703, 1.3040771,...  "
      ]
     },
     "execution_count": 3,
     "metadata": {},
     "output_type": "execute_result"
    }
   ],
   "source": [
    "data[:5]"
   ]
  },
  {
   "cell_type": "code",
   "execution_count": 4,
   "metadata": {},
   "outputs": [
    {
     "data": {
      "text/plain": [
       "((7201, 4), (800, 4), Counter({4: 3586, 0: 3615}))"
      ]
     },
     "execution_count": 4,
     "metadata": {},
     "output_type": "execute_result"
    }
   ],
   "source": [
    "dev=data.sample(frac=0.1,random_state=200)\n",
    "train=data.drop(dev.index)\n",
    "\n",
    "\n",
    "train.shape, dev.shape, Counter(train.polarity)"
   ]
  },
  {
   "cell_type": "code",
   "execution_count": null,
   "metadata": {},
   "outputs": [],
   "source": []
  },
  {
   "cell_type": "code",
   "execution_count": 5,
   "metadata": {},
   "outputs": [
    {
     "data": {
      "text/plain": [
       "((3615,), (3586,))"
      ]
     },
     "execution_count": 5,
     "metadata": {},
     "output_type": "execute_result"
    }
   ],
   "source": [
    "neg = train[train.polarity == 0]\n",
    "pos = train[train.polarity == 4]\n",
    "\n",
    "neg.w2v.shape, pos.w2v.shape"
   ]
  },
  {
   "cell_type": "code",
   "execution_count": 6,
   "metadata": {},
   "outputs": [
    {
     "data": {
      "text/plain": [
       "888312    [-0.077301025, 0.6977997, 1.0196915, 2.9152832...\n",
       "Name: w2v, dtype: object"
      ]
     },
     "execution_count": 6,
     "metadata": {},
     "output_type": "execute_result"
    }
   ],
   "source": [
    "pos.w2v[:1]"
   ]
  },
  {
   "cell_type": "code",
   "execution_count": 7,
   "metadata": {},
   "outputs": [
    {
     "data": {
      "text/plain": [
       "[0, 0, 0, 0, 0, 0, 0, 0, 0, 0]"
      ]
     },
     "execution_count": 7,
     "metadata": {},
     "output_type": "execute_result"
    }
   ],
   "source": [
    "[0] * 10"
   ]
  },
  {
   "cell_type": "code",
   "execution_count": 8,
   "metadata": {},
   "outputs": [
    {
     "data": {
      "text/plain": [
       "7158"
      ]
     },
     "execution_count": 8,
     "metadata": {},
     "output_type": "execute_result"
    }
   ],
   "source": [
    "pos = [x for x in pos.w2v if type(x) is not np.float64]\n",
    "neg = [x for x in neg.w2v if type(x) is not np.float64]\n",
    "labels = len(neg) * [0] + len(pos) * [1]\n",
    "\n",
    "train_data =  list(neg) + list(pos)\n",
    "\n",
    "len(train_data)"
   ]
  },
  {
   "cell_type": "markdown",
   "metadata": {},
   "source": [
    "## Logistic Regression"
   ]
  },
  {
   "cell_type": "code",
   "execution_count": 9,
   "metadata": {},
   "outputs": [],
   "source": [
    "from sklearn import linear_model\n",
    "model = linear_model.LogisticRegression(penalty='l2')"
   ]
  },
  {
   "cell_type": "markdown",
   "metadata": {},
   "source": [
    "## Support Vector Machines"
   ]
  },
  {
   "cell_type": "code",
   "execution_count": 43,
   "metadata": {
    "collapsed": true
   },
   "outputs": [],
   "source": [
    "from sklearn import svm\n",
    "model = svm.SVC()"
   ]
  },
  {
   "cell_type": "code",
   "execution_count": 45,
   "metadata": {
    "collapsed": true
   },
   "outputs": [],
   "source": [
    "# Linear SVM\n",
    "model = svm.LinearSVC()"
   ]
  },
  {
   "cell_type": "markdown",
   "metadata": {},
   "source": [
    "## Decision Tree\n",
    "\n",
    "* A deeper explanation: http://nbviewer.jupyter.org/github/justmarkham/DAT4/blob/master/notebooks/15_decision_trees.ipynb"
   ]
  },
  {
   "cell_type": "code",
   "execution_count": 11,
   "metadata": {},
   "outputs": [],
   "source": [
    "from sklearn import tree\n",
    "model = tree.DecisionTreeClassifier()"
   ]
  },
  {
   "cell_type": "markdown",
   "metadata": {},
   "source": [
    "## Random Forest"
   ]
  },
  {
   "cell_type": "code",
   "execution_count": 50,
   "metadata": {
    "collapsed": true
   },
   "outputs": [],
   "source": [
    "from sklearn.ensemble import RandomForestClassifier\n",
    "model = RandomForestClassifier(n_estimators=10, max_depth=None, min_samples_split=2, random_state=0)"
   ]
  },
  {
   "cell_type": "markdown",
   "metadata": {},
   "source": [
    "## Neural Network"
   ]
  },
  {
   "cell_type": "code",
   "execution_count": 13,
   "metadata": {},
   "outputs": [],
   "source": [
    "from sklearn.neural_network import MLPClassifier\n",
    "model = MLPClassifier(solver='lbfgs', alpha=1e-5, hidden_layer_sizes=(1, 2), random_state=1)"
   ]
  },
  {
   "cell_type": "markdown",
   "metadata": {},
   "source": [
    "## Pipeline (logres & SVM)"
   ]
  },
  {
   "cell_type": "code",
   "execution_count": 54,
   "metadata": {
    "collapsed": true
   },
   "outputs": [],
   "source": [
    "import sklearn\n",
    "from sklearn.svm import LinearSVC\n",
    "from sklearn.feature_extraction.text import TfidfTransformer\n",
    "from sklearn.feature_selection import SelectKBest, chi2\n",
    "from sklearn.naive_bayes import MultinomialNB\n",
    "from sklearn.pipeline import Pipeline\n",
    "model = Pipeline([('logres', linear_model.LogisticRegression(penalty='l2')),\n",
    "                  ('svm', svm.SVC())\n",
    "                 ])\n"
   ]
  },
  {
   "cell_type": "markdown",
   "metadata": {},
   "source": [
    "## Train & Test"
   ]
  },
  {
   "cell_type": "code",
   "execution_count": 14,
   "metadata": {},
   "outputs": [
    {
     "data": {
      "text/plain": [
       "1.0"
      ]
     },
     "execution_count": 14,
     "metadata": {},
     "output_type": "execute_result"
    }
   ],
   "source": [
    "from sklearn.metrics import accuracy_score\n",
    "\n",
    "model.fit(train_data, labels)\n",
    "\n",
    "dev = data[data.index.isin(dev.index)]\n",
    "\n",
    "neg = dev[dev.polarity == 0].w2v\n",
    "pos = dev[dev.polarity == 1].w2v\n",
    "\n",
    "pos = [x for x in pos if type(x) is not np.float64]\n",
    "neg = [x for x in neg if type(x) is not np.float64]\n",
    "\n",
    "neg_guess = [model.predict(v.reshape(1, -1)) for v in neg]\n",
    "pos_guess = [model.predict(v.reshape(1, -1)) for v in pos]\n",
    "\n",
    "accuracy_score(neg_guess+pos_guess, len(neg_guess)*[0] + len(pos_guess) * [1])"
   ]
  },
  {
   "cell_type": "code",
   "execution_count": null,
   "metadata": {},
   "outputs": [],
   "source": []
  },
  {
   "cell_type": "code",
   "execution_count": null,
   "metadata": {
    "collapsed": true
   },
   "outputs": [],
   "source": []
  }
 ],
 "metadata": {
  "kernelspec": {
   "display_name": "Python 3",
   "language": "python",
   "name": "python3"
  },
  "language_info": {
   "codemirror_mode": {
    "name": "ipython",
    "version": 3
   },
   "file_extension": ".py",
   "mimetype": "text/x-python",
   "name": "python",
   "nbconvert_exporter": "python",
   "pygments_lexer": "ipython3",
   "version": "3.6.5"
  }
 },
 "nbformat": 4,
 "nbformat_minor": 2
}
