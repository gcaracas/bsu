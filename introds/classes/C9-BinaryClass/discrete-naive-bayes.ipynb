{
 "cells": [
  {
   "cell_type": "markdown",
   "metadata": {},
   "source": [
    "\n",
    "\n",
    "### General Hints:\n",
    "\n",
    "* When in doubt, use `float()` \n",
    "* When in doubt, make sure your probability functions sum to one (in the right way).\n",
    "* If problems arise, read the descriptions in the cells. They might give you clues. \n",
    "* Don't worry about precision/rounding (i.e., if your answer is supposed to be 1.0, but you get 1.000000492, that's okay)"
   ]
  },
  {
   "cell_type": "markdown",
   "metadata": {},
   "source": [
    "### The data\n",
    "\n",
    "* For the questions below, you are going to need some data. \n",
    "* The data is the proper name / type data that you have used before. \n",
    "* The cell below reads in the data for you. It's going to read in `pnp-train.txt` into a pandas data frame where one column will be the proper name **type** and then another column with the proper **name** itself. \n",
    "* I'm then going to lowercase and split the values in the name column and store those back into the name column.\n",
    "* Note that each row of the data['name'] column contains a list of strings (i.e., words). If that column doesn't contain a list of words, some of the functions below in later cells that I give you won't work. So whatever you do to that column, make sure it's a list of strings (i.e., words)."
   ]
  },
  {
   "cell_type": "code",
   "execution_count": 1,
   "metadata": {},
   "outputs": [
    {
     "data": {
      "text/html": [
       "<div>\n",
       "<style scoped>\n",
       "    .dataframe tbody tr th:only-of-type {\n",
       "        vertical-align: middle;\n",
       "    }\n",
       "\n",
       "    .dataframe tbody tr th {\n",
       "        vertical-align: top;\n",
       "    }\n",
       "\n",
       "    .dataframe thead th {\n",
       "        text-align: right;\n",
       "    }\n",
       "</style>\n",
       "<table border=\"1\" class=\"dataframe\">\n",
       "  <thead>\n",
       "    <tr style=\"text-align: right;\">\n",
       "      <th></th>\n",
       "      <th>type</th>\n",
       "      <th>name</th>\n",
       "    </tr>\n",
       "  </thead>\n",
       "  <tbody>\n",
       "    <tr>\n",
       "      <th>0</th>\n",
       "      <td>drug</td>\n",
       "      <td>[dilotab]</td>\n",
       "    </tr>\n",
       "    <tr>\n",
       "      <th>1</th>\n",
       "      <td>movie</td>\n",
       "      <td>[beastie, boys:, live, in, glasgow]</td>\n",
       "    </tr>\n",
       "    <tr>\n",
       "      <th>2</th>\n",
       "      <td>person</td>\n",
       "      <td>[michelle, ford-eriksson]</td>\n",
       "    </tr>\n",
       "    <tr>\n",
       "      <th>3</th>\n",
       "      <td>place</td>\n",
       "      <td>[ramsbury]</td>\n",
       "    </tr>\n",
       "    <tr>\n",
       "      <th>4</th>\n",
       "      <td>place</td>\n",
       "      <td>[market, bosworth]</td>\n",
       "    </tr>\n",
       "    <tr>\n",
       "      <th>5</th>\n",
       "      <td>drug</td>\n",
       "      <td>[cyanide, antidote, package]</td>\n",
       "    </tr>\n",
       "    <tr>\n",
       "      <th>6</th>\n",
       "      <td>person</td>\n",
       "      <td>[bill, johnson]</td>\n",
       "    </tr>\n",
       "    <tr>\n",
       "      <th>7</th>\n",
       "      <td>place</td>\n",
       "      <td>[ettalong]</td>\n",
       "    </tr>\n",
       "    <tr>\n",
       "      <th>8</th>\n",
       "      <td>movie</td>\n",
       "      <td>[the, suicide, club]</td>\n",
       "    </tr>\n",
       "    <tr>\n",
       "      <th>9</th>\n",
       "      <td>place</td>\n",
       "      <td>[pézenas]</td>\n",
       "    </tr>\n",
       "  </tbody>\n",
       "</table>\n",
       "</div>"
      ],
      "text/plain": [
       "     type                                 name\n",
       "0    drug                            [dilotab]\n",
       "1   movie  [beastie, boys:, live, in, glasgow]\n",
       "2  person            [michelle, ford-eriksson]\n",
       "3   place                           [ramsbury]\n",
       "4   place                   [market, bosworth]\n",
       "5    drug         [cyanide, antidote, package]\n",
       "6  person                      [bill, johnson]\n",
       "7   place                           [ettalong]\n",
       "8   movie                 [the, suicide, club]\n",
       "9   place                            [pézenas]"
      ]
     },
     "execution_count": 1,
     "metadata": {},
     "output_type": "execute_result"
    }
   ],
   "source": [
    "import pandas as pd\n",
    "\n",
    "data = pd.read_csv('pnp-train.txt',names=['type','name'], delimiter='\\t', encoding='ISO-8859-1')\n",
    "data['name'] = data['name'].map(lambda x: x.strip().lower().split())\n",
    "\n",
    "data[:10]"
   ]
  },
  {
   "cell_type": "markdown",
   "metadata": {},
   "source": [
    "### 1. List the names of all the possible types\n",
    "\n",
    "* You may want to keep this list for later"
   ]
  },
  {
   "cell_type": "code",
   "execution_count": 2,
   "metadata": {},
   "outputs": [
    {
     "data": {
      "text/plain": [
       "{'company', 'drug', 'movie', 'person', 'place'}"
      ]
     },
     "execution_count": 2,
     "metadata": {},
     "output_type": "execute_result"
    }
   ],
   "source": [
    "types = set(data['type'])\n",
    "\n",
    "types"
   ]
  },
  {
   "cell_type": "markdown",
   "metadata": {},
   "source": [
    "### 2. Plot the frequencies of the possible types"
   ]
  },
  {
   "cell_type": "code",
   "execution_count": 3,
   "metadata": {},
   "outputs": [
    {
     "data": {
      "image/png": "[encoded data removed]",
      "text/plain": [
       "<Figure size 432x288 with 1 Axes>"
      ]
     },
     "metadata": {},
     "output_type": "display_data"
    }
   ],
   "source": [
    "%matplotlib inline\n",
    "import nltk\n",
    "\n",
    "nltk.FreqDist(data['type']).plot()"
   ]
  },
  {
   "cell_type": "markdown",
   "metadata": {},
   "source": [
    "### 3. Write a probability function $Ptype(T)$ that is a probability distribution over the types"
   ]
  },
  {
   "cell_type": "code",
   "execution_count": 4,
   "metadata": {},
   "outputs": [],
   "source": [
    "# counter option\n",
    "import collections as c\n",
    "\n",
    "type_count = c.Counter(data['type'])\n",
    "\n",
    "def Ptype(T=''):\n",
    "    global type_count\n",
    "    global data\n",
    "    return type_count[T] / float(len(data))"
   ]
  },
  {
   "cell_type": "code",
   "execution_count": 5,
   "metadata": {},
   "outputs": [],
   "source": [
    "# freqdist option\n",
    "import nltk\n",
    "\n",
    "tdist = nltk.FreqDist(data['type'])\n",
    "\n",
    "def Ptype(T=''):\n",
    "    p = tdist.freq(T)\n",
    "    return p"
   ]
  },
  {
   "cell_type": "code",
   "execution_count": 6,
   "metadata": {},
   "outputs": [
    {
     "data": {
      "text/plain": [
       "1.0"
      ]
     },
     "execution_count": 6,
     "metadata": {},
     "output_type": "execute_result"
    }
   ],
   "source": [
    "import numpy as np\n",
    "\n",
    "np.sum(Ptype(T=t) for t in types)"
   ]
  },
  {
   "cell_type": "markdown",
   "metadata": {},
   "source": [
    "### 4. Compute the entropy for $Ptype(T)$"
   ]
  },
  {
   "cell_type": "code",
   "execution_count": 7,
   "metadata": {},
   "outputs": [
    {
     "data": {
      "text/plain": [
       "1.5605005599132853"
      ]
     },
     "execution_count": 7,
     "metadata": {},
     "output_type": "execute_result"
    }
   ],
   "source": [
    "import math\n",
    "import numpy as np\n",
    "\n",
    "- np.sum([Ptype(T=t) * math.log(Ptype(T=t)) for t in types])"
   ]
  },
  {
   "cell_type": "markdown",
   "metadata": {},
   "source": [
    "### 5. Write a probability function $Pword(W)$ for all the words\n",
    "\n",
    "* Be sure to *not* perform the counting *within* the function. This function will be called hundreds of times further below, so you want to be sure it runs fairly fast. Do all of your counting once. "
   ]
  },
  {
   "cell_type": "code",
   "execution_count": 8,
   "metadata": {},
   "outputs": [],
   "source": [
    "# counter option\n",
    "word_count = c.Counter(w for line in data['name'] for w in line)\n",
    "total_word_count = sum(word_count.values())\n",
    "\n",
    "def Pword(W=''):\n",
    "    global name_count\n",
    "    global total_word_count\n",
    "    if W not in word_count: return 0.000001\n",
    "    return word_count[W] / total_word_count"
   ]
  },
  {
   "cell_type": "code",
   "execution_count": 9,
   "metadata": {},
   "outputs": [],
   "source": [
    "# freqdist option\n",
    "wdist = nltk.FreqDist(w for line in data['name'] for w in line)\n",
    "\n",
    "def Pword(W=''):\n",
    "    p = wdist.freq(W)\n",
    "    if p == 0: return 0.000001\n",
    "    return p"
   ]
  },
  {
   "cell_type": "code",
   "execution_count": 10,
   "metadata": {},
   "outputs": [
    {
     "data": {
      "text/plain": [
       "1.0000000000002933"
      ]
     },
     "execution_count": 10,
     "metadata": {},
     "output_type": "execute_result"
    }
   ],
   "source": [
    "s = [w for line in data['name'] for w in line]\n",
    "\n",
    "np.sum(Pword(W=w) for w in set(s))"
   ]
  },
  {
   "cell_type": "markdown",
   "metadata": {},
   "source": [
    "### 6. Write a probability function for $Pwt(W|T)$ for the words given the types"
   ]
  },
  {
   "cell_type": "code",
   "execution_count": 11,
   "metadata": {},
   "outputs": [],
   "source": [
    "# counter option\n",
    "counters = {}\n",
    "total_counts = {}\n",
    "for t in types:\n",
    "    sub = data[data['type'] == t]\n",
    "    counters[t] = c.Counter(w for line in sub['name'] for w in line)\n",
    "    total_counts[t] = sum(counters[t].values())\n",
    "    \n",
    "def Pwt(W='', T=''):\n",
    "    global counters\n",
    "    global total_counts\n",
    "    if W not in counters[T]: return 0.000001 \n",
    "    return counters[T][W] / total_counts[T]\n",
    "    "
   ]
  },
  {
   "cell_type": "code",
   "execution_count": 12,
   "metadata": {},
   "outputs": [
    {
     "data": {
      "text/plain": [
       "1.0000000000000207"
      ]
     },
     "execution_count": 12,
     "metadata": {},
     "output_type": "execute_result"
    }
   ],
   "source": [
    "s = set(w for line in sub['name'] for w in line)\n",
    "\n",
    "np.sum(Pwt(W=l, T=t) for l in s)"
   ]
  },
  {
   "cell_type": "markdown",
   "metadata": {},
   "source": [
    "### 7. Using your $Ptype(T)$, $Pword(W)$, and $Pwt(W|T)$ functions and knowledge about probability theory, write a function for $Ptw(T|W)$.\n",
    "\n",
    "* What is the name of the formula/rule that you used?"
   ]
  },
  {
   "cell_type": "code",
   "execution_count": 13,
   "metadata": {},
   "outputs": [],
   "source": [
    "def Ptw(T='', W=''):\n",
    "    return Pwt(W=W, T=T) * Ptype(T=T) / Pword(W=W)"
   ]
  },
  {
   "cell_type": "markdown",
   "metadata": {},
   "source": [
    "Below is a cell for a function that I am going to give you: $P(T|N)$ which computes:\n",
    "\n",
    "### $$ P(T|N) = Ptw(T|W_1)  Ptw(T|W_2)  ... Ptw(T|W_n) $$\n",
    "\n",
    "That is, given a list of words in a name $N$, it calls your function $Ptw(T|W)$ for each word and multiplies those results together. Be sure to run this cell. "
   ]
  },
  {
   "cell_type": "code",
   "execution_count": 14,
   "metadata": {},
   "outputs": [],
   "source": [
    "import numpy as np\n",
    "\n",
    "def P(T='',N=''):\n",
    "    return np.prod([Ptw(T=T, W=w) for w in N])"
   ]
  },
  {
   "cell_type": "markdown",
   "metadata": {},
   "source": [
    "## 8. Does the $P(T|N)$ function make any indepdence assumptions? If so what?\n",
    "\n",
    "* no code for this question; answer as a markdown cell"
   ]
  },
  {
   "cell_type": "markdown",
   "metadata": {},
   "source": [
    "* Yes, it assumes each word computed by Ptw(T|W) is independent of each other. "
   ]
  },
  {
   "cell_type": "markdown",
   "metadata": {},
   "source": [
    "Now, run the next cell. It will call $P(T|N)$ for a test name for each type, which will in turn call your functions. You should see a probability for each type.\n",
    "\n",
    "When you run it, you might get a ZeroDivisionError. That happens because your $Pword(W)$ function returns 0 for some words. You need to fix this problem (i.e., perform a simple smoothing by returning 0.000001 when a word isn't found).\n",
    "\n",
    "Make sure you re-run your cell that contains the $Pword(W)$ function!\n",
    "\n",
    "When you run the cell below again, you might find that the $P(T|S)$ returns zeros for most of the types. That's because your $Pwt(W|T)$ function also needs to do some smoothing. You need to fix this (you can do some simple smoothing by returning 0.000001 when a word isn't found as part of a type). \n",
    "\n",
    "Make sure you re-run your cell that contains the $Pwt(W|T)$ function!\n",
    "\n",
    "After you've done that, run the below cell again. You know you're on the right track when all the probabilities are above zero. "
   ]
  },
  {
   "cell_type": "code",
   "execution_count": 15,
   "metadata": {},
   "outputs": [
    {
     "data": {
      "text/plain": [
       "[('place', 0.16137326793962192),\n",
       " ('person', 0.18265796866815867),\n",
       " ('movie', 0.29817627732012764),\n",
       " ('drug', 0.23951240417122993),\n",
       " ('company', 0.11828008190086187)]"
      ]
     },
     "execution_count": 15,
     "metadata": {},
     "output_type": "execute_result"
    }
   ],
   "source": [
    "name = \"inception\".split()\n",
    "probs = [(t, P(T=t, N=name)) for t in types]\n",
    "probs"
   ]
  },
  {
   "cell_type": "markdown",
   "metadata": {},
   "source": [
    "### 9. Now you need to load in `pnp-test.txt` and store it it into a dataframe called `test`.  \n",
    "\n",
    "* You will need to perform `lower()` and `split()` on the `name` column (store the result back into the `name` column)."
   ]
  },
  {
   "cell_type": "code",
   "execution_count": 16,
   "metadata": {},
   "outputs": [],
   "source": [
    "test = pd.read_csv('pnp-test.txt',names=['type','name'], delimiter='\\t', encoding='ISO-8859-1')\n",
    "test['name'] = test['name'].map(lambda x: x.strip().lower().split())"
   ]
  },
  {
   "cell_type": "markdown",
   "metadata": {},
   "source": [
    "Now the critical moment. Run the next cell. It calls $P(T|S)$ which calls your functions for each name in `test`. The function returns a probability for each of the types. The cell then finds the type that has the highest probability and then checks to see if that matches the correct type. If it does, then it increments the `cor` counter. \n",
    "\n",
    "When done, it outputs the result of dividing the `cor` counter by the number of names given in the `test` data frame. This result is the accuracy of the probabilistic function to predict the type, given the words in the names. If the accuracy is lower than 60%, then something is wrong with one (or more) of your functions above. Please check them to make sure they are correct. Keep updating your cells and running the cell below until you get above 60%. "
   ]
  },
  {
   "cell_type": "code",
   "execution_count": 17,
   "metadata": {},
   "outputs": [
    {
     "data": {
      "text/plain": [
       "0.6792380952380952"
      ]
     },
     "execution_count": 17,
     "metadata": {},
     "output_type": "execute_result"
    }
   ],
   "source": [
    "types = set(data['type'])\n",
    "\n",
    "cor = 0.0\n",
    "for typ,name in zip(test['type'],test['name']):\n",
    "    probs = [(t, P(T=t, N=name)) for t in types]\n",
    "    m = ('',0.0)\n",
    "    for t,p in probs:\n",
    "        if p > m[1]: m = (t,p)\n",
    "    if typ == m[0]: cor +=1.0\n",
    "\n",
    "cor / float(len(test))"
   ]
  },
  {
   "cell_type": "markdown",
   "metadata": {},
   "source": [
    "If you got over 60% then your functions are (more or less) correct. Congratulations, you wrote your first classifier from scratch. This is called a Naive Bayes Classifier. You have taken your first step into machine learning and NLP. "
   ]
  },
  {
   "cell_type": "markdown",
   "metadata": {},
   "source": [
    "We can compare your classifier to the Naive Bayes's Classifier which is part of NLTK. Run the next two cells and compare the accuracy to your accuracy. "
   ]
  },
  {
   "cell_type": "code",
   "execution_count": 18,
   "metadata": {},
   "outputs": [],
   "source": [
    "# compare to NLTK's NB Classifier\n",
    "import nltk\n",
    "import collections as c\n",
    "import numpy as np\n",
    "from nltk.classify.naivebayes import NaiveBayesClassifier\n",
    "\n",
    "#train\n",
    "data['feats'] = data['name'].map(lambda x: c.Counter(x))\n",
    "train_data = list(zip(data['feats'], data['type']))\n",
    "classifier = NaiveBayesClassifier.train(train_data)"
   ]
  },
  {
   "cell_type": "code",
   "execution_count": 19,
   "metadata": {},
   "outputs": [
    {
     "data": {
      "text/plain": [
       "0.6693333333333333"
      ]
     },
     "execution_count": 19,
     "metadata": {},
     "output_type": "execute_result"
    }
   ],
   "source": [
    "#test\n",
    "test['feats'] = test['name'].map(lambda x: c.Counter(x))\n",
    "test_data = list(zip(test['feats'], test['type']))\n",
    "nltk.classify.util.accuracy(classifier, test_data)"
   ]
  },
  {
   "cell_type": "markdown",
   "metadata": {},
   "source": [
    "### 10. For this exam, you are required to complete one of the *choose your own adventure* questions below."
   ]
  },
  {
   "cell_type": "markdown",
   "metadata": {},
   "source": [
    "### Choose your own adventure option 1: Remove all the stop words from the names\n",
    "\n",
    "\n",
    "* The stopwords are stored in the list below called sw. \n",
    "* You need to store the result of the operation in data['name'] again as a list (or the above functions won't work)\n",
    "* You will need to apply this to both the `data` and the `test` dataframes\n",
    "* Which cells did you have to re-run in order for the changes to take effect?\n",
    "* How did the accuracy of your classifier and the NLTK classifier change?"
   ]
  },
  {
   "cell_type": "code",
   "execution_count": 19,
   "metadata": {},
   "outputs": [
    {
     "data": {
      "text/plain": [
       "['i', 'me', 'my', 'myself', 'we', 'our', 'ours', 'ourselves', 'you', 'your']"
      ]
     },
     "execution_count": 19,
     "metadata": {},
     "output_type": "execute_result"
    }
   ],
   "source": [
    "from nltk.corpus import stopwords\n",
    "sw = stopwords.words('english')\n",
    "\n",
    "sw[:10]"
   ]
  },
  {
   "cell_type": "code",
   "execution_count": 20,
   "metadata": {},
   "outputs": [],
   "source": [
    "data['name'] = data['name'].map(lambda x: [j for j in x if j not in sw])\n",
    "test['name'] = test['name'].map(lambda x: [j for j in x if j not in sw])"
   ]
  },
  {
   "cell_type": "markdown",
   "metadata": {},
   "source": [
    "### Choose your own adventure option 2: Perform stemming or lemmatization on all the words in the names\n",
    " \n",
    "* The stemmer object is given for you. You can call `stemmer.stem('word')` on any word string. \n",
    "* Whatever you do, you need to store your result in data['name'] again as a list (or the above functions won't work)\n",
    "* Remember that this needs to be done for both data and the test dataframes.\n",
    "* Which cells did you have to re-run in order for the changes to take effect?\n",
    "* How did the accuracy of your classifier and the NLTK classifier change?"
   ]
  },
  {
   "cell_type": "code",
   "execution_count": 21,
   "metadata": {
    "collapsed": true
   },
   "outputs": [],
   "source": [
    "from nltk.stem import PorterStemmer\n",
    "stemmer = PorterStemmer()"
   ]
  },
  {
   "cell_type": "code",
   "execution_count": 22,
   "metadata": {
    "collapsed": true
   },
   "outputs": [],
   "source": [
    "data['name'] = data['name'].map(lambda x: [stemmer.stem(j) for j in x])\n",
    "test['name'] = test['name'].map(lambda x: [stemmer.stem(j) for j in x])"
   ]
  },
  {
   "cell_type": "code",
   "execution_count": null,
   "metadata": {
    "collapsed": true
   },
   "outputs": [],
   "source": []
  }
 ],
 "metadata": {
  "kernelspec": {
   "display_name": "Python 3",
   "language": "python",
   "name": "python3"
  },
  "language_info": {
   "codemirror_mode": {
    "name": "ipython",
    "version": 3
   },
   "file_extension": ".py",
   "mimetype": "text/x-python",
   "name": "python",
   "nbconvert_exporter": "python",
   "pygments_lexer": "ipython3",
   "version": "3.6.5"
  }
 },
 "nbformat": 4,
 "nbformat_minor": 1
}
