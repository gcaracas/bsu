{
 "cells": [
  {
   "cell_type": "markdown",
   "metadata": {},
   "source": [
    "<body>\n",
    "    <section style=\"border:1px solid RoyalBlue;\">\n",
    "        <section style=\"background-color:White; font-family:Georgia;text-align:center\">\n",
    "            <h1 style=\"color:RoyalBlue\">Introduction to Data Science</h1>\n",
    "            <h2 style=\"color:RoyalBlue\">Dr.\tCasey Kennington</h1>\n",
    "            <h2 style=\"font-family:Courier; text-align:center;\">CS-533</h2>\n",
    "            <br>\n",
    "            <h2 style=\"font-family:Garamond;\">Gerardo Caracas Uribe</h2>\n",
    "            <h2 style=\"font-family:Garamond;\">Student ID: 114104708</h2>\n",
    "            <h2 style=\"font-family:Courier;\">Assignment: A1-Probability & Information Theory</h2>\n",
    "            <hr/>\n",
    "        </section>\n",
    "    </section>\n",
    "</body>"
   ]
  },
  {
   "cell_type": "markdown",
   "metadata": {},
   "source": [
    "# Assignment 2 - Elementary Probability and Information Theory \n",
    "# Boise State University DL - Dr. Kennington\n",
    "\n",
    "### Instructions and Hints:\n",
    "\n",
    "* This notebook loads some data into a `pandas` dataframe, then does a small amount of preprocessing. Make sure your data can load by stepping through all of the cells up until question 1. \n",
    "* Most of the questions require you to write some code. In many cases, you will write some kind of probability function like we did in class using the data. \n",
    "* Some of the questions only require you to write answers, so be sure to change the cell type to markdown or raw text\n",
    "* Don't worry about normalizing the text this time (e.g., lowercase, etc.). Just focus on probabilies. \n",
    "* Most questions can be answered in a single cell, but you can make as many additional cells as you need. \n",
    "* When complete, please export as HTML. Follow the instructions on the corresponding assignment Trello card for submitting your assignment. "
   ]
  },
  {
   "cell_type": "code",
   "execution_count": 1,
   "metadata": {},
   "outputs": [],
   "source": [
    "import pandas as pd \n",
    "import numpy as np\n",
    "\n",
    "data = pd.read_csv('pnp-train.txt',delimiter='\\t',encoding='latin-1', # utf8 encoding didn't work for this\n",
    "                  names=['type','name']) # supply the column names for the dataframe\n",
    "\n",
    "# this next line creates a new column with the lower-cased first word\n",
    "data['first_word'] = data['name'].map(lambda x: x.lower().split()[0])"
   ]
  },
  {
   "cell_type": "code",
   "execution_count": 2,
   "metadata": {},
   "outputs": [
    {
     "data": {
      "text/html": [
       "<div>\n",
       "<style scoped>\n",
       "    .dataframe tbody tr th:only-of-type {\n",
       "        vertical-align: middle;\n",
       "    }\n",
       "\n",
       "    .dataframe tbody tr th {\n",
       "        vertical-align: top;\n",
       "    }\n",
       "\n",
       "    .dataframe thead th {\n",
       "        text-align: right;\n",
       "    }\n",
       "</style>\n",
       "<table border=\"1\" class=\"dataframe\">\n",
       "  <thead>\n",
       "    <tr style=\"text-align: right;\">\n",
       "      <th></th>\n",
       "      <th>type</th>\n",
       "      <th>name</th>\n",
       "      <th>first_word</th>\n",
       "    </tr>\n",
       "  </thead>\n",
       "  <tbody>\n",
       "    <tr>\n",
       "      <th>0</th>\n",
       "      <td>drug</td>\n",
       "      <td>Dilotab</td>\n",
       "      <td>dilotab</td>\n",
       "    </tr>\n",
       "    <tr>\n",
       "      <th>1</th>\n",
       "      <td>movie</td>\n",
       "      <td>Beastie Boys: Live in Glasgow</td>\n",
       "      <td>beastie</td>\n",
       "    </tr>\n",
       "    <tr>\n",
       "      <th>2</th>\n",
       "      <td>person</td>\n",
       "      <td>Michelle Ford-Eriksson</td>\n",
       "      <td>michelle</td>\n",
       "    </tr>\n",
       "    <tr>\n",
       "      <th>3</th>\n",
       "      <td>place</td>\n",
       "      <td>Ramsbury</td>\n",
       "      <td>ramsbury</td>\n",
       "    </tr>\n",
       "    <tr>\n",
       "      <th>4</th>\n",
       "      <td>place</td>\n",
       "      <td>Market Bosworth</td>\n",
       "      <td>market</td>\n",
       "    </tr>\n",
       "    <tr>\n",
       "      <th>5</th>\n",
       "      <td>drug</td>\n",
       "      <td>Cyanide Antidote Package</td>\n",
       "      <td>cyanide</td>\n",
       "    </tr>\n",
       "    <tr>\n",
       "      <th>6</th>\n",
       "      <td>person</td>\n",
       "      <td>Bill Johnson</td>\n",
       "      <td>bill</td>\n",
       "    </tr>\n",
       "    <tr>\n",
       "      <th>7</th>\n",
       "      <td>place</td>\n",
       "      <td>Ettalong</td>\n",
       "      <td>ettalong</td>\n",
       "    </tr>\n",
       "    <tr>\n",
       "      <th>8</th>\n",
       "      <td>movie</td>\n",
       "      <td>The Suicide Club</td>\n",
       "      <td>the</td>\n",
       "    </tr>\n",
       "    <tr>\n",
       "      <th>9</th>\n",
       "      <td>place</td>\n",
       "      <td>Pézenas</td>\n",
       "      <td>pézenas</td>\n",
       "    </tr>\n",
       "  </tbody>\n",
       "</table>\n",
       "</div>"
      ],
      "text/plain": [
       "     type                           name first_word\n",
       "0    drug                        Dilotab    dilotab\n",
       "1   movie  Beastie Boys: Live in Glasgow    beastie\n",
       "2  person         Michelle Ford-Eriksson   michelle\n",
       "3   place                       Ramsbury   ramsbury\n",
       "4   place                Market Bosworth     market\n",
       "5    drug       Cyanide Antidote Package    cyanide\n",
       "6  person                   Bill Johnson       bill\n",
       "7   place                       Ettalong   ettalong\n",
       "8   movie               The Suicide Club        the\n",
       "9   place                        Pézenas    pézenas"
      ]
     },
     "execution_count": 2,
     "metadata": {},
     "output_type": "execute_result"
    }
   ],
   "source": [
    "data[:10]"
   ]
  },
  {
   "cell_type": "code",
   "execution_count": 3,
   "metadata": {},
   "outputs": [
    {
     "data": {
      "text/html": [
       "<div>\n",
       "<style scoped>\n",
       "    .dataframe tbody tr th:only-of-type {\n",
       "        vertical-align: middle;\n",
       "    }\n",
       "\n",
       "    .dataframe tbody tr th {\n",
       "        vertical-align: top;\n",
       "    }\n",
       "\n",
       "    .dataframe thead th {\n",
       "        text-align: right;\n",
       "    }\n",
       "</style>\n",
       "<table border=\"1\" class=\"dataframe\">\n",
       "  <thead>\n",
       "    <tr style=\"text-align: right;\">\n",
       "      <th></th>\n",
       "      <th>type</th>\n",
       "      <th>name</th>\n",
       "      <th>first_word</th>\n",
       "    </tr>\n",
       "  </thead>\n",
       "  <tbody>\n",
       "    <tr>\n",
       "      <th>count</th>\n",
       "      <td>21001</td>\n",
       "      <td>21001</td>\n",
       "      <td>21001</td>\n",
       "    </tr>\n",
       "    <tr>\n",
       "      <th>unique</th>\n",
       "      <td>5</td>\n",
       "      <td>20992</td>\n",
       "      <td>13703</td>\n",
       "    </tr>\n",
       "    <tr>\n",
       "      <th>top</th>\n",
       "      <td>movie</td>\n",
       "      <td>Aberdeen</td>\n",
       "      <td>the</td>\n",
       "    </tr>\n",
       "    <tr>\n",
       "      <th>freq</th>\n",
       "      <td>6262</td>\n",
       "      <td>2</td>\n",
       "      <td>635</td>\n",
       "    </tr>\n",
       "  </tbody>\n",
       "</table>\n",
       "</div>"
      ],
      "text/plain": [
       "         type      name first_word\n",
       "count   21001     21001      21001\n",
       "unique      5     20992      13703\n",
       "top     movie  Aberdeen        the\n",
       "freq     6262         2        635"
      ]
     },
     "execution_count": 3,
     "metadata": {},
     "output_type": "execute_result"
    }
   ],
   "source": [
    "data.describe()"
   ]
  },
  {
   "cell_type": "markdown",
   "metadata": {},
   "source": [
    "## 1. Write a probability function/distribution $P(T)$ over the types. \n",
    "\n",
    "Hints:\n",
    "\n",
    "* The Counter library might be useful: `from collections import Counter`\n",
    "* Write a function `def P(T='')` that returns the probability of the specific value for T\n",
    "* You can access the types from the dataframe by calling `data['type']`"
   ]
  },
  {
   "cell_type": "code",
   "execution_count": 4,
   "metadata": {},
   "outputs": [],
   "source": [
    "from collections import Counter"
   ]
  },
  {
   "cell_type": "code",
   "execution_count": 5,
   "metadata": {},
   "outputs": [],
   "source": [
    "counts = Counter(data['type'])"
   ]
  },
  {
   "cell_type": "code",
   "execution_count": 6,
   "metadata": {},
   "outputs": [],
   "source": [
    "def P(T=''):\n",
    "    global counts # the global keyword tells this function to use the global variable called counts\n",
    "    global data  \n",
    "    return float(counts[T]) / float(len(data))\n"
   ]
  },
  {
   "cell_type": "markdown",
   "metadata": {},
   "source": [
    "## 2. What is `P(T='movie')` ?"
   ]
  },
  {
   "cell_type": "code",
   "execution_count": 7,
   "metadata": {},
   "outputs": [
    {
     "data": {
      "text/plain": [
       "0.29817627732012764"
      ]
     },
     "execution_count": 7,
     "metadata": {},
     "output_type": "execute_result"
    }
   ],
   "source": [
    "P(T='movie')"
   ]
  },
  {
   "cell_type": "markdown",
   "metadata": {},
   "source": [
    "## 3. Show that your probability distribution sums to one."
   ]
  },
  {
   "cell_type": "markdown",
   "metadata": {},
   "source": [
    "For this, let's validate the function<br> Let's apply this<br>\n",
    "\\begin{equation*}\n",
    "\\left(\\sum_{i=1}^{len(types)}\\frac{len(type_i)}{len(types)}  \\right) = 1\n",
    "\\end{equation*}\n"
   ]
  },
  {
   "cell_type": "code",
   "execution_count": 8,
   "metadata": {},
   "outputs": [
    {
     "data": {
      "text/plain": [
       "1.0"
      ]
     },
     "execution_count": 8,
     "metadata": {},
     "output_type": "execute_result"
    }
   ],
   "source": [
    "sumProbabilities = P(\"movie\")+P(\"drug\")+P(\"person\")+P(\"place\")+P(\"company\")\n",
    "sumProbabilities"
   ]
  },
  {
   "cell_type": "markdown",
   "metadata": {},
   "source": [
    "## 4. Write a joint distribution using the type and the first word of the name\n",
    "\n",
    "Hints:\n",
    "\n",
    "* The function is $P2(T,W_1)$\n",
    "* You will need to count up types AND the first words, for example: ('person','bill)\n",
    "* Using the zip function was useful for me here"
   ]
  },
  {
   "cell_type": "code",
   "execution_count": 9,
   "metadata": {},
   "outputs": [],
   "source": [
    "def P2(T='',W1=''):\n",
    "    global data\n",
    "    total = len(data)\n",
    "    prob = len((data[(data.type == T) & (data.first_word == W1)]))/total\n",
    "    return prob\n"
   ]
  },
  {
   "cell_type": "markdown",
   "metadata": {},
   "source": [
    "## 5. What is P2(T='person', W1='bill')? What about P2(T='movie',W1='the')?"
   ]
  },
  {
   "cell_type": "code",
   "execution_count": 10,
   "metadata": {},
   "outputs": [
    {
     "data": {
      "text/plain": [
       "0.00047616780153326033"
      ]
     },
     "execution_count": 10,
     "metadata": {},
     "output_type": "execute_result"
    }
   ],
   "source": [
    "P2(T='person',W1='bill')"
   ]
  },
  {
   "cell_type": "code",
   "execution_count": 11,
   "metadata": {},
   "outputs": [
    {
     "data": {
      "text/plain": [
       "0.02747488214846912"
      ]
     },
     "execution_count": 11,
     "metadata": {},
     "output_type": "execute_result"
    }
   ],
   "source": [
    "P2(T='movie', W1='the')"
   ]
  },
  {
   "cell_type": "markdown",
   "metadata": {},
   "source": [
    "## 6. Show that your probability distribution P(T,W1) sums to one."
   ]
  },
  {
   "cell_type": "markdown",
   "metadata": {},
   "source": [
    "This is going to be expensive, but we will use all the permutations possible, not just some. For this we need two lists, one with types and the other one with first word"
   ]
  },
  {
   "cell_type": "code",
   "execution_count": 12,
   "metadata": {},
   "outputs": [],
   "source": [
    "countsFW = Counter(data['first_word'])\n",
    "ttypes = []\n",
    "tfw = []\n",
    "for a in counts.keys():\n",
    "    ttypes.append(a)\n",
    "for a in countsFW.keys():\n",
    "    tfw.append(a)\n",
    "ttypes = list(ttypes)"
   ]
  },
  {
   "cell_type": "markdown",
   "metadata": {},
   "source": [
    "Now lets iterate through all the possible combinations, even if they are not included in the data set. <br> The result has to be 1"
   ]
  },
  {
   "cell_type": "code",
   "execution_count": 13,
   "metadata": {},
   "outputs": [
    {
     "name": "stdout",
     "output_type": "stream",
     "text": [
      "0.9999999999997348\n"
     ]
    }
   ],
   "source": [
    "sumProbs = 0\n",
    "for nm in tfw:\n",
    "    for tp in ttypes:\n",
    "        sumProbs = sumProbs + P2(T=tp, W1=nm)\n",
    "print(sumProbs)"
   ]
  },
  {
   "cell_type": "markdown",
   "metadata": {},
   "source": [
    "## 7. Make a new function Q(T) from marginalizing over P(T,W1) and make sure that Q(T) sums to one.\n",
    "\n",
    "Hints:\n",
    "\n",
    "* Your Q function will call P(T,W1)\n",
    "* Your check for the sum to one should be the same answer as Question 3, only it calls Q instead of P."
   ]
  },
  {
   "cell_type": "code",
   "execution_count": 13,
   "metadata": {},
   "outputs": [],
   "source": [
    "def Q(T=''):\n",
    "    return sum(  [P2(T=T, W1=x) for x in set(tfw)])"
   ]
  },
  {
   "cell_type": "code",
   "execution_count": 14,
   "metadata": {},
   "outputs": [
    {
     "name": "stdout",
     "output_type": "stream",
     "text": [
      "0.2395124041712426\n",
      "0.29817627732013385\n",
      "0.1613732679396312\n",
      "0.1826579686681631\n",
      "0.11828008190086498\n"
     ]
    }
   ],
   "source": [
    "for x in set(ttypes):\n",
    "    print(Q(T=x))"
   ]
  },
  {
   "cell_type": "code",
   "execution_count": 15,
   "metadata": {},
   "outputs": [
    {
     "data": {
      "text/plain": [
       "0.29817627732013385"
      ]
     },
     "execution_count": 15,
     "metadata": {},
     "output_type": "execute_result"
    }
   ],
   "source": [
    "Q(T='movie')"
   ]
  },
  {
   "cell_type": "code",
   "execution_count": 16,
   "metadata": {},
   "outputs": [
    {
     "data": {
      "text/plain": [
       "1.0000000000000355"
      ]
     },
     "execution_count": 16,
     "metadata": {},
     "output_type": "execute_result"
    }
   ],
   "source": [
    "sum([Q(T=x) for  x in set(ttypes)])"
   ]
  },
  {
   "cell_type": "markdown",
   "metadata": {},
   "source": [
    "## 8. What is the KL Divergence of your Q function and your P function for Question 1?\n",
    "\n",
    "* Even if you know the answer, you still need to write code that computes it."
   ]
  },
  {
   "cell_type": "code",
   "execution_count": 17,
   "metadata": {},
   "outputs": [],
   "source": [
    "import math"
   ]
  },
  {
   "cell_type": "code",
   "execution_count": 18,
   "metadata": {},
   "outputs": [
    {
     "data": {
      "text/plain": [
       "-3.5696945243669714e-14"
      ]
     },
     "execution_count": 18,
     "metadata": {},
     "output_type": "execute_result"
    }
   ],
   "source": [
    "sum([  P(T=x)*math.log(P(T=x)/Q(T=x))  for x in set(ttypes)])"
   ]
  },
  {
   "cell_type": "markdown",
   "metadata": {},
   "source": [
    "## 9. Convert from P(T,W1) to P(W1|T) \n",
    "\n",
    "Hints:\n",
    "\n",
    "* Just write a comment cell, no code this time. \n",
    "* Note that $P(T,W1) = P(W1,T)$"
   ]
  },
  {
   "cell_type": "markdown",
   "metadata": {},
   "source": [
    "## $P(W_1|T) = \\frac{P(W_1,T)}{P(T)}$"
   ]
  },
  {
   "cell_type": "markdown",
   "metadata": {},
   "source": [
    "# Answer:<br>\n",
    "### By using Baye's theorem<br>\n",
    "### $$P(A|B) = \\frac{P(A,B)}{P(B)} = \\frac{P(B|A)P(A)}{P(B)} = \\frac{P(B|A)P(A)}{\\sum_i P(B|A_i)P(A_i)}  $$\n",
    "### We can use the following equation (Let's call this eq. 1)\n",
    "### $$P(A|B) = \\frac{P(A,B)}{P(B)}  $$\n",
    "### From question 4, we have\n",
    "### $$  P(T,W_1) $$\n",
    "### Now, considering that\n",
    "### $$P(T,W_1) = P(W_1,T)$$\n",
    "### We have now (Let's call this eq.2)\n",
    "### $$ P(W_1,T) $$\n",
    "### Now from question 1, we already have (Let's call this eq. 3)\n",
    "### $$ P(T) $$\n",
    "### The solution is now, based on eq. 1 and eq. 2\n",
    "### $$ eq_1 = \\frac{eq_2}{eq_3} $$\n",
    "### Which we end up with:\n",
    "### $$ P(W_1|T) = \\frac{P(W_1,T)}{P(T)}$$"
   ]
  },
  {
   "cell_type": "markdown",
   "metadata": {},
   "source": [
    "## 10. Write a function `Pwt` (that calls the functions you already have) to compute $P(W_1|T)$.\n",
    "\n",
    "* This will be something like the multiplication rule, but you may need to change something"
   ]
  },
  {
   "cell_type": "code",
   "execution_count": 19,
   "metadata": {},
   "outputs": [],
   "source": [
    "def Pwt(W1='',T=''):\n",
    "    return P2(T=T,W1=W1)/P(T=T)"
   ]
  },
  {
   "cell_type": "markdown",
   "metadata": {},
   "source": [
    "## 11. What is P(W1='the'|T='movie')?"
   ]
  },
  {
   "cell_type": "code",
   "execution_count": 20,
   "metadata": {},
   "outputs": [
    {
     "data": {
      "text/plain": [
       "0.09214308527626956"
      ]
     },
     "execution_count": 20,
     "metadata": {},
     "output_type": "execute_result"
    }
   ],
   "source": [
    "Pwt(W1='the',T='movie')"
   ]
  },
  {
   "cell_type": "markdown",
   "metadata": {},
   "source": [
    "## 12. Use Baye's rule to convert from P(W1|T) to P(T|W1). Write a function Ptw to reflect this. \n",
    "\n",
    "Hints:\n",
    "\n",
    "* Call your other functions.\n",
    "* You may need to write a function for P(W1) and you may need a new counter for `data['first_word']`"
   ]
  },
  {
   "cell_type": "code",
   "execution_count": 21,
   "metadata": {},
   "outputs": [],
   "source": [
    "def P_W(W1=''):\n",
    "    global countsFW # the global keyword tells this function to use the global variable called counts\n",
    "    global data  \n",
    "    return float(countsFW[W1]) / float(len(data))\n"
   ]
  },
  {
   "cell_type": "code",
   "execution_count": 22,
   "metadata": {},
   "outputs": [],
   "source": [
    "def Ptw(T='',W1=''):\n",
    "    return P2(T=T,W1=W1)/P_W(W1=W1)\n"
   ]
  },
  {
   "cell_type": "markdown",
   "metadata": {},
   "source": [
    "## 13 \n",
    "### What is P(T='movie'|W1='the')? \n",
    "### What about P(T='person'|W1='the')?\n",
    "### What about P(T='drug'|W1='the')?\n",
    "### What about P(T='place'|W1='the')\n",
    "### What about P(T='company'|W1='the')"
   ]
  },
  {
   "cell_type": "code",
   "execution_count": 23,
   "metadata": {},
   "outputs": [
    {
     "data": {
      "text/plain": [
       "0.9086614173228347"
      ]
     },
     "execution_count": 23,
     "metadata": {},
     "output_type": "execute_result"
    }
   ],
   "source": [
    "Ptw(T='movie',W1='the')"
   ]
  },
  {
   "cell_type": "code",
   "execution_count": 24,
   "metadata": {},
   "outputs": [
    {
     "data": {
      "text/plain": [
       "0.0"
      ]
     },
     "execution_count": 24,
     "metadata": {},
     "output_type": "execute_result"
    }
   ],
   "source": [
    "Ptw(T='person',W1='the')"
   ]
  },
  {
   "cell_type": "code",
   "execution_count": 25,
   "metadata": {},
   "outputs": [
    {
     "data": {
      "text/plain": [
       "0.0"
      ]
     },
     "execution_count": 25,
     "metadata": {},
     "output_type": "execute_result"
    }
   ],
   "source": [
    "Ptw(T='drug',W1='the')"
   ]
  },
  {
   "cell_type": "code",
   "execution_count": 26,
   "metadata": {},
   "outputs": [
    {
     "data": {
      "text/plain": [
       "0.0015748031496062994"
      ]
     },
     "execution_count": 26,
     "metadata": {},
     "output_type": "execute_result"
    }
   ],
   "source": [
    "Ptw(T='place',W1='the')"
   ]
  },
  {
   "cell_type": "code",
   "execution_count": 27,
   "metadata": {},
   "outputs": [
    {
     "data": {
      "text/plain": [
       "0.08976377952755905"
      ]
     },
     "execution_count": 27,
     "metadata": {},
     "output_type": "execute_result"
    }
   ],
   "source": [
    "Ptw(T='company',W1='the')"
   ]
  },
  {
   "cell_type": "markdown",
   "metadata": {},
   "source": [
    "## 14 Given this, if the word 'the' is found in a name, what is the most likely type?"
   ]
  },
  {
   "cell_type": "code",
   "execution_count": 28,
   "metadata": {},
   "outputs": [
    {
     "name": "stdout",
     "output_type": "stream",
     "text": [
      "movie\n"
     ]
    }
   ],
   "source": [
    "print(\"movie\")"
   ]
  },
  {
   "cell_type": "markdown",
   "metadata": {},
   "source": [
    "## 15. Is Ptw(T='movie'|W1='the') the same as Pwt(W1='the'|T='movie') the same? Why or why not?"
   ]
  },
  {
   "cell_type": "code",
   "execution_count": 29,
   "metadata": {},
   "outputs": [
    {
     "name": "stdout",
     "output_type": "stream",
     "text": [
      "0.9086614173228347\n",
      "0.09214308527626956\n"
     ]
    }
   ],
   "source": [
    "print(Ptw(T='movie',W1='the'))\n",
    "print(Pwt(W1='the',T='movie'))"
   ]
  },
  {
   "cell_type": "markdown",
   "metadata": {},
   "source": [
    "### This is a conditional probability, which means what given:\n",
    "### $$ P(B|A) $$\n",
    "### What this means is: the conditional probability of an event B is the probability that the even will occurr given the knowledge that an event A has already occurred. <br>\n",
    "### Therefore it is very important the order of the input paramenter (That's why we can't just swap them) because we know that the second event, (in the case of the above equation B) has already happened.<br>\n",
    "### The answers that Ptw and Pwt are giving, come from different questions, let's say this in term of functions.\n",
    "\n",
    "### The following equation says \"What is the probability of a first word \"x\" if the Type is \"y\" <- We already know \"y\"\n",
    "\n",
    "### $$ P(W_1|T) $$\n",
    "\n",
    "### The following equation says \"What is the probability of a type \"x\" if the first word is \"y\" <- We already know \"y\"\n",
    "### $$ P(T|W_1) $$\n"
   ]
  },
  {
   "cell_type": "markdown",
   "metadata": {},
   "source": []
  },
  {
   "cell_type": "markdown",
   "metadata": {
    "collapsed": true
   },
   "source": [
    "## 16. Do you think modeling Ptw(T|W1) would be better with a continuous function like a Gaussian? Why or why not?\n",
    "\n"
   ]
  },
  {
   "cell_type": "markdown",
   "metadata": {},
   "source": [
    "I don't think so, my reasoning is that this is not a probability function that can be expressed as a continious function, because the data we have are categorical variables, between them there is no notion of who is behind or ahead of whom.\n",
    "In the case of, let's say age, or height, we know what is something shorter than other, or taller, but in this case, the categorical variables are just a classificaion, not a measurement. Therefore we can't see this in terms of a funtion over time.<br>\n",
    "In this case, using a discrete function is best in this case, because we already have all the cases of study, all the tabular data is there and we dont need to **calculate values in the midle**, which is one of the motivations of converting something discrete to continious. <br>\n",
    "In conclussion, it's my opinion that leaving the probability functions as discrete is better"
   ]
  },
  {
   "cell_type": "markdown",
   "metadata": {},
   "source": [
    "* Load the `rivers.csv` file and print out a histogram\n",
    "* Which disitrbutions do you think would fit the data for the `x` column? Here is a list: https://en.wikipedia.org/wiki/Category:Continuous_distributions\n",
    "* Hint: look at some of the exponential distributions, and maybe the Pareto, you can always use Gaussian\n",
    "* Use the principle of Maximum Entropy to detemrine which of the two distributions would best fit your data (you can sum over all values in your data)\n",
    "* You will need to estimate the parameters needed for each distribution (you may need to write maximum likelihood estimation functions for estimating your parameters)\n",
    "* You can use built-in python functions to model the (pdf) distribution, if they exist. Otherwise, you may need to write your own\n",
    "* Show the Maximum Entropy calculations. \n",
    "* Calculate the KL divergence on the two distributions (in both directions)\n",
    "* make nice markdown commments so I know where everything is"
   ]
  },
  {
   "cell_type": "markdown",
   "metadata": {},
   "source": [
    "<body>\n",
    "    <section style=\"background-color:White; font-family:Georgia;text-align:center\">\n",
    "        <h1 style=\"font-family:Garamond; color:tomato\">Excercise rivers.csv</h1>\n",
    "        <h2 style=\"font-family:Garamond; color:solid #229954\">Load the rivers.csv and printout a histogram</h2>\n",
    "        \n",
    "        <hr/>\n",
    "    </section>\n",
    "</body>"
   ]
  },
  {
   "cell_type": "code",
   "execution_count": 30,
   "metadata": {},
   "outputs": [],
   "source": [
    "%matplotlib inline  \n",
    "\n",
    "import matplotlib.pyplot as plt"
   ]
  },
  {
   "cell_type": "code",
   "execution_count": 31,
   "metadata": {},
   "outputs": [],
   "source": [
    "data = pd.read_csv('rivers.csv') "
   ]
  },
  {
   "cell_type": "code",
   "execution_count": 32,
   "metadata": {},
   "outputs": [
    {
     "data": {
      "text/html": [
       "<div>\n",
       "<style scoped>\n",
       "    .dataframe tbody tr th:only-of-type {\n",
       "        vertical-align: middle;\n",
       "    }\n",
       "\n",
       "    .dataframe tbody tr th {\n",
       "        vertical-align: top;\n",
       "    }\n",
       "\n",
       "    .dataframe thead th {\n",
       "        text-align: right;\n",
       "    }\n",
       "</style>\n",
       "<table border=\"1\" class=\"dataframe\">\n",
       "  <thead>\n",
       "    <tr style=\"text-align: right;\">\n",
       "      <th></th>\n",
       "      <th>Unnamed: 0</th>\n",
       "      <th>x</th>\n",
       "    </tr>\n",
       "  </thead>\n",
       "  <tbody>\n",
       "    <tr>\n",
       "      <th>count</th>\n",
       "      <td>141.000000</td>\n",
       "      <td>141.000000</td>\n",
       "    </tr>\n",
       "    <tr>\n",
       "      <th>mean</th>\n",
       "      <td>71.000000</td>\n",
       "      <td>591.184397</td>\n",
       "    </tr>\n",
       "    <tr>\n",
       "      <th>std</th>\n",
       "      <td>40.847277</td>\n",
       "      <td>493.870842</td>\n",
       "    </tr>\n",
       "    <tr>\n",
       "      <th>min</th>\n",
       "      <td>1.000000</td>\n",
       "      <td>135.000000</td>\n",
       "    </tr>\n",
       "    <tr>\n",
       "      <th>25%</th>\n",
       "      <td>36.000000</td>\n",
       "      <td>310.000000</td>\n",
       "    </tr>\n",
       "    <tr>\n",
       "      <th>50%</th>\n",
       "      <td>71.000000</td>\n",
       "      <td>425.000000</td>\n",
       "    </tr>\n",
       "    <tr>\n",
       "      <th>75%</th>\n",
       "      <td>106.000000</td>\n",
       "      <td>680.000000</td>\n",
       "    </tr>\n",
       "    <tr>\n",
       "      <th>max</th>\n",
       "      <td>141.000000</td>\n",
       "      <td>3710.000000</td>\n",
       "    </tr>\n",
       "  </tbody>\n",
       "</table>\n",
       "</div>"
      ],
      "text/plain": [
       "       Unnamed: 0            x\n",
       "count  141.000000   141.000000\n",
       "mean    71.000000   591.184397\n",
       "std     40.847277   493.870842\n",
       "min      1.000000   135.000000\n",
       "25%     36.000000   310.000000\n",
       "50%     71.000000   425.000000\n",
       "75%    106.000000   680.000000\n",
       "max    141.000000  3710.000000"
      ]
     },
     "execution_count": 32,
     "metadata": {},
     "output_type": "execute_result"
    }
   ],
   "source": [
    "data.describe()"
   ]
  },
  {
   "cell_type": "code",
   "execution_count": 33,
   "metadata": {},
   "outputs": [
    {
     "data": {
      "text/plain": [
       "<matplotlib.axes._subplots.AxesSubplot at 0x28f788f2470>"
      ]
     },
     "execution_count": 33,
     "metadata": {},
     "output_type": "execute_result"
    },
    {
     "data": {
      "image/png": "[encoded data removed]",
      "text/plain": [
       "<Figure size 432x288 with 1 Axes>"
      ]
     },
     "metadata": {
      "needs_background": "light"
     },
     "output_type": "display_data"
    }
   ],
   "source": [
    "data.x.hist()"
   ]
  },
  {
   "cell_type": "markdown",
   "metadata": {},
   "source": [
    "<body>\n",
    "    <section style=\"background-color:White; font-family:Georgia;text-align:center\">\n",
    "        <h1 style=\"font-family:Garamond; color:tomato\">Excercise rivers.csv</h1>\n",
    "        <h2 style=\"font-family:Garamond; color:solid #229954\">Which disitrbutions do you think would fit the data for the x column?</h2>\n",
    "        \n",
    "        <hr/>\n",
    "    </section>\n",
    "</body>"
   ]
  },
  {
   "cell_type": "code",
   "execution_count": 34,
   "metadata": {},
   "outputs": [],
   "source": [
    "from scipy.stats import expon\n",
    "from scipy.stats import norm\n",
    "import numpy as np\n",
    "import math"
   ]
  },
  {
   "cell_type": "markdown",
   "metadata": {},
   "source": [
    "<body>\n",
    "    <section style=\"background-color:White; font-family:Georgia;text-align:center\">\n",
    "        <h2 style=\"font-family:Garamond;\">First Selection</h2>\n",
    "        <h3 style=\"font-family:Garamond;\">Exponential Function</h3>\n",
    "        <hr/>\n",
    "    </section>\n",
    "</body>"
   ]
  },
  {
   "cell_type": "markdown",
   "metadata": {},
   "source": [
    "\n",
    "<body>\n",
    "    <section style=\"background-color:White; font-family:Georgia;text-align:center\">\n",
    "        <h2 style=\"font-family:Garamond;\">For parameter estimation we need to get lambda</h2>\n",
    "        \n",
    "    </section>\n",
    "</body>\n",
    "\n",
    "### $$ \\hat{\\lambda} = \\frac{1}{\\bar{x}}  $$ ###\n",
    "<body>\n",
    "    <section style=\"background-color:White; font-family:Georgia;text-align:center\">\n",
    "        <h2 style=\"font-family:Garamond;\"> Whereas </h2>\n",
    "    </section>\n",
    "</body>\n",
    "\n",
    "### $$ \\bar{x} = sample\\,mean  $$ ###"
   ]
  },
  {
   "cell_type": "code",
   "execution_count": 35,
   "metadata": {},
   "outputs": [],
   "source": [
    "desc=data.x.describe()\n",
    "bar_x=desc[\"mean\"]\n",
    "exp_lambda = 1/bar_x"
   ]
  },
  {
   "cell_type": "markdown",
   "metadata": {},
   "source": [
    "<body>\n",
    "    <section style=\"background-color:White; font-family:Georgia;text-align:center\">\n",
    "        <h3 style=\"font-family:Garamond;\">Now let's visualize our first selection</h3>\n",
    "    </section>\n",
    "</body>"
   ]
  },
  {
   "cell_type": "code",
   "execution_count": 44,
   "metadata": {},
   "outputs": [],
   "source": [
    "def myExpFunc(lmda, x):\n",
    "    return lmda*math.exp(-1*lmda*x)\n",
    "x_vals=np.arange(0,3500,1)\n",
    "x_vals.tolist()\n",
    "y=[]\n",
    "for x in x_vals:\n",
    "    y.append(myExpFunc(exp_lambda,x))"
   ]
  },
  {
   "cell_type": "code",
   "execution_count": 45,
   "metadata": {},
   "outputs": [
    {
     "name": "stderr",
     "output_type": "stream",
     "text": [
      "D:\\sw\\anaconda\\envs\\fastai\\lib\\site-packages\\matplotlib\\axes\\_axes.py:6462: UserWarning: The 'normed' kwarg is deprecated, and has been replaced by the 'density' kwarg.\n",
      "  warnings.warn(\"The 'normed' kwarg is deprecated, and has been \"\n"
     ]
    },
    {
     "data": {
      "image/png": "[encoded data removed]",
      "text/plain": [
       "<Figure size 432x288 with 1 Axes>"
      ]
     },
     "metadata": {
      "needs_background": "light"
     },
     "output_type": "display_data"
    }
   ],
   "source": [
    "plt.plot(y)\n",
    "plt.hist(data.x,normed=True)\n",
    "plt.show()"
   ]
  },
  {
   "cell_type": "markdown",
   "metadata": {},
   "source": [
    "<body>\n",
    "    <section style=\"background-color:White; font-family:Georgia;text-align:center\">\n",
    "        <h2 style=\"font-family:Garamond;\">Second Selection</h2>\n",
    "        <h3 style=\"font-family:Garamond;\">Gaussian Function</h3>\n",
    "        <hr/>\n",
    "    </section>\n",
    "</body>"
   ]
  },
  {
   "cell_type": "markdown",
   "metadata": {},
   "source": [
    "<body>\n",
    "    <section style=\"background-color:White; font-family:Georgia;text-align:center\">\n",
    "        <h3 style=\"font-family:Garamond;\">For our Gaussian function, we are going to use scipy package, thus we need to provide the mean and standard deviation</h3>\n",
    "    </section>\n",
    "</body>"
   ]
  },
  {
   "cell_type": "code",
   "execution_count": 46,
   "metadata": {},
   "outputs": [],
   "source": [
    "def myOwnGausFunct(x, std, mean):\n",
    "    x_tmp = ((x-mean)/std)\n",
    "    #x_tmp2 = math.exp(-1*np.pi*math.sqr(x_tmp))\n",
    "    x_tmp2 = math.exp(-1*np.pi*(x_tmp ** 2))\n",
    "    return ((1/std)*x_tmp2)"
   ]
  },
  {
   "cell_type": "code",
   "execution_count": 47,
   "metadata": {},
   "outputs": [
    {
     "name": "stderr",
     "output_type": "stream",
     "text": [
      "D:\\sw\\anaconda\\envs\\fastai\\lib\\site-packages\\matplotlib\\axes\\_axes.py:6462: UserWarning: The 'normed' kwarg is deprecated, and has been replaced by the 'density' kwarg.\n",
      "  warnings.warn(\"The 'normed' kwarg is deprecated, and has been \"\n"
     ]
    },
    {
     "data": {
      "image/png": "[encoded data removed]",
      "text/plain": [
       "<Figure size 432x288 with 1 Axes>"
      ]
     },
     "metadata": {
      "needs_background": "light"
     },
     "output_type": "display_data"
    }
   ],
   "source": [
    "y_norm = []\n",
    "for x in x_vals:\n",
    "    y_norm.append(myOwnGausFunct(x, desc[\"std\"], desc[\"mean\"]))\n",
    "    \n",
    "    \n",
    "plt.plot(y_norm)\n",
    "plt.hist(data.x,normed=True)\n",
    "plt.show()"
   ]
  },
  {
   "cell_type": "code",
   "execution_count": 48,
   "metadata": {},
   "outputs": [
    {
     "name": "stdout",
     "output_type": "stream",
     "text": [
      "Sum probabilti34s on gaussian 0.9986636961340252\n",
      "Sum probabilities on exponential 0.998159382560603\n"
     ]
    }
   ],
   "source": [
    "print(\"Sum probabilti34s on gaussian\",sum([myOwnGausFunct(x, desc[\"std\"], desc[\"mean\"]) for x in x_vals]))\n",
    "print(\"Sum probabilities on exponential\", sum([myExpFunc(exp_lambda,x) for x in x_vals]))\n",
    "    "
   ]
  },
  {
   "cell_type": "markdown",
   "metadata": {},
   "source": [
    "<body>\n",
    "    <section style=\"background-color:White; font-family:Georgia;text-align:center\">\n",
    "        <h3 style=\"font-family:Garamond;\">Lets calculate the maximim entropy for both probabiltiy distribution functions</h3>\n",
    "    </section>\n",
    "</body>"
   ]
  },
  {
   "cell_type": "code",
   "execution_count": 49,
   "metadata": {},
   "outputs": [
    {
     "name": "stdout",
     "output_type": "stream",
     "text": [
      "Lambda =  0.0016915196084312054\n",
      "Maximum entrophy for our Exponential function is\n"
     ]
    },
    {
     "data": {
      "text/plain": [
       "7.3517907180347235"
      ]
     },
     "execution_count": 49,
     "metadata": {},
     "output_type": "execute_result"
    }
   ],
   "source": [
    "print(\"Lambda = \",exp_lambda)\n",
    "print(\"Maximum entrophy for our Exponential function is\")\n",
    "-1 * sum([myExpFunc(exp_lambda,x)*math.log(myExpFunc(exp_lambda,x)) for x in x_vals])"
   ]
  },
  {
   "cell_type": "code",
   "execution_count": 50,
   "metadata": {},
   "outputs": [
    {
     "name": "stdout",
     "output_type": "stream",
     "text": [
      "Maximum entrophy for our Gaussian function is\n"
     ]
    },
    {
     "data": {
      "text/plain": [
       "6.686724407587958"
      ]
     },
     "execution_count": 50,
     "metadata": {},
     "output_type": "execute_result"
    }
   ],
   "source": [
    "print(\"Maximum entrophy for our Gaussian function is\")\n",
    "-1 * sum([myOwnGausFunct(x, desc[\"std\"], desc[\"mean\"])*math.log(myOwnGausFunct(x, desc[\"std\"], desc[\"mean\"])) for x in x_vals])"
   ]
  },
  {
   "cell_type": "markdown",
   "metadata": {},
   "source": [
    "<body>\n",
    "    <section style=\"background-color:White; font-family:Georgia;text-align:center\">\n",
    "        <h3 style=\"font-family:Garamond;\">Via maximum entrophy we can conclude that the exponential probability distribution function, fits better our data than the gaussian probability distribution function</h3>\n",
    "    </section>\n",
    "</body>"
   ]
  },
  {
   "cell_type": "markdown",
   "metadata": {},
   "source": [
    "<body>\n",
    "    <section style=\"background-color:White; font-family:Georgia;text-align:center\">\n",
    "        <h3 style=\"font-family:Garamond;\">Lets calculate KL Divergence</h3>\n",
    "    </section>\n",
    "</body>"
   ]
  },
  {
   "cell_type": "markdown",
   "metadata": {},
   "source": [
    "###  $$ D_{KL}(E||G) $$  ### "
   ]
  },
  {
   "cell_type": "code",
   "execution_count": null,
   "metadata": {},
   "outputs": [],
   "source": [
    "sum([myExpFunc(exp_lambda,x)*math.log(myExpFunc(exp_lambda,x) / myOwnGausFunct(x, desc[\"std\"], desc[\"mean\"])   ) for x in x_vals])"
   ]
  },
  {
   "cell_type": "markdown",
   "metadata": {},
   "source": [
    "###  $$ D_{KL}(G||E) $$  ### "
   ]
  },
  {
   "cell_type": "code",
   "execution_count": null,
   "metadata": {},
   "outputs": [],
   "source": [
    "sum([myOwnGausFunct(x, desc[\"std\"], desc[\"mean\"])*math.log(myOwnGausFunct(x, desc[\"std\"], desc[\"mean\"]) / myExpFunc(exp_lambda,x)   ) for x in x_vals])"
   ]
  },
  {
   "cell_type": "code",
   "execution_count": null,
   "metadata": {},
   "outputs": [],
   "source": []
  }
 ],
 "metadata": {
  "kernelspec": {
   "display_name": "Python 3",
   "language": "python",
   "name": "python3"
  },
  "language_info": {
   "codemirror_mode": {
    "name": "ipython",
    "version": 3
   },
   "file_extension": ".py",
   "mimetype": "text/x-python",
   "name": "python",
   "nbconvert_exporter": "python",
   "pygments_lexer": "ipython3",
   "version": "3.6.6"
  }
 },
 "nbformat": 4,
 "nbformat_minor": 1
}
