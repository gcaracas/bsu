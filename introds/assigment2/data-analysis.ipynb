{
 "cells": [
  {
   "cell_type": "markdown",
   "metadata": {},
   "source": [
    "<body>\n",
    "    <section style=\"border:1px solid RoyalBlue;\">\n",
    "        <section style=\"background-color:White; font-family:Georgia;text-align:center\">\n",
    "            <h1 style=\"color:RoyalBlue\">Introduction to Data Science</h1>\n",
    "            <h2 style=\"color:RoyalBlue\">Dr.\tCasey Kennington</h1>\n",
    "            <h2 style=\"font-family:Courier; text-align:center;\">CS-533</h2>\n",
    "            <br>\n",
    "            <h2 style=\"font-family:Garamond;\">Gerardo Caracas Uribe</h2>\n",
    "            <h2 style=\"font-family:Garamond;\">Student ID: 114104708</h2>\n",
    "            <h2 style=\"font-family:Courier;\">Assignment 2, Data Analysis </h2>\n",
    "            <hr/>\n",
    "        </section>\n",
    "    </section>\n",
    "</body>"
   ]
  },
  {
   "cell_type": "code",
   "execution_count": 1,
   "metadata": {},
   "outputs": [],
   "source": [
    "import matplotlib, matplotlib.pyplot as plt\n",
    "import pickle, pandas as pd\n",
    "import numpy as np"
   ]
  },
  {
   "cell_type": "code",
   "execution_count": 90,
   "metadata": {},
   "outputs": [],
   "source": [
    "artists = pd.read_csv(\"./artists.dat\",delimiter=\"\\t\")\n",
    "tags = pd.read_csv(\"./tags.dat\",delimiter=\"\\t\",encoding = \"ISO-8859-1\")\n",
    "user_artists = pd.read_csv(\"./user_artists.dat\",delimiter=\"\\t\")\n",
    "user_friends = pd.read_csv(\"./user_friends.dat\",delimiter=\"\\t\")\n",
    "user_tagged_timestamp = pd.read_csv(\"./user_taggedartists-timestamps.dat\",delimiter=\"\\t\")\n",
    "user_taggedartists = pd.read_csv(\"./user_taggedartists.dat\",delimiter=\"\\t\")"
   ]
  },
  {
   "cell_type": "code",
   "execution_count": 4,
   "metadata": {},
   "outputs": [
    {
     "data": {
      "text/html": [
       "<div>\n",
       "<style scoped>\n",
       "    .dataframe tbody tr th:only-of-type {\n",
       "        vertical-align: middle;\n",
       "    }\n",
       "\n",
       "    .dataframe tbody tr th {\n",
       "        vertical-align: top;\n",
       "    }\n",
       "\n",
       "    .dataframe thead th {\n",
       "        text-align: right;\n",
       "    }\n",
       "</style>\n",
       "<table border=\"1\" class=\"dataframe\">\n",
       "  <thead>\n",
       "    <tr style=\"text-align: right;\">\n",
       "      <th></th>\n",
       "      <th>id</th>\n",
       "      <th>name</th>\n",
       "      <th>url</th>\n",
       "      <th>pictureURL</th>\n",
       "    </tr>\n",
       "  </thead>\n",
       "  <tbody>\n",
       "    <tr>\n",
       "      <th>0</th>\n",
       "      <td>1</td>\n",
       "      <td>MALICE MIZER</td>\n",
       "      <td>http://www.last.fm/music/MALICE+MIZER</td>\n",
       "      <td>http://userserve-ak.last.fm/serve/252/10808.jpg</td>\n",
       "    </tr>\n",
       "  </tbody>\n",
       "</table>\n",
       "</div>"
      ],
      "text/plain": [
       "   id          name                                    url  \\\n",
       "0   1  MALICE MIZER  http://www.last.fm/music/MALICE+MIZER   \n",
       "\n",
       "                                        pictureURL  \n",
       "0  http://userserve-ak.last.fm/serve/252/10808.jpg  "
      ]
     },
     "execution_count": 4,
     "metadata": {},
     "output_type": "execute_result"
    }
   ],
   "source": [
    "artists[0:1]"
   ]
  },
  {
   "cell_type": "code",
   "execution_count": 5,
   "metadata": {},
   "outputs": [
    {
     "data": {
      "text/html": [
       "<div>\n",
       "<style scoped>\n",
       "    .dataframe tbody tr th:only-of-type {\n",
       "        vertical-align: middle;\n",
       "    }\n",
       "\n",
       "    .dataframe tbody tr th {\n",
       "        vertical-align: top;\n",
       "    }\n",
       "\n",
       "    .dataframe thead th {\n",
       "        text-align: right;\n",
       "    }\n",
       "</style>\n",
       "<table border=\"1\" class=\"dataframe\">\n",
       "  <thead>\n",
       "    <tr style=\"text-align: right;\">\n",
       "      <th></th>\n",
       "      <th>tagID</th>\n",
       "      <th>tagValue</th>\n",
       "    </tr>\n",
       "  </thead>\n",
       "  <tbody>\n",
       "    <tr>\n",
       "      <th>0</th>\n",
       "      <td>1</td>\n",
       "      <td>metal</td>\n",
       "    </tr>\n",
       "  </tbody>\n",
       "</table>\n",
       "</div>"
      ],
      "text/plain": [
       "   tagID tagValue\n",
       "0      1    metal"
      ]
     },
     "execution_count": 5,
     "metadata": {},
     "output_type": "execute_result"
    }
   ],
   "source": [
    "tags[0:1]"
   ]
  },
  {
   "cell_type": "code",
   "execution_count": 6,
   "metadata": {},
   "outputs": [
    {
     "data": {
      "text/html": [
       "<div>\n",
       "<style scoped>\n",
       "    .dataframe tbody tr th:only-of-type {\n",
       "        vertical-align: middle;\n",
       "    }\n",
       "\n",
       "    .dataframe tbody tr th {\n",
       "        vertical-align: top;\n",
       "    }\n",
       "\n",
       "    .dataframe thead th {\n",
       "        text-align: right;\n",
       "    }\n",
       "</style>\n",
       "<table border=\"1\" class=\"dataframe\">\n",
       "  <thead>\n",
       "    <tr style=\"text-align: right;\">\n",
       "      <th></th>\n",
       "      <th>userID</th>\n",
       "      <th>artistID</th>\n",
       "      <th>weight</th>\n",
       "    </tr>\n",
       "  </thead>\n",
       "  <tbody>\n",
       "    <tr>\n",
       "      <th>0</th>\n",
       "      <td>2</td>\n",
       "      <td>51</td>\n",
       "      <td>13883</td>\n",
       "    </tr>\n",
       "  </tbody>\n",
       "</table>\n",
       "</div>"
      ],
      "text/plain": [
       "   userID  artistID  weight\n",
       "0       2        51   13883"
      ]
     },
     "execution_count": 6,
     "metadata": {},
     "output_type": "execute_result"
    }
   ],
   "source": [
    "user_artists[0:1]"
   ]
  },
  {
   "cell_type": "code",
   "execution_count": 7,
   "metadata": {},
   "outputs": [
    {
     "data": {
      "text/html": [
       "<div>\n",
       "<style scoped>\n",
       "    .dataframe tbody tr th:only-of-type {\n",
       "        vertical-align: middle;\n",
       "    }\n",
       "\n",
       "    .dataframe tbody tr th {\n",
       "        vertical-align: top;\n",
       "    }\n",
       "\n",
       "    .dataframe thead th {\n",
       "        text-align: right;\n",
       "    }\n",
       "</style>\n",
       "<table border=\"1\" class=\"dataframe\">\n",
       "  <thead>\n",
       "    <tr style=\"text-align: right;\">\n",
       "      <th></th>\n",
       "      <th>userID</th>\n",
       "      <th>friendID</th>\n",
       "    </tr>\n",
       "  </thead>\n",
       "  <tbody>\n",
       "    <tr>\n",
       "      <th>0</th>\n",
       "      <td>2</td>\n",
       "      <td>275</td>\n",
       "    </tr>\n",
       "  </tbody>\n",
       "</table>\n",
       "</div>"
      ],
      "text/plain": [
       "   userID  friendID\n",
       "0       2       275"
      ]
     },
     "execution_count": 7,
     "metadata": {},
     "output_type": "execute_result"
    }
   ],
   "source": [
    "user_friends[0:1]"
   ]
  },
  {
   "cell_type": "code",
   "execution_count": 8,
   "metadata": {},
   "outputs": [
    {
     "data": {
      "text/html": [
       "<div>\n",
       "<style scoped>\n",
       "    .dataframe tbody tr th:only-of-type {\n",
       "        vertical-align: middle;\n",
       "    }\n",
       "\n",
       "    .dataframe tbody tr th {\n",
       "        vertical-align: top;\n",
       "    }\n",
       "\n",
       "    .dataframe thead th {\n",
       "        text-align: right;\n",
       "    }\n",
       "</style>\n",
       "<table border=\"1\" class=\"dataframe\">\n",
       "  <thead>\n",
       "    <tr style=\"text-align: right;\">\n",
       "      <th></th>\n",
       "      <th>userID</th>\n",
       "      <th>artistID</th>\n",
       "      <th>tagID</th>\n",
       "      <th>timestamp</th>\n",
       "    </tr>\n",
       "  </thead>\n",
       "  <tbody>\n",
       "    <tr>\n",
       "      <th>0</th>\n",
       "      <td>2</td>\n",
       "      <td>52</td>\n",
       "      <td>13</td>\n",
       "      <td>1238536800000</td>\n",
       "    </tr>\n",
       "  </tbody>\n",
       "</table>\n",
       "</div>"
      ],
      "text/plain": [
       "   userID  artistID  tagID      timestamp\n",
       "0       2        52     13  1238536800000"
      ]
     },
     "execution_count": 8,
     "metadata": {},
     "output_type": "execute_result"
    }
   ],
   "source": [
    "user_tagged_timestamp[0:1]"
   ]
  },
  {
   "cell_type": "code",
   "execution_count": 9,
   "metadata": {},
   "outputs": [
    {
     "data": {
      "text/html": [
       "<div>\n",
       "<style scoped>\n",
       "    .dataframe tbody tr th:only-of-type {\n",
       "        vertical-align: middle;\n",
       "    }\n",
       "\n",
       "    .dataframe tbody tr th {\n",
       "        vertical-align: top;\n",
       "    }\n",
       "\n",
       "    .dataframe thead th {\n",
       "        text-align: right;\n",
       "    }\n",
       "</style>\n",
       "<table border=\"1\" class=\"dataframe\">\n",
       "  <thead>\n",
       "    <tr style=\"text-align: right;\">\n",
       "      <th></th>\n",
       "      <th>userID</th>\n",
       "      <th>artistID</th>\n",
       "      <th>tagID</th>\n",
       "      <th>day</th>\n",
       "      <th>month</th>\n",
       "      <th>year</th>\n",
       "    </tr>\n",
       "  </thead>\n",
       "  <tbody>\n",
       "    <tr>\n",
       "      <th>0</th>\n",
       "      <td>2</td>\n",
       "      <td>52</td>\n",
       "      <td>13</td>\n",
       "      <td>1</td>\n",
       "      <td>4</td>\n",
       "      <td>2009</td>\n",
       "    </tr>\n",
       "  </tbody>\n",
       "</table>\n",
       "</div>"
      ],
      "text/plain": [
       "   userID  artistID  tagID  day  month  year\n",
       "0       2        52     13    1      4  2009"
      ]
     },
     "execution_count": 9,
     "metadata": {},
     "output_type": "execute_result"
    }
   ],
   "source": [
    "user_taggedartists[0:1]"
   ]
  },
  {
   "cell_type": "markdown",
   "metadata": {},
   "source": [
    "<body>\n",
    "    <section style=\"background-color:White; font-family:Georgia;text-align:center\">\n",
    "        <h1 style=\"font-family:Garamond; color:red\">Answer the following questions</h1>\n",
    "</h3>\n",
    "        <hr/>\n",
    "    </section>\n",
    "</body>"
   ]
  },
  {
   "cell_type": "markdown",
   "metadata": {},
   "source": [
    "<body>\n",
    "    <section style=\"background-color:White; font-family:Georgia;text-align:center\">\n",
    "        <h2 style=\"font-family:Garamond; color:solid #229954\">Question 1</h2>\n",
    "        <h3 style=\"font-family:Garamond;\">Plot the distribution of play counts per artist</h3>\n",
    "        <hr/>\n",
    "    </section>\n",
    "</body>"
   ]
  },
  {
   "cell_type": "code",
   "execution_count": 76,
   "metadata": {},
   "outputs": [
    {
     "data": {
      "text/plain": [
       "Text(0,0.5,'Number of plays')"
      ]
     },
     "execution_count": 76,
     "metadata": {},
     "output_type": "execute_result"
    },
    {
     "data": {
      "image/png": "[encoded data removed]",
      "text/plain": [
       "<Figure size 864x360 with 1 Axes>"
      ]
     },
     "metadata": {
      "needs_background": "light"
     },
     "output_type": "display_data"
    }
   ],
   "source": [
    "data =user_artists.groupby(['artistID'])[[\"weight\"]].sum()\n",
    "data=data.reset_index()\n",
    "fig, ax = plt.subplots(figsize=(12, 5))\n",
    "ax.plot(data[['artistID']], data[['weight']], 'b-', linewidth=1.5, label='Num Plays')\n",
    "ax.grid(True)\n",
    "ax.legend(loc='right')\n",
    "ax.set_title('Distribution play counts per artist')\n",
    "ax.set_xlabel('Artist ID')\n",
    "ax.set_ylabel('Number of plays')"
   ]
  },
  {
   "cell_type": "markdown",
   "metadata": {},
   "source": [
    "<body>\n",
    "    <section style=\"background-color:White; font-family:Georgia;text-align:center\">\n",
    "        <h2 style=\"font-family:Garamond; color:solid #229954\">Question 2</h2>\n",
    "        <h3 style=\"font-family:Garamond;\">Plot the distribution of unique users playing each artist</h3>\n",
    "        <hr/>\n",
    "    </section>\n",
    "</body>"
   ]
  },
  {
   "cell_type": "code",
   "execution_count": 78,
   "metadata": {},
   "outputs": [
    {
     "data": {
      "text/plain": [
       "Text(0,0.5,'Unique users playing each artist')"
      ]
     },
     "execution_count": 78,
     "metadata": {},
     "output_type": "execute_result"
    },
    {
     "data": {
      "image/png": "[encoded data removed]",
      "text/plain": [
       "<Figure size 864x360 with 1 Axes>"
      ]
     },
     "metadata": {
      "needs_background": "light"
     },
     "output_type": "display_data"
    }
   ],
   "source": [
    "data = user_artists.groupby(['artistID'])[[\"userID\"]]\n",
    "data = data.count()\n",
    "data = data.reset_index()\n",
    "x = list(data['artistID'])\n",
    "y = list(data['userID'])\n",
    "fig, ax = plt.subplots(figsize=(12, 5))\n",
    "ax.plot(x,y, 'b-', linewidth=1.5, label='Users playing each artist')\n",
    "ax.grid(True)\n",
    "ax.legend(loc='right')\n",
    "ax.set_title('Distribution of unique users playing each artist')\n",
    "ax.set_xlabel('Artist ID')\n",
    "ax.set_ylabel('Unique users playing each artist')"
   ]
  },
  {
   "cell_type": "markdown",
   "metadata": {},
   "source": [
    "<body>\n",
    "    <section style=\"background-color:White; font-family:Georgia;text-align:center\">\n",
    "        <h2 style=\"font-family:Garamond; color:solid #229954\">Question 3</h2>\n",
    "        <h3 style=\"font-family:Garamond;\">Plot the distribution of play counts per user</h3>\n",
    "        <hr/>\n",
    "    </section>\n",
    "</body>"
   ]
  },
  {
   "cell_type": "code",
   "execution_count": 111,
   "metadata": {},
   "outputs": [
    {
     "data": {
      "text/plain": [
       "Text(0,0.5,'Play counts per user')"
      ]
     },
     "execution_count": 111,
     "metadata": {},
     "output_type": "execute_result"
    },
    {
     "data": {
      "image/png": "[encoded data removed]",
      "text/plain": [
       "<Figure size 864x360 with 1 Axes>"
      ]
     },
     "metadata": {
      "needs_background": "light"
     },
     "output_type": "display_data"
    }
   ],
   "source": [
    "data =user_artists.groupby(['userID'])[[\"weight\"]].sum()\n",
    "data = data.reset_index()\n",
    "x = list(data['userID'])\n",
    "y = list(data['weight'])\n",
    "fig, ax = plt.subplots(figsize=(12, 5))\n",
    "ax.plot(x,y, 'b-', linewidth=1.5, label='play counts')\n",
    "ax.grid(True)\n",
    "ax.legend(loc='right')\n",
    "ax.set_title('Distribution of play counts per user')\n",
    "ax.set_xlabel('User ID')\n",
    "ax.set_ylabel('Play counts per user')"
   ]
  },
  {
   "cell_type": "markdown",
   "metadata": {},
   "source": [
    "<body>\n",
    "    <section style=\"background-color:White; font-family:Georgia;text-align:center\">\n",
    "        <h2 style=\"font-family:Garamond; color:solid #229954\">Question 4</h2>\n",
    "        <h3 style=\"font-family:Garamond;\">Plot the distribution of unique artists per user</h3>\n",
    "        <hr/>\n",
    "    </section>\n",
    "</body>"
   ]
  },
  {
   "cell_type": "code",
   "execution_count": 141,
   "metadata": {},
   "outputs": [
    {
     "data": {
      "text/plain": [
       "Text(0,0.5,'Number of unique artists')"
      ]
     },
     "execution_count": 141,
     "metadata": {},
     "output_type": "execute_result"
    },
    {
     "data": {
      "image/png": "[encoded data removed]",
      "text/plain": [
       "<Figure size 864x360 with 1 Axes>"
      ]
     },
     "metadata": {
      "needs_background": "light"
     },
     "output_type": "display_data"
    }
   ],
   "source": [
    "data = user_artists.groupby(['userID'])[[\"artistID\"]].count()\n",
    "data = data.reset_index()\n",
    "x = list(data['userID'])\n",
    "y = list(data['artistID'])\n",
    "fig, ax = plt.subplots(figsize=(12, 5))\n",
    "ax.scatter(x=x,y=y)\n",
    "ax.plot(x,y, 'r-', linewidth=1.5, label='Number of unique artists')\n",
    "ax.grid(True)\n",
    "ax.legend(loc='right')\n",
    "ax.set_title('Distribution of unique artists per user')\n",
    "ax.set_xlabel('User ID')\n",
    "ax.set_ylabel('Number of unique artists') "
   ]
  },
  {
   "cell_type": "markdown",
   "metadata": {},
   "source": [
    "<body>\n",
    "    <section style=\"background-color:White; font-family:Georgia;text-align:center\">\n",
    "        <h2 style=\"font-family:Garamond; color:solid #229954\">Question 5</h2>\n",
    "        <h3 style=\"font-family:Garamond;\">What is the mean artists-per-user? Users-per-artist? Plays per user/artist pair?</h3>\n",
    "        <hr/>\n",
    "    </section>\n",
    "</body>"
   ]
  },
  {
   "cell_type": "code",
   "execution_count": 165,
   "metadata": {},
   "outputs": [
    {
     "name": "stdout",
     "output_type": "stream",
     "text": [
      "Mean artist per users =  49.06659619450317\n",
      "Mean users per artist =  5.265086206896552\n",
      "Mean plays per user/artist pair =  745.2439300256372\n"
     ]
    }
   ],
   "source": [
    "mapu=(user_artists.groupby(['userID'])[[\"artistID\"]].count().mean())[0]\n",
    "print(\"Mean artist per users = \", mapu)\n",
    "mupa = user_artists.groupby(['artistID'])[[\"userID\"]].count().mean()[0]\n",
    "print(\"Mean users per artist = \", mupa)\n",
    "ppuap = user_artists['weight'].mean()\n",
    "print(\"Mean plays per user/artist pair = \",ppuap)"
   ]
  },
  {
   "cell_type": "markdown",
   "metadata": {},
   "source": [
    "<body>\n",
    "    <section style=\"background-color:White; font-family:Georgia;text-align:center\">\n",
    "        <h2 style=\"font-family:Garamond; color:solid #229954\">Question 6</h2>\n",
    "        <h3 style=\"font-family:Garamond;\">What are the 10 artists with the most plays?</h3>\n",
    "        <hr/>\n",
    "    </section>\n",
    "</body>"
   ]
  },
  {
   "cell_type": "code",
   "execution_count": 223,
   "metadata": {},
   "outputs": [
    {
     "name": "stdout",
     "output_type": "stream",
     "text": [
      "# 0  [ Duran Duran ] =  13883.0  plays\n",
      "# 1  [ Morcheeba ] =  11690.0  plays\n",
      "# 2  [ Air ] =  11351.0  plays\n",
      "# 3  [ Hooverphonic ] =  10300.0  plays\n",
      "# 4  [ Kylie Minogue ] =  8983.0  plays\n",
      "# 5  [ Daft Punk ] =  6152.0  plays\n",
      "# 6  [ Thievery Corporation ] =  5955.0  plays\n",
      "# 7  [ Goldfrapp ] =  4616.0  plays\n",
      "# 8  [ New Order ] =  4337.0  plays\n",
      "# 9  [ Matt Bianco ] =  4147.0  plays\n"
     ]
    },
    {
     "data": {
      "text/plain": [
       "[None, None, None, None, None, None, None, None, None, None]"
      ]
     },
     "execution_count": 223,
     "metadata": {},
     "output_type": "execute_result"
    }
   ],
   "source": [
    "a = artists\n",
    "ua = user_artists\n",
    "m=s.merge(a, left_on='artistID', right_on='id', how='outer')\n",
    "ua.sort_values(ascending=False, by='weight')\n",
    "m = m[0:10]\n",
    "[print(\"#\",i[0],\" [\",i[1]['name'],\"] = \",i[1]['weight'],\" plays\") for i in m.iterrows()]"
   ]
  },
  {
   "cell_type": "markdown",
   "metadata": {},
   "source": [
    "<body>\n",
    "    <section style=\"background-color:White; font-family:Georgia;text-align:center\">\n",
    "        <h2 style=\"font-family:Garamond; color:solid #229954\">Question 6</h2>\n",
    "        <h3 style=\"font-family:Garamond;\">What are the 10 artists with the most unique playing users?\n",
    "</h3>\n",
    "        <hr/>\n",
    "    </section>\n",
    "</body>"
   ]
  },
  {
   "cell_type": "code",
   "execution_count": 239,
   "metadata": {},
   "outputs": [
    {
     "name": "stdout",
     "output_type": "stream",
     "text": [
      "# 0  [ Lady Gaga ] =  611  unique players\n",
      "# 1  [ Britney Spears ] =  522  unique players\n",
      "# 2  [ Rihanna ] =  484  unique players\n",
      "# 3  [ The Beatles ] =  480  unique players\n",
      "# 4  [ Katy Perry ] =  473  unique players\n",
      "# 5  [ Madonna ] =  429  unique players\n",
      "# 6  [ Avril Lavigne ] =  417  unique players\n",
      "# 7  [ Christina Aguilera ] =  407  unique players\n",
      "# 8  [ Muse ] =  400  unique players\n",
      "# 9  [ Paramore ] =  399  unique players\n"
     ]
    },
    {
     "data": {
      "text/plain": [
       "[None, None, None, None, None, None, None, None, None, None]"
      ]
     },
     "execution_count": 239,
     "metadata": {},
     "output_type": "execute_result"
    }
   ],
   "source": [
    "data = user_artists.groupby(['artistID'])[[\"userID\"]]\n",
    "data = data.count()\n",
    "data.sort_values(ascending=False, by='userID', inplace=True)\n",
    "data.reset_index(inplace=True)\n",
    "a = artists\n",
    "m=data.merge(a, left_on='artistID', right_on='id', how='outer')\n",
    "m=m[0:10]\n",
    "[print(\"#\",i[0],\" [\",i[1]['name'],\"] = \",i[1]['userID'],\" unique players\") for i in m.iterrows()]\n"
   ]
  },
  {
   "cell_type": "markdown",
   "metadata": {},
   "source": [
    "<body>\n",
    "    <section style=\"background-color:White; font-family:Georgia;text-align:center\">\n",
    "        <h1 style=\"font-family:Garamond; color:red\">Plotting a Regression Line</h1>\n",
    "</h3>\n",
    "        <hr/>\n",
    "    </section>\n",
    "</body>"
   ]
  },
  {
   "cell_type": "code",
   "execution_count": null,
   "metadata": {},
   "outputs": [],
   "source": [
    "You will perform regression where x is the count of\n",
    "friends a user has (i.e., user_friends.dat), and y\n",
    "is the count of artists a user has tagged (i.e., user_taggedartists)"
   ]
  },
  {
   "cell_type": "code",
   "execution_count": 268,
   "metadata": {},
   "outputs": [],
   "source": [
    "data = user_taggedartists.groupby(['userID'])[[\"artistID\"]].count()\n",
    "data2 = user_friends.groupby(['userID'])[[\"friendID\"]].count()\n",
    "m=data.merge(data2, left_on='userID', right_on='userID', how='outer')\n",
    "df=m.rename(index=str, columns={\"artistID\": \"taggedArtists\", \"friendID\": \"countOfFriends\"})"
   ]
  },
  {
   "cell_type": "markdown",
   "metadata": {},
   "source": [
    "<body>\n",
    "    <section style=\"background-color:White; font-family:Georgia;text-align:center\">\n",
    "        <h2 style=\"font-family:Garamond; color:blue\">The following entries are following a demo from page</h2>\n",
    "        <h6>https://towardsdatascience.com/linear-regression-in-python-9a1f5f000606</h6>\n",
    "        <hr/>\n",
    "    </section>\n",
    "</body>"
   ]
  },
  {
   "cell_type": "code",
   "execution_count": 271,
   "metadata": {},
   "outputs": [],
   "source": [
    "import seaborn as sns"
   ]
  },
  {
   "cell_type": "code",
   "execution_count": 285,
   "metadata": {},
   "outputs": [
    {
     "name": "stderr",
     "output_type": "stream",
     "text": [
      "D:\\sw\\anaconda\\envs\\fastai\\lib\\site-packages\\seaborn\\axisgrid.py:2065: UserWarning: The `size` parameter has been renamed to `height`; pleaes update your code.\n",
      "  warnings.warn(msg, UserWarning)\n"
     ]
    },
    {
     "data": {
      "text/plain": [
       "<seaborn.axisgrid.PairGrid at 0x1ed65d83748>"
      ]
     },
     "execution_count": 285,
     "metadata": {},
     "output_type": "execute_result"
    },
    {
     "data": {
      "image/png": "[encoded data removed]",
      "text/plain": [
       "<Figure size 432x432 with 1 Axes>"
      ]
     },
     "metadata": {
      "needs_background": "light"
     },
     "output_type": "display_data"
    }
   ],
   "source": [
    "sns.pairplot(df, x_vars=\"countOfFriends\", y_vars=\"taggedArtists\", kind=\"reg\",size=6)"
   ]
  },
  {
   "cell_type": "code",
   "execution_count": 291,
   "metadata": {},
   "outputs": [],
   "source": [
    "feature_cols=['countOfFriends']\n",
    "X = df[feature_cols]\n",
    "y = df['taggedArtists']"
   ]
  },
  {
   "cell_type": "code",
   "execution_count": 341,
   "metadata": {},
   "outputs": [
    {
     "data": {
      "text/plain": [
       "LinearRegression(copy_X=True, fit_intercept=True, n_jobs=1, normalize=False)"
      ]
     },
     "execution_count": 341,
     "metadata": {},
     "output_type": "execute_result"
    }
   ],
   "source": [
    "# Import SK Learn train test split\n",
    "from sklearn.cross_validation import train_test_split\n",
    "\n",
    "# Assign variables to capture train test split output\n",
    "X_train, X_test, y_train, y_test = train_test_split(X, y)\n",
    "\n",
    "# Assign variables to caputre train test split output\n",
    "# Import SK Learn linear regression\n",
    "from sklearn.linear_model import LinearRegression\n",
    "\n",
    "# Instantiate\n",
    "linreg = LinearRegression()\n",
    "\n",
    "# Fit model to train data i.e) Learn coefficients\n",
    "linreg.fit(X_train, y_train)"
   ]
  },
  {
   "cell_type": "code",
   "execution_count": 343,
   "metadata": {},
   "outputs": [
    {
     "name": "stdout",
     "output_type": "stream",
     "text": [
      "87.17493515584836\n",
      "[0.87346787]\n"
     ]
    },
    {
     "data": {
      "text/plain": [
       "<zip at 0x1ed6bdeb808>"
      ]
     },
     "execution_count": 343,
     "metadata": {},
     "output_type": "execute_result"
    }
   ],
   "source": [
    "# Print y-intercepts\n",
    "print(linreg.intercept_)\n",
    "\n",
    "# Print the beta coefficients in same order as passed\n",
    "print(linreg.coef_)\n",
    "\n",
    "# Zip can pair feature names and coefficients together\n",
    "zip(feature_cols, linreg.coef_)"
   ]
  },
  {
   "cell_type": "code",
   "execution_count": 345,
   "metadata": {},
   "outputs": [],
   "source": [
    "y_pred = linreg.predict(X_test)"
   ]
  },
  {
   "cell_type": "code",
   "execution_count": 347,
   "metadata": {},
   "outputs": [
    {
     "name": "stdout",
     "output_type": "stream",
     "text": [
      "121.25057889041061\n",
      "50474.67366223612\n",
      "224.6656931136486\n"
     ]
    }
   ],
   "source": [
    "# Import metrics library\n",
    "from sklearn import metrics\n",
    "\n",
    "# Print results of MAE\n",
    "print(metrics.mean_absolute_error(y_test, y_pred))\n",
    "\n",
    "# Print result of MSE\n",
    "print(metrics.mean_squared_error(y_test, y_pred))\n",
    "\n",
    "# Print result of RMSE\n",
    "print(np.sqrt(metrics.mean_squared_error(y_test, y_pred)))"
   ]
  },
  {
   "cell_type": "code",
   "execution_count": 351,
   "metadata": {},
   "outputs": [],
   "source": [
    "m=linreg.coef_[0]\n",
    "b=linreg.intercept_\n",
    "x=[]\n",
    "ypred=[]\n",
    "yy=[]\n",
    "for d in X_test.iterrows():\n",
    "    xo=d[1][\"countOfFriends\"]\n",
    "    x.append(xo)\n",
    "    ypred.append(m*xo+b)\n",
    "for d in y_test:\n",
    "    yy.append(d)\n"
   ]
  },
  {
   "cell_type": "code",
   "execution_count": 366,
   "metadata": {},
   "outputs": [
    {
     "data": {
      "image/png": "[encoded data removed]",
      "text/plain": [
       "<Figure size 864x360 with 1 Axes>"
      ]
     },
     "metadata": {
      "needs_background": "light"
     },
     "output_type": "display_data"
    }
   ],
   "source": [
    "fig, ax = plt.subplots(figsize=(12, 5))\n",
    "plt.scatter(x,yy,linewidth=0.15, label='Real Data')\n",
    "plt.scatter(x, ypred,linewidth=0.15, label='Predicted Data')\n",
    "ax.grid(True)\n",
    "ax.legend(loc='right')\n",
    "ax.set_title('Distribution of unique artists per user')\n",
    "ax.set_xlabel('Count of friends per user')\n",
    "ax.set_ylabel('Tagged artists per user') \n",
    "plt.show()"
   ]
  },
  {
   "cell_type": "markdown",
   "metadata": {},
   "source": [
    "<body>\n",
    "    <section style=\"background-color:White; font-family:Georgia;text-align:center\">\n",
    "        <h2 style=\"font-family:Garamond; color:solid #229954\">Question 7</h2>\n",
    "        <h3 style=\"font-family:Garamond;\">What is the correlation between x and y</h3>\n",
    "        <hr/>\n",
    "    </section>\n",
    "</body>"
   ]
  },
  {
   "cell_type": "code",
   "execution_count": 369,
   "metadata": {},
   "outputs": [
    {
     "data": {
      "text/html": [
       "<div>\n",
       "<style scoped>\n",
       "    .dataframe tbody tr th:only-of-type {\n",
       "        vertical-align: middle;\n",
       "    }\n",
       "\n",
       "    .dataframe tbody tr th {\n",
       "        vertical-align: top;\n",
       "    }\n",
       "\n",
       "    .dataframe thead th {\n",
       "        text-align: right;\n",
       "    }\n",
       "</style>\n",
       "<table border=\"1\" class=\"dataframe\">\n",
       "  <thead>\n",
       "    <tr style=\"text-align: right;\">\n",
       "      <th></th>\n",
       "      <th>taggedArtists</th>\n",
       "      <th>countOfFriends</th>\n",
       "    </tr>\n",
       "  </thead>\n",
       "  <tbody>\n",
       "    <tr>\n",
       "      <th>taggedArtists</th>\n",
       "      <td>1.000000</td>\n",
       "      <td>0.047646</td>\n",
       "    </tr>\n",
       "    <tr>\n",
       "      <th>countOfFriends</th>\n",
       "      <td>0.047646</td>\n",
       "      <td>1.000000</td>\n",
       "    </tr>\n",
       "  </tbody>\n",
       "</table>\n",
       "</div>"
      ],
      "text/plain": [
       "                taggedArtists  countOfFriends\n",
       "taggedArtists        1.000000        0.047646\n",
       "countOfFriends       0.047646        1.000000"
      ]
     },
     "execution_count": 369,
     "metadata": {},
     "output_type": "execute_result"
    }
   ],
   "source": [
    "df.corr(method='pearson')"
   ]
  },
  {
   "cell_type": "markdown",
   "metadata": {},
   "source": [
    "<body>\n",
    "    <section style=\"background-color:White; font-family:Georgia;text-align:center\">\n",
    "        <h2 style=\"font-family:Garamond; color:solid #229954\">Question 8</h2>\n",
    "        <h3 style=\"font-family:Garamond;\">What are the coefficients of the regression</h3>\n",
    "        <hr/>\n",
    "    </section>\n",
    "</body>"
   ]
  },
  {
   "cell_type": "code",
   "execution_count": 370,
   "metadata": {},
   "outputs": [
    {
     "name": "stdout",
     "output_type": "stream",
     "text": [
      "m or beta_1 =  0.8734678728433535\n",
      "b or betha_0 or intercept in Y =  87.17493515584836\n"
     ]
    }
   ],
   "source": [
    "print(\"m or beta_1 = \",linreg.coef_[0])\n",
    "print(\"b or betha_0 or intercept in Y = \", linreg.intercept_)"
   ]
  },
  {
   "cell_type": "markdown",
   "metadata": {},
   "source": [
    "<body>\n",
    "    <section style=\"background-color:White; font-family:Georgia;text-align:center\">\n",
    "        <h2 style=\"font-family:Garamond; color:solid #229954\">Question 9</h2>\n",
    "        <h3 style=\"font-family:Garamond;\">What does these values tells you about the relationship between the x and y values</h3>\n",
    "        <hr/>\n",
    "    </section>\n",
    "</body>"
   ]
  },
  {
   "cell_type": "markdown",
   "metadata": {},
   "source": [
    "Correlation: Via the Pearson correlation coefficient, we can see that the correlation is very low, which we can say there is no correlation. \n",
    "We can say a variable A has a correlation with B if the pearson correlation coefficient is 0.5 or bigger.\n",
    "\n",
    "Errors:\n",
    "The Mean absolute error is not near 0, and the MSE is very high, which tells me that a lot of errors are magnified by the square error. In a few words, there are a lot of noise and error in this calculation.\n",
    "\n",
    "Model coefficients:\n",
    "The Population slope coefficient is almost 0, or flat line, which, after the previous observations this tells me the model is taking some sort of average over all points, in short, we are only predicting the average."
   ]
  },
  {
   "cell_type": "code",
   "execution_count": null,
   "metadata": {},
   "outputs": [],
   "source": []
  }
 ],
 "metadata": {
  "kernelspec": {
   "display_name": "Python 3",
   "language": "python",
   "name": "python3"
  },
  "language_info": {
   "codemirror_mode": {
    "name": "ipython",
    "version": 3
   },
   "file_extension": ".py",
   "mimetype": "text/x-python",
   "name": "python",
   "nbconvert_exporter": "python",
   "pygments_lexer": "ipython3",
   "version": "3.6.6"
  }
 },
 "nbformat": 4,
 "nbformat_minor": 2
}
