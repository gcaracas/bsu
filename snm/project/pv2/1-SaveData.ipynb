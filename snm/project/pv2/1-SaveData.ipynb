{
 "cells": [
  {
   "cell_type": "code",
   "execution_count": 1,
   "metadata": {},
   "outputs": [],
   "source": [
    "import networkx as nx\n",
    "import  pickle\n",
    "import pandas as pd\n",
    "import numpy as np\n",
    "import glob\n",
    "import os\n",
    "import re\n",
    "from collections import Counter\n",
    "import pylab as plt\n",
    "from datascience import *\n",
    "import csv"
   ]
  },
  {
   "cell_type": "code",
   "execution_count": 2,
   "metadata": {},
   "outputs": [],
   "source": [
    "iSrc = 0\n",
    "iTgt = 1\n",
    "iVot = 2\n",
    "iRes = 3\n",
    "iTxt = 4\n",
    "iDat = 5\n",
    "iYea = 6\n",
    "iSrcId = 7\n",
    "iTgtId = 8\n",
    "iSrcInDegree = 9\n",
    "iSrcOutDegree = 10\n",
    "iTgtInDegree = 11\n",
    "iTgtOutDegree =12\n",
    "iNumWords = 13\n",
    "iClustering=14"
   ]
  },
  {
   "cell_type": "code",
   "execution_count": 3,
   "metadata": {},
   "outputs": [],
   "source": [
    "file = \"./wiki-RfAv2.txt\"\n",
    "# Read file and save in content all the lines\n",
    "with open(file, mode=\"r\",encoding=\"utf-8\") as f:\n",
    "       content = f.read().splitlines()\n",
    "\n",
    "# We need a list of all the node's names\n",
    "# we will append into a list all the names, from src and tgt, so we can\n",
    "# include all of them\n",
    "srcTgtNodes = []\n",
    "for text in content:\n",
    "    textsp = re.split(r\":::\", text)\n",
    "    if textsp[0] == 'TGT' or textsp[0] == 'SRC':\n",
    "        srcTgtNodes.append(textsp[1])\n",
    "#fullTable = np.chararray((len(srcTgtNodes), 14))\n",
    "# Plust one for the column headers name\n",
    "r, c = 15, len(srcTgtNodes)+1\n",
    "\n",
    "iSrc = 0\n",
    "iTgt = 1\n",
    "iVot = 2\n",
    "iRes = 3\n",
    "iTxt = 4\n",
    "iDat = 5\n",
    "iYea = 6\n",
    "iSrcId = 7\n",
    "iTgtId = 8\n",
    "iSrcInDegree = 9\n",
    "iSrcOutDegree = 10\n",
    "iTgtInDegree = 11\n",
    "iTgtOutDegree =12\n",
    "iNumWords = 13\n",
    "iClustering=14\n",
    "\n",
    "fullTable = [[\" \" for x in range(r)] for y in range(c)] \n",
    "fullTable[0][0]=\"SRC\"\n",
    "fullTable[0][1]=\"TGT\"\n",
    "fullTable[0][2]=\"VOT\"\n",
    "fullTable[0][3]=\"RES\"\n",
    "fullTable[0][4]=\"TXT\"\n",
    "fullTable[0][5]=\"DAT\"\n",
    "fullTable[0][6]=\"YEA\"\n",
    "fullTable[0][7]=\"SRC_ID\"\n",
    "fullTable[0][8]=\"TGT_ID\"\n",
    "fullTable[0][9]=\"SRC_IN_DEGREE\"\n",
    "fullTable[0][10]=\"SRC_OUT_DEGREE\"\n",
    "fullTable[0][11]=\"TGT_IN_DEGREE\"\n",
    "fullTable[0][12]=\"TGT_OUT_DEGREE\"\n",
    "fullTable[0][13]=\"NUM_WORDS\"\n",
    "fullTable[0][14]=\"CLUSTERING\"\n",
    "#Now that we have all the users, let's remove duplicates\n",
    "userSet = set(srcTgtNodes)\n",
    "usersDictionary = dict()\n",
    "a = enumerate(userSet)\n",
    "for k,v in a:\n",
    "    usersDictionary[v]=k"
   ]
  },
  {
   "cell_type": "code",
   "execution_count": 4,
   "metadata": {},
   "outputs": [],
   "source": [
    "G = nx.DiGraph()"
   ]
  },
  {
   "cell_type": "code",
   "execution_count": 5,
   "metadata": {},
   "outputs": [],
   "source": [
    "#Check if all the fields are present\n",
    "DAT=\"\"\n",
    "RES=\"\"\n",
    "SRC=\"\"\n",
    "TGT=\"\"\n",
    "TXT=\"\"\n",
    "VOT=\"\"\n",
    "YEA=\"\"\n",
    "count = 0\n",
    "for text in content:\n",
    "    textsp = re.split(r\":::\", text)\n",
    "    if textsp[0] == 'VOT':\n",
    "        VOT=textsp[1]\n",
    "    if textsp[0] == 'YEA':\n",
    "        YEA=textsp[1]\n",
    "    if textsp[0] == 'DAT':\n",
    "        DAT=textsp[1]\n",
    "    if textsp[0] == 'RES':\n",
    "        RES=textsp[1]\n",
    "    if textsp[0] == 'SRC':\n",
    "        SRC=textsp[1]\n",
    "    if textsp[0] == 'TGT':\n",
    "        TGT=textsp[1]\n",
    "    if textsp[0] == 'TXT':\n",
    "        TXT=textsp[1]\n",
    "        # Now that we have all data per row, let's create node\n",
    "        if DAT != '':\n",
    "            G.add_edge(SRC, TGT)\n",
    "            G[SRC][TGT]['VOT'] = VOT\n",
    "            G[SRC][TGT]['RES'] = RES\n",
    "            G[SRC][TGT]['YEA'] = YEA\n",
    "            G[SRC][TGT]['DAT'] = DAT\n",
    "            G[SRC][TGT]['TXT'] = TXT        \n",
    "            # Fill all fields for the big table\n",
    "            fullTable[count+1][iSrc]=SRC\n",
    "            fullTable[count+1][iTgt]=TGT\n",
    "            fullTable[count+1][iVot]=VOT\n",
    "            fullTable[count+1][iRes]=RES\n",
    "            fullTable[count+1][iTxt]=TXT\n",
    "            fullTable[count+1][iDat]=DAT\n",
    "            fullTable[count+1][iYea]=YEA\n",
    "            fullTable[count+1][iNumWords]=len((TXT).split())\n",
    "        # Clean variables\n",
    "        DAT=\"\"\n",
    "        RES=\"\"\n",
    "        SRC=\"\"\n",
    "        TGT=\"\"\n",
    "        TXT=\"\"\n",
    "        VOT=\"\"\n",
    "        YEA=\"\"\n",
    "        \n",
    "        # Increase counter\n",
    "        count = count + 1"
   ]
  },
  {
   "cell_type": "code",
   "execution_count": 6,
   "metadata": {},
   "outputs": [],
   "source": [
    "\"\"\"\n",
    "iSrc = 0\n",
    "iTgt = 1\n",
    "iVot = 2\n",
    "iRes = 3\n",
    "iTxt = 4\n",
    "iDat = 5\n",
    "iYea = 6\n",
    "iSrcId = 7\n",
    "iTgtId = 8\n",
    "iSrcInDegree = 9\n",
    "iSrcOutDegree = 10\n",
    "iTgtInDegree = 11\n",
    "iTgtOutDegree =12\n",
    "iNumWords = 13\n",
    "clustering = 14\n",
    "\"\"\"\n",
    "counter=0\n",
    "for a0, a1, a2, a3, a4, a5, a6, a7, a8, a9, a10, a11, a12, a13, a14 in fullTable:\n",
    "    if counter != 0:    \n",
    "        # Here we convert the user into its numerical representation\n",
    "        if a0 != ' ':\n",
    "            fullTable[counter][7] = usersDictionary[a0]\n",
    "        if a1 != ' ':\n",
    "            fullTable[counter][8] = usersDictionary[a1]\n",
    "        # Here we fill the in-degree and out-degree\n",
    "        fullTable[counter][9]=G.in_degree(a0)\n",
    "        fullTable[counter][10]=G.out_degree(a0)\n",
    "        fullTable[counter][11]=G.in_degree(a1)\n",
    "        fullTable[counter][12]=G.out_degree(a1)\n",
    "    counter=counter+1"
   ]
  },
  {
   "cell_type": "code",
   "execution_count": 7,
   "metadata": {},
   "outputs": [
    {
     "data": {
      "text/plain": [
       "180864"
      ]
     },
     "execution_count": 7,
     "metadata": {},
     "output_type": "execute_result"
    }
   ],
   "source": [
    "G.number_of_edges()"
   ]
  },
  {
   "cell_type": "code",
   "execution_count": 8,
   "metadata": {},
   "outputs": [
    {
     "data": {
      "text/plain": [
       "396551"
      ]
     },
     "execution_count": 8,
     "metadata": {},
     "output_type": "execute_result"
    }
   ],
   "source": [
    "len(fullTable)"
   ]
  },
  {
   "cell_type": "code",
   "execution_count": 9,
   "metadata": {},
   "outputs": [
    {
     "data": {
      "text/plain": [
       "['Steel1943',\n",
       " 'BDD',\n",
       " '1',\n",
       " '1',\n",
       " \"'''Support''' as co-nom.\",\n",
       " '23:13, 19 April 2013',\n",
       " '2013',\n",
       " 7461,\n",
       " 9542,\n",
       " 0,\n",
       " 4,\n",
       " 137,\n",
       " 5,\n",
       " 3,\n",
       " ' ']"
      ]
     },
     "execution_count": 9,
     "metadata": {},
     "output_type": "execute_result"
    }
   ],
   "source": [
    "fullTable[1]"
   ]
  },
  {
   "cell_type": "code",
   "execution_count": null,
   "metadata": {},
   "outputs": [],
   "source": []
  },
  {
   "cell_type": "code",
   "execution_count": 10,
   "metadata": {},
   "outputs": [],
   "source": [
    "df=pd.DataFrame(fullTable[1:], columns=fullTable[0])"
   ]
  },
  {
   "cell_type": "code",
   "execution_count": 11,
   "metadata": {},
   "outputs": [],
   "source": [
    "pickle.dump( df, open( \"BasicFrameFullGraph.pickle\", \"wb\" ) )"
   ]
  },
  {
   "cell_type": "code",
   "execution_count": 12,
   "metadata": {},
   "outputs": [],
   "source": [
    "nx.write_graphml(G, \"graph.graphml\")"
   ]
  },
  {
   "cell_type": "code",
   "execution_count": null,
   "metadata": {},
   "outputs": [],
   "source": []
  }
 ],
 "metadata": {
  "kernelspec": {
   "display_name": "Python 3",
   "language": "python",
   "name": "python3"
  },
  "language_info": {
   "codemirror_mode": {
    "name": "ipython",
    "version": 3
   },
   "file_extension": ".py",
   "mimetype": "text/x-python",
   "name": "python",
   "nbconvert_exporter": "python",
   "pygments_lexer": "ipython3",
   "version": "3.6.6"
  }
 },
 "nbformat": 4,
 "nbformat_minor": 2
}
