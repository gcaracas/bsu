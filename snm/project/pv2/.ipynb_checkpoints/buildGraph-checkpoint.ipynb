{
 "cells": [
  {
   "cell_type": "code",
   "execution_count": 1,
   "metadata": {},
   "outputs": [],
   "source": [
    "import networkx as nx\n",
    "import  pickle\n",
    "import pandas as pd\n",
    "import numpy as np\n",
    "import glob\n",
    "import os\n",
    "import re\n",
    "from collections import Counter\n",
    "import pylab as plt"
   ]
  },
  {
   "cell_type": "code",
   "execution_count": 9,
   "metadata": {},
   "outputs": [],
   "source": [
    "G = nx.DiGraph()\n",
    "files = glob.glob(\"./*.txt\")\n",
    "for file in files:\n",
    "    with open(file, mode=\"r\",encoding=\"utf-8\") as f:\n",
    "        content = f.read().splitlines()\n",
    "allUsersList = []\n",
    "# build a list with all the users\n",
    "for text in content:\n",
    "    textsp = re.split(r\":::\", text)\n",
    "    if textsp[0] == 'TGT' or textsp[0] == 'SRC':\n",
    "        allUsersList.append(textsp[1])\n",
    "#Lets get the number of unique nodes first by usig common\n",
    "cntr = Counter(allUsersList)\n",
    "uniqueUsers=cntr.most_common()"
   ]
  },
  {
   "cell_type": "markdown",
   "metadata": {},
   "source": [
    "Build Graph"
   ]
  },
  {
   "cell_type": "code",
   "execution_count": 11,
   "metadata": {},
   "outputs": [],
   "source": [
    "#Check if all the fields are present\n",
    "DAT=\"\"\n",
    "RES=0\n",
    "SRC=\"\"\n",
    "TGT=\"\"\n",
    "TXT=\"\"\n",
    "VOT=0\n",
    "YEA=0\n",
    "count = 1\n",
    "for text in content:\n",
    "    count = count +1\n",
    "    textsp = re.split(r\":::\", text)\n",
    "    if textsp[0] == 'DAT':\n",
    "        DAT=textsp[1]\n",
    "    if textsp[0] == 'RES':\n",
    "        RES=textsp[1]\n",
    "    if textsp[0] == 'SRC':\n",
    "        SRC=textsp[1]\n",
    "    if textsp[0] == 'TGT':\n",
    "        TGT=textsp[1]\n",
    "    if textsp[0] == 'TXT':\n",
    "        G.add_edge(SRC, TGT)\n",
    "        G[SRC][TGT]['VOT'] = VOT\n",
    "        G[SRC][TGT]['RES'] = RES\n",
    "        G[SRC][TGT]['YEA'] = YEA\n",
    "        G[SRC][TGT]['DAT'] = DAT\n",
    "        G[SRC][TGT]['TXT'] = textsp[1]\n",
    "        DAT=\"\"\n",
    "        RES=0\n",
    "        SRC=\"\"\n",
    "        TGT=\"\"\n",
    "        TXT=\"\"\n",
    "        VOT=0\n",
    "        YEA=0\n",
    "    if textsp[0] == 'VOT':\n",
    "        VOT=textsp[1]\n",
    "    if textsp[0] == 'YEA':\n",
    "        YEA=textsp[1]"
   ]
  },
  {
   "cell_type": "code",
   "execution_count": 12,
   "metadata": {},
   "outputs": [],
   "source": [
    "nx.write_gexf(G, \"graph.bz2\")"
   ]
  },
  {
   "cell_type": "code",
   "execution_count": 7,
   "metadata": {},
   "outputs": [],
   "source": [
    "#G=nx.read_gexf(\"graph.bz2\")"
   ]
  }
 ],
 "metadata": {
  "kernelspec": {
   "display_name": "Python 3",
   "language": "python",
   "name": "python3"
  },
  "language_info": {
   "codemirror_mode": {
    "name": "ipython",
    "version": 3
   },
   "file_extension": ".py",
   "mimetype": "text/x-python",
   "name": "python",
   "nbconvert_exporter": "python",
   "pygments_lexer": "ipython3",
   "version": "3.6.6"
  }
 },
 "nbformat": 4,
 "nbformat_minor": 2
}
