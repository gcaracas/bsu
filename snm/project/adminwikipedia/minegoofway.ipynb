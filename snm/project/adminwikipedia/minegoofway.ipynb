{
 "cells": [
  {
   "cell_type": "code",
   "execution_count": null,
   "metadata": {},
   "outputs": [],
   "source": []
  },
  {
   "cell_type": "markdown",
   "metadata": {},
   "source": [
    "Dataset source = http://snap.stanford.edu/data/wiki-RfA.html <br>\n",
    "Dataset title = \"Wikipedia Requests for Adminship (with text)\"<br>\n",
    "Dataset public = Yes"
   ]
  },
  {
   "cell_type": "markdown",
   "metadata": {},
   "source": [
    "#### Stats coming from dataset\n",
    "(median/mean: 19/34 tokens)<br>\n",
    "Nodes\t10,835<br>\n",
    "Edges\t159,388<br>\n",
    "Triangles\t956,428<br>\n",
    "Type of graph: Directed Signed Network"
   ]
  },
  {
   "cell_type": "markdown",
   "metadata": {},
   "source": [
    "#### Dataset format\n",
    "*Fields*<br>\n",
    "SRC: user name of source, i.e., voter<br>\n",
    "TGT: user name of target, i.e., the user running for election<br>\n",
    "VOT: the source's vote on the target (-1 = oppose; 0 = neutral; 1 = support)<br>\n",
    "RES: the outcome of the election (-1 = target was rejected as admin; 1 = target was accepted)<br>\n",
    "YEA: the year in which the election was started<br>\n",
    "DAT: the date and time of this vote<br>\n",
    "TXT: the comment written by the source, in wiki markup<br>\n",
    "<br>\n",
    "<br>\n",
    "*Example*<br>\n",
    "SRC:Guettarda<br>\n",
    "TGT:Lord Roem<br>\n",
    "VOT:1<br>\n",
    "RES:1<br>\n",
    "YEA:2013<br>\n",
    "DAT:19:53, 25 January 2013<br>\n",
    "TXT:'''Support''' per [[WP:DEAL]]: clueful, and unlikely to break Wikipedia.<br>"
   ]
  },
  {
   "cell_type": "code",
   "execution_count": null,
   "metadata": {},
   "outputs": [],
   "source": []
  },
  {
   "cell_type": "code",
   "execution_count": null,
   "metadata": {},
   "outputs": [],
   "source": [
    "import networkx as nx\n",
    "import  pickle\n",
    "import pandas as pd\n",
    "import numpy as np\n",
    "import glob\n",
    "import os\n",
    "import re\n",
    "from collections import Counter\n",
    "import pylab as plt"
   ]
  },
  {
   "cell_type": "markdown",
   "metadata": {},
   "source": [
    "First let's setup the directed graph instance."
   ]
  },
  {
   "cell_type": "code",
   "execution_count": 15,
   "metadata": {},
   "outputs": [],
   "source": [
    "G = nx.DiGraph()"
   ]
  },
  {
   "cell_type": "markdown",
   "metadata": {},
   "source": [
    "Load dataset"
   ]
  },
  {
   "cell_type": "code",
   "execution_count": 16,
   "metadata": {},
   "outputs": [
    {
     "data": {
      "text/plain": [
       "['.\\\\wiki-RfAv2.txt']"
      ]
     },
     "execution_count": 16,
     "metadata": {},
     "output_type": "execute_result"
    }
   ],
   "source": [
    "files = glob.glob(\"./*.txt\")\n",
    "files"
   ]
  },
  {
   "cell_type": "code",
   "execution_count": 17,
   "metadata": {},
   "outputs": [],
   "source": [
    "listWords = []\n",
    "for file in files:\n",
    "    with open(file, mode=\"r\",encoding=\"utf-8\") as f:\n",
    "        content = f.read().splitlines()\n",
    "\n",
    "srcNodes = []\n",
    "count = 1\n",
    "for text in content:\n",
    "    count = count + 1\n",
    "    if count == 1000: \n",
    "        count = 0\n",
    "    textsp = re.split(r\":::\", text)\n",
    "    if textsp[0] == 'TGT' or textsp[0] == 'SRC':\n",
    "        srcNodes.append(textsp[1])"
   ]
  },
  {
   "cell_type": "code",
   "execution_count": 18,
   "metadata": {},
   "outputs": [
    {
     "data": {
      "text/plain": [
       "['Steel1943', 'BDD', 'Cuchullain', 'BDD', 'INeverCry']"
      ]
     },
     "execution_count": 18,
     "metadata": {},
     "output_type": "execute_result"
    }
   ],
   "source": [
    "srcNodes[0:5]"
   ]
  },
  {
   "cell_type": "markdown",
   "metadata": {},
   "source": [
    "Lets get the number of unique nodes first by usig common"
   ]
  },
  {
   "cell_type": "code",
   "execution_count": 19,
   "metadata": {},
   "outputs": [],
   "source": [
    "from collections import Counter\n",
    "cntr = Counter(srcNodes)\n",
    "result=cntr.most_common()"
   ]
  },
  {
   "cell_type": "code",
   "execution_count": 20,
   "metadata": {},
   "outputs": [
    {
     "name": "stdout",
     "output_type": "stream",
     "text": [
      "Unique nodes version 1 is  11381\n"
     ]
    }
   ],
   "source": [
    "print(\"Unique nodes version 1 is \", len(result))"
   ]
  },
  {
   "cell_type": "markdown",
   "metadata": {},
   "source": [
    "Now let's do this via removing duplicates converting to a set"
   ]
  },
  {
   "cell_type": "code",
   "execution_count": 21,
   "metadata": {},
   "outputs": [
    {
     "name": "stdout",
     "output_type": "stream",
     "text": [
      "11381\n"
     ]
    }
   ],
   "source": [
    "tst = set(result)\n",
    "print(len(tst))"
   ]
  },
  {
   "cell_type": "code",
   "execution_count": 22,
   "metadata": {},
   "outputs": [
    {
     "name": "stdout",
     "output_type": "stream",
     "text": [
      "Unique nodes version 2 is  11381\n"
     ]
    }
   ],
   "source": [
    "print(\"Unique nodes version 2 is \",len(tst))"
   ]
  },
  {
   "cell_type": "code",
   "execution_count": 23,
   "metadata": {},
   "outputs": [
    {
     "data": {
      "text/plain": [
       "['SRC:::Steel1943', 'TGT:::BDD', 'VOT:::1', 'RES:::1', 'YEA:::2013']"
      ]
     },
     "execution_count": 23,
     "metadata": {},
     "output_type": "execute_result"
    }
   ],
   "source": [
    "content[0:5]"
   ]
  },
  {
   "cell_type": "markdown",
   "metadata": {},
   "source": [
    "Now let's build the graph"
   ]
  },
  {
   "cell_type": "code",
   "execution_count": 24,
   "metadata": {},
   "outputs": [
    {
     "name": "stdout",
     "output_type": "stream",
     "text": [
      "1586201\n"
     ]
    }
   ],
   "source": [
    "#Check if all the fields are present\n",
    "DAT=\"\"\n",
    "RES=0\n",
    "SRC=\"\"\n",
    "TGT=\"\"\n",
    "TXT=\"\"\n",
    "VOT=0\n",
    "YEA=0\n",
    "count = 1\n",
    "tDat=[]\n",
    "tRes=[]\n",
    "tSrc=[]\n",
    "tTgt=[]\n",
    "tTxt=[]\n",
    "tVot=[]\n",
    "tYea=[]\n",
    "for text in content:\n",
    "    count = count +1\n",
    "    textsp = re.split(r\":::\", text)\n",
    "    if textsp[0] == 'DAT':\n",
    "        DAT=textsp[1]\n",
    "    if textsp[0] == 'RES':\n",
    "        RES=textsp[1]\n",
    "    if textsp[0] == 'SRC':\n",
    "        SRC=textsp[1]\n",
    "    if textsp[0] == 'TGT':\n",
    "        TGT=textsp[1]\n",
    "    if textsp[0] == 'TXT':\n",
    "        G.add_edge(SRC, TGT)\n",
    "        G[SRC][TGT]['VOT'] = VOT\n",
    "        G[SRC][TGT]['RES'] = RES\n",
    "        G[SRC][TGT]['YEA'] = YEA\n",
    "        G[SRC][TGT]['DAT'] = DAT\n",
    "        G[SRC][TGT]['TXT'] = textsp[1]\n",
    "        tDat.append(DAT)\n",
    "        tRes.append(RES)\n",
    "        tSrc.append(SRC)\n",
    "        tTgt.append(TGT)\n",
    "        tTxt.append(textsp[1])\n",
    "        tVot.append(VOT)\n",
    "        tYea.append(YEA)\n",
    "        DAT=\"\"\n",
    "        RES=0\n",
    "        SRC=\"\"\n",
    "        TGT=\"\"\n",
    "        TXT=\"\"\n",
    "        VOT=0\n",
    "        YEA=0\n",
    "    if textsp[0] == 'VOT':\n",
    "        VOT=textsp[1]\n",
    "    if textsp[0] == 'YEA':\n",
    "        YEA=textsp[1]\n",
    "print(count)    "
   ]
  },
  {
   "cell_type": "code",
   "execution_count": 25,
   "metadata": {},
   "outputs": [
    {
     "data": {
      "text/plain": [
       "11381"
      ]
     },
     "execution_count": 25,
     "metadata": {},
     "output_type": "execute_result"
    }
   ],
   "source": [
    "G.number_of_nodes()"
   ]
  },
  {
   "cell_type": "code",
   "execution_count": 26,
   "metadata": {},
   "outputs": [
    {
     "data": {
      "text/plain": [
       "189003"
      ]
     },
     "execution_count": 26,
     "metadata": {},
     "output_type": "execute_result"
    }
   ],
   "source": [
    "G.number_of_edges()"
   ]
  },
  {
   "cell_type": "code",
   "execution_count": 16,
   "metadata": {},
   "outputs": [],
   "source": [
    "pickle.dump( G, open( \"fullGraph.pickle\", \"wb\" ) )"
   ]
  },
  {
   "cell_type": "code",
   "execution_count": 27,
   "metadata": {},
   "outputs": [],
   "source": [
    "G = pickle.load( open( \"fullGraph.pickle\", \"rb\" ) )"
   ]
  },
  {
   "cell_type": "code",
   "execution_count": 28,
   "metadata": {},
   "outputs": [],
   "source": [
    "#nx.write_gexf(G, \"fullGraph.gexf\")"
   ]
  },
  {
   "cell_type": "code",
   "execution_count": 29,
   "metadata": {},
   "outputs": [
    {
     "data": {
      "text/plain": [
       "11381"
      ]
     },
     "execution_count": 29,
     "metadata": {},
     "output_type": "execute_result"
    }
   ],
   "source": [
    "G.number_of_nodes()"
   ]
  },
  {
   "cell_type": "code",
   "execution_count": 30,
   "metadata": {},
   "outputs": [
    {
     "data": {
      "text/plain": [
       "189003"
      ]
     },
     "execution_count": 30,
     "metadata": {},
     "output_type": "execute_result"
    }
   ],
   "source": [
    "G.number_of_edges()"
   ]
  },
  {
   "cell_type": "code",
   "execution_count": 31,
   "metadata": {},
   "outputs": [
    {
     "name": "stdout",
     "output_type": "stream",
     "text": [
      "['Steel1943', 'BDD', 'Cuchullain', 'INeverCry', 'Cncmaster']\n"
     ]
    }
   ],
   "source": [
    "tmplist = list(G.nodes())\n",
    "print(tmplist[0:5])"
   ]
  },
  {
   "cell_type": "markdown",
   "metadata": {},
   "source": [
    "Now let's prit an edge"
   ]
  },
  {
   "cell_type": "code",
   "execution_count": 32,
   "metadata": {},
   "outputs": [
    {
     "name": "stdout",
     "output_type": "stream",
     "text": [
      "[('Steel1943', 'BDD', {'VOT': '1', 'RES': '1', 'YEA': '2013', 'DAT': '23:13, 19 April 2013', 'TXT': \"'''Support''' as co-nom.\"})]\n"
     ]
    }
   ],
   "source": [
    "tmp = list(G.edges.data())\n",
    "print(tmp[0:1])"
   ]
  },
  {
   "cell_type": "markdown",
   "metadata": {},
   "source": [
    "Now let's print a node"
   ]
  },
  {
   "cell_type": "code",
   "execution_count": 33,
   "metadata": {},
   "outputs": [
    {
     "name": "stdout",
     "output_type": "stream",
     "text": [
      "[('Steel1943', {})]\n"
     ]
    }
   ],
   "source": [
    "tmp = list(G.nodes.data())\n",
    "print(tmp[0:1])"
   ]
  },
  {
   "cell_type": "code",
   "execution_count": 25,
   "metadata": {},
   "outputs": [
    {
     "name": "stdout",
     "output_type": "stream",
     "text": [
      "Help on package networkx.algorithms in networkx:\n",
      "\n",
      "NAME\n",
      "    networkx.algorithms\n",
      "\n",
      "PACKAGE CONTENTS\n",
      "    approximation (package)\n",
      "    assortativity (package)\n",
      "    bipartite (package)\n",
      "    boundary\n",
      "    bridges\n",
      "    centrality (package)\n",
      "    chains\n",
      "    chordal\n",
      "    clique\n",
      "    cluster\n",
      "    coloring (package)\n",
      "    communicability_alg\n",
      "    community (package)\n",
      "    components (package)\n",
      "    connectivity (package)\n",
      "    core\n",
      "    covering\n",
      "    cuts\n",
      "    cycles\n",
      "    dag\n",
      "    distance_measures\n",
      "    distance_regular\n",
      "    dominance\n",
      "    dominating\n",
      "    efficiency\n",
      "    euler\n",
      "    flow (package)\n",
      "    graphical\n",
      "    hierarchy\n",
      "    hybrid\n",
      "    isolate\n",
      "    isomorphism (package)\n",
      "    link_analysis (package)\n",
      "    link_prediction\n",
      "    lowest_common_ancestors\n",
      "    matching\n",
      "    minors\n",
      "    mis\n",
      "    operators (package)\n",
      "    reciprocity\n",
      "    richclub\n",
      "    shortest_paths (package)\n",
      "    similarity\n",
      "    simple_paths\n",
      "    smetric\n",
      "    structuralholes\n",
      "    swap\n",
      "    threshold\n",
      "    tournament\n",
      "    traversal (package)\n",
      "    tree (package)\n",
      "    triads\n",
      "    vitality\n",
      "    voronoi\n",
      "    wiener\n",
      "\n",
      "SUBMODULES\n",
      "    all\n",
      "    astar\n",
      "    attracting\n",
      "    beamsearch\n",
      "    betweenness\n",
      "    betweenness_subset\n",
      "    biconnected\n",
      "    binary\n",
      "    breadth_first_search\n",
      "    closeness\n",
      "    connected\n",
      "    correlation\n",
      "    current_flow_betweenness\n",
      "    current_flow_betweenness_subset\n",
      "    current_flow_closeness\n",
      "    degree_alg\n",
      "    dense\n",
      "    depth_first_search\n",
      "    edgedfs\n",
      "    eigenvector\n",
      "    flow_matrix\n",
      "    generic\n",
      "    harmonic\n",
      "    hits_alg\n",
      "    katz\n",
      "    load\n",
      "    mixing\n",
      "    neighbor_degree\n",
      "    pagerank_alg\n",
      "    pairs\n",
      "    product\n",
      "    reaching\n",
      "    semiconnected\n",
      "    strongly_connected\n",
      "    subgraph_alg\n",
      "    unary\n",
      "    unweighted\n",
      "    weakly_connected\n",
      "    weighted\n",
      "\n",
      "FILE\n",
      "    d:\\sw\\anaconda\\envs\\fastai\\lib\\site-packages\\networkx\\algorithms\\__init__.py\n",
      "\n",
      "\n"
     ]
    }
   ],
   "source": [
    "help(nx.algorithms)"
   ]
  },
  {
   "cell_type": "code",
   "execution_count": 26,
   "metadata": {},
   "outputs": [],
   "source": [
    "def plot_degree_distribution(tG): \n",
    "    degs = {}\n",
    "    for n in tG.nodes():\n",
    "        deg = tG.degree(n) \n",
    "        if deg not in degs:\n",
    "            degs[deg] = 0\n",
    "        degs[deg] += 1\n",
    "    items = sorted(degs.items())\n",
    "    fig = plt.figure()\n",
    "    ax = fig.add_subplot(111)\n",
    "    ax.plot([k for (k,v) in items], [v for (k,v) in items]) \n",
    "    ax.set_xscale('log') \n",
    "    ax.set_yscale('log')\n",
    "    plt.title(\"Wikipedia Degree Distribution\") \n",
    "    fig.savefig(\"degree_distribution.png\")"
   ]
  },
  {
   "cell_type": "code",
   "execution_count": 27,
   "metadata": {},
   "outputs": [
    {
     "data": {
      "image/png": "[encoded data removed]",
      "text/plain": [
       "<Figure size 432x288 with 1 Axes>"
      ]
     },
     "metadata": {
      "needs_background": "light"
     },
     "output_type": "display_data"
    }
   ],
   "source": [
    "plot_degree_distribution(G)"
   ]
  },
  {
   "cell_type": "code",
   "execution_count": null,
   "metadata": {},
   "outputs": [],
   "source": []
  },
  {
   "cell_type": "markdown",
   "metadata": {},
   "source": [
    "To iterate"
   ]
  },
  {
   "cell_type": "code",
   "execution_count": 34,
   "metadata": {},
   "outputs": [
    {
     "name": "stdout",
     "output_type": "stream",
     "text": [
      "Steel1943 4\n",
      "BDD 142\n",
      "Cuchullain 65\n",
      "INeverCry 133\n",
      "Cncmaster 21\n",
      "Miniapolis 158\n",
      "Sven Manguard 129\n",
      "Ramaksoud2000 6\n"
     ]
    }
   ],
   "source": [
    "count = 1\n",
    "for node in G.nodes():\n",
    "    count = count+1\n",
    "    if count == 10: break\n",
    "    print(node, G.degree(node))"
   ]
  },
  {
   "cell_type": "code",
   "execution_count": 35,
   "metadata": {},
   "outputs": [],
   "source": [
    "#nx.draw(g)\n",
    "#nx.draw_random(G)\n",
    "#nx.draw_circular(G)\n",
    "#nx.draw_spectral(G)"
   ]
  },
  {
   "cell_type": "code",
   "execution_count": 36,
   "metadata": {},
   "outputs": [],
   "source": [
    "#nx.draw_random(G)"
   ]
  },
  {
   "cell_type": "markdown",
   "metadata": {},
   "source": [
    "### Now we will build a table per attribute so we can build a datascience table"
   ]
  },
  {
   "cell_type": "code",
   "execution_count": 37,
   "metadata": {},
   "outputs": [
    {
     "name": "stdout",
     "output_type": "stream",
     "text": [
      "All sizes must match\n",
      "198275\n",
      "198275\n",
      "198275\n",
      "198275\n",
      "198275\n",
      "198275\n",
      "198275\n"
     ]
    }
   ],
   "source": [
    "# All sizes must mach\n",
    "print(\"All sizes must match\")\n",
    "print(len(tDat))\n",
    "print(len(tRes))\n",
    "print(len(tSrc))\n",
    "print(len(tTgt))\n",
    "print(len(tTxt))\n",
    "print(len(tVot))\n",
    "print(len(tYea))"
   ]
  },
  {
   "cell_type": "markdown",
   "metadata": {},
   "source": [
    "We need to convert first the tables we will use as numeric"
   ]
  },
  {
   "cell_type": "code",
   "execution_count": 38,
   "metadata": {},
   "outputs": [],
   "source": [
    "counter=0\n",
    "for element in tRes:\n",
    "    tRes[counter] = int(element)\n",
    "    counter=counter+1\n",
    "\n",
    "counter=0\n",
    "for element in tVot:\n",
    "    tVot[counter] = int(element)\n",
    "    counter=counter+1\n",
    "\n",
    "    "
   ]
  },
  {
   "cell_type": "code",
   "execution_count": 39,
   "metadata": {},
   "outputs": [],
   "source": [
    "allTable=Table().with_columns(\n",
    "    'SRC', tSrc,\n",
    "    'TGT',tTgt,\n",
    "    'VOT',tVot,\n",
    "    'RES',tRes,\n",
    "    'YEA',tYea,\n",
    "    'DAT',tDat,\n",
    "    'TXT',tTxt)"
   ]
  },
  {
   "cell_type": "code",
   "execution_count": 40,
   "metadata": {},
   "outputs": [
    {
     "data": {
      "text/html": [
       "<table border=\"1\" class=\"dataframe\">\n",
       "    <thead>\n",
       "        <tr>\n",
       "            <th>SRC</th> <th>TGT</th> <th>VOT</th> <th>RES</th> <th>YEA</th> <th>DAT</th> <th>TXT</th>\n",
       "        </tr>\n",
       "    </thead>\n",
       "    <tbody>\n",
       "        <tr>\n",
       "            <td>Steel1943    </td> <td>BDD </td> <td>1   </td> <td>1   </td> <td>2013</td> <td>23:13, 19 April 2013</td> <td>'''Support''' as co-nom.                                    </td>\n",
       "        </tr>\n",
       "        <tr>\n",
       "            <td>Cuchullain   </td> <td>BDD </td> <td>1   </td> <td>1   </td> <td>2013</td> <td>01:04, 20 April 2013</td> <td>'''Support''' as nominator.--                               </td>\n",
       "        </tr>\n",
       "        <tr>\n",
       "            <td>INeverCry    </td> <td>BDD </td> <td>1   </td> <td>1   </td> <td>2013</td> <td>23:43, 19 April 2013</td> <td>'''Support''' per noms.                                     </td>\n",
       "        </tr>\n",
       "        <tr>\n",
       "            <td>Cncmaster    </td> <td>BDD </td> <td>1   </td> <td>1   </td> <td>2013</td> <td>00:11, 20 April 2013</td> <td>'''Support''' per noms. BDD is a strong contributor with ...</td>\n",
       "        </tr>\n",
       "        <tr>\n",
       "            <td>Miniapolis   </td> <td>BDD </td> <td>1   </td> <td>1   </td> <td>2013</td> <td>00:56, 20 April 2013</td> <td>'''Support''', with great pleasure. I work with BDD at t ...</td>\n",
       "        </tr>\n",
       "        <tr>\n",
       "            <td>Sven Manguard</td> <td>BDD </td> <td>1   </td> <td>1   </td> <td>2013</td> <td>01:53, 20 April 2013</td> <td>'''Support''' There are plenty of important roles on thi ...</td>\n",
       "        </tr>\n",
       "        <tr>\n",
       "            <td>Ramaksoud2000</td> <td>BDD </td> <td>1   </td> <td>1   </td> <td>2013</td> <td>02:00, 20 April 2013</td> <td>'''Support''' per noms. I don't see a reason not to.        </td>\n",
       "        </tr>\n",
       "        <tr>\n",
       "            <td>RockMagnetist</td> <td>BDD </td> <td>1   </td> <td>1   </td> <td>2013</td> <td>02:18, 20 April 2013</td> <td>'''Support'''  BDD already wields a broom pretty well, s ...</td>\n",
       "        </tr>\n",
       "        <tr>\n",
       "            <td>Carrite      </td> <td>BDD </td> <td>1   </td> <td>1   </td> <td>2013</td> <td>02:22, 20 April 2013</td> <td>'''Support''' barring a completely unexpected answer to  ...</td>\n",
       "        </tr>\n",
       "        <tr>\n",
       "            <td>Someguy1221  </td> <td>BDD </td> <td>1   </td> <td>1   </td> <td>2013</td> <td>03:09, 20 April 2013</td> <td>'''Support''' because I see no good reason not to.          </td>\n",
       "        </tr>\n",
       "    </tbody>\n",
       "</table>\n",
       "<p>... (198265 rows omitted)</p>"
      ],
      "text/plain": [
       "SRC           | TGT  | VOT  | RES  | YEA  | DAT                  | TXT\n",
       "Steel1943     | BDD  | 1    | 1    | 2013 | 23:13, 19 April 2013 | '''Support''' as co-nom.\n",
       "Cuchullain    | BDD  | 1    | 1    | 2013 | 01:04, 20 April 2013 | '''Support''' as nominator.--\n",
       "INeverCry     | BDD  | 1    | 1    | 2013 | 23:43, 19 April 2013 | '''Support''' per noms.\n",
       "Cncmaster     | BDD  | 1    | 1    | 2013 | 00:11, 20 April 2013 | '''Support''' per noms. BDD is a strong contributor with ...\n",
       "Miniapolis    | BDD  | 1    | 1    | 2013 | 00:56, 20 April 2013 | '''Support''', with great pleasure. I work with BDD at t ...\n",
       "Sven Manguard | BDD  | 1    | 1    | 2013 | 01:53, 20 April 2013 | '''Support''' There are plenty of important roles on thi ...\n",
       "Ramaksoud2000 | BDD  | 1    | 1    | 2013 | 02:00, 20 April 2013 | '''Support''' per noms. I don't see a reason not to.\n",
       "RockMagnetist | BDD  | 1    | 1    | 2013 | 02:18, 20 April 2013 | '''Support'''  BDD already wields a broom pretty well, s ...\n",
       "Carrite       | BDD  | 1    | 1    | 2013 | 02:22, 20 April 2013 | '''Support''' barring a completely unexpected answer to  ...\n",
       "Someguy1221   | BDD  | 1    | 1    | 2013 | 03:09, 20 April 2013 | '''Support''' because I see no good reason not to.\n",
       "... (198265 rows omitted)"
      ]
     },
     "execution_count": 40,
     "metadata": {},
     "output_type": "execute_result"
    }
   ],
   "source": [
    "allTable"
   ]
  },
  {
   "cell_type": "markdown",
   "metadata": {},
   "source": [
    "### Lets get some preliminary data"
   ]
  },
  {
   "cell_type": "code",
   "execution_count": 41,
   "metadata": {},
   "outputs": [
    {
     "name": "stdout",
     "output_type": "stream",
     "text": [
      "Vote Distribution\n"
     ]
    },
    {
     "data": {
      "text/html": [
       "<table border=\"1\" class=\"dataframe\">\n",
       "    <thead>\n",
       "        <tr>\n",
       "            <th>VOT</th> <th>count</th>\n",
       "        </tr>\n",
       "    </thead>\n",
       "    <tbody>\n",
       "        <tr>\n",
       "            <td>-1  </td> <td>41176 </td>\n",
       "        </tr>\n",
       "        <tr>\n",
       "            <td>0   </td> <td>12648 </td>\n",
       "        </tr>\n",
       "        <tr>\n",
       "            <td>1   </td> <td>144451</td>\n",
       "        </tr>\n",
       "    </tbody>\n",
       "</table>"
      ],
      "text/plain": [
       "VOT  | count\n",
       "-1   | 41176\n",
       "0    | 12648\n",
       "1    | 144451"
      ]
     },
     "execution_count": 41,
     "metadata": {},
     "output_type": "execute_result"
    }
   ],
   "source": [
    "print(\"Vote Distribution\")\n",
    "voteDistribution = allTable.group('VOT')\n",
    "voteDistribution"
   ]
  },
  {
   "cell_type": "code",
   "execution_count": 42,
   "metadata": {},
   "outputs": [
    {
     "name": "stdout",
     "output_type": "stream",
     "text": [
      "Visualizing vote distribution\n"
     ]
    },
    {
     "data": {
      "image/png": "[encoded data removed]",
      "text/plain": [
       "<Figure size 432x288 with 1 Axes>"
      ]
     },
     "metadata": {
      "needs_background": "light"
     },
     "output_type": "display_data"
    }
   ],
   "source": [
    "print(\"Visualizing vote distribution\")\n",
    "voteDistribution.sort('count', descending=True).barh('VOT')"
   ]
  },
  {
   "cell_type": "code",
   "execution_count": 43,
   "metadata": {},
   "outputs": [
    {
     "name": "stdout",
     "output_type": "stream",
     "text": [
      "User from source Distribution\n"
     ]
    },
    {
     "data": {
      "text/html": [
       "<table border=\"1\" class=\"dataframe\">\n",
       "    <thead>\n",
       "        <tr>\n",
       "            <th>SRC</th> <th>count</th>\n",
       "        </tr>\n",
       "    </thead>\n",
       "    <tbody>\n",
       "        <tr>\n",
       "            <td>             </td> <td>1661 </td>\n",
       "        </tr>\n",
       "        <tr>\n",
       "            <td>Siva1979     </td> <td>1232 </td>\n",
       "        </tr>\n",
       "        <tr>\n",
       "            <td>Mailer diablo</td> <td>998  </td>\n",
       "        </tr>\n",
       "        <tr>\n",
       "            <td>Merovingian  </td> <td>916  </td>\n",
       "        </tr>\n",
       "        <tr>\n",
       "            <td>Wizardman    </td> <td>810  </td>\n",
       "        </tr>\n",
       "        <tr>\n",
       "            <td>Acalamari    </td> <td>726  </td>\n",
       "        </tr>\n",
       "        <tr>\n",
       "            <td>Xoloz        </td> <td>677  </td>\n",
       "        </tr>\n",
       "        <tr>\n",
       "            <td>Pedro        </td> <td>663  </td>\n",
       "        </tr>\n",
       "        <tr>\n",
       "            <td>Dlohcierekim </td> <td>661  </td>\n",
       "        </tr>\n",
       "        <tr>\n",
       "            <td>Bearian      </td> <td>635  </td>\n",
       "        </tr>\n",
       "    </tbody>\n",
       "</table>\n",
       "<p>... (10407 rows omitted)</p>"
      ],
      "text/plain": [
       "SRC           | count\n",
       "              | 1661\n",
       "Siva1979      | 1232\n",
       "Mailer diablo | 998\n",
       "Merovingian   | 916\n",
       "Wizardman     | 810\n",
       "Acalamari     | 726\n",
       "Xoloz         | 677\n",
       "Pedro         | 663\n",
       "Dlohcierekim  | 661\n",
       "Bearian       | 635\n",
       "... (10407 rows omitted)"
      ]
     },
     "execution_count": 43,
     "metadata": {},
     "output_type": "execute_result"
    }
   ],
   "source": [
    "print(\"User from source Distribution\")\n",
    "srcDistribution = allTable.group('SRC')\n",
    "srcDistribution.sort('count', descending=True)"
   ]
  },
  {
   "cell_type": "code",
   "execution_count": 44,
   "metadata": {},
   "outputs": [
    {
     "name": "stdout",
     "output_type": "stream",
     "text": [
      "User from target Distribution\n"
     ]
    },
    {
     "data": {
      "text/html": [
       "<table border=\"1\" class=\"dataframe\">\n",
       "    <thead>\n",
       "        <tr>\n",
       "            <th>TGT</th> <th>count</th>\n",
       "        </tr>\n",
       "    </thead>\n",
       "    <tbody>\n",
       "        <tr>\n",
       "            <td>Everyking        </td> <td>987  </td>\n",
       "        </tr>\n",
       "        <tr>\n",
       "            <td>TenPoundHammer   </td> <td>778  </td>\n",
       "        </tr>\n",
       "        <tr>\n",
       "            <td>MZMcBride        </td> <td>663  </td>\n",
       "        </tr>\n",
       "        <tr>\n",
       "            <td>Cobi             </td> <td>639  </td>\n",
       "        </tr>\n",
       "        <tr>\n",
       "            <td>Elonka           </td> <td>628  </td>\n",
       "        </tr>\n",
       "        <tr>\n",
       "            <td>Ironholds        </td> <td>577  </td>\n",
       "        </tr>\n",
       "        <tr>\n",
       "            <td>Kww              </td> <td>563  </td>\n",
       "        </tr>\n",
       "        <tr>\n",
       "            <td>Werdna           </td> <td>540  </td>\n",
       "        </tr>\n",
       "        <tr>\n",
       "            <td>Enigmaman        </td> <td>486  </td>\n",
       "        </tr>\n",
       "        <tr>\n",
       "            <td>The Transhumanist</td> <td>476  </td>\n",
       "        </tr>\n",
       "    </tbody>\n",
       "</table>\n",
       "<p>... (3487 rows omitted)</p>"
      ],
      "text/plain": [
       "TGT               | count\n",
       "Everyking         | 987\n",
       "TenPoundHammer    | 778\n",
       "MZMcBride         | 663\n",
       "Cobi              | 639\n",
       "Elonka            | 628\n",
       "Ironholds         | 577\n",
       "Kww               | 563\n",
       "Werdna            | 540\n",
       "Enigmaman         | 486\n",
       "The Transhumanist | 476\n",
       "... (3487 rows omitted)"
      ]
     },
     "execution_count": 44,
     "metadata": {},
     "output_type": "execute_result"
    }
   ],
   "source": [
    "print(\"User from target Distribution\")\n",
    "tgtDistribution = allTable.group('TGT')\n",
    "tgtDistribution.sort('count', descending=True)"
   ]
  },
  {
   "cell_type": "code",
   "execution_count": 39,
   "metadata": {},
   "outputs": [
    {
     "name": "stdout",
     "output_type": "stream",
     "text": [
      "Result Distribution\n"
     ]
    },
    {
     "data": {
      "text/html": [
       "<table border=\"1\" class=\"dataframe\">\n",
       "    <thead>\n",
       "        <tr>\n",
       "            <th>RES</th> <th>count</th>\n",
       "        </tr>\n",
       "    </thead>\n",
       "    <tbody>\n",
       "        <tr>\n",
       "            <td>-1  </td> <td>74987 </td>\n",
       "        </tr>\n",
       "        <tr>\n",
       "            <td>1   </td> <td>123288</td>\n",
       "        </tr>\n",
       "    </tbody>\n",
       "</table>"
      ],
      "text/plain": [
       "RES  | count\n",
       "-1   | 74987\n",
       "1    | 123288"
      ]
     },
     "execution_count": 39,
     "metadata": {},
     "output_type": "execute_result"
    }
   ],
   "source": [
    "print(\"Result Distribution\")\n",
    "resDistribution = allTable.group('RES')\n",
    "resDistribution"
   ]
  },
  {
   "cell_type": "code",
   "execution_count": 40,
   "metadata": {},
   "outputs": [
    {
     "name": "stdout",
     "output_type": "stream",
     "text": [
      "Visualizing result distribution\n"
     ]
    },
    {
     "data": {
      "image/png": "[encoded data removed]",
      "text/plain": [
       "<Figure size 432x288 with 1 Axes>"
      ]
     },
     "metadata": {
      "needs_background": "light"
     },
     "output_type": "display_data"
    }
   ],
   "source": [
    "print(\"Visualizing result distribution\")\n",
    "resDistribution.sort('count', descending=True).barh('RES')"
   ]
  },
  {
   "cell_type": "markdown",
   "metadata": {},
   "source": [
    "### Now in order to make analysis we need to convert usert to userid, for that let's make a map function."
   ]
  },
  {
   "cell_type": "code",
   "execution_count": 45,
   "metadata": {},
   "outputs": [
    {
     "name": "stdout",
     "output_type": "stream",
     "text": [
      "len of src =  198275\n",
      "len of dst =  198275\n",
      "After join the length we expect is 396550\n",
      "Total lenght of joined table is  396550\n"
     ]
    }
   ],
   "source": [
    "# We already have tables of src and tgt. \n",
    "#Lets join them first because we need to include \n",
    "#all users, some of them might not be src or tgt\n",
    "\n",
    "#'SRC', tSrc,\n",
    "#'TGT',tTgt,\n",
    "#'VOT',tVot,\n",
    "#'RES',tRes,\n",
    "#'YEA',tYea,\n",
    "#'DAT',tDat,\n",
    "#'TXT',tTxt)\n",
    "tot = len(tSrc)+len(tTgt)\n",
    "print(\"len of src = \", len(tSrc))\n",
    "print(\"len of dst = \", len(tTgt))\n",
    "print(\"After join the length we expect is\", tot)\n",
    "usersList = tSrc+ tTgt\n",
    "print(\"Total lenght of joined table is \",len(usersList))"
   ]
  },
  {
   "cell_type": "markdown",
   "metadata": {},
   "source": [
    "Now, we will remove the duplicates by converting the list into a set"
   ]
  },
  {
   "cell_type": "code",
   "execution_count": 46,
   "metadata": {},
   "outputs": [],
   "source": [
    "usersSet=set(usersList)"
   ]
  },
  {
   "cell_type": "code",
   "execution_count": 47,
   "metadata": {},
   "outputs": [
    {
     "name": "stdout",
     "output_type": "stream",
     "text": [
      "The total number of users is  11381\n"
     ]
    }
   ],
   "source": [
    "print(\"The total number of users is \",len(usersSet))"
   ]
  },
  {
   "cell_type": "code",
   "execution_count": 48,
   "metadata": {},
   "outputs": [],
   "source": [
    "usersDictionary = dict()\n",
    "a = enumerate(usersList)\n",
    "for k,v in a:\n",
    "    usersDictionary[v]=k"
   ]
  },
  {
   "cell_type": "code",
   "execution_count": 49,
   "metadata": {},
   "outputs": [
    {
     "name": "stdout",
     "output_type": "stream",
     "text": [
      "Example of the dictionary, in this case we will get the id of a user  201143\n"
     ]
    }
   ],
   "source": [
    "print(\"Example of the dictionary, in this case we will get the id of a user \",usersDictionary['Carrite'])"
   ]
  },
  {
   "cell_type": "markdown",
   "metadata": {},
   "source": [
    "### We want to convert the users to numbers, thus users id, for this we need a function that will map the user to its numeric user id"
   ]
  },
  {
   "cell_type": "code",
   "execution_count": 50,
   "metadata": {},
   "outputs": [],
   "source": [
    "def mapUsrIntoInt(x):\n",
    "    return usersDictionary[x]"
   ]
  },
  {
   "cell_type": "code",
   "execution_count": 51,
   "metadata": {},
   "outputs": [
    {
     "data": {
      "text/plain": [
       "201143"
      ]
     },
     "execution_count": 51,
     "metadata": {},
     "output_type": "execute_result"
    }
   ],
   "source": [
    "mapUsrIntoInt('Carrite')"
   ]
  },
  {
   "cell_type": "markdown",
   "metadata": {},
   "source": [
    "Lets use some magic of the datascience table. We will apply the function into SRC and TGT columns, making new ones with their respective user'ids"
   ]
  },
  {
   "cell_type": "code",
   "execution_count": 52,
   "metadata": {},
   "outputs": [],
   "source": [
    "allTable = allTable.with_column(\n",
    "    'SRCID', allTable.apply(mapUsrIntoInt, 'SRC')\n",
    ")"
   ]
  },
  {
   "cell_type": "code",
   "execution_count": 53,
   "metadata": {},
   "outputs": [],
   "source": [
    "allTable = allTable.with_column(\n",
    "    'TGTID', allTable.apply(mapUsrIntoInt, 'TGT')\n",
    ")"
   ]
  },
  {
   "cell_type": "code",
   "execution_count": 58,
   "metadata": {},
   "outputs": [
    {
     "ename": "MemoryError",
     "evalue": "",
     "output_type": "error",
     "traceback": [
      "\u001b[1;31m---------------------------------------------------------------------------\u001b[0m",
      "\u001b[1;31mMemoryError\u001b[0m                               Traceback (most recent call last)",
      "\u001b[1;32m<ipython-input-58-995eddb862a4>\u001b[0m in \u001b[0;36m<module>\u001b[1;34m()\u001b[0m\n\u001b[0;32m      1\u001b[0m \u001b[1;31m# Out of memory, here we dump memory first\u001b[0m\u001b[1;33m\u001b[0m\u001b[1;33m\u001b[0m\u001b[0m\n\u001b[1;32m----> 2\u001b[1;33m \u001b[0mpickle\u001b[0m\u001b[1;33m.\u001b[0m\u001b[0mdump\u001b[0m\u001b[1;33m(\u001b[0m \u001b[0mallTable\u001b[0m\u001b[1;33m,\u001b[0m \u001b[0mopen\u001b[0m\u001b[1;33m(\u001b[0m \u001b[1;34m\"allTableint.pickle\"\u001b[0m\u001b[1;33m,\u001b[0m \u001b[1;34m\"w\"\u001b[0m \u001b[1;33m)\u001b[0m\u001b[1;33m,\u001b[0m \u001b[0mprotocol\u001b[0m\u001b[1;33m=\u001b[0m\u001b[1;36m4\u001b[0m \u001b[1;33m)\u001b[0m\u001b[1;33m\u001b[0m\u001b[0m\n\u001b[0m",
      "\u001b[1;31mMemoryError\u001b[0m: "
     ]
    }
   ],
   "source": [
    "# Out of memory, here we dump memory first\n",
    "pickle.dump( allTable, open( \"allTableint.pickle\", \"w\" ), protocol=4 )"
   ]
  },
  {
   "cell_type": "code",
   "execution_count": null,
   "metadata": {},
   "outputs": [],
   "source": [
    "allTable = pickle.load( open( \"fullGraph.pickle\", \"rb\" ) )"
   ]
  },
  {
   "cell_type": "code",
   "execution_count": 50,
   "metadata": {},
   "outputs": [
    {
     "data": {
      "text/html": [
       "<table border=\"1\" class=\"dataframe\">\n",
       "    <thead>\n",
       "        <tr>\n",
       "            <th>SRC</th> <th>TGT</th> <th>VOT</th> <th>RES</th> <th>YEA</th> <th>DAT</th> <th>TXT</th> <th>SRCID</th> <th>TGTID</th>\n",
       "        </tr>\n",
       "    </thead>\n",
       "    <tbody>\n",
       "        <tr>\n",
       "            <td>Steel1943    </td> <td>BDD </td> <td>1   </td> <td>1   </td> <td>2013</td> <td>23:13, 19 April 2013</td> <td>'''Support''' as co-nom.                                    </td> <td>3108  </td> <td>198411</td>\n",
       "        </tr>\n",
       "        <tr>\n",
       "            <td>Cuchullain   </td> <td>BDD </td> <td>1   </td> <td>1   </td> <td>2013</td> <td>01:04, 20 April 2013</td> <td>'''Support''' as nominator.--                               </td> <td>288770</td> <td>198411</td>\n",
       "        </tr>\n",
       "        <tr>\n",
       "            <td>INeverCry    </td> <td>BDD </td> <td>1   </td> <td>1   </td> <td>2013</td> <td>23:43, 19 April 2013</td> <td>'''Support''' per noms.                                     </td> <td>198804</td> <td>198411</td>\n",
       "        </tr>\n",
       "        <tr>\n",
       "            <td>Cncmaster    </td> <td>BDD </td> <td>1   </td> <td>1   </td> <td>2013</td> <td>00:11, 20 April 2013</td> <td>'''Support''' per noms. BDD is a strong contributor with ...</td> <td>3566  </td> <td>198411</td>\n",
       "        </tr>\n",
       "        <tr>\n",
       "            <td>Miniapolis   </td> <td>BDD </td> <td>1   </td> <td>1   </td> <td>2013</td> <td>00:56, 20 April 2013</td> <td>'''Support''', with great pleasure. I work with BDD at t ...</td> <td>199526</td> <td>198411</td>\n",
       "        </tr>\n",
       "        <tr>\n",
       "            <td>Sven Manguard</td> <td>BDD </td> <td>1   </td> <td>1   </td> <td>2013</td> <td>01:53, 20 April 2013</td> <td>'''Support''' There are plenty of important roles on thi ...</td> <td>208026</td> <td>198411</td>\n",
       "        </tr>\n",
       "        <tr>\n",
       "            <td>Ramaksoud2000</td> <td>BDD </td> <td>1   </td> <td>1   </td> <td>2013</td> <td>02:00, 20 April 2013</td> <td>'''Support''' per noms. I don't see a reason not to.        </td> <td>17267 </td> <td>198411</td>\n",
       "        </tr>\n",
       "        <tr>\n",
       "            <td>RockMagnetist</td> <td>BDD </td> <td>1   </td> <td>1   </td> <td>2013</td> <td>02:18, 20 April 2013</td> <td>'''Support'''  BDD already wields a broom pretty well, s ...</td> <td>200089</td> <td>198411</td>\n",
       "        </tr>\n",
       "        <tr>\n",
       "            <td>Carrite      </td> <td>BDD </td> <td>1   </td> <td>1   </td> <td>2013</td> <td>02:22, 20 April 2013</td> <td>'''Support''' barring a completely unexpected answer to  ...</td> <td>201143</td> <td>198411</td>\n",
       "        </tr>\n",
       "        <tr>\n",
       "            <td>Someguy1221  </td> <td>BDD </td> <td>1   </td> <td>1   </td> <td>2013</td> <td>03:09, 20 April 2013</td> <td>'''Support''' because I see no good reason not to.          </td> <td>240690</td> <td>198411</td>\n",
       "        </tr>\n",
       "    </tbody>\n",
       "</table>\n",
       "<p>... (198265 rows omitted)</p>"
      ],
      "text/plain": [
       "SRC           | TGT  | VOT  | RES  | YEA  | DAT                  | TXT                                                          | SRCID  | TGTID\n",
       "Steel1943     | BDD  | 1    | 1    | 2013 | 23:13, 19 April 2013 | '''Support''' as co-nom.                                     | 3108   | 198411\n",
       "Cuchullain    | BDD  | 1    | 1    | 2013 | 01:04, 20 April 2013 | '''Support''' as nominator.--                                | 288770 | 198411\n",
       "INeverCry     | BDD  | 1    | 1    | 2013 | 23:43, 19 April 2013 | '''Support''' per noms.                                      | 198804 | 198411\n",
       "Cncmaster     | BDD  | 1    | 1    | 2013 | 00:11, 20 April 2013 | '''Support''' per noms. BDD is a strong contributor with ... | 3566   | 198411\n",
       "Miniapolis    | BDD  | 1    | 1    | 2013 | 00:56, 20 April 2013 | '''Support''', with great pleasure. I work with BDD at t ... | 199526 | 198411\n",
       "Sven Manguard | BDD  | 1    | 1    | 2013 | 01:53, 20 April 2013 | '''Support''' There are plenty of important roles on thi ... | 208026 | 198411\n",
       "Ramaksoud2000 | BDD  | 1    | 1    | 2013 | 02:00, 20 April 2013 | '''Support''' per noms. I don't see a reason not to.         | 17267  | 198411\n",
       "RockMagnetist | BDD  | 1    | 1    | 2013 | 02:18, 20 April 2013 | '''Support'''  BDD already wields a broom pretty well, s ... | 200089 | 198411\n",
       "Carrite       | BDD  | 1    | 1    | 2013 | 02:22, 20 April 2013 | '''Support''' barring a completely unexpected answer to  ... | 201143 | 198411\n",
       "Someguy1221   | BDD  | 1    | 1    | 2013 | 03:09, 20 April 2013 | '''Support''' because I see no good reason not to.           | 240690 | 198411\n",
       "... (198265 rows omitted)"
      ]
     },
     "execution_count": 50,
     "metadata": {},
     "output_type": "execute_result"
    }
   ],
   "source": [
    "allTable"
   ]
  },
  {
   "cell_type": "code",
   "execution_count": 51,
   "metadata": {},
   "outputs": [],
   "source": [
    "def howManyWords(x):\n",
    "    return len(x.split())"
   ]
  },
  {
   "cell_type": "code",
   "execution_count": 53,
   "metadata": {},
   "outputs": [],
   "source": [
    "allTable = allTable.with_column(\n",
    "    'numWords', allTable.apply(howManyWords, 'TXT')\n",
    ")"
   ]
  },
  {
   "cell_type": "code",
   "execution_count": 54,
   "metadata": {},
   "outputs": [
    {
     "data": {
      "text/html": [
       "<table border=\"1\" class=\"dataframe\">\n",
       "    <thead>\n",
       "        <tr>\n",
       "            <th>SRC</th> <th>TGT</th> <th>VOT</th> <th>RES</th> <th>YEA</th> <th>DAT</th> <th>TXT</th> <th>SRCID</th> <th>TGTID</th> <th>numWords</th>\n",
       "        </tr>\n",
       "    </thead>\n",
       "    <tbody>\n",
       "        <tr>\n",
       "            <td>Steel1943    </td> <td>BDD </td> <td>1   </td> <td>1   </td> <td>2013</td> <td>23:13, 19 April 2013</td> <td>'''Support''' as co-nom.                                    </td> <td>3108  </td> <td>198411</td> <td>3       </td>\n",
       "        </tr>\n",
       "        <tr>\n",
       "            <td>Cuchullain   </td> <td>BDD </td> <td>1   </td> <td>1   </td> <td>2013</td> <td>01:04, 20 April 2013</td> <td>'''Support''' as nominator.--                               </td> <td>288770</td> <td>198411</td> <td>3       </td>\n",
       "        </tr>\n",
       "        <tr>\n",
       "            <td>INeverCry    </td> <td>BDD </td> <td>1   </td> <td>1   </td> <td>2013</td> <td>23:43, 19 April 2013</td> <td>'''Support''' per noms.                                     </td> <td>198804</td> <td>198411</td> <td>3       </td>\n",
       "        </tr>\n",
       "        <tr>\n",
       "            <td>Cncmaster    </td> <td>BDD </td> <td>1   </td> <td>1   </td> <td>2013</td> <td>00:11, 20 April 2013</td> <td>'''Support''' per noms. BDD is a strong contributor with ...</td> <td>3566  </td> <td>198411</td> <td>21      </td>\n",
       "        </tr>\n",
       "        <tr>\n",
       "            <td>Miniapolis   </td> <td>BDD </td> <td>1   </td> <td>1   </td> <td>2013</td> <td>00:56, 20 April 2013</td> <td>'''Support''', with great pleasure. I work with BDD at t ...</td> <td>199526</td> <td>198411</td> <td>35      </td>\n",
       "        </tr>\n",
       "        <tr>\n",
       "            <td>Sven Manguard</td> <td>BDD </td> <td>1   </td> <td>1   </td> <td>2013</td> <td>01:53, 20 April 2013</td> <td>'''Support''' There are plenty of important roles on thi ...</td> <td>208026</td> <td>198411</td> <td>41      </td>\n",
       "        </tr>\n",
       "        <tr>\n",
       "            <td>Ramaksoud2000</td> <td>BDD </td> <td>1   </td> <td>1   </td> <td>2013</td> <td>02:00, 20 April 2013</td> <td>'''Support''' per noms. I don't see a reason not to.        </td> <td>17267 </td> <td>198411</td> <td>10      </td>\n",
       "        </tr>\n",
       "        <tr>\n",
       "            <td>RockMagnetist</td> <td>BDD </td> <td>1   </td> <td>1   </td> <td>2013</td> <td>02:18, 20 April 2013</td> <td>'''Support'''  BDD already wields a broom pretty well, s ...</td> <td>200089</td> <td>198411</td> <td>109     </td>\n",
       "        </tr>\n",
       "        <tr>\n",
       "            <td>Carrite      </td> <td>BDD </td> <td>1   </td> <td>1   </td> <td>2013</td> <td>02:22, 20 April 2013</td> <td>'''Support''' barring a completely unexpected answer to  ...</td> <td>201143</td> <td>198411</td> <td>109     </td>\n",
       "        </tr>\n",
       "        <tr>\n",
       "            <td>Someguy1221  </td> <td>BDD </td> <td>1   </td> <td>1   </td> <td>2013</td> <td>03:09, 20 April 2013</td> <td>'''Support''' because I see no good reason not to.          </td> <td>240690</td> <td>198411</td> <td>9       </td>\n",
       "        </tr>\n",
       "    </tbody>\n",
       "</table>\n",
       "<p>... (198265 rows omitted)</p>"
      ],
      "text/plain": [
       "SRC           | TGT  | VOT  | RES  | YEA  | DAT                  | TXT                                                          | SRCID  | TGTID  | numWords\n",
       "Steel1943     | BDD  | 1    | 1    | 2013 | 23:13, 19 April 2013 | '''Support''' as co-nom.                                     | 3108   | 198411 | 3\n",
       "Cuchullain    | BDD  | 1    | 1    | 2013 | 01:04, 20 April 2013 | '''Support''' as nominator.--                                | 288770 | 198411 | 3\n",
       "INeverCry     | BDD  | 1    | 1    | 2013 | 23:43, 19 April 2013 | '''Support''' per noms.                                      | 198804 | 198411 | 3\n",
       "Cncmaster     | BDD  | 1    | 1    | 2013 | 00:11, 20 April 2013 | '''Support''' per noms. BDD is a strong contributor with ... | 3566   | 198411 | 21\n",
       "Miniapolis    | BDD  | 1    | 1    | 2013 | 00:56, 20 April 2013 | '''Support''', with great pleasure. I work with BDD at t ... | 199526 | 198411 | 35\n",
       "Sven Manguard | BDD  | 1    | 1    | 2013 | 01:53, 20 April 2013 | '''Support''' There are plenty of important roles on thi ... | 208026 | 198411 | 41\n",
       "Ramaksoud2000 | BDD  | 1    | 1    | 2013 | 02:00, 20 April 2013 | '''Support''' per noms. I don't see a reason not to.         | 17267  | 198411 | 10\n",
       "RockMagnetist | BDD  | 1    | 1    | 2013 | 02:18, 20 April 2013 | '''Support'''  BDD already wields a broom pretty well, s ... | 200089 | 198411 | 109\n",
       "Carrite       | BDD  | 1    | 1    | 2013 | 02:22, 20 April 2013 | '''Support''' barring a completely unexpected answer to  ... | 201143 | 198411 | 109\n",
       "Someguy1221   | BDD  | 1    | 1    | 2013 | 03:09, 20 April 2013 | '''Support''' because I see no good reason not to.           | 240690 | 198411 | 9\n",
       "... (198265 rows omitted)"
      ]
     },
     "execution_count": 54,
     "metadata": {},
     "output_type": "execute_result"
    }
   ],
   "source": [
    "allTable"
   ]
  },
  {
   "cell_type": "markdown",
   "metadata": {},
   "source": [
    "Let's make a subset of the data set to do some scatter plots, so we can visualize patterns."
   ]
  },
  {
   "cell_type": "code",
   "execution_count": 55,
   "metadata": {},
   "outputs": [],
   "source": [
    "sampledTable = allTable.sample(k=500, with_replacement=False)"
   ]
  },
  {
   "cell_type": "code",
   "execution_count": 56,
   "metadata": {},
   "outputs": [
    {
     "data": {
      "image/png": "[encoded data removed]",
      "text/plain": [
       "<Figure size 360x360 with 1 Axes>"
      ]
     },
     "metadata": {
      "needs_background": "light"
     },
     "output_type": "display_data"
    }
   ],
   "source": [
    "sampledTable.scatter('SRCID', 'VOT')"
   ]
  },
  {
   "cell_type": "code",
   "execution_count": 43,
   "metadata": {},
   "outputs": [
    {
     "data": {
      "image/png": "[encoded data removed]",
      "text/plain": [
       "<Figure size 360x360 with 1 Axes>"
      ]
     },
     "metadata": {},
     "output_type": "display_data"
    }
   ],
   "source": [
    "sampledTable.scatter('TGTID', 'VOT')"
   ]
  },
  {
   "cell_type": "code",
   "execution_count": 44,
   "metadata": {},
   "outputs": [
    {
     "data": {
      "text/html": [
       "<table border=\"1\" class=\"dataframe\">\n",
       "    <thead>\n",
       "        <tr>\n",
       "            <th>SRCID</th> <th>TGTID</th> <th>VOT</th>\n",
       "        </tr>\n",
       "    </thead>\n",
       "    <tbody>\n",
       "        <tr>\n",
       "            <td>124692</td> <td>300377</td> <td>1   </td>\n",
       "        </tr>\n",
       "        <tr>\n",
       "            <td>366416</td> <td>290045</td> <td>1   </td>\n",
       "        </tr>\n",
       "        <tr>\n",
       "            <td>49172 </td> <td>241255</td> <td>-1  </td>\n",
       "        </tr>\n",
       "        <tr>\n",
       "            <td>336567</td> <td>355563</td> <td>1   </td>\n",
       "        </tr>\n",
       "        <tr>\n",
       "            <td>285725</td> <td>320964</td> <td>-1  </td>\n",
       "        </tr>\n",
       "        <tr>\n",
       "            <td>289056</td> <td>287025</td> <td>1   </td>\n",
       "        </tr>\n",
       "        <tr>\n",
       "            <td>307830</td> <td>379053</td> <td>1   </td>\n",
       "        </tr>\n",
       "        <tr>\n",
       "            <td>212954</td> <td>230678</td> <td>-1  </td>\n",
       "        </tr>\n",
       "        <tr>\n",
       "            <td>386656</td> <td>374501</td> <td>1   </td>\n",
       "        </tr>\n",
       "        <tr>\n",
       "            <td>332603</td> <td>337594</td> <td>1   </td>\n",
       "        </tr>\n",
       "    </tbody>\n",
       "</table>\n",
       "<p>... (290 rows omitted)</p>"
      ],
      "text/plain": [
       "SRCID  | TGTID  | VOT\n",
       "124692 | 300377 | 1\n",
       "366416 | 290045 | 1\n",
       "49172  | 241255 | -1\n",
       "336567 | 355563 | 1\n",
       "285725 | 320964 | -1\n",
       "289056 | 287025 | 1\n",
       "307830 | 379053 | 1\n",
       "212954 | 230678 | -1\n",
       "386656 | 374501 | 1\n",
       "332603 | 337594 | 1\n",
       "... (290 rows omitted)"
      ]
     },
     "execution_count": 44,
     "metadata": {},
     "output_type": "execute_result"
    }
   ],
   "source": [
    "tab1 = sampledTable.select('SRCID', 'TGTID', 'VOT')\n",
    "tab1"
   ]
  },
  {
   "cell_type": "code",
   "execution_count": 45,
   "metadata": {},
   "outputs": [
    {
     "data": {
      "image/png": "[encoded data removed]",
      "text/plain": [
       "<Figure size 360x360 with 1 Axes>"
      ]
     },
     "metadata": {},
     "output_type": "display_data"
    }
   ],
   "source": [
    "tab1.scatter('SRCID')"
   ]
  },
  {
   "cell_type": "code",
   "execution_count": 46,
   "metadata": {},
   "outputs": [
    {
     "data": {
      "image/png": "[encoded data removed]",
      "text/plain": [
       "<Figure size 360x360 with 1 Axes>"
      ]
     },
     "metadata": {},
     "output_type": "display_data"
    }
   ],
   "source": [
    "tab1.scatter('TGTID')"
   ]
  },
  {
   "cell_type": "code",
   "execution_count": 47,
   "metadata": {},
   "outputs": [
    {
     "data": {
      "image/png": "[encoded data removed]",
      "text/plain": [
       "<Figure size 360x360 with 1 Axes>"
      ]
     },
     "metadata": {},
     "output_type": "display_data"
    }
   ],
   "source": [
    "tab1.scatter('VOT')"
   ]
  },
  {
   "cell_type": "code",
   "execution_count": 56,
   "metadata": {},
   "outputs": [
    {
     "data": {
      "text/html": [
       "<table border=\"1\" class=\"dataframe\">\n",
       "    <thead>\n",
       "        <tr>\n",
       "            <th>TGTID</th> <th>VOT</th> <th>RES</th>\n",
       "        </tr>\n",
       "    </thead>\n",
       "    <tbody>\n",
       "        <tr>\n",
       "            <td>300377</td> <td>1   </td> <td>1   </td>\n",
       "        </tr>\n",
       "        <tr>\n",
       "            <td>290045</td> <td>1   </td> <td>1   </td>\n",
       "        </tr>\n",
       "        <tr>\n",
       "            <td>241255</td> <td>-1  </td> <td>1   </td>\n",
       "        </tr>\n",
       "        <tr>\n",
       "            <td>355563</td> <td>1   </td> <td>-1  </td>\n",
       "        </tr>\n",
       "        <tr>\n",
       "            <td>320964</td> <td>-1  </td> <td>-1  </td>\n",
       "        </tr>\n",
       "        <tr>\n",
       "            <td>287025</td> <td>1   </td> <td>1   </td>\n",
       "        </tr>\n",
       "        <tr>\n",
       "            <td>379053</td> <td>1   </td> <td>-1  </td>\n",
       "        </tr>\n",
       "        <tr>\n",
       "            <td>230678</td> <td>-1  </td> <td>-1  </td>\n",
       "        </tr>\n",
       "        <tr>\n",
       "            <td>374501</td> <td>1   </td> <td>1   </td>\n",
       "        </tr>\n",
       "        <tr>\n",
       "            <td>337594</td> <td>1   </td> <td>1   </td>\n",
       "        </tr>\n",
       "    </tbody>\n",
       "</table>\n",
       "<p>... (290 rows omitted)</p>"
      ],
      "text/plain": [
       "TGTID  | VOT  | RES\n",
       "300377 | 1    | 1\n",
       "290045 | 1    | 1\n",
       "241255 | -1   | 1\n",
       "355563 | 1    | -1\n",
       "320964 | -1   | -1\n",
       "287025 | 1    | 1\n",
       "379053 | 1    | -1\n",
       "230678 | -1   | -1\n",
       "374501 | 1    | 1\n",
       "337594 | 1    | 1\n",
       "... (290 rows omitted)"
      ]
     },
     "execution_count": 56,
     "metadata": {},
     "output_type": "execute_result"
    }
   ],
   "source": [
    "tab2 = sampledTable.select('TGTID', 'VOT','RES')\n",
    "tab2"
   ]
  },
  {
   "cell_type": "code",
   "execution_count": 57,
   "metadata": {},
   "outputs": [
    {
     "data": {
      "image/png": "[encoded data removed]",
      "text/plain": [
       "<Figure size 360x360 with 1 Axes>"
      ]
     },
     "metadata": {},
     "output_type": "display_data"
    }
   ],
   "source": [
    "tab2.scatter('RES')"
   ]
  },
  {
   "cell_type": "code",
   "execution_count": 58,
   "metadata": {},
   "outputs": [
    {
     "data": {
      "image/png": "[encoded data removed]",
      "text/plain": [
       "<Figure size 360x360 with 1 Axes>"
      ]
     },
     "metadata": {},
     "output_type": "display_data"
    }
   ],
   "source": [
    "tab2.scatter('TGTID')"
   ]
  },
  {
   "cell_type": "code",
   "execution_count": 59,
   "metadata": {},
   "outputs": [
    {
     "data": {
      "image/png": "[encoded data removed]",
      "text/plain": [
       "<Figure size 360x360 with 1 Axes>"
      ]
     },
     "metadata": {},
     "output_type": "display_data"
    }
   ],
   "source": [
    "tab2.scatter('VOT')"
   ]
  },
  {
   "cell_type": "code",
   "execution_count": 71,
   "metadata": {},
   "outputs": [
    {
     "data": {
      "text/plain": [
       "'Node Miniapolis has the following properties:\\nDegree: 158\\nNeighbors: BDD Bilby Darkwind INeverCry Jason Quinn Legoktm Lord Roem Mattythewhite Mkdw Nthep Ocaasi Paulmcdonald RockMagnetist Secret Shirt58 Tokyogirl79 West.andrew.g Ymblanter Banaticus Binksternet Carrite Dirtlawyer1 Jasper Deng Piotrus Pjoef Theopolisme Basalisk Bgwhite Harrias KTC Monty845 Sergecross73 TommyBoy Writ Keeper Σ Anbu121 Apteva Gigs Ktr101 LuK3 MONGO Northamerica1000 QuiteUnusual'"
      ]
     },
     "execution_count": 71,
     "metadata": {},
     "output_type": "execute_result"
    }
   ],
   "source": [
    "nx.info(G, 'Miniapolis')"
   ]
  },
  {
   "cell_type": "code",
   "execution_count": 72,
   "metadata": {},
   "outputs": [
    {
     "name": "stdout",
     "output_type": "stream",
     "text": [
      "[('Steel1943', {})]\n"
     ]
    }
   ],
   "source": [
    "tmp = list(G.nodes.data())\n",
    "print(tmp[0:1])"
   ]
  },
  {
   "cell_type": "code",
   "execution_count": 75,
   "metadata": {},
   "outputs": [],
   "source": [
    "a=nx.all_neighbors(G, 'Steel1943')"
   ]
  },
  {
   "cell_type": "code",
   "execution_count": 77,
   "metadata": {},
   "outputs": [
    {
     "data": {
      "text/plain": [
       "0"
      ]
     },
     "execution_count": 77,
     "metadata": {},
     "output_type": "execute_result"
    }
   ],
   "source": [
    "G.in_degree('Steel1943')"
   ]
  },
  {
   "cell_type": "code",
   "execution_count": 78,
   "metadata": {},
   "outputs": [
    {
     "data": {
      "text/plain": [
       "4"
      ]
     },
     "execution_count": 78,
     "metadata": {},
     "output_type": "execute_result"
    }
   ],
   "source": [
    "G.out_degree('Steel1943')"
   ]
  },
  {
   "cell_type": "code",
   "execution_count": 79,
   "metadata": {},
   "outputs": [],
   "source": [
    "allTable = allTable.with_column(\n",
    "    'SCRIND', allTable.apply(G.in_degree, 'SRC')\n",
    ")"
   ]
  },
  {
   "cell_type": "code",
   "execution_count": 81,
   "metadata": {},
   "outputs": [],
   "source": [
    "allTable = allTable.with_column(\n",
    "    'SCROUTD', allTable.apply(G.out_degree, 'SRC')\n",
    ")"
   ]
  },
  {
   "cell_type": "code",
   "execution_count": 82,
   "metadata": {},
   "outputs": [],
   "source": [
    "allTable = allTable.with_column(\n",
    "    'TGTIND', allTable.apply(G.in_degree, 'TGT')\n",
    ")"
   ]
  },
  {
   "cell_type": "code",
   "execution_count": 83,
   "metadata": {},
   "outputs": [],
   "source": [
    "allTable = allTable.with_column(\n",
    "    'TGTOUTD', allTable.apply(G.out_degree, 'TGT')\n",
    ")"
   ]
  },
  {
   "cell_type": "code",
   "execution_count": 84,
   "metadata": {},
   "outputs": [
    {
     "data": {
      "text/html": [
       "<table border=\"1\" class=\"dataframe\">\n",
       "    <thead>\n",
       "        <tr>\n",
       "            <th>SRC</th> <th>TGT</th> <th>VOT</th> <th>RES</th> <th>YEA</th> <th>DAT</th> <th>TXT</th> <th>SRCID</th> <th>TGTID</th> <th>SCRIND</th> <th>SCROUTD</th> <th>TGTIND</th> <th>TGTOUTD</th>\n",
       "        </tr>\n",
       "    </thead>\n",
       "    <tbody>\n",
       "        <tr>\n",
       "            <td>Steel1943    </td> <td>BDD </td> <td>1   </td> <td>1   </td> <td>2013</td> <td>23:13, 19 April 2013</td> <td>'''Support''' as co-nom.                                    </td> <td>3108  </td> <td>198411</td> <td>0     </td> <td>4      </td> <td>137   </td> <td>5      </td>\n",
       "        </tr>\n",
       "        <tr>\n",
       "            <td>Cuchullain   </td> <td>BDD </td> <td>1   </td> <td>1   </td> <td>2013</td> <td>01:04, 20 April 2013</td> <td>'''Support''' as nominator.--                               </td> <td>288770</td> <td>198411</td> <td>63    </td> <td>2      </td> <td>137   </td> <td>5      </td>\n",
       "        </tr>\n",
       "        <tr>\n",
       "            <td>INeverCry    </td> <td>BDD </td> <td>1   </td> <td>1   </td> <td>2013</td> <td>23:43, 19 April 2013</td> <td>'''Support''' per noms.                                     </td> <td>198804</td> <td>198411</td> <td>110   </td> <td>23     </td> <td>137   </td> <td>5      </td>\n",
       "        </tr>\n",
       "        <tr>\n",
       "            <td>Cncmaster    </td> <td>BDD </td> <td>1   </td> <td>1   </td> <td>2013</td> <td>00:11, 20 April 2013</td> <td>'''Support''' per noms. BDD is a strong contributor with ...</td> <td>3566  </td> <td>198411</td> <td>0     </td> <td>21     </td> <td>137   </td> <td>5      </td>\n",
       "        </tr>\n",
       "        <tr>\n",
       "            <td>Miniapolis   </td> <td>BDD </td> <td>1   </td> <td>1   </td> <td>2013</td> <td>00:56, 20 April 2013</td> <td>'''Support''', with great pleasure. I work with BDD at t ...</td> <td>199526</td> <td>198411</td> <td>115   </td> <td>43     </td> <td>137   </td> <td>5      </td>\n",
       "        </tr>\n",
       "        <tr>\n",
       "            <td>Sven Manguard</td> <td>BDD </td> <td>1   </td> <td>1   </td> <td>2013</td> <td>01:53, 20 April 2013</td> <td>'''Support''' There are plenty of important roles on thi ...</td> <td>208026</td> <td>198411</td> <td>32    </td> <td>97     </td> <td>137   </td> <td>5      </td>\n",
       "        </tr>\n",
       "        <tr>\n",
       "            <td>Ramaksoud2000</td> <td>BDD </td> <td>1   </td> <td>1   </td> <td>2013</td> <td>02:00, 20 April 2013</td> <td>'''Support''' per noms. I don't see a reason not to.        </td> <td>17267 </td> <td>198411</td> <td>0     </td> <td>6      </td> <td>137   </td> <td>5      </td>\n",
       "        </tr>\n",
       "        <tr>\n",
       "            <td>RockMagnetist</td> <td>BDD </td> <td>1   </td> <td>1   </td> <td>2013</td> <td>02:18, 20 April 2013</td> <td>'''Support'''  BDD already wields a broom pretty well, s ...</td> <td>200089</td> <td>198411</td> <td>102   </td> <td>5      </td> <td>137   </td> <td>5      </td>\n",
       "        </tr>\n",
       "        <tr>\n",
       "            <td>Carrite      </td> <td>BDD </td> <td>1   </td> <td>1   </td> <td>2013</td> <td>02:22, 20 April 2013</td> <td>'''Support''' barring a completely unexpected answer to  ...</td> <td>201143</td> <td>198411</td> <td>147   </td> <td>95     </td> <td>137   </td> <td>5      </td>\n",
       "        </tr>\n",
       "        <tr>\n",
       "            <td>Someguy1221  </td> <td>BDD </td> <td>1   </td> <td>1   </td> <td>2013</td> <td>03:09, 20 April 2013</td> <td>'''Support''' because I see no good reason not to.          </td> <td>240690</td> <td>198411</td> <td>71    </td> <td>57     </td> <td>137   </td> <td>5      </td>\n",
       "        </tr>\n",
       "    </tbody>\n",
       "</table>\n",
       "<p>... (198265 rows omitted)</p>"
      ],
      "text/plain": [
       "SRC           | TGT  | VOT  | RES  | YEA  | DAT                  | TXT                                                          | SRCID  | TGTID  | SCRIND | SCROUTD | TGTIND | TGTOUTD\n",
       "Steel1943     | BDD  | 1    | 1    | 2013 | 23:13, 19 April 2013 | '''Support''' as co-nom.                                     | 3108   | 198411 | 0      | 4       | 137    | 5\n",
       "Cuchullain    | BDD  | 1    | 1    | 2013 | 01:04, 20 April 2013 | '''Support''' as nominator.--                                | 288770 | 198411 | 63     | 2       | 137    | 5\n",
       "INeverCry     | BDD  | 1    | 1    | 2013 | 23:43, 19 April 2013 | '''Support''' per noms.                                      | 198804 | 198411 | 110    | 23      | 137    | 5\n",
       "Cncmaster     | BDD  | 1    | 1    | 2013 | 00:11, 20 April 2013 | '''Support''' per noms. BDD is a strong contributor with ... | 3566   | 198411 | 0      | 21      | 137    | 5\n",
       "Miniapolis    | BDD  | 1    | 1    | 2013 | 00:56, 20 April 2013 | '''Support''', with great pleasure. I work with BDD at t ... | 199526 | 198411 | 115    | 43      | 137    | 5\n",
       "Sven Manguard | BDD  | 1    | 1    | 2013 | 01:53, 20 April 2013 | '''Support''' There are plenty of important roles on thi ... | 208026 | 198411 | 32     | 97      | 137    | 5\n",
       "Ramaksoud2000 | BDD  | 1    | 1    | 2013 | 02:00, 20 April 2013 | '''Support''' per noms. I don't see a reason not to.         | 17267  | 198411 | 0      | 6       | 137    | 5\n",
       "RockMagnetist | BDD  | 1    | 1    | 2013 | 02:18, 20 April 2013 | '''Support'''  BDD already wields a broom pretty well, s ... | 200089 | 198411 | 102    | 5       | 137    | 5\n",
       "Carrite       | BDD  | 1    | 1    | 2013 | 02:22, 20 April 2013 | '''Support''' barring a completely unexpected answer to  ... | 201143 | 198411 | 147    | 95      | 137    | 5\n",
       "Someguy1221   | BDD  | 1    | 1    | 2013 | 03:09, 20 April 2013 | '''Support''' because I see no good reason not to.           | 240690 | 198411 | 71     | 57      | 137    | 5\n",
       "... (198265 rows omitted)"
      ]
     },
     "execution_count": 84,
     "metadata": {},
     "output_type": "execute_result"
    }
   ],
   "source": [
    "allTable"
   ]
  },
  {
   "cell_type": "code",
   "execution_count": 85,
   "metadata": {},
   "outputs": [],
   "source": [
    "sampledTable2 = allTable.sample(k=300, with_replacement=False)"
   ]
  },
  {
   "cell_type": "code",
   "execution_count": 88,
   "metadata": {},
   "outputs": [
    {
     "data": {
      "image/png": "[encoded data removed]",
      "text/plain": [
       "<Figure size 360x360 with 1 Axes>"
      ]
     },
     "metadata": {},
     "output_type": "display_data"
    }
   ],
   "source": [
    "tab2_1 = sampledTable2.select('TGTIND', 'VOT', 'TGTOUTD')\n",
    "tab2_1.scatter('VOT')"
   ]
  },
  {
   "cell_type": "code",
   "execution_count": 89,
   "metadata": {},
   "outputs": [
    {
     "data": {
      "image/png": "[encoded data removed]",
      "text/plain": [
       "<Figure size 360x360 with 1 Axes>"
      ]
     },
     "metadata": {},
     "output_type": "display_data"
    }
   ],
   "source": [
    "tab2_1.scatter('TGTIND')"
   ]
  },
  {
   "cell_type": "code",
   "execution_count": 90,
   "metadata": {},
   "outputs": [
    {
     "data": {
      "image/png": "[encoded data removed]",
      "text/plain": [
       "<Figure size 360x360 with 1 Axes>"
      ]
     },
     "metadata": {},
     "output_type": "display_data"
    }
   ],
   "source": [
    "tab2_1.scatter('TGTOUTD')"
   ]
  },
  {
   "cell_type": "code",
   "execution_count": 97,
   "metadata": {},
   "outputs": [],
   "source": [
    "tab2_2 = sampledTable2.select('SCROUTD', 'VOT', 'SCRIND')"
   ]
  },
  {
   "cell_type": "code",
   "execution_count": 99,
   "metadata": {},
   "outputs": [
    {
     "data": {
      "image/png": "[encoded data removed]",
      "text/plain": [
       "<Figure size 360x360 with 1 Axes>"
      ]
     },
     "metadata": {},
     "output_type": "display_data"
    }
   ],
   "source": [
    "# *********. finding!!! see how less srcout/in have the ones that vote no\n",
    "tab2_2.scatter('VOT')"
   ]
  },
  {
   "cell_type": "code",
   "execution_count": 101,
   "metadata": {},
   "outputs": [
    {
     "data": {
      "image/png": "[encoded data removed]",
      "text/plain": [
       "<Figure size 360x360 with 1 Axes>"
      ]
     },
     "metadata": {},
     "output_type": "display_data"
    }
   ],
   "source": [
    "tab2_2.scatter('SCROUTD')"
   ]
  },
  {
   "cell_type": "code",
   "execution_count": 102,
   "metadata": {},
   "outputs": [
    {
     "data": {
      "image/png": "[encoded data removed]",
      "text/plain": [
       "<Figure size 360x360 with 1 Axes>"
      ]
     },
     "metadata": {},
     "output_type": "display_data"
    }
   ],
   "source": [
    "tab2_2.scatter('SCRIND')"
   ]
  },
  {
   "cell_type": "code",
   "execution_count": null,
   "metadata": {},
   "outputs": [],
   "source": []
  }
 ],
 "metadata": {
  "kernelspec": {
   "display_name": "Python 3",
   "language": "python",
   "name": "python3"
  },
  "language_info": {
   "codemirror_mode": {
    "name": "ipython",
    "version": 3
   },
   "file_extension": ".py",
   "mimetype": "text/x-python",
   "name": "python",
   "nbconvert_exporter": "python",
   "pygments_lexer": "ipython3",
   "version": "3.6.6"
  }
 },
 "nbformat": 4,
 "nbformat_minor": 2
}
