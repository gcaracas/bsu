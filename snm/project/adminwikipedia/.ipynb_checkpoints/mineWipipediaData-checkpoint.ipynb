{
 "cells": [
  {
   "cell_type": "code",
   "execution_count": 4,
   "metadata": {},
   "outputs": [],
   "source": []
  },
  {
   "cell_type": "markdown",
   "metadata": {},
   "source": [
    "Dataset source = http://snap.stanford.edu/data/wiki-RfA.html <br>\n",
    "Dataset title = \"Wikipedia Requests for Adminship (with text)\"<br>\n",
    "Dataset public = Yes"
   ]
  },
  {
   "cell_type": "markdown",
   "metadata": {},
   "source": [
    "#### Stats coming from dataset\n",
    "(median/mean: 19/34 tokens)<br>\n",
    "Nodes\t10,835<br>\n",
    "Edges\t159,388<br>\n",
    "Triangles\t956,428<br>\n",
    "Type of graph: Directed Signed Network"
   ]
  },
  {
   "cell_type": "markdown",
   "metadata": {},
   "source": [
    "#### Dataset format\n",
    "*Fields*<br>\n",
    "SRC: user name of source, i.e., voter<br>\n",
    "TGT: user name of target, i.e., the user running for election<br>\n",
    "VOT: the source's vote on the target (-1 = oppose; 0 = neutral; 1 = support)<br>\n",
    "RES: the outcome of the election (-1 = target was rejected as admin; 1 = target was accepted)<br>\n",
    "YEA: the year in which the election was started<br>\n",
    "DAT: the date and time of this vote<br>\n",
    "TXT: the comment written by the source, in wiki markup<br>\n",
    "<br>\n",
    "<br>\n",
    "*Example*<br>\n",
    "SRC:Guettarda<br>\n",
    "TGT:Lord Roem<br>\n",
    "VOT:1<br>\n",
    "RES:1<br>\n",
    "YEA:2013<br>\n",
    "DAT:19:53, 25 January 2013<br>\n",
    "TXT:'''Support''' per [[WP:DEAL]]: clueful, and unlikely to break Wikipedia.<br>"
   ]
  },
  {
   "cell_type": "code",
   "execution_count": null,
   "metadata": {},
   "outputs": [],
   "source": []
  },
  {
   "cell_type": "code",
   "execution_count": 1,
   "metadata": {},
   "outputs": [],
   "source": [
    "import networkx as nx\n",
    "import  pickle\n",
    "import pandas as pd\n",
    "import numpy as np\n",
    "import glob\n",
    "import os\n",
    "import re\n",
    "from collections import Counter"
   ]
  },
  {
   "cell_type": "markdown",
   "metadata": {},
   "source": [
    "First let's setup the directed graph instance."
   ]
  },
  {
   "cell_type": "code",
   "execution_count": 2,
   "metadata": {},
   "outputs": [],
   "source": [
    "G = nx.DiGraph()"
   ]
  },
  {
   "cell_type": "markdown",
   "metadata": {},
   "source": [
    "Load dataset"
   ]
  },
  {
   "cell_type": "code",
   "execution_count": 3,
   "metadata": {},
   "outputs": [
    {
     "data": {
      "text/plain": [
       "['./wiki-RfA.txt']"
      ]
     },
     "execution_count": 3,
     "metadata": {},
     "output_type": "execute_result"
    }
   ],
   "source": [
    "files = glob.glob(\"./*.txt\")\n",
    "files"
   ]
  },
  {
   "cell_type": "code",
   "execution_count": 4,
   "metadata": {},
   "outputs": [],
   "source": [
    "listWords = []\n",
    "for file in files:\n",
    "    with open(file, mode=\"r\") as f:\n",
    "        content = f.read().splitlines()\n",
    "\n",
    "srcNodes = []\n",
    "count = 1\n",
    "for text in content:\n",
    "    count = count + 1\n",
    "    if count == 1000: \n",
    "        count = 0\n",
    "    textsp = re.split(r\":\", text)\n",
    "    if textsp[0] == 'TGT' or textsp[0] == 'SRC':\n",
    "        srcNodes.append(textsp[1])"
   ]
  },
  {
   "cell_type": "markdown",
   "metadata": {},
   "source": [
    "Lets get the number of unique nodes first by usig common"
   ]
  },
  {
   "cell_type": "code",
   "execution_count": 5,
   "metadata": {},
   "outputs": [],
   "source": [
    "from collections import Counter\n",
    "cntr = Counter(srcNodes)\n",
    "result=cntr.most_common()"
   ]
  },
  {
   "cell_type": "code",
   "execution_count": 6,
   "metadata": {},
   "outputs": [
    {
     "name": "stdout",
     "output_type": "stream",
     "text": [
      "Unique nodes version 1 is  11380\n"
     ]
    }
   ],
   "source": [
    "print(\"Unique nodes version 1 is \", len(result))"
   ]
  },
  {
   "cell_type": "markdown",
   "metadata": {},
   "source": [
    "Now let's do this via removing duplicates converting to a set"
   ]
  },
  {
   "cell_type": "code",
   "execution_count": 7,
   "metadata": {},
   "outputs": [
    {
     "name": "stdout",
     "output_type": "stream",
     "text": [
      "11380\n"
     ]
    }
   ],
   "source": [
    "tst = set(result)\n",
    "print(len(tst))"
   ]
  },
  {
   "cell_type": "code",
   "execution_count": 8,
   "metadata": {},
   "outputs": [
    {
     "name": "stdout",
     "output_type": "stream",
     "text": [
      "Unique nodes version 2 is  11380\n"
     ]
    }
   ],
   "source": [
    "print(\"Unique nodes version 2 is \",len(tst))"
   ]
  },
  {
   "cell_type": "markdown",
   "metadata": {},
   "source": [
    "Now let's build the graph"
   ]
  },
  {
   "cell_type": "code",
   "execution_count": 9,
   "metadata": {},
   "outputs": [
    {
     "name": "stdout",
     "output_type": "stream",
     "text": [
      "1586201\n"
     ]
    }
   ],
   "source": [
    "#Check if all the fields are present\n",
    "DAT=\"\"\n",
    "RES=0\n",
    "SRC=\"\"\n",
    "TGT=\"\"\n",
    "TXT=\"\"\n",
    "VOT=0\n",
    "YEA=0\n",
    "count = 1\n",
    "for text in content:\n",
    "    count = count +1\n",
    "    textsp = re.split(r\":\", text)\n",
    "    if textsp[0] == 'DAT':\n",
    "        DAT=textsp[1]\n",
    "    if textsp[0] == 'RES':\n",
    "        RES=textsp[1]\n",
    "    if textsp[0] == 'SRC':\n",
    "        SRC=textsp[1]\n",
    "    if textsp[0] == 'TGT':\n",
    "        TGT=textsp[1]\n",
    "    if textsp[0] == 'TXT':\n",
    "        G.add_edge(SRC, TGT)\n",
    "        G[SRC][TGT]['VOT'] = VOT\n",
    "        G[SRC][TGT]['RES'] = RES\n",
    "        G[SRC][TGT]['YEA'] = YEA\n",
    "        G[SRC][TGT]['DAT'] = DAT\n",
    "        G[SRC][TGT]['TXT'] = textsp[1]\n",
    "        DAT=\"\"\n",
    "        RES=0\n",
    "        SRC=\"\"\n",
    "        TGT=\"\"\n",
    "        TXT=\"\"\n",
    "        VOT=0\n",
    "        YEA=0\n",
    "    if textsp[0] == 'VOT':\n",
    "        VOT=textsp[1]\n",
    "    if textsp[0] == 'YEA':\n",
    "        YEA=textsp[1]\n",
    "print(count)    "
   ]
  },
  {
   "cell_type": "code",
   "execution_count": 10,
   "metadata": {},
   "outputs": [
    {
     "data": {
      "text/plain": [
       "11380"
      ]
     },
     "execution_count": 10,
     "metadata": {},
     "output_type": "execute_result"
    }
   ],
   "source": [
    "G.number_of_nodes()"
   ]
  },
  {
   "cell_type": "code",
   "execution_count": 11,
   "metadata": {},
   "outputs": [
    {
     "data": {
      "text/plain": [
       "189003"
      ]
     },
     "execution_count": 11,
     "metadata": {},
     "output_type": "execute_result"
    }
   ],
   "source": [
    "G.number_of_edges()"
   ]
  },
  {
   "cell_type": "code",
   "execution_count": 12,
   "metadata": {},
   "outputs": [],
   "source": [
    "pickle.dump( G, open( \"fullGraph.pickle\", \"wb\" ) )"
   ]
  },
  {
   "cell_type": "code",
   "execution_count": 3,
   "metadata": {},
   "outputs": [],
   "source": [
    "G = pickle.load( open( \"fullGraph.pickle\", \"rb\" ) )"
   ]
  },
  {
   "cell_type": "code",
   "execution_count": 4,
   "metadata": {},
   "outputs": [
    {
     "data": {
      "text/plain": [
       "11380"
      ]
     },
     "execution_count": 4,
     "metadata": {},
     "output_type": "execute_result"
    }
   ],
   "source": [
    "G.number_of_nodes()"
   ]
  },
  {
   "cell_type": "code",
   "execution_count": 5,
   "metadata": {},
   "outputs": [
    {
     "data": {
      "text/plain": [
       "189003"
      ]
     },
     "execution_count": 5,
     "metadata": {},
     "output_type": "execute_result"
    }
   ],
   "source": [
    "G.number_of_edges()"
   ]
  },
  {
   "cell_type": "code",
   "execution_count": 6,
   "metadata": {},
   "outputs": [
    {
     "name": "stdout",
     "output_type": "stream",
     "text": [
      "['Steel1943', 'BDD', 'Cuchullain', 'INeverCry', 'Cncmaster']\n"
     ]
    }
   ],
   "source": [
    "tmplist = list(G.nodes())\n",
    "print(tmplist[0:5])"
   ]
  },
  {
   "cell_type": "code",
   "execution_count": 8,
   "metadata": {},
   "outputs": [
    {
     "name": "stdout",
     "output_type": "stream",
     "text": [
      "[('Steel1943', 'BDD', {'VOT': '1', 'RES': '1', 'YEA': '2013', 'DAT': '23', 'TXT': ''}), ('Steel1943', 'RockMagnetist', {'VOT': '0', 'RES': '1', 'YEA': '2013', 'DAT': '22', 'TXT': ''}), ('Steel1943', 'Shirt58', {'VOT': '0', 'RES': '1', 'YEA': '2013', 'DAT': '22', 'TXT': ''}), ('Steel1943', 'Jasper Deng', {'VOT': '-1', 'RES': '-1', 'YEA': '2013', 'DAT': '22', 'TXT': ''}), ('BDD', 'Miniapolis', {'VOT': '1', 'RES': '1', 'YEA': '2013', 'DAT': '23', 'TXT': ''})]\n"
     ]
    }
   ],
   "source": [
    "tmp = list(G.edges.data())\n",
    "print(tmp[0:5])"
   ]
  },
  {
   "cell_type": "code",
   "execution_count": null,
   "metadata": {},
   "outputs": [],
   "source": []
  }
 ],
 "metadata": {
  "kernelspec": {
   "display_name": "Python 3",
   "language": "python",
   "name": "python3"
  },
  "language_info": {
   "codemirror_mode": {
    "name": "ipython",
    "version": 3
   },
   "file_extension": ".py",
   "mimetype": "text/x-python",
   "name": "python",
   "nbconvert_exporter": "python",
   "pygments_lexer": "ipython3",
   "version": "3.6.6"
  }
 },
 "nbformat": 4,
 "nbformat_minor": 2
}
