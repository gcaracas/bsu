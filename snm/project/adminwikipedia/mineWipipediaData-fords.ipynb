{
 "cells": [
  {
   "cell_type": "code",
   "execution_count": null,
   "metadata": {},
   "outputs": [],
   "source": []
  },
  {
   "cell_type": "markdown",
   "metadata": {},
   "source": [
    "Dataset source = http://snap.stanford.edu/data/wiki-RfA.html <br>\n",
    "Dataset title = \"Wikipedia Requests for Adminship (with text)\"<br>\n",
    "Dataset public = Yes"
   ]
  },
  {
   "cell_type": "markdown",
   "metadata": {},
   "source": [
    "#### Stats coming from dataset\n",
    "(median/mean: 19/34 tokens)<br>\n",
    "Nodes\t10,835<br>\n",
    "Edges\t159,388<br>\n",
    "Triangles\t956,428<br>\n",
    "Type of graph: Directed Signed Network"
   ]
  },
  {
   "cell_type": "markdown",
   "metadata": {},
   "source": [
    "#### Dataset format\n",
    "*Fields*<br>\n",
    "SRC: user name of source, i.e., voter<br>\n",
    "TGT: user name of target, i.e., the user running for election<br>\n",
    "VOT: the source's vote on the target (-1 = oppose; 0 = neutral; 1 = support)<br>\n",
    "RES: the outcome of the election (-1 = target was rejected as admin; 1 = target was accepted)<br>\n",
    "YEA: the year in which the election was started<br>\n",
    "DAT: the date and time of this vote<br>\n",
    "TXT: the comment written by the source, in wiki markup<br>\n",
    "<br>\n",
    "<br>\n",
    "*Example*<br>\n",
    "SRC:Guettarda<br>\n",
    "TGT:Lord Roem<br>\n",
    "VOT:1<br>\n",
    "RES:1<br>\n",
    "YEA:2013<br>\n",
    "DAT:19:53, 25 January 2013<br>\n",
    "TXT:'''Support''' per [[WP:DEAL]]: clueful, and unlikely to break Wikipedia.<br>"
   ]
  },
  {
   "cell_type": "code",
   "execution_count": null,
   "metadata": {},
   "outputs": [],
   "source": []
  },
  {
   "cell_type": "code",
   "execution_count": 1,
   "metadata": {},
   "outputs": [],
   "source": [
    "import networkx as nx\n",
    "import  pickle\n",
    "import pandas as pd\n",
    "import numpy as np\n",
    "import glob\n",
    "import os\n",
    "import re\n",
    "from collections import Counter\n",
    "import pylab as plt\n",
    "from datascience import *"
   ]
  },
  {
   "cell_type": "markdown",
   "metadata": {},
   "source": [
    "First let's setup the directed graph instance."
   ]
  },
  {
   "cell_type": "code",
   "execution_count": 2,
   "metadata": {},
   "outputs": [],
   "source": [
    "G = nx.DiGraph()"
   ]
  },
  {
   "cell_type": "markdown",
   "metadata": {},
   "source": [
    "Load dataset"
   ]
  },
  {
   "cell_type": "code",
   "execution_count": 3,
   "metadata": {},
   "outputs": [
    {
     "data": {
      "text/plain": [
       "['.\\\\wiki-RfAv2.txt']"
      ]
     },
     "execution_count": 3,
     "metadata": {},
     "output_type": "execute_result"
    }
   ],
   "source": [
    "files = glob.glob(\"./*.txt\")\n",
    "files"
   ]
  },
  {
   "cell_type": "code",
   "execution_count": 4,
   "metadata": {},
   "outputs": [],
   "source": [
    "listWords = []\n",
    "for file in files:\n",
    "    with open(file, mode=\"r\",encoding=\"utf-8\") as f:\n",
    "        content = f.read().splitlines()\n",
    "\n",
    "srcNodes = []\n",
    "count = 1\n",
    "for text in content:\n",
    "    count = count + 1\n",
    "    if count == 1000: \n",
    "        count = 0\n",
    "    textsp = re.split(r\":::\", text)\n",
    "    if textsp[0] == 'TGT' or textsp[0] == 'SRC':\n",
    "        srcNodes.append(textsp[1])"
   ]
  },
  {
   "cell_type": "markdown",
   "metadata": {},
   "source": [
    "Lets get the number of unique nodes first by usig common"
   ]
  },
  {
   "cell_type": "code",
   "execution_count": 5,
   "metadata": {},
   "outputs": [],
   "source": [
    "from collections import Counter\n",
    "cntr = Counter(srcNodes)\n",
    "result=cntr.most_common()"
   ]
  },
  {
   "cell_type": "markdown",
   "metadata": {},
   "source": [
    "Now let's do this via removing duplicates converting to a set"
   ]
  },
  {
   "cell_type": "code",
   "execution_count": 6,
   "metadata": {},
   "outputs": [
    {
     "name": "stdout",
     "output_type": "stream",
     "text": [
      "11381\n"
     ]
    }
   ],
   "source": [
    "tst = set(result)\n",
    "print(len(tst))"
   ]
  },
  {
   "cell_type": "code",
   "execution_count": 7,
   "metadata": {},
   "outputs": [
    {
     "data": {
      "text/plain": [
       "['SRC:::Steel1943', 'TGT:::BDD', 'VOT:::1', 'RES:::1', 'YEA:::2013']"
      ]
     },
     "execution_count": 7,
     "metadata": {},
     "output_type": "execute_result"
    }
   ],
   "source": [
    "content[0:5]"
   ]
  },
  {
   "cell_type": "markdown",
   "metadata": {},
   "source": [
    "Now let's build the graph"
   ]
  },
  {
   "cell_type": "code",
   "execution_count": 8,
   "metadata": {},
   "outputs": [
    {
     "name": "stdout",
     "output_type": "stream",
     "text": [
      "1586201\n"
     ]
    }
   ],
   "source": [
    "#Check if all the fields are present\n",
    "DAT=\"\"\n",
    "RES=0\n",
    "SRC=\"\"\n",
    "TGT=\"\"\n",
    "TXT=\"\"\n",
    "VOT=0\n",
    "YEA=0\n",
    "count = 1\n",
    "tDat=[]\n",
    "tRes=[]\n",
    "tSrc=[]\n",
    "tTgt=[]\n",
    "tTxt=[]\n",
    "tVot=[]\n",
    "tYea=[]\n",
    "for text in content:\n",
    "    count = count +1\n",
    "    textsp = re.split(r\":::\", text)\n",
    "    if textsp[0] == 'DAT':\n",
    "        DAT=textsp[1]\n",
    "    if textsp[0] == 'RES':\n",
    "        RES=textsp[1]\n",
    "    if textsp[0] == 'SRC':\n",
    "        SRC=textsp[1]\n",
    "    if textsp[0] == 'TGT':\n",
    "        TGT=textsp[1]\n",
    "    if textsp[0] == 'TXT':\n",
    "        G.add_edge(SRC, TGT)\n",
    "        G[SRC][TGT]['VOT'] = VOT\n",
    "        G[SRC][TGT]['RES'] = RES\n",
    "        G[SRC][TGT]['YEA'] = YEA\n",
    "        G[SRC][TGT]['DAT'] = DAT\n",
    "        G[SRC][TGT]['TXT'] = textsp[1]\n",
    "        #tDat.append(DAT)\n",
    "        #tRes.append(RES)\n",
    "        tSrc.append(SRC)\n",
    "        tTgt.append(TGT)\n",
    "        tTxt.append(textsp[1])\n",
    "        tVot.append(VOT)\n",
    "        #tYea.append(YEA)\n",
    "        DAT=\"\"\n",
    "        RES=0\n",
    "        SRC=\"\"\n",
    "        TGT=\"\"\n",
    "        TXT=\"\"\n",
    "        VOT=0\n",
    "        YEA=0\n",
    "    if textsp[0] == 'VOT':\n",
    "        VOT=textsp[1]\n",
    "    if textsp[0] == 'YEA':\n",
    "        YEA=textsp[1]\n",
    "print(count)    "
   ]
  },
  {
   "cell_type": "markdown",
   "metadata": {},
   "source": [
    "### Now we will build a table per attribute so we can build a datascience table"
   ]
  },
  {
   "cell_type": "markdown",
   "metadata": {},
   "source": [
    "We need to convert first the tables we will use as numeric"
   ]
  },
  {
   "cell_type": "code",
   "execution_count": 9,
   "metadata": {},
   "outputs": [],
   "source": [
    "counter=0\n",
    "\n",
    "\n",
    "counter=0\n",
    "for element in tVot:\n",
    "    tVot[counter] = int(element)\n",
    "    counter=counter+1\n",
    "\n",
    "    "
   ]
  },
  {
   "cell_type": "code",
   "execution_count": 10,
   "metadata": {},
   "outputs": [],
   "source": [
    "allTableT=Table().with_columns(\n",
    "    'SRC', tSrc,\n",
    "    'TGT',tTgt,\n",
    "    'VOT',tVot,\n",
    "    'TXT',tTxt)"
   ]
  },
  {
   "cell_type": "code",
   "execution_count": 11,
   "metadata": {},
   "outputs": [],
   "source": [
    "allTable = allTableT.sample(k=100000, with_replacement=False)"
   ]
  },
  {
   "cell_type": "code",
   "execution_count": 12,
   "metadata": {},
   "outputs": [
    {
     "data": {
      "text/html": [
       "<table border=\"1\" class=\"dataframe\">\n",
       "    <thead>\n",
       "        <tr>\n",
       "            <th>SRC</th> <th>TGT</th> <th>VOT</th> <th>TXT</th>\n",
       "        </tr>\n",
       "    </thead>\n",
       "    <tbody>\n",
       "        <tr>\n",
       "            <td>James086        </td> <td>Stwalkerster</td> <td>1   </td> <td>'''Support''' - Because I can't see [[User:Ral315/WTHN|w ...</td>\n",
       "        </tr>\n",
       "        <tr>\n",
       "            <td>Silver seren    </td> <td>Secret      </td> <td>1   </td> <td>'''Support''' I think Secret has clearly shown that, whi ...</td>\n",
       "        </tr>\n",
       "        <tr>\n",
       "            <td>Razorflame      </td> <td>VanTucky    </td> <td>1   </td> <td>'''Support''' I love the answer to Q10.  Very nice.  Def ...</td>\n",
       "        </tr>\n",
       "        <tr>\n",
       "            <td>FireFox         </td> <td>Wikiacc     </td> <td>1   </td> <td>[[User:FireFox|<font color=black>Fir]][[WP:ESP|<font col ...</td>\n",
       "        </tr>\n",
       "        <tr>\n",
       "            <td>Rogerd          </td> <td>Sean Black  </td> <td>1   </td> <td>'''Support''' Good editor --                                </td>\n",
       "        </tr>\n",
       "        <tr>\n",
       "            <td>Yellowdesk      </td> <td>Teratornis  </td> <td>1   </td> <td>'''Co-Nominator Support''' as described in the nominatio ...</td>\n",
       "        </tr>\n",
       "        <tr>\n",
       "            <td>theoneintraining</td> <td>Geni        </td> <td>1   </td> <td>'''Support''', Adminship is no big deal.--                  </td>\n",
       "        </tr>\n",
       "        <tr>\n",
       "            <td>MarkGallagher   </td> <td>Psy guy     </td> <td>1   </td> <td>'''Support'''.  Never let it be said I can't jump on a g ...</td>\n",
       "        </tr>\n",
       "        <tr>\n",
       "            <td>TurquoiseThreads</td> <td>Ctjf83      </td> <td>0   </td> <td>'''Neutral''', (currently) leaning oppose. Ctjf83's atti ...</td>\n",
       "        </tr>\n",
       "        <tr>\n",
       "            <td>Mtmelendez      </td> <td>Agüeybaná   </td> <td>1   </td> <td>'''Support''' - <small>''from my nom''</small> - Eddie i ...</td>\n",
       "        </tr>\n",
       "    </tbody>\n",
       "</table>\n",
       "<p>... (99990 rows omitted)</p>"
      ],
      "text/plain": [
       "SRC              | TGT          | VOT  | TXT\n",
       "James086         | Stwalkerster | 1    | '''Support''' - Because I can't see [[User:Ral315/WTHN|w ...\n",
       "Silver seren     | Secret       | 1    | '''Support''' I think Secret has clearly shown that, whi ...\n",
       "Razorflame       | VanTucky     | 1    | '''Support''' I love the answer to Q10.  Very nice.  Def ...\n",
       "FireFox          | Wikiacc      | 1    | [[User:FireFox|<font color=black>Fir]][[WP:ESP|<font col ...\n",
       "Rogerd           | Sean Black   | 1    | '''Support''' Good editor --\n",
       "Yellowdesk       | Teratornis   | 1    | '''Co-Nominator Support''' as described in the nominatio ...\n",
       "theoneintraining | Geni         | 1    | '''Support''', Adminship is no big deal.--\n",
       "MarkGallagher    | Psy guy      | 1    | '''Support'''.  Never let it be said I can't jump on a g ...\n",
       "TurquoiseThreads | Ctjf83       | 0    | '''Neutral''', (currently) leaning oppose. Ctjf83's atti ...\n",
       "Mtmelendez       | Agüeybaná    | 1    | '''Support''' - <small>''from my nom''</small> - Eddie i ...\n",
       "... (99990 rows omitted)"
      ]
     },
     "execution_count": 12,
     "metadata": {},
     "output_type": "execute_result"
    }
   ],
   "source": [
    "allTable"
   ]
  },
  {
   "cell_type": "markdown",
   "metadata": {},
   "source": [
    "### Lets get some preliminary data"
   ]
  },
  {
   "cell_type": "markdown",
   "metadata": {},
   "source": [
    "### Now in order to make analysis we need to convert usert to userid, for that let's make a map function."
   ]
  },
  {
   "cell_type": "code",
   "execution_count": 13,
   "metadata": {},
   "outputs": [],
   "source": [
    "def howManyWords(x):\n",
    "    return len(x.split())"
   ]
  },
  {
   "cell_type": "code",
   "execution_count": null,
   "metadata": {},
   "outputs": [],
   "source": [
    "allTable = allTable.with_column(\n",
    "    'numWords', allTable.apply(howManyWords, 'TXT')\n",
    ")"
   ]
  },
  {
   "cell_type": "code",
   "execution_count": 16,
   "metadata": {},
   "outputs": [
    {
     "data": {
      "text/html": [
       "<table border=\"1\" class=\"dataframe\">\n",
       "    <thead>\n",
       "        <tr>\n",
       "            <th>SRC</th> <th>TGT</th> <th>VOT</th> <th>TXT</th> <th>numWords</th> <th>SCRIND</th>\n",
       "        </tr>\n",
       "    </thead>\n",
       "    <tbody>\n",
       "        <tr>\n",
       "            <td>Steel1943    </td> <td>BDD </td> <td>1   </td> <td>'''Support''' as co-nom.                                    </td> <td>3       </td> <td>0     </td>\n",
       "        </tr>\n",
       "        <tr>\n",
       "            <td>Cuchullain   </td> <td>BDD </td> <td>1   </td> <td>'''Support''' as nominator.--                               </td> <td>3       </td> <td>63    </td>\n",
       "        </tr>\n",
       "        <tr>\n",
       "            <td>INeverCry    </td> <td>BDD </td> <td>1   </td> <td>'''Support''' per noms.                                     </td> <td>3       </td> <td>110   </td>\n",
       "        </tr>\n",
       "        <tr>\n",
       "            <td>Cncmaster    </td> <td>BDD </td> <td>1   </td> <td>'''Support''' per noms. BDD is a strong contributor with ...</td> <td>21      </td> <td>0     </td>\n",
       "        </tr>\n",
       "        <tr>\n",
       "            <td>Miniapolis   </td> <td>BDD </td> <td>1   </td> <td>'''Support''', with great pleasure. I work with BDD at t ...</td> <td>35      </td> <td>115   </td>\n",
       "        </tr>\n",
       "        <tr>\n",
       "            <td>Sven Manguard</td> <td>BDD </td> <td>1   </td> <td>'''Support''' There are plenty of important roles on thi ...</td> <td>41      </td> <td>32    </td>\n",
       "        </tr>\n",
       "        <tr>\n",
       "            <td>Ramaksoud2000</td> <td>BDD </td> <td>1   </td> <td>'''Support''' per noms. I don't see a reason not to.        </td> <td>10      </td> <td>0     </td>\n",
       "        </tr>\n",
       "        <tr>\n",
       "            <td>RockMagnetist</td> <td>BDD </td> <td>1   </td> <td>'''Support'''  BDD already wields a broom pretty well, s ...</td> <td>109     </td> <td>102   </td>\n",
       "        </tr>\n",
       "        <tr>\n",
       "            <td>Carrite      </td> <td>BDD </td> <td>1   </td> <td>'''Support''' barring a completely unexpected answer to  ...</td> <td>109     </td> <td>147   </td>\n",
       "        </tr>\n",
       "        <tr>\n",
       "            <td>Someguy1221  </td> <td>BDD </td> <td>1   </td> <td>'''Support''' because I see no good reason not to.          </td> <td>9       </td> <td>71    </td>\n",
       "        </tr>\n",
       "    </tbody>\n",
       "</table>\n",
       "<p>... (198265 rows omitted)</p>"
      ],
      "text/plain": [
       "SRC           | TGT  | VOT  | TXT                                                          | numWords | SCRIND\n",
       "Steel1943     | BDD  | 1    | '''Support''' as co-nom.                                     | 3        | 0\n",
       "Cuchullain    | BDD  | 1    | '''Support''' as nominator.--                                | 3        | 63\n",
       "INeverCry     | BDD  | 1    | '''Support''' per noms.                                      | 3        | 110\n",
       "Cncmaster     | BDD  | 1    | '''Support''' per noms. BDD is a strong contributor with ... | 21       | 0\n",
       "Miniapolis    | BDD  | 1    | '''Support''', with great pleasure. I work with BDD at t ... | 35       | 115\n",
       "Sven Manguard | BDD  | 1    | '''Support''' There are plenty of important roles on thi ... | 41       | 32\n",
       "Ramaksoud2000 | BDD  | 1    | '''Support''' per noms. I don't see a reason not to.         | 10       | 0\n",
       "RockMagnetist | BDD  | 1    | '''Support'''  BDD already wields a broom pretty well, s ... | 109      | 102\n",
       "Carrite       | BDD  | 1    | '''Support''' barring a completely unexpected answer to  ... | 109      | 147\n",
       "Someguy1221   | BDD  | 1    | '''Support''' because I see no good reason not to.           | 9        | 71\n",
       "... (198265 rows omitted)"
      ]
     },
     "execution_count": 16,
     "metadata": {},
     "output_type": "execute_result"
    }
   ],
   "source": [
    "allTable"
   ]
  },
  {
   "cell_type": "code",
   "execution_count": 15,
   "metadata": {},
   "outputs": [],
   "source": [
    "allTable = allTable.with_column(\n",
    "    'SCRIND', allTable.apply(G.in_degree, 'SRC')\n",
    ")"
   ]
  },
  {
   "cell_type": "code",
   "execution_count": 17,
   "metadata": {},
   "outputs": [
    {
     "ename": "MemoryError",
     "evalue": "",
     "output_type": "error",
     "traceback": [
      "\u001b[1;31m---------------------------------------------------------------------------\u001b[0m",
      "\u001b[1;31mMemoryError\u001b[0m                               Traceback (most recent call last)",
      "\u001b[1;32m<ipython-input-17-e70140d4a811>\u001b[0m in \u001b[0;36m<module>\u001b[1;34m()\u001b[0m\n\u001b[0;32m      1\u001b[0m allTable = allTable.with_column(\n\u001b[1;32m----> 2\u001b[1;33m     \u001b[1;34m'SCROUTD'\u001b[0m\u001b[1;33m,\u001b[0m \u001b[0mallTable\u001b[0m\u001b[1;33m.\u001b[0m\u001b[0mapply\u001b[0m\u001b[1;33m(\u001b[0m\u001b[0mG\u001b[0m\u001b[1;33m.\u001b[0m\u001b[0mout_degree\u001b[0m\u001b[1;33m,\u001b[0m \u001b[1;34m'SRC'\u001b[0m\u001b[1;33m)\u001b[0m\u001b[1;33m\u001b[0m\u001b[0m\n\u001b[0m\u001b[0;32m      3\u001b[0m )\n",
      "\u001b[1;32mD:\\sw\\anaconda\\envs\\fastai\\lib\\site-packages\\datascience\\tables.py\u001b[0m in \u001b[0;36mwith_column\u001b[1;34m(self, label, values, *rest)\u001b[0m\n\u001b[0;32m   1603\u001b[0m             \u001b[1;32mreturn\u001b[0m \u001b[0mself\u001b[0m\u001b[1;33m.\u001b[0m\u001b[0mwith_columns\u001b[0m\u001b[1;33m(\u001b[0m\u001b[0mlabel\u001b[0m\u001b[1;33m,\u001b[0m \u001b[0mvalues\u001b[0m\u001b[1;33m,\u001b[0m \u001b[1;33m*\u001b[0m\u001b[0mrest\u001b[0m\u001b[1;33m)\u001b[0m\u001b[1;33m\u001b[0m\u001b[0m\n\u001b[0;32m   1604\u001b[0m \u001b[1;33m\u001b[0m\u001b[0m\n\u001b[1;32m-> 1605\u001b[1;33m         \u001b[0mnew_table\u001b[0m \u001b[1;33m=\u001b[0m \u001b[0mself\u001b[0m\u001b[1;33m.\u001b[0m\u001b[0mcopy\u001b[0m\u001b[1;33m(\u001b[0m\u001b[1;33m)\u001b[0m\u001b[1;33m\u001b[0m\u001b[0m\n\u001b[0m\u001b[0;32m   1606\u001b[0m         \u001b[0mnew_table\u001b[0m\u001b[1;33m.\u001b[0m\u001b[0mappend_column\u001b[0m\u001b[1;33m(\u001b[0m\u001b[0mlabel\u001b[0m\u001b[1;33m,\u001b[0m \u001b[0mvalues\u001b[0m\u001b[1;33m)\u001b[0m\u001b[1;33m\u001b[0m\u001b[0m\n\u001b[0;32m   1607\u001b[0m         \u001b[1;32mreturn\u001b[0m \u001b[0mnew_table\u001b[0m\u001b[1;33m\u001b[0m\u001b[0m\n",
      "\u001b[1;32mD:\\sw\\anaconda\\envs\\fastai\\lib\\site-packages\\datascience\\tables.py\u001b[0m in \u001b[0;36mcopy\u001b[1;34m(self, shallow)\u001b[0m\n\u001b[0;32m    577\u001b[0m                 \u001b[0mcolumn\u001b[0m \u001b[1;33m=\u001b[0m \u001b[0mself\u001b[0m\u001b[1;33m[\u001b[0m\u001b[0mlabel\u001b[0m\u001b[1;33m]\u001b[0m\u001b[1;33m\u001b[0m\u001b[0m\n\u001b[0;32m    578\u001b[0m             \u001b[1;32melse\u001b[0m\u001b[1;33m:\u001b[0m\u001b[1;33m\u001b[0m\u001b[0m\n\u001b[1;32m--> 579\u001b[1;33m                 \u001b[0mcolumn\u001b[0m \u001b[1;33m=\u001b[0m \u001b[0mnp\u001b[0m\u001b[1;33m.\u001b[0m\u001b[0mcopy\u001b[0m\u001b[1;33m(\u001b[0m\u001b[0mself\u001b[0m\u001b[1;33m[\u001b[0m\u001b[0mlabel\u001b[0m\u001b[1;33m]\u001b[0m\u001b[1;33m)\u001b[0m\u001b[1;33m\u001b[0m\u001b[0m\n\u001b[0m\u001b[0;32m    580\u001b[0m             \u001b[0mself\u001b[0m\u001b[1;33m.\u001b[0m\u001b[0m_add_column_and_format\u001b[0m\u001b[1;33m(\u001b[0m\u001b[0mtable\u001b[0m\u001b[1;33m,\u001b[0m \u001b[0mlabel\u001b[0m\u001b[1;33m,\u001b[0m \u001b[0mcolumn\u001b[0m\u001b[1;33m)\u001b[0m\u001b[1;33m\u001b[0m\u001b[0m\n\u001b[0;32m    581\u001b[0m         \u001b[1;32mreturn\u001b[0m \u001b[0mtable\u001b[0m\u001b[1;33m\u001b[0m\u001b[0m\n",
      "\u001b[1;32mD:\\sw\\anaconda\\envs\\fastai\\lib\\site-packages\\numpy\\lib\\function_base.py\u001b[0m in \u001b[0;36mcopy\u001b[1;34m(a, order)\u001b[0m\n\u001b[0;32m    731\u001b[0m \u001b[1;33m\u001b[0m\u001b[0m\n\u001b[0;32m    732\u001b[0m     \"\"\"\n\u001b[1;32m--> 733\u001b[1;33m     \u001b[1;32mreturn\u001b[0m \u001b[0marray\u001b[0m\u001b[1;33m(\u001b[0m\u001b[0ma\u001b[0m\u001b[1;33m,\u001b[0m \u001b[0morder\u001b[0m\u001b[1;33m=\u001b[0m\u001b[0morder\u001b[0m\u001b[1;33m,\u001b[0m \u001b[0mcopy\u001b[0m\u001b[1;33m=\u001b[0m\u001b[1;32mTrue\u001b[0m\u001b[1;33m)\u001b[0m\u001b[1;33m\u001b[0m\u001b[0m\n\u001b[0m\u001b[0;32m    734\u001b[0m \u001b[1;33m\u001b[0m\u001b[0m\n\u001b[0;32m    735\u001b[0m \u001b[1;31m# Basic operations\u001b[0m\u001b[1;33m\u001b[0m\u001b[1;33m\u001b[0m\u001b[0m\n",
      "\u001b[1;31mMemoryError\u001b[0m: "
     ]
    }
   ],
   "source": [
    "allTable = allTable.with_column(\n",
    "    'SCROUTD', allTable.apply(G.out_degree, 'SRC')\n",
    ")"
   ]
  },
  {
   "cell_type": "code",
   "execution_count": 21,
   "metadata": {},
   "outputs": [
    {
     "ename": "MemoryError",
     "evalue": "",
     "output_type": "error",
     "traceback": [
      "\u001b[1;31m---------------------------------------------------------------------------\u001b[0m",
      "\u001b[1;31mMemoryError\u001b[0m                               Traceback (most recent call last)",
      "\u001b[1;32m<ipython-input-21-089af12a057e>\u001b[0m in \u001b[0;36m<module>\u001b[1;34m()\u001b[0m\n\u001b[0;32m      1\u001b[0m allTable = allTable.with_column(\n\u001b[1;32m----> 2\u001b[1;33m     \u001b[1;34m'TGTIND'\u001b[0m\u001b[1;33m,\u001b[0m \u001b[0mallTable\u001b[0m\u001b[1;33m.\u001b[0m\u001b[0mapply\u001b[0m\u001b[1;33m(\u001b[0m\u001b[0mG\u001b[0m\u001b[1;33m.\u001b[0m\u001b[0min_degree\u001b[0m\u001b[1;33m,\u001b[0m \u001b[1;34m'TGT'\u001b[0m\u001b[1;33m)\u001b[0m\u001b[1;33m\u001b[0m\u001b[0m\n\u001b[0m\u001b[0;32m      3\u001b[0m )\n",
      "\u001b[1;32mD:\\sw\\anaconda\\envs\\fastai\\lib\\site-packages\\datascience\\tables.py\u001b[0m in \u001b[0;36mwith_column\u001b[1;34m(self, label, values, *rest)\u001b[0m\n\u001b[0;32m   1603\u001b[0m             \u001b[1;32mreturn\u001b[0m \u001b[0mself\u001b[0m\u001b[1;33m.\u001b[0m\u001b[0mwith_columns\u001b[0m\u001b[1;33m(\u001b[0m\u001b[0mlabel\u001b[0m\u001b[1;33m,\u001b[0m \u001b[0mvalues\u001b[0m\u001b[1;33m,\u001b[0m \u001b[1;33m*\u001b[0m\u001b[0mrest\u001b[0m\u001b[1;33m)\u001b[0m\u001b[1;33m\u001b[0m\u001b[0m\n\u001b[0;32m   1604\u001b[0m \u001b[1;33m\u001b[0m\u001b[0m\n\u001b[1;32m-> 1605\u001b[1;33m         \u001b[0mnew_table\u001b[0m \u001b[1;33m=\u001b[0m \u001b[0mself\u001b[0m\u001b[1;33m.\u001b[0m\u001b[0mcopy\u001b[0m\u001b[1;33m(\u001b[0m\u001b[1;33m)\u001b[0m\u001b[1;33m\u001b[0m\u001b[0m\n\u001b[0m\u001b[0;32m   1606\u001b[0m         \u001b[0mnew_table\u001b[0m\u001b[1;33m.\u001b[0m\u001b[0mappend_column\u001b[0m\u001b[1;33m(\u001b[0m\u001b[0mlabel\u001b[0m\u001b[1;33m,\u001b[0m \u001b[0mvalues\u001b[0m\u001b[1;33m)\u001b[0m\u001b[1;33m\u001b[0m\u001b[0m\n\u001b[0;32m   1607\u001b[0m         \u001b[1;32mreturn\u001b[0m \u001b[0mnew_table\u001b[0m\u001b[1;33m\u001b[0m\u001b[0m\n",
      "\u001b[1;32mD:\\sw\\anaconda\\envs\\fastai\\lib\\site-packages\\datascience\\tables.py\u001b[0m in \u001b[0;36mcopy\u001b[1;34m(self, shallow)\u001b[0m\n\u001b[0;32m    577\u001b[0m                 \u001b[0mcolumn\u001b[0m \u001b[1;33m=\u001b[0m \u001b[0mself\u001b[0m\u001b[1;33m[\u001b[0m\u001b[0mlabel\u001b[0m\u001b[1;33m]\u001b[0m\u001b[1;33m\u001b[0m\u001b[0m\n\u001b[0;32m    578\u001b[0m             \u001b[1;32melse\u001b[0m\u001b[1;33m:\u001b[0m\u001b[1;33m\u001b[0m\u001b[0m\n\u001b[1;32m--> 579\u001b[1;33m                 \u001b[0mcolumn\u001b[0m \u001b[1;33m=\u001b[0m \u001b[0mnp\u001b[0m\u001b[1;33m.\u001b[0m\u001b[0mcopy\u001b[0m\u001b[1;33m(\u001b[0m\u001b[0mself\u001b[0m\u001b[1;33m[\u001b[0m\u001b[0mlabel\u001b[0m\u001b[1;33m]\u001b[0m\u001b[1;33m)\u001b[0m\u001b[1;33m\u001b[0m\u001b[0m\n\u001b[0m\u001b[0;32m    580\u001b[0m             \u001b[0mself\u001b[0m\u001b[1;33m.\u001b[0m\u001b[0m_add_column_and_format\u001b[0m\u001b[1;33m(\u001b[0m\u001b[0mtable\u001b[0m\u001b[1;33m,\u001b[0m \u001b[0mlabel\u001b[0m\u001b[1;33m,\u001b[0m \u001b[0mcolumn\u001b[0m\u001b[1;33m)\u001b[0m\u001b[1;33m\u001b[0m\u001b[0m\n\u001b[0;32m    581\u001b[0m         \u001b[1;32mreturn\u001b[0m \u001b[0mtable\u001b[0m\u001b[1;33m\u001b[0m\u001b[0m\n",
      "\u001b[1;32mD:\\sw\\anaconda\\envs\\fastai\\lib\\site-packages\\numpy\\lib\\function_base.py\u001b[0m in \u001b[0;36mcopy\u001b[1;34m(a, order)\u001b[0m\n\u001b[0;32m    731\u001b[0m \u001b[1;33m\u001b[0m\u001b[0m\n\u001b[0;32m    732\u001b[0m     \"\"\"\n\u001b[1;32m--> 733\u001b[1;33m     \u001b[1;32mreturn\u001b[0m \u001b[0marray\u001b[0m\u001b[1;33m(\u001b[0m\u001b[0ma\u001b[0m\u001b[1;33m,\u001b[0m \u001b[0morder\u001b[0m\u001b[1;33m=\u001b[0m\u001b[0morder\u001b[0m\u001b[1;33m,\u001b[0m \u001b[0mcopy\u001b[0m\u001b[1;33m=\u001b[0m\u001b[1;32mTrue\u001b[0m\u001b[1;33m)\u001b[0m\u001b[1;33m\u001b[0m\u001b[0m\n\u001b[0m\u001b[0;32m    734\u001b[0m \u001b[1;33m\u001b[0m\u001b[0m\n\u001b[0;32m    735\u001b[0m \u001b[1;31m# Basic operations\u001b[0m\u001b[1;33m\u001b[0m\u001b[1;33m\u001b[0m\u001b[0m\n",
      "\u001b[1;31mMemoryError\u001b[0m: "
     ]
    }
   ],
   "source": [
    "allTable = allTable.with_column(\n",
    "    'TGTIND', allTable.apply(G.in_degree, 'TGT')\n",
    ")"
   ]
  },
  {
   "cell_type": "code",
   "execution_count": null,
   "metadata": {},
   "outputs": [],
   "source": [
    "allTable = allTable.with_column(\n",
    "    'TGTOUTD', allTable.apply(G.out_degree, 'TGT')\n",
    ")"
   ]
  },
  {
   "cell_type": "code",
   "execution_count": 21,
   "metadata": {},
   "outputs": [
    {
     "data": {
      "text/html": [
       "<table border=\"1\" class=\"dataframe\">\n",
       "    <thead>\n",
       "        <tr>\n",
       "            <th>SRC</th> <th>TGT</th> <th>VOT</th> <th>TXT</th> <th>numWords</th> <th>SCRIND</th> <th>SCROUTD</th> <th>TGTIND</th> <th>TGTOUTD</th>\n",
       "        </tr>\n",
       "    </thead>\n",
       "    <tbody>\n",
       "        <tr>\n",
       "            <td>James086        </td> <td>Stwalkerster</td> <td>1   </td> <td>'''Support''' - Because I can't see [[User:Ral315/WTHN|w ...</td> <td>13      </td> <td>47    </td> <td>188    </td> <td>148   </td> <td>72     </td>\n",
       "        </tr>\n",
       "        <tr>\n",
       "            <td>Silver seren    </td> <td>Secret      </td> <td>1   </td> <td>'''Support''' I think Secret has clearly shown that, whi ...</td> <td>50      </td> <td>96    </td> <td>4      </td> <td>180   </td> <td>222    </td>\n",
       "        </tr>\n",
       "        <tr>\n",
       "            <td>Razorflame      </td> <td>VanTucky    </td> <td>1   </td> <td>'''Support''' I love the answer to Q10.  Very nice.  Def ...</td> <td>17      </td> <td>0     </td> <td>99     </td> <td>286   </td> <td>143    </td>\n",
       "        </tr>\n",
       "        <tr>\n",
       "            <td>FireFox         </td> <td>Wikiacc     </td> <td>1   </td> <td>[[User:FireFox|<font color=black>Fir]][[WP:ESP|<font col ...</td> <td>3       </td> <td>97    </td> <td>260    </td> <td>18    </td> <td>22     </td>\n",
       "        </tr>\n",
       "        <tr>\n",
       "            <td>Rogerd          </td> <td>Sean Black  </td> <td>1   </td> <td>'''Support''' Good editor --                                </td> <td>4       </td> <td>80    </td> <td>431    </td> <td>262   </td> <td>110    </td>\n",
       "        </tr>\n",
       "        <tr>\n",
       "            <td>Yellowdesk      </td> <td>Teratornis  </td> <td>1   </td> <td>'''Co-Nominator Support''' as described in the nominatio ...</td> <td>8       </td> <td>0     </td> <td>2      </td> <td>94    </td> <td>0      </td>\n",
       "        </tr>\n",
       "        <tr>\n",
       "            <td>theoneintraining</td> <td>Geni        </td> <td>1   </td> <td>'''Support''', Adminship is no big deal.--                  </td> <td>6       </td> <td>0     </td> <td>21     </td> <td>286   </td> <td>33     </td>\n",
       "        </tr>\n",
       "        <tr>\n",
       "            <td>MarkGallagher   </td> <td>Psy guy     </td> <td>1   </td> <td>'''Support'''.  Never let it be said I can't jump on a g ...</td> <td>18      </td> <td>102   </td> <td>109    </td> <td>53    </td> <td>10     </td>\n",
       "        </tr>\n",
       "        <tr>\n",
       "            <td>TurquoiseThreads</td> <td>Ctjf83      </td> <td>0   </td> <td>'''Neutral''', (currently) leaning oppose. Ctjf83's atti ...</td> <td>122     </td> <td>0     </td> <td>1      </td> <td>124   </td> <td>10     </td>\n",
       "        </tr>\n",
       "        <tr>\n",
       "            <td>Mtmelendez      </td> <td>Agüeybaná   </td> <td>1   </td> <td>'''Support''' - <small>''from my nom''</small> - Eddie i ...</td> <td>87      </td> <td>54    </td> <td>25     </td> <td>85    </td> <td>51     </td>\n",
       "        </tr>\n",
       "    </tbody>\n",
       "</table>\n",
       "<p>... (99990 rows omitted)</p>"
      ],
      "text/plain": [
       "SRC              | TGT          | VOT  | TXT                                                          | numWords | SCRIND | SCROUTD | TGTIND | TGTOUTD\n",
       "James086         | Stwalkerster | 1    | '''Support''' - Because I can't see [[User:Ral315/WTHN|w ... | 13       | 47     | 188     | 148    | 72\n",
       "Silver seren     | Secret       | 1    | '''Support''' I think Secret has clearly shown that, whi ... | 50       | 96     | 4       | 180    | 222\n",
       "Razorflame       | VanTucky     | 1    | '''Support''' I love the answer to Q10.  Very nice.  Def ... | 17       | 0      | 99      | 286    | 143\n",
       "FireFox          | Wikiacc      | 1    | [[User:FireFox|<font color=black>Fir]][[WP:ESP|<font col ... | 3        | 97     | 260     | 18     | 22\n",
       "Rogerd           | Sean Black   | 1    | '''Support''' Good editor --                                 | 4        | 80     | 431     | 262    | 110\n",
       "Yellowdesk       | Teratornis   | 1    | '''Co-Nominator Support''' as described in the nominatio ... | 8        | 0      | 2       | 94     | 0\n",
       "theoneintraining | Geni         | 1    | '''Support''', Adminship is no big deal.--                   | 6        | 0      | 21      | 286    | 33\n",
       "MarkGallagher    | Psy guy      | 1    | '''Support'''.  Never let it be said I can't jump on a g ... | 18       | 102    | 109     | 53     | 10\n",
       "TurquoiseThreads | Ctjf83       | 0    | '''Neutral''', (currently) leaning oppose. Ctjf83's atti ... | 122      | 0      | 1       | 124    | 10\n",
       "Mtmelendez       | Agüeybaná    | 1    | '''Support''' - <small>''from my nom''</small> - Eddie i ... | 87       | 54     | 25      | 85     | 51\n",
       "... (99990 rows omitted)"
      ]
     },
     "execution_count": 21,
     "metadata": {},
     "output_type": "execute_result"
    }
   ],
   "source": [
    "allTable"
   ]
  },
  {
   "cell_type": "code",
   "execution_count": 23,
   "metadata": {},
   "outputs": [],
   "source": [
    "PATH='./datasetcsv'"
   ]
  },
  {
   "cell_type": "code",
   "execution_count": null,
   "metadata": {},
   "outputs": [],
   "source": [
    "df.to_csv(MC_CSV, index=False)"
   ]
  },
  {
   "cell_type": "code",
   "execution_count": 85,
   "metadata": {},
   "outputs": [],
   "source": [
    "sampledTable2 = allTable.sample(k=300, with_replacement=False)"
   ]
  },
  {
   "cell_type": "code",
   "execution_count": 88,
   "metadata": {},
   "outputs": [
    {
     "data": {
      "image/png": "[encoded data removed]",
      "text/plain": [
       "<Figure size 360x360 with 1 Axes>"
      ]
     },
     "metadata": {},
     "output_type": "display_data"
    }
   ],
   "source": [
    "tab2_1 = sampledTable2.select('TGTIND', 'VOT', 'TGTOUTD')\n",
    "tab2_1.scatter('VOT')"
   ]
  },
  {
   "cell_type": "code",
   "execution_count": 89,
   "metadata": {},
   "outputs": [
    {
     "data": {
      "image/png": "[encoded data removed]",
      "text/plain": [
       "<Figure size 360x360 with 1 Axes>"
      ]
     },
     "metadata": {},
     "output_type": "display_data"
    }
   ],
   "source": [
    "tab2_1.scatter('TGTIND')"
   ]
  },
  {
   "cell_type": "code",
   "execution_count": 90,
   "metadata": {},
   "outputs": [
    {
     "data": {
      "image/png": "[encoded data removed]",
      "text/plain": [
       "<Figure size 360x360 with 1 Axes>"
      ]
     },
     "metadata": {},
     "output_type": "display_data"
    }
   ],
   "source": [
    "tab2_1.scatter('TGTOUTD')"
   ]
  },
  {
   "cell_type": "code",
   "execution_count": 97,
   "metadata": {},
   "outputs": [],
   "source": [
    "tab2_2 = sampledTable2.select('SCROUTD', 'VOT', 'SCRIND')"
   ]
  },
  {
   "cell_type": "code",
   "execution_count": 99,
   "metadata": {},
   "outputs": [
    {
     "data": {
      "image/png": "[encoded data removed]",
      "text/plain": [
       "<Figure size 360x360 with 1 Axes>"
      ]
     },
     "metadata": {},
     "output_type": "display_data"
    }
   ],
   "source": [
    "# *********. finding!!! see how less srcout/in have the ones that vote no\n",
    "tab2_2.scatter('VOT')"
   ]
  },
  {
   "cell_type": "code",
   "execution_count": 101,
   "metadata": {},
   "outputs": [
    {
     "data": {
      "image/png": "[encoded data removed]",
      "text/plain": [
       "<Figure size 360x360 with 1 Axes>"
      ]
     },
     "metadata": {},
     "output_type": "display_data"
    }
   ],
   "source": [
    "tab2_2.scatter('SCROUTD')"
   ]
  },
  {
   "cell_type": "code",
   "execution_count": 102,
   "metadata": {},
   "outputs": [
    {
     "data": {
      "image/png": "[encoded data removed]",
      "text/plain": [
       "<Figure size 360x360 with 1 Axes>"
      ]
     },
     "metadata": {},
     "output_type": "display_data"
    }
   ],
   "source": [
    "tab2_2.scatter('SCRIND')"
   ]
  },
  {
   "cell_type": "code",
   "execution_count": null,
   "metadata": {},
   "outputs": [],
   "source": []
  }
 ],
 "metadata": {
  "kernelspec": {
   "display_name": "Python 3",
   "language": "python",
   "name": "python3"
  },
  "language_info": {
   "codemirror_mode": {
    "name": "ipython",
    "version": 3
   },
   "file_extension": ".py",
   "mimetype": "text/x-python",
   "name": "python",
   "nbconvert_exporter": "python",
   "pygments_lexer": "ipython3",
   "version": "3.6.6"
  }
 },
 "nbformat": 4,
 "nbformat_minor": 2
}
