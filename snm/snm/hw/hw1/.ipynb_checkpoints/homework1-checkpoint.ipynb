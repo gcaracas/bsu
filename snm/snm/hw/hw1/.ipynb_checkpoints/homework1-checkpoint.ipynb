{
 "cells": [
  {
   "cell_type": "markdown",
   "metadata": {},
   "source": [
    "<body>\n",
    "    <section style=\"border:1px solid RoyalBlue;\">\n",
    "        <section style=\"background-color:White; font-family:Georgia;text-align:center\">\n",
    "            <h1 style=\"color:RoyalBlue\">Social Media Mining</h1>\n",
    "            <h2 style=\"color:RoyalBlue\">Dr.\tFrancesca\tSpezzano</h1>\n",
    "            <h2 style=\"font-family:Courier; text-align:center;\">CS-539</h2>\n",
    "            <br>\n",
    "            <h2 style=\"font-family:Garamond;\">Gerardo Caracas Uribe<br>Homework 1</h2>\n",
    "            <hr/>\n",
    "        </section>\n",
    "    </section>\n",
    "</body>"
   ]
  },
  {
   "cell_type": "markdown",
   "metadata": {},
   "source": [
    "<!--Progress:<progress value=\"0\" max=\"100\"></progress>-->\n",
    "<body>\n",
    "    <section style=\"background-color:White; font-family:Georgia;text-align:center\">\n",
    "        <h3 style=\"font-family:Garamond;\">Dataset Link<br></h3>\n",
    "        <a href=\"http://snap.stanford.edu/data/soc-sign-bitcoin-otc.html\">Bitcoin OTC trust weighted signed network</a>\n",
    "        <hr/>\n",
    "    </section>\n",
    "</body>"
   ]
  },
  {
   "cell_type": "markdown",
   "metadata": {},
   "source": [
    "<body>\n",
    "    <section style=\"background-color:White; font-family:Georgia;text-align:center\">\n",
    "        <h3 style=\"font-family:Garamond;\">Import the needed packages</h3>\n",
    "        <hr/>\n",
    "    </section>\n",
    "</body>"
   ]
  },
  {
   "cell_type": "code",
   "execution_count": 2,
   "metadata": {},
   "outputs": [],
   "source": [
    "import pandas as pd\n",
    "import numpy as np\n",
    "import networkx as nx\n",
    "from datascience import *"
   ]
  },
  {
   "cell_type": "markdown",
   "metadata": {},
   "source": [
    "<body>\n",
    "    <section style=\"background-color:White; font-family:Georgia;text-align:center\">\n",
    "        <h3 style=\"font-family:Garamond;\">Import and pre-process data</h3>\n",
    "        <hr/>\n",
    "    </section>\n",
    "</body>"
   ]
  },
  {
   "cell_type": "markdown",
   "metadata": {},
   "source": [
    "<body>\n",
    "    <section style=\"background-color:White; font-family:Georgia;\">\n",
    "        <p style=\"font-family:Garamond;\"><font size=\"4\">Read the dataset file and convert it into a pandas dataframe</p>\n",
    "    </section>\n",
    "</body>"
   ]
  },
  {
   "cell_type": "code",
   "execution_count": 3,
   "metadata": {},
   "outputs": [],
   "source": [
    "data = pd.read_csv('soc-sign-bitcoinotc.csv',names=['source','target','rating','time'], delimiter=',', encoding='ISO-8859-1')"
   ]
  },
  {
   "cell_type": "markdown",
   "metadata": {},
   "source": [
    "<body>\n",
    "    <section style=\"background-color:White; font-family:Georgia;\">\n",
    "        <p style=\"font-family:Garamond;\"><font size=\"4\">Data Sample: Showing the first 10 elements of the main dataframe containing all the edges data</p>\n",
    "    </section>\n",
    "</body>"
   ]
  },
  {
   "cell_type": "code",
   "execution_count": 4,
   "metadata": {},
   "outputs": [
    {
     "data": {
      "text/html": [
       "<div>\n",
       "<style scoped>\n",
       "    .dataframe tbody tr th:only-of-type {\n",
       "        vertical-align: middle;\n",
       "    }\n",
       "\n",
       "    .dataframe tbody tr th {\n",
       "        vertical-align: top;\n",
       "    }\n",
       "\n",
       "    .dataframe thead th {\n",
       "        text-align: right;\n",
       "    }\n",
       "</style>\n",
       "<table border=\"1\" class=\"dataframe\">\n",
       "  <thead>\n",
       "    <tr style=\"text-align: right;\">\n",
       "      <th></th>\n",
       "      <th>source</th>\n",
       "      <th>target</th>\n",
       "      <th>rating</th>\n",
       "      <th>time</th>\n",
       "    </tr>\n",
       "  </thead>\n",
       "  <tbody>\n",
       "    <tr>\n",
       "      <th>0</th>\n",
       "      <td>6</td>\n",
       "      <td>2</td>\n",
       "      <td>4</td>\n",
       "      <td>1.289242e+09</td>\n",
       "    </tr>\n",
       "    <tr>\n",
       "      <th>1</th>\n",
       "      <td>6</td>\n",
       "      <td>5</td>\n",
       "      <td>2</td>\n",
       "      <td>1.289242e+09</td>\n",
       "    </tr>\n",
       "    <tr>\n",
       "      <th>2</th>\n",
       "      <td>1</td>\n",
       "      <td>15</td>\n",
       "      <td>1</td>\n",
       "      <td>1.289243e+09</td>\n",
       "    </tr>\n",
       "    <tr>\n",
       "      <th>3</th>\n",
       "      <td>4</td>\n",
       "      <td>3</td>\n",
       "      <td>7</td>\n",
       "      <td>1.289245e+09</td>\n",
       "    </tr>\n",
       "  </tbody>\n",
       "</table>\n",
       "</div>"
      ],
      "text/plain": [
       "   source  target  rating          time\n",
       "0       6       2       4  1.289242e+09\n",
       "1       6       5       2  1.289242e+09\n",
       "2       1      15       1  1.289243e+09\n",
       "3       4       3       7  1.289245e+09"
      ]
     },
     "execution_count": 4,
     "metadata": {},
     "output_type": "execute_result"
    }
   ],
   "source": [
    "data[0:4]"
   ]
  },
  {
   "cell_type": "markdown",
   "metadata": {},
   "source": [
    "<body>\n",
    "    <section style=\"background-color:White; font-family:Georgia;text-align:center\">\n",
    "        <h3 style=\"font-family:Garamond;\">Create Graph</h3>\n",
    "        <hr/>\n",
    "    </section>\n",
    "</body>"
   ]
  },
  {
   "cell_type": "code",
   "execution_count": null,
   "metadata": {},
   "outputs": [],
   "source": [
    "G = nx.DiGraph()\n",
    "for line in data.iterrows():\n",
    "    G.add_edge(line[1].source, line[1].target, weight=line[1].rating, time=line[1].time)"
   ]
  },
  {
   "cell_type": "markdown",
   "metadata": {},
   "source": [
    "<body>\n",
    "    <section style=\"background-color:White; font-family:Georgia;text-align:center\">\n",
    "        <h2 style=\"font-family:Garamond;\">Excersise 2, section 4</h2>\n",
    "        <hr/>\n",
    "    </section>\n",
    "</body>"
   ]
  },
  {
   "cell_type": "markdown",
   "metadata": {},
   "source": [
    "<body>\n",
    "    <section style=\"background-color:White; font-family:Georgia;text-align:center\">\n",
    "        <h2 style=\"font-family:Garamond;color:solid #A93226\">Result #1/9</h2>\n",
    "        <h3 style=\"font-family:Garamond;\">Calculate the number of nodes</h3>\n",
    "        <hr/>\n",
    "    </section>\n",
    "</body>"
   ]
  },
  {
   "cell_type": "code",
   "execution_count": 107,
   "metadata": {},
   "outputs": [
    {
     "name": "stdout",
     "output_type": "stream",
     "text": [
      "Number of nodes =  5881\n"
     ]
    }
   ],
   "source": [
    "print(\"Number of nodes = \",G.number_of_nodes())"
   ]
  },
  {
   "cell_type": "markdown",
   "metadata": {},
   "source": [
    "<body>\n",
    "    <section style=\"background-color:White; font-family:Georgia;text-align:center\">\n",
    "        <h2 style=\"font-family:Garamond;color:solid #A93226\">Result #2/9</h2>\n",
    "        <h3 style=\"font-family:Garamond;\">Calculate the number of edges</h3>\n",
    "        <hr/>\n",
    "    </section>\n",
    "</body>"
   ]
  },
  {
   "cell_type": "code",
   "execution_count": 108,
   "metadata": {},
   "outputs": [
    {
     "name": "stdout",
     "output_type": "stream",
     "text": [
      "Number of edges =  35592\n"
     ]
    }
   ],
   "source": [
    "print(\"Number of edges = \",G.number_of_edges())\n",
    "globalNumEdges = G.number_of_edges()"
   ]
  },
  {
   "cell_type": "markdown",
   "metadata": {},
   "source": [
    "<body>\n",
    "    <section style=\"background-color:White; font-family:Georgia;\">\n",
    "        <p style=\"font-family:Garamond;\"><font size=\"4\">To traverse G using depth-first traversal of its edges, we need to extract a list of nodes and a list of edges</p>\n",
    "    </section>\n",
    "</body>"
   ]
  },
  {
   "cell_type": "code",
   "execution_count": 109,
   "metadata": {},
   "outputs": [],
   "source": [
    "edges=list(G.edges())\n",
    "nodes=list(G.nodes())"
   ]
  },
  {
   "cell_type": "markdown",
   "metadata": {},
   "source": [
    "<body>\n",
    "    <section style=\"background-color:White; font-family:Georgia;\">\n",
    "        <p style=\"font-family:Garamond;\"><font size=\"4\">Now let's get a list of the graph traversal</p>\n",
    "    </section>\n",
    "</body>"
   ]
  },
  {
   "cell_type": "code",
   "execution_count": 110,
   "metadata": {},
   "outputs": [],
   "source": [
    "traverseList = list(nx.edge_dfs(nx.DiGraph(edges), nodes))"
   ]
  },
  {
   "cell_type": "markdown",
   "metadata": {},
   "source": [
    "<body>\n",
    "    <section style=\"background-color:White; font-family:Georgia;\">\n",
    "        <p style=\"font-family:Garamond;\"><font size=\"4\">Now that we have the graph traversal data, let's iterate and analyze the weights</p>\n",
    "    </section>\n",
    "</body>"
   ]
  },
  {
   "cell_type": "code",
   "execution_count": 11,
   "metadata": {},
   "outputs": [],
   "source": [
    "traverseSet = set(traverseList)\n",
    "positiveW = []\n",
    "negativeW = []\n",
    "mainEdgeTable = Table()\n",
    "for source, target in traverseSet:\n",
    "    if G.edges[source, target]['weight'] < 0: \n",
    "        negativeW.append(G.edges[source, target]['weight'])\n",
    "    else:\n",
    "        positiveW.append(G.edges[source, target]['weight'])"
   ]
  },
  {
   "cell_type": "markdown",
   "metadata": {},
   "source": [
    "<body>\n",
    "    <section style=\"background-color:White; font-family:Georgia;text-align:center\">\n",
    "        <br>\n",
    "        <h2 style=\"font-family:Garamond;color:solid #A93226\">Result #3/9</h2>\n",
    "        <h3 style=\"font-family:Garamond;\">Percentage of negative edges</h3>\n",
    "        <br>\n",
    "        <hr/>\n",
    "    </section>\n",
    "</body>"
   ]
  },
  {
   "cell_type": "code",
   "execution_count": 12,
   "metadata": {},
   "outputs": [
    {
     "name": "stdout",
     "output_type": "stream",
     "text": [
      " Negative edges percent =  10.010676556529557 %\n"
     ]
    }
   ],
   "source": [
    "print(\" Negative edges percent = \",(len(negativeW) * 100 )/ globalNumEdges,\"%\")"
   ]
  },
  {
   "cell_type": "markdown",
   "metadata": {},
   "source": [
    "<body>\n",
    "    <section style=\"background-color:White; font-family:Georgia;text-align:center\">\n",
    "        <h2 style=\"font-family:Garamond;\">Excersise 2, section 5</h2>\n",
    "        <hr/>\n",
    "    </section>\n",
    "</body>"
   ]
  },
  {
   "cell_type": "markdown",
   "metadata": {},
   "source": [
    "<body>\n",
    "    <section style=\"background-color:White; font-family:Georgia;text-align:center\">\n",
    "        <h3 style=\"font-family:Garamond;\">Convert data into a datascience's package Tabe()</h3>\n",
    "        <hr/>\n",
    "    </section>\n",
    "</body>"
   ]
  },
  {
   "cell_type": "code",
   "execution_count": 14,
   "metadata": {},
   "outputs": [],
   "source": [
    "mainEdgeTable = Table().with_columns('source',list(data['source']), \n",
    "                                    'target', list(data['target']),\n",
    "                                    'rating', list(data['rating']),\n",
    "                                    'time', list(data['time']))"
   ]
  },
  {
   "cell_type": "markdown",
   "metadata": {},
   "source": [
    "<body>\n",
    "    <section style=\"background-color:White; font-family:Georgia;\">\n",
    "        <p style=\"font-family:Garamond;\"><font size=\"4\">Data Sample: Showing the first few elements of the new table</p>\n",
    "    </section>\n",
    "</body>"
   ]
  },
  {
   "cell_type": "code",
   "execution_count": 112,
   "metadata": {},
   "outputs": [
    {
     "data": {
      "text/html": [
       "<table border=\"1\" class=\"dataframe\">\n",
       "    <thead>\n",
       "        <tr>\n",
       "            <th>source</th> <th>target</th> <th>rating</th> <th>time</th>\n",
       "        </tr>\n",
       "    </thead>\n",
       "    <tbody>\n",
       "        <tr>\n",
       "            <td>1128  </td> <td>13    </td> <td>2     </td> <td>1.45368e+09</td>\n",
       "        </tr>\n",
       "        <tr>\n",
       "            <td>13    </td> <td>1128  </td> <td>1     </td> <td>1.45368e+09</td>\n",
       "        </tr>\n",
       "        <tr>\n",
       "            <td>2731  </td> <td>4897  </td> <td>5     </td> <td>1.45368e+09</td>\n",
       "        </tr>\n",
       "        <tr>\n",
       "            <td>2731  </td> <td>3901  </td> <td>5     </td> <td>1.45368e+09</td>\n",
       "        </tr>\n",
       "        <tr>\n",
       "            <td>4499  </td> <td>1810  </td> <td>1     </td> <td>1.45361e+09</td>\n",
       "        </tr>\n",
       "        <tr>\n",
       "            <td>1810  </td> <td>4499  </td> <td>2     </td> <td>1.45361e+09</td>\n",
       "        </tr>\n",
       "        <tr>\n",
       "            <td>1953  </td> <td>5655  </td> <td>-10   </td> <td>1.45356e+09</td>\n",
       "        </tr>\n",
       "        <tr>\n",
       "            <td>13    </td> <td>4608  </td> <td>2     </td> <td>1.45332e+09</td>\n",
       "        </tr>\n",
       "        <tr>\n",
       "            <td>2045  </td> <td>4608  </td> <td>2     </td> <td>1.45332e+09</td>\n",
       "        </tr>\n",
       "        <tr>\n",
       "            <td>4608  </td> <td>2045  </td> <td>2     </td> <td>1.45332e+09</td>\n",
       "        </tr>\n",
       "    </tbody>\n",
       "</table>\n",
       "<p>... (35582 rows omitted)</p>"
      ],
      "text/plain": [
       "source | target | rating | time\n",
       "1128   | 13     | 2      | 1.45368e+09\n",
       "13     | 1128   | 1      | 1.45368e+09\n",
       "2731   | 4897   | 5      | 1.45368e+09\n",
       "2731   | 3901   | 5      | 1.45368e+09\n",
       "4499   | 1810   | 1      | 1.45361e+09\n",
       "1810   | 4499   | 2      | 1.45361e+09\n",
       "1953   | 5655   | -10    | 1.45356e+09\n",
       "13     | 4608   | 2      | 1.45332e+09\n",
       "2045   | 4608   | 2      | 1.45332e+09\n",
       "4608   | 2045   | 2      | 1.45332e+09\n",
       "... (35582 rows omitted)"
      ]
     },
     "execution_count": 112,
     "metadata": {},
     "output_type": "execute_result"
    }
   ],
   "source": [
    "mainEdgeTable"
   ]
  },
  {
   "cell_type": "markdown",
   "metadata": {},
   "source": [
    "<body>\n",
    "    <section style=\"background-color:White; font-family:Georgia;\">\n",
    "        <p style=\"font-family:Garamond;\"><font size=\"4\">This new table allow us to do many operations, in this case we will sort it, and then we can take the max and min dates</p>\n",
    "    </section>\n",
    "</body>"
   ]
  },
  {
   "cell_type": "code",
   "execution_count": 114,
   "metadata": {},
   "outputs": [],
   "source": [
    "mainEdgeTable = mainEdgeTable.sort('time',descending=True)"
   ]
  },
  {
   "cell_type": "markdown",
   "metadata": {},
   "source": [
    "<body>\n",
    "    <section style=\"background-color:White; font-family:Georgia;\">\n",
    "        <p style=\"font-family:Garamond;\"><font size=\"4\">Now we just take the last and first element</p>\n",
    "    </section>\n",
    "</body>"
   ]
  },
  {
   "cell_type": "code",
   "execution_count": 116,
   "metadata": {},
   "outputs": [],
   "source": [
    "maxtime = mainEdgeTable.take(0)\n",
    "mintime = mainEdgeTable.take(mainEdgeTable.num_rows-1)"
   ]
  },
  {
   "cell_type": "markdown",
   "metadata": {},
   "source": [
    "<body>\n",
    "    <section style=\"background-color:White; font-family:Georgia;text-align:center\">\n",
    "        <br>\n",
    "        <h2 style=\"font-family:Garamond;color:solid #A93226\">Result #4/9</h2>\n",
    "        <h3 style=\"font-family:Garamond;\">Compute the time window of network creation, i.e. the minimum and maximum edge creation timestamps</h3>\n",
    "        <br>\n",
    "        <br>\n",
    "    </section>\n",
    "</body>"
   ]
  },
  {
   "cell_type": "code",
   "execution_count": 126,
   "metadata": {},
   "outputs": [
    {
     "name": "stdout",
     "output_type": "stream",
     "text": [
      "The time window is from time =  [1.28924191e+09]  and time =  [1.45368432e+09]\n"
     ]
    }
   ],
   "source": [
    "print(\"The time window is from time = \",mintime['time'],\" and time = \",maxtime['time'])"
   ]
  },
  {
   "cell_type": "markdown",
   "metadata": {},
   "source": [
    "<body>\n",
    "    <section style=\"background-color:White; font-family:Georgia;text-align:center\">\n",
    "        <h2 style=\"font-family:Garamond;\">Excersise 2, section 6</h2>\n",
    "        <hr/>\n",
    "    </section>\n",
    "</body>"
   ]
  },
  {
   "cell_type": "markdown",
   "metadata": {},
   "source": [
    "<body>\n",
    "    <section style=\"background-color:White; font-family:Georgia;text-align:center\">\n",
    "        <br>\n",
    "        <h3 style=\"font-family:Garamond;color:solid #A93226\">Note: This excercise requires us to convert the graph to a directed one, however this graph is already directed, thus we won't do this task</h3>\n",
    "        <br>\n",
    "        <br>\n",
    "    </section>\n",
    "</body>"
   ]
  },
  {
   "cell_type": "markdown",
   "metadata": {},
   "source": [
    "<body>\n",
    "    <section style=\"background-color:White; font-family:Georgia;text-align:center\">\n",
    "        <h3 style=\"font-family:Garamond;\">Let's calculate the Graph's diameter now</h3>\n",
    "        <hr/>\n",
    "    </section>\n",
    "</body>"
   ]
  },
  {
   "cell_type": "markdown",
   "metadata": {},
   "source": [
    "<body>\n",
    "    <section style=\"background-color:White; font-family:Georgia;\">\n",
    "        <p style=\"font-family:Garamond;\"><font size=\"4\">We need first see how many strongly components we have and weak ones.</p><br>\n",
    "        <pstyle=\"font-family:Garamond;\"><font size=\"4\">This is required because we can not calculate the diameter of a directed weakly connected component</p>\n",
    "    </section>\n",
    "</body>"
   ]
  },
  {
   "cell_type": "code",
   "execution_count": 122,
   "metadata": {},
   "outputs": [
    {
     "name": "stdout",
     "output_type": "stream",
     "text": [
      "The number of strongly connected components =  1144\n"
     ]
    }
   ],
   "source": [
    "print(\"The number of strongly connected components = \",nx.number_strongly_connected_components(G))"
   ]
  },
  {
   "cell_type": "code",
   "execution_count": 123,
   "metadata": {},
   "outputs": [
    {
     "name": "stdout",
     "output_type": "stream",
     "text": [
      "Number of weakly connected components =  4\n"
     ]
    }
   ],
   "source": [
    "print(\"Number of weakly connected components = \",nx.number_weakly_connected_components(G))"
   ]
  },
  {
   "cell_type": "markdown",
   "metadata": {},
   "source": [
    "<body>\n",
    "    <section style=\"background-color:White; font-family:Georgia;\">\n",
    "        <p style=\"font-family:Garamond;\"><font size=\"4\">We know now that we have some weakly connected components. Therefore we will now get a list of the strongly connected compoents only, in the form of sub graphs</p>\n",
    "    </section>\n",
    "</body>"
   ]
  },
  {
   "cell_type": "code",
   "execution_count": 124,
   "metadata": {},
   "outputs": [],
   "source": [
    "stConnectedC = list(nx.strongly_connected_component_subgraphs(G, copy=False))"
   ]
  },
  {
   "cell_type": "markdown",
   "metadata": {},
   "source": [
    "<body>\n",
    "    <section style=\"background-color:White; font-family:Georgia;\">\n",
    "        <p style=\"font-family:Garamond;\"><font size=\"4\">This is a very expensive process, which is calculate the diameter of each one of the subgraphs (Which all of them are strongly connected) and get the maximum diameter from them</p>\n",
    "    </section>\n",
    "</body>"
   ]
  },
  {
   "cell_type": "code",
   "execution_count": 22,
   "metadata": {},
   "outputs": [
    {
     "name": "stdout",
     "output_type": "stream",
     "text": [
      "nodes =  2 diameter =  1\n",
      "nodes =  2 diameter =  1\n",
      "nodes =  2 diameter =  1\n",
      "nodes =  3 diameter =  2\n",
      "nodes =  2 diameter =  1\n",
      "nodes =  2 diameter =  1\n",
      "nodes =  2 diameter =  1\n",
      "nodes =  2 diameter =  1\n",
      "nodes =  2 diameter =  1\n",
      "nodes =  6 diameter =  2\n",
      "nodes =  3 diameter =  2\n",
      "nodes =  2 diameter =  1\n",
      "nodes =  2 diameter =  1\n",
      "nodes =  2 diameter =  1\n",
      "nodes =  2 diameter =  1\n",
      "nodes =  2 diameter =  1\n",
      "nodes =  2 diameter =  1\n",
      "nodes =  3 diameter =  2\n",
      "nodes =  4709 diameter =  11\n",
      "nodes =  2 diameter =  1\n",
      "nodes =  2 diameter =  1\n",
      "nodes =  2 diameter =  1\n",
      "nodes =  2 diameter =  1\n",
      "For the string connected components, the diameter is  11\n"
     ]
    }
   ],
   "source": [
    "maxD = 0\n",
    "for graph in stConnectedC:\n",
    "    # Trying to save some processing by only processing components which have more than 1 node\n",
    "    if graph.number_of_nodes() > 1:\n",
    "        diam = nx.diameter(graph)\n",
    "        print(\"nodes = \", graph.number_of_nodes(), \"diameter = \", diam)\n",
    "        if diam > maxD:\n",
    "            maxD = diam\n",
    "print(\"For the string connected components, the diameter is \", maxD)            "
   ]
  },
  {
   "cell_type": "markdown",
   "metadata": {},
   "source": [
    "<body>\n",
    "    <section style=\"background-color:White; font-family:Georgia;\">\n",
    "        <p style=\"font-family:Garamond;\"><font size=\"4\">We know now that we have some weakly connected components. Therefore we will now get a list of the strongly connected compoents only, in the form of sub graphs</p>\n",
    "    </section>\n",
    "</body>"
   ]
  },
  {
   "cell_type": "markdown",
   "metadata": {},
   "source": [
    "<body>\n",
    "    <section style=\"background-color:White; font-family:Georgia;text-align:center\">\n",
    "        <br>\n",
    "        <h2 style=\"font-family:Garamond;color:solid #A93226\">Result #5/9</h2>\n",
    "        <h3 style=\"font-family:Garamond;\">Compute the diameter of the network</h3>\n",
    "        <br>\n",
    "        <br>\n",
    "    </section>\n",
    "</body>"
   ]
  },
  {
   "cell_type": "code",
   "execution_count": 23,
   "metadata": {},
   "outputs": [
    {
     "name": "stdout",
     "output_type": "stream",
     "text": [
      "The Diameter of the network is  11\n"
     ]
    }
   ],
   "source": [
    "print(\"The Diameter of the network is \",maxD)"
   ]
  },
  {
   "cell_type": "markdown",
   "metadata": {},
   "source": [
    "## Notes on Diameter<br>\n",
    "This graph, has 1144 strongly connected components, and 4 weakly connected components.<br>\n",
    "The result given as diameter = 11, corresponds to the highest diameter from all the strongly connected components; however we can not calculate the diameter on weakly connected components due to this definition:<br>\n",
    "*Definition 1.5.17. Let G = (V, E) be a graph (directed or not). The diameter of G, denoted\n",
    "diam(G), is the maximum distance d(u, v) for u, v ∈ V .\n",
    "The diameter is finite if and only if G is connected and undirected, or G is strongly connected\n",
    "and directed.*<br>\n",
    "source: \"Graph Theory and Social Networks\n",
    "Spring 2014 Notes\" by Kimball Martin\n",
    "April 30, 2014, University of Oklahoma, Department of mathematics. http://www2.math.ou.edu/~kmartin/graphs/graphs.pdf, page 46<br>"
   ]
  },
  {
   "cell_type": "markdown",
   "metadata": {},
   "source": [
    "<body>\n",
    "    <section style=\"background-color:White; font-family:Georgia;text-align:center\">\n",
    "        <h3 style=\"font-family:Garamond;\">Calculate now the maximum and minimum degree, in-degree and out-degree of the network</h3>\n",
    "        <hr/>\n",
    "    </section>\n",
    "</body>"
   ]
  },
  {
   "cell_type": "markdown",
   "metadata": {},
   "source": [
    "<body>\n",
    "    <section style=\"background-color:White; font-family:Georgia;text-align:center\">\n",
    "        <br>\n",
    "        <h2 style=\"font-family:Garamond;color:solid #A93226\">Result #6/9</h2>\n",
    "        <h3 style=\"font-family:Garamond;\">Max and Min degree, in-degree and out-degreek</h3>\n",
    "        <br>\n",
    "        <br>\n",
    "    </section>\n",
    "</body>"
   ]
  },
  {
   "cell_type": "code",
   "execution_count": 100,
   "metadata": {},
   "outputs": [
    {
     "name": "stdout",
     "output_type": "stream",
     "text": [
      "The minimum in_degree in graph is:\n"
     ]
    },
    {
     "data": {
      "text/plain": [
       "0"
      ]
     },
     "execution_count": 100,
     "metadata": {},
     "output_type": "execute_result"
    }
   ],
   "source": [
    "print(\"The minimum in_degree in graph is:\")\n",
    "min(dict(set(G.in_degree(G.nodes()))).values())"
   ]
  },
  {
   "cell_type": "code",
   "execution_count": 101,
   "metadata": {},
   "outputs": [
    {
     "name": "stdout",
     "output_type": "stream",
     "text": [
      "The maximum in_degree in graph is\n"
     ]
    },
    {
     "data": {
      "text/plain": [
       "535"
      ]
     },
     "execution_count": 101,
     "metadata": {},
     "output_type": "execute_result"
    }
   ],
   "source": [
    "print(\"The maximum in_degree in graph is\")\n",
    "max(dict(set(G.in_degree(G.nodes()))).values())"
   ]
  },
  {
   "cell_type": "code",
   "execution_count": 102,
   "metadata": {},
   "outputs": [
    {
     "name": "stdout",
     "output_type": "stream",
     "text": [
      "The minimum out_degree in graph is:\n"
     ]
    },
    {
     "data": {
      "text/plain": [
       "0"
      ]
     },
     "execution_count": 102,
     "metadata": {},
     "output_type": "execute_result"
    }
   ],
   "source": [
    "print(\"The minimum out_degree in graph is:\")\n",
    "min(dict(set(G.out_degree(G.nodes()))).values())"
   ]
  },
  {
   "cell_type": "code",
   "execution_count": 104,
   "metadata": {},
   "outputs": [
    {
     "name": "stdout",
     "output_type": "stream",
     "text": [
      "The maximum out_degree in graph is:\n"
     ]
    },
    {
     "data": {
      "text/plain": [
       "763"
      ]
     },
     "execution_count": 104,
     "metadata": {},
     "output_type": "execute_result"
    }
   ],
   "source": [
    "print(\"The maximum out_degree in graph is:\")\n",
    "max(dict(set(G.out_degree(G.nodes()))).values())"
   ]
  },
  {
   "cell_type": "code",
   "execution_count": 105,
   "metadata": {},
   "outputs": [
    {
     "name": "stdout",
     "output_type": "stream",
     "text": [
      "The minimum degree in graph is:\n"
     ]
    },
    {
     "data": {
      "text/plain": [
       "1"
      ]
     },
     "execution_count": 105,
     "metadata": {},
     "output_type": "execute_result"
    }
   ],
   "source": [
    "print(\"The minimum degree in graph is:\")\n",
    "min(dict(set(G.degree(G.nodes()))).values())"
   ]
  },
  {
   "cell_type": "code",
   "execution_count": 106,
   "metadata": {},
   "outputs": [
    {
     "name": "stdout",
     "output_type": "stream",
     "text": [
      "The maximum degree in graph is:\n"
     ]
    },
    {
     "data": {
      "text/plain": [
       "1298"
      ]
     },
     "execution_count": 106,
     "metadata": {},
     "output_type": "execute_result"
    }
   ],
   "source": [
    "print(\"The maximum degree in graph is:\")\n",
    "max(dict(set(G.degree(G.nodes()))).values())"
   ]
  },
  {
   "cell_type": "markdown",
   "metadata": {},
   "source": [
    "<body>\n",
    "    <section style=\"background-color:White; font-family:Georgia;text-align:center\">\n",
    "        <h2 style=\"font-family:Garamond;\">Excersise 2, section 7</h2>\n",
    "        <hr/>\n",
    "    </section>\n",
    "</body>"
   ]
  },
  {
   "cell_type": "markdown",
   "metadata": {},
   "source": [
    "<body>\n",
    "    <section style=\"background-color:White; font-family:Georgia;text-align:center\">\n",
    "        <br>\n",
    "        <h2 style=\"font-family:Garamond;color:solid #A93226\">Result #7/9</h2>\n",
    "        <h3 style=\"font-family:Garamond;\">Whether or not the graph is connected</h3>\n",
    "        <br>\n",
    "        <br>\n",
    "    </section>\n",
    "</body>"
   ]
  },
  {
   "cell_type": "code",
   "execution_count": 131,
   "metadata": {},
   "outputs": [
    {
     "data": {
      "text/plain": [
       "False"
      ]
     },
     "execution_count": 131,
     "metadata": {},
     "output_type": "execute_result"
    }
   ],
   "source": [
    "# In a directed graph we can not ask the question \"connected\" but instead strongly or weakly connected\n",
    "nx.is_strongly_connected(G)"
   ]
  },
  {
   "cell_type": "markdown",
   "metadata": {},
   "source": [
    "<body>\n",
    "    <section style=\"background-color:White; font-family:Georgia;text-align:center\">\n",
    "        <br>\n",
    "        <h2 style=\"font-family:Garamond;color:solid #A93226\">Result #8/9</h2>\n",
    "        <h3 style=\"font-family:Garamond;\">How many Strongly connected components does the graph have?</h3>\n",
    "        <br>\n",
    "        <br>\n",
    "    </section>\n",
    "</body>"
   ]
  },
  {
   "cell_type": "code",
   "execution_count": 133,
   "metadata": {},
   "outputs": [
    {
     "name": "stdout",
     "output_type": "stream",
     "text": [
      "The number of strongly connected components =  1144\n"
     ]
    }
   ],
   "source": [
    "print(\"The number of strongly connected components = \",nx.number_strongly_connected_components(G))"
   ]
  },
  {
   "cell_type": "markdown",
   "metadata": {},
   "source": [
    "<body>\n",
    "    <section style=\"background-color:White; font-family:Georgia;text-align:center\">\n",
    "        <br>\n",
    "        <h2 style=\"font-family:Garamond;color:solid #A93226\">Result #9/9</h2>\n",
    "        <h3 style=\"font-family:Garamond;\">How many Weakly connected components does the graph have?</h3>\n",
    "        <br>\n",
    "        <br>\n",
    "    </section>\n",
    "</body>"
   ]
  },
  {
   "cell_type": "code",
   "execution_count": 135,
   "metadata": {},
   "outputs": [
    {
     "name": "stdout",
     "output_type": "stream",
     "text": [
      "Number of weakly connected components =  4\n"
     ]
    }
   ],
   "source": [
    "print(\"Number of weakly connected components = \",nx.number_weakly_connected_components(G))"
   ]
  },
  {
   "cell_type": "code",
   "execution_count": null,
   "metadata": {},
   "outputs": [],
   "source": []
  }
 ],
 "metadata": {
  "kernelspec": {
   "display_name": "Python 3",
   "language": "python",
   "name": "python3"
  },
  "language_info": {
   "codemirror_mode": {
    "name": "ipython",
    "version": 3
   },
   "file_extension": ".py",
   "mimetype": "text/x-python",
   "name": "python",
   "nbconvert_exporter": "python",
   "pygments_lexer": "ipython3",
   "version": "3.6.6"
  }
 },
 "nbformat": 4,
 "nbformat_minor": 2
}
